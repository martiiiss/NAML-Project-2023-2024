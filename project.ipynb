{
  "cells": [
    {
      "cell_type": "markdown",
      "metadata": {
        "id": "nB8IlWMiOCbW"
      },
      "source": [
        "#Forecasting spot electricity prices: Deep learning approaches and empirical comparison of traditional algorithms\n",
        "\n",
        "Deep Learning methods:\n",
        "1. A DNN as an extension to the traditional MLP.\n",
        "2. A hybrid LSTM-DNN structure.\n",
        "3. A hybrid GRU-DNN structure.\n",
        "4. A CNN model.\n",
        "\n",
        "Other benchmark models for electricy price forecasting.\n",
        "\n",
        "Performance metrics: sMAPE (symmetric mean absolute percentage error)."
      ]
    },
    {
      "cell_type": "code",
      "execution_count": 1,
      "metadata": {
        "id": "Z1aalrIQwxfI"
      },
      "outputs": [],
      "source": [
        "import pandas as pd\n",
        "import numpy as np\n",
        "import matplotlib.pyplot as plt\n",
        "import tensorflow as tf\n",
        "from tensorflow.keras.models import Sequential, Model\n",
        "from tensorflow.keras.layers import Dense, LSTM, Input, Concatenate, GRU, Dropout, Conv1D, MaxPooling1D, BatchNormalization, Flatten, concatenate\n",
        "from sklearn.preprocessing import StandardScaler\n",
        "from tensorflow.keras.optimizers import Adam, schedules\n",
        "from tensorflow.keras.initializers import HeNormal\n",
        "from keras.callbacks import EarlyStopping, ReduceLROnPlateau\n",
        "from keras import regularizers\n",
        "from sklearn.svm import SVR\n",
        "import time\n",
        "from sklearn.preprocessing import MinMaxScaler\n",
        "from scipy.stats import zscore, boxcox\n",
        "from sklearn.linear_model import LinearRegression\n",
        "from sklearn.metrics import mean_absolute_error, mean_squared_error"
      ]
    },
    {
      "cell_type": "code",
      "execution_count": 2,
      "metadata": {
        "id": "ARXnb56GoQqT"
      },
      "outputs": [],
      "source": [
        "tf.random.set_seed(42)\n",
        "np.random.seed(42)"
      ]
    },
    {
      "cell_type": "markdown",
      "metadata": {
        "id": "_DmQLfasQziq"
      },
      "source": [
        "#Data\n",
        "Prices of Belgium, with generation forecast and system load forecast"
      ]
    },
    {
      "cell_type": "code",
      "execution_count": 51,
      "metadata": {
        "colab": {
          "base_uri": "https://localhost:8080/"
        },
        "id": "ovN6Gfo-O880",
        "outputId": "bdb86787-6d49-4435-e5e6-9202d35d03fd"
      },
      "outputs": [
        {
          "output_type": "stream",
          "name": "stdout",
          "text": [
            "                  Date   Prices   Generation forecast   System load forecast\n",
            "0  2011-01-09 00:00:00    32.54               63065.0                63000.0\n",
            "1  2011-01-09 01:00:00    21.55               62715.0                58800.0\n",
            "2  2011-01-09 02:00:00    15.71               61952.0                58500.0\n",
            "3  2011-01-09 03:00:00    10.58               59262.0                54300.0\n",
            "4  2011-01-09 04:00:00    10.32               56883.0                51900.0\n"
          ]
        }
      ],
      "source": [
        "file_path = 'BE.csv'\n",
        "df = pd.read_csv(file_path, parse_dates=['Date'], dayfirst=True)# Load the dataset\n",
        "\n",
        "print(df.head())"
      ]
    },
    {
      "cell_type": "markdown",
      "metadata": {
        "id": "5d8KSCxVi_Vn"
      },
      "source": [
        "### Pre-processing: outliers"
      ]
    },
    {
      "cell_type": "code",
      "execution_count": 53,
      "metadata": {
        "id": "R_GJOXZoiGD7"
      },
      "outputs": [],
      "source": [
        "# Select only numeric columns from the DataFrame\n",
        "df_numeric = df.select_dtypes(include=[np.number])\n",
        "\n",
        "# Calculate Z-scores\n",
        "z_scores = np.abs(zscore(df_numeric))\n",
        "threshold = 3 # threshold for considering a value as an outlier\n",
        "\n",
        "# Replace outliers with the median of the column\n",
        "df_cleaned = df_numeric.mask(z_scores > threshold, df_numeric.median(), axis=1)\n",
        "df[df_numeric.columns] = df_cleaned"
      ]
    },
    {
      "cell_type": "markdown",
      "metadata": {
        "id": "t5VezzeLQdn7"
      },
      "source": [
        "### Training, validation and test set"
      ]
    },
    {
      "cell_type": "code",
      "execution_count": 54,
      "metadata": {
        "colab": {
          "base_uri": "https://localhost:8080/"
        },
        "id": "TWCZ7r6LQhJE",
        "outputId": "691b3b3e-760d-4a5c-9e93-f0267c0c7b59"
      },
      "outputs": [
        {
          "output_type": "stream",
          "name": "stdout",
          "text": [
            "Training set:\n",
            "                     Prices  Generation forecast  System load forecast\n",
            "Date                                                                  \n",
            "2011-01-09 00:00:00   32.54              63065.0               63000.0\n",
            "2011-01-09 01:00:00   21.55              62715.0               58800.0\n",
            "2011-01-09 02:00:00   15.71              61952.0               58500.0\n",
            "2011-01-09 03:00:00   10.58              59262.0               54300.0\n",
            "2011-01-09 04:00:00   10.32              56883.0               51900.0\n",
            "...                     ...                  ...                   ...\n",
            "2015-03-31 19:00:00   49.69              69195.0               58902.0\n",
            "2015-03-31 20:00:00   53.62              69539.0               58748.0\n",
            "2015-03-31 21:00:00   48.91              68972.0               59440.0\n",
            "2015-03-31 22:00:00   47.02              67632.0               56156.0\n",
            "2015-03-31 23:00:00   41.50              67361.0               59102.0\n",
            "\n",
            "[37032 rows x 3 columns]\n",
            "\n",
            "Validation set:\n",
            "                     Prices  Generation forecast  System load forecast\n",
            "Date                                                                  \n",
            "2015-04-01 00:00:00   37.00              64923.0               57447.0\n",
            "2015-04-01 01:00:00   29.70              61736.0               53630.0\n",
            "2015-04-01 02:00:00   25.01              60492.0               53725.0\n",
            "2015-04-01 03:00:00   22.51              59274.0               50950.0\n",
            "2015-04-01 04:00:00   22.00              60110.0               49061.0\n",
            "...                     ...                  ...                   ...\n",
            "2016-02-14 19:00:00   30.38              70114.0               67826.0\n",
            "2016-02-14 20:00:00   26.98              67172.0               67012.0\n",
            "2016-02-14 21:00:00   20.21              65201.0               64476.0\n",
            "2016-02-14 22:00:00   20.33              64519.0               62340.0\n",
            "2016-02-14 23:00:00   17.96              64240.0               66460.0\n",
            "\n",
            "[7680 rows x 3 columns]\n",
            "\n",
            "Test set:\n",
            "                     Prices  Generation forecast  System load forecast\n",
            "Date                                                                  \n",
            "2016-02-15 00:00:00   16.57              61194.0               64860.0\n",
            "2016-02-15 01:00:00   16.00              60536.0               61290.0\n",
            "2016-02-15 02:00:00   14.66              61089.0               62147.0\n",
            "2016-02-15 03:00:00   13.14              59256.0               58614.0\n",
            "2016-02-15 04:00:00   12.68              58614.0               56683.0\n",
            "...                     ...                  ...                   ...\n",
            "2016-12-31 19:00:00   40.84              70329.0               73957.0\n",
            "2016-12-31 20:00:00   40.10              69121.0               72544.0\n",
            "2016-12-31 21:00:00   36.00              66647.0               69451.0\n",
            "2016-12-31 22:00:00   35.00              65886.0               67823.0\n",
            "2016-12-31 23:00:00   34.94              66846.0               72876.0\n",
            "\n",
            "[7704 rows x 3 columns]\n"
          ]
        }
      ],
      "source": [
        "# Define the split dates\n",
        "start_date = '2011-01-09'\n",
        "val_start = '2015-04-01'\n",
        "test_start = '2016-02-15'\n",
        "\n",
        "# Convert the 'Date' column to datetime format\n",
        "df['Date'] = pd.to_datetime(df['Date'])\n",
        "df.columns = df.columns.str.strip()\n",
        "\n",
        "# Filter the dataset based on the date ranges\n",
        "train_df = df[(df['Date'] >= start_date) & (df['Date'] < val_start)]\n",
        "val_df = df[(df['Date'] >= val_start) & (df['Date'] < test_start)]\n",
        "test_df = df[(df['Date'] >= test_start)]\n",
        "\n",
        "train_df.set_index('Date', inplace=True)\n",
        "val_df.set_index('Date', inplace=True)\n",
        "test_df.set_index('Date', inplace=True)\n",
        "\n",
        "\n",
        "# Display the results\n",
        "print(\"Training set:\")\n",
        "print(train_df)\n",
        "\n",
        "print(\"\\nValidation set:\")\n",
        "print(val_df)\n",
        "\n",
        "print(\"\\nTest set:\")\n",
        "print(test_df)"
      ]
    },
    {
      "cell_type": "markdown",
      "metadata": {
        "id": "900jp2ldSC6w"
      },
      "source": [
        "# sMAPE\n",
        "Accuracy sMAPE = symmetric mean absolute percentage error"
      ]
    },
    {
      "cell_type": "code",
      "execution_count": 55,
      "metadata": {
        "id": "409E8M2CdvSK"
      },
      "outputs": [],
      "source": [
        "def smape(y_true, y_pred):\n",
        "    numerator = tf.abs(y_pred - y_true)\n",
        "    denominator = (tf.abs(y_true) + tf.abs(y_pred)) / 2.0\n",
        "    return tf.reduce_mean(numerator / (denominator)) * 100"
      ]
    },
    {
      "cell_type": "markdown",
      "metadata": {
        "id": "qTDzGCdE9qcM"
      },
      "source": [
        "#Deep Learning models:\n"
      ]
    },
    {
      "cell_type": "markdown",
      "metadata": {
        "id": "YDFTU4WsioOi"
      },
      "source": [
        "##DNN model"
      ]
    },
    {
      "cell_type": "code",
      "execution_count": null,
      "metadata": {
        "id": "Nxu0GrWSiWSC"
      },
      "outputs": [],
      "source": [
        "n1DNN = 239 # first hidden layer neurons\n",
        "n2DNN = 162 # second hidden layer neurons\n",
        "activationFunctionDNN = 'relu'\n",
        "n_hours = 24\n",
        "hours = range(n_hours)"
      ]
    },
    {
      "cell_type": "markdown",
      "metadata": {
        "id": "ySylWdbZD8b7"
      },
      "source": [
        "### X - input"
      ]
    },
    {
      "cell_type": "markdown",
      "metadata": {
        "id": "FLdJV0w6UBAI"
      },
      "source": [
        "I consider as input features:\n",
        "*   the day of the week of *D* (0 monday,...)\n",
        "*   the price of the previous day *D-1* for each hour (24)\n",
        "*   the price of the 2 previous day *D-2* for each hour (24)\n",
        "*   the price of the previous week *D-7* for each hour (24)\n",
        "*   the generation forecast of the day *D* (24)\n",
        "*   the load forecast of the day *D* (24)\n",
        "\n",
        "\n",
        "\n"
      ]
    },
    {
      "cell_type": "code",
      "execution_count": null,
      "metadata": {
        "colab": {
          "base_uri": "https://localhost:8080/"
        },
        "id": "A3PEPdC_Tx53",
        "outputId": "8ddae493-3eed-4556-ecae-7c3f0b9b5cba"
      },
      "outputs": [
        {
          "output_type": "stream",
          "name": "stdout",
          "text": [
            "121\n"
          ]
        }
      ],
      "source": [
        "n_features = 1+ 24 + 24 + 24 + 24 + 24\n",
        "print(n_features)"
      ]
    },
    {
      "cell_type": "code",
      "execution_count": null,
      "metadata": {
        "id": "tloGJjv3D9MM"
      },
      "outputs": [],
      "source": [
        "# Define columns (date is the index)\n",
        "columns = ['Day'] + [f'Price_D-1_h{hour}' for hour in hours] + \\\n",
        "          [f'Price_D-2_h{hour}' for hour in hours] + \\\n",
        "          [f'Price_D-7_h{hour}' for hour in hours] + \\\n",
        "          [f'Generation_D_h{hour}' for hour in hours] + \\\n",
        "          [f'Load_D_h{hour}' for hour in hours]"
      ]
    },
    {
      "cell_type": "code",
      "execution_count": null,
      "metadata": {
        "id": "-UzqOswHK-mw"
      },
      "outputs": [],
      "source": [
        "train_df.index = pd.to_datetime(train_df.index)\n",
        "val_df.index = pd.to_datetime(val_df.index)\n",
        "test_df.index = pd.to_datetime(test_df.index)"
      ]
    },
    {
      "cell_type": "code",
      "execution_count": null,
      "metadata": {
        "id": "i3mD3a0bWCj1"
      },
      "outputs": [],
      "source": [
        "train_df.index = train_df.index.round('S')\n",
        "test_df.index = test_df.index.round('S')\n",
        "val_df.index = val_df.index.round('S')"
      ]
    },
    {
      "cell_type": "code",
      "execution_count": null,
      "metadata": {
        "id": "Ak8oG0-gAp2R"
      },
      "outputs": [],
      "source": [
        "indexTrain = train_df.iloc[24:,:].loc[train_df.index[0] + pd.Timedelta(weeks=1):].index\n",
        "indexTest = test_df.iloc[24:,:].loc[test_df.index[0] + pd.Timedelta(weeks=1) :].index\n",
        "indexVal = val_df.iloc[24:,:].loc[val_df.index[0] + pd.Timedelta(weeks=1):].index\n",
        "\n",
        "predDatesTrain = indexTrain[::24]\n",
        "predDatesVal = indexVal[::24]\n",
        "predDatesTest = indexTest[::24]\n",
        "\n",
        "# I create dataframe where the index is the time where a prediction is made and the columns is the horizons of the prediction\n",
        "indexTrain = pd.DataFrame(index=predDatesTrain, columns=['h' + str(hour) for hour in range(24)])\n",
        "indexVal = pd.DataFrame(index=predDatesVal, columns=['h' + str(hour) for hour in range(24)])\n",
        "indexTest = pd.DataFrame(index=predDatesTest, columns=['h' + str(hour) for hour in range(24)])\n",
        "\n",
        "for hour in range(24):\n",
        "  indexTrain.loc[:, 'h' + str(hour)] = indexTrain.index + pd.Timedelta(hours=hour)\n",
        "  indexVal.loc[:, 'h' + str(hour)] = indexVal.index + pd.Timedelta(hours=hour)\n",
        "  indexTest.loc[:, 'h' + str(hour)] = indexTest.index + pd.Timedelta(hours=hour)\n",
        "\n",
        "# Preallocating in memory the X and Y arrays\n",
        "Xtrain = np.zeros([indexTrain.shape[0], n_features])\n",
        "Ytrain = np.zeros([indexTrain.shape[0], n_hours])\n",
        "Xval = np.zeros([indexVal.shape[0], n_features])\n",
        "Yval = np.zeros([indexVal.shape[0], n_hours])\n",
        "Xtest = np.zeros([indexTest.shape[0], n_features])\n",
        "Ytest = np.zeros([indexTest.shape[0], n_hours])\n",
        "\n",
        "indexFeatures = 0\n",
        "\n",
        "# Adding the day of the week as a feature if needed\n",
        "# For training, I assume the day of the week is a continuous variable.\n",
        "# So monday at 00 is 1. Monday at 1h is 1.04, Tuesday at 2h is 2.08, etc.\n",
        "Xtrain[:, 0] = indexTrain.index.dayofweek + indexTrain.index.hour / 24\n",
        "Xval[:, 0] = indexVal.index.dayofweek + indexVal.index.hour / 24\n",
        "Xtest[:, 0] = indexTest.index.dayofweek\n",
        "indexFeatures += 1\n",
        "\n",
        "# price D-1\n",
        "for past_day in [1, 2, 7]:\n",
        "  for hour in range(24): # For each possible horizon\n",
        "        # I define the corresponding past time indexs\n",
        "        pastIndexTrain = pd.to_datetime(indexTrain.loc[:, 'h' + str(hour)].values) - pd.Timedelta(hours=24*past_day)\n",
        "        pastIndexTest = pd.to_datetime(indexTest.loc[:, 'h' + str(hour)].values)  - pd.Timedelta(hours=24*past_day)\n",
        "        pastIndexVal = pd.to_datetime(indexVal.loc[:, 'h' + str(hour)].values) - pd.Timedelta(hours=24*past_day)\n",
        "\n",
        "        # price D-1\n",
        "        Xtrain[:, indexFeatures] = train_df.loc[pastIndexTrain, 'Prices']\n",
        "        Xtest[:, indexFeatures] = test_df.loc[pastIndexTest, 'Prices']\n",
        "        Xval[:, indexFeatures] = val_df.loc[pastIndexVal, 'Prices']\n",
        "        indexFeatures += 1\n",
        "\n",
        "\n",
        "# Adding generation inputs at day D\n",
        "for hour in range(24):\n",
        "    past_day = 1\n",
        "    # define the corresponding future index at time D\n",
        "    futureIndexTrain = pd.to_datetime(indexTrain.loc[:, 'h' + str(hour)].values)\n",
        "    futureIndexVal = pd.to_datetime(indexVal.loc[:, 'h' + str(hour)].values)\n",
        "    futureIndexTest = pd.to_datetime(indexTest.loc[:, 'h' + str(hour)].values)\n",
        "\n",
        "    Xtrain[:, indexFeatures] = train_df.loc[futureIndexTrain, 'Generation forecast']\n",
        "    Xval[:, indexFeatures] = val_df.loc[futureIndexVal, 'Generation forecast']\n",
        "    Xtest[:, indexFeatures] = test_df.loc[futureIndexTest, 'Generation forecast']\n",
        "    indexFeatures += 1\n",
        "\n",
        "\n",
        "# adding load inputs at day D\n",
        "for hour in range(24):\n",
        "    past_day = 1\n",
        "    # define the corresponding future index at time D\n",
        "    futureIndexTrain = pd.to_datetime(indexTrain.loc[:, 'h' + str(hour)].values)\n",
        "    futureIndexVal = pd.to_datetime(indexVal.loc[:, 'h' + str(hour)].values)\n",
        "    futureIndexTest = pd.to_datetime(indexTest.loc[:, 'h' + str(hour)].values)\n",
        "\n",
        "    # Adding Load inputs at day D\n",
        "    Xtrain[:, indexFeatures] = train_df.loc[futureIndexTrain, 'System load forecast']\n",
        "    Xval[:, indexFeatures] = val_df.loc[futureIndexVal, 'System load forecast']\n",
        "    Xtest[:, indexFeatures] = test_df.loc[futureIndexTest, 'System load forecast']\n",
        "    indexFeatures += 1\n"
      ]
    },
    {
      "cell_type": "markdown",
      "metadata": {
        "id": "kNqdvXvjvB-Z"
      },
      "source": [
        "### Y - target"
      ]
    },
    {
      "cell_type": "code",
      "execution_count": null,
      "metadata": {
        "id": "DhqKD9XVFA8E"
      },
      "outputs": [],
      "source": [
        "# Extracting the predicted values Y\n",
        "for hour in range(24):\n",
        "  futureIndexTrain = pd.to_datetime(indexTrain.loc[:, 'h' + str(hour)].values)\n",
        "  futureIndexVal = pd.to_datetime(indexVal.loc[:, 'h' + str(hour)].values)\n",
        "  futureIndexTest = pd.to_datetime(indexTest.loc[:, 'h' + str(hour)].values)\n",
        "\n",
        "  Ytrain[:, hour] = train_df.loc[futureIndexTrain, 'Prices']\n",
        "  Yval[:,hour] = val_df.loc[futureIndexVal, 'Prices']\n",
        "  Ytest[:, hour] = test_df.loc[futureIndexTest, 'Prices']\n",
        "\n",
        "indexTest = indexTest.index"
      ]
    },
    {
      "cell_type": "markdown",
      "metadata": {
        "id": "nqsKoxpmqD9N"
      },
      "source": [
        "### Data Normalization\n",
        "Data preprocessing step: the data is normalized to the intervals [-1, 1]"
      ]
    },
    {
      "cell_type": "code",
      "execution_count": null,
      "metadata": {
        "id": "1jZ5Qiv0ZpPN"
      },
      "outputs": [],
      "source": [
        "scaler = MinMaxScaler(feature_range=(-1, 1))\n",
        "\n",
        "Xtrain_scaled = scaler.fit_transform(Xtrain)\n",
        "Xval_scaled = scaler.transform(Xval)\n",
        "Xtest_scaled = scaler.transform(Xtest)\n",
        "\n",
        "y_scaler = MinMaxScaler(feature_range=(-1, 1))\n",
        "Ytrain = y_scaler.fit_transform(Ytrain)\n",
        "Yval = y_scaler.transform(Yval)"
      ]
    },
    {
      "cell_type": "markdown",
      "metadata": {
        "id": "E_6ercZlhRjf"
      },
      "source": [
        "### Model"
      ]
    },
    {
      "cell_type": "code",
      "execution_count": null,
      "metadata": {
        "colab": {
          "base_uri": "https://localhost:8080/",
          "height": 293
        },
        "id": "6fEPFtj1mx3-",
        "outputId": "9ba87108-2063-4e2f-e7fd-b817f2b05068"
      },
      "outputs": [
        {
          "output_type": "stream",
          "name": "stderr",
          "text": [
            "/usr/local/lib/python3.10/dist-packages/keras/src/layers/core/dense.py:87: UserWarning: Do not pass an `input_shape`/`input_dim` argument to a layer. When using Sequential models, prefer using an `Input(shape)` object as the first layer in the model instead.\n",
            "  super().__init__(activity_regularizer=activity_regularizer, **kwargs)\n"
          ]
        },
        {
          "output_type": "display_data",
          "data": {
            "text/plain": [
              "\u001b[1mModel: \"sequential_5\"\u001b[0m\n"
            ],
            "text/html": [
              "<pre style=\"white-space:pre;overflow-x:auto;line-height:normal;font-family:Menlo,'DejaVu Sans Mono',consolas,'Courier New',monospace\"><span style=\"font-weight: bold\">Model: \"sequential_5\"</span>\n",
              "</pre>\n"
            ]
          },
          "metadata": {}
        },
        {
          "output_type": "display_data",
          "data": {
            "text/plain": [
              "┏━━━━━━━━━━━━━━━━━━━━━━━━━━━━━━━━━━━━━━┳━━━━━━━━━━━━━━━━━━━━━━━━━━━━━┳━━━━━━━━━━━━━━━━━┓\n",
              "┃\u001b[1m \u001b[0m\u001b[1mLayer (type)                        \u001b[0m\u001b[1m \u001b[0m┃\u001b[1m \u001b[0m\u001b[1mOutput Shape               \u001b[0m\u001b[1m \u001b[0m┃\u001b[1m \u001b[0m\u001b[1m        Param #\u001b[0m\u001b[1m \u001b[0m┃\n",
              "┡━━━━━━━━━━━━━━━━━━━━━━━━━━━━━━━━━━━━━━╇━━━━━━━━━━━━━━━━━━━━━━━━━━━━━╇━━━━━━━━━━━━━━━━━┩\n",
              "│ dense_15 (\u001b[38;5;33mDense\u001b[0m)                     │ (\u001b[38;5;45mNone\u001b[0m, \u001b[38;5;34m239\u001b[0m)                 │          \u001b[38;5;34m29,158\u001b[0m │\n",
              "├──────────────────────────────────────┼─────────────────────────────┼─────────────────┤\n",
              "│ dense_16 (\u001b[38;5;33mDense\u001b[0m)                     │ (\u001b[38;5;45mNone\u001b[0m, \u001b[38;5;34m162\u001b[0m)                 │          \u001b[38;5;34m38,880\u001b[0m │\n",
              "├──────────────────────────────────────┼─────────────────────────────┼─────────────────┤\n",
              "│ dense_17 (\u001b[38;5;33mDense\u001b[0m)                     │ (\u001b[38;5;45mNone\u001b[0m, \u001b[38;5;34m24\u001b[0m)                  │           \u001b[38;5;34m3,912\u001b[0m │\n",
              "└──────────────────────────────────────┴─────────────────────────────┴─────────────────┘\n"
            ],
            "text/html": [
              "<pre style=\"white-space:pre;overflow-x:auto;line-height:normal;font-family:Menlo,'DejaVu Sans Mono',consolas,'Courier New',monospace\">┏━━━━━━━━━━━━━━━━━━━━━━━━━━━━━━━━━━━━━━┳━━━━━━━━━━━━━━━━━━━━━━━━━━━━━┳━━━━━━━━━━━━━━━━━┓\n",
              "┃<span style=\"font-weight: bold\"> Layer (type)                         </span>┃<span style=\"font-weight: bold\"> Output Shape                </span>┃<span style=\"font-weight: bold\">         Param # </span>┃\n",
              "┡━━━━━━━━━━━━━━━━━━━━━━━━━━━━━━━━━━━━━━╇━━━━━━━━━━━━━━━━━━━━━━━━━━━━━╇━━━━━━━━━━━━━━━━━┩\n",
              "│ dense_15 (<span style=\"color: #0087ff; text-decoration-color: #0087ff\">Dense</span>)                     │ (<span style=\"color: #00d7ff; text-decoration-color: #00d7ff\">None</span>, <span style=\"color: #00af00; text-decoration-color: #00af00\">239</span>)                 │          <span style=\"color: #00af00; text-decoration-color: #00af00\">29,158</span> │\n",
              "├──────────────────────────────────────┼─────────────────────────────┼─────────────────┤\n",
              "│ dense_16 (<span style=\"color: #0087ff; text-decoration-color: #0087ff\">Dense</span>)                     │ (<span style=\"color: #00d7ff; text-decoration-color: #00d7ff\">None</span>, <span style=\"color: #00af00; text-decoration-color: #00af00\">162</span>)                 │          <span style=\"color: #00af00; text-decoration-color: #00af00\">38,880</span> │\n",
              "├──────────────────────────────────────┼─────────────────────────────┼─────────────────┤\n",
              "│ dense_17 (<span style=\"color: #0087ff; text-decoration-color: #0087ff\">Dense</span>)                     │ (<span style=\"color: #00d7ff; text-decoration-color: #00d7ff\">None</span>, <span style=\"color: #00af00; text-decoration-color: #00af00\">24</span>)                  │           <span style=\"color: #00af00; text-decoration-color: #00af00\">3,912</span> │\n",
              "└──────────────────────────────────────┴─────────────────────────────┴─────────────────┘\n",
              "</pre>\n"
            ]
          },
          "metadata": {}
        },
        {
          "output_type": "display_data",
          "data": {
            "text/plain": [
              "\u001b[1m Total params: \u001b[0m\u001b[38;5;34m71,950\u001b[0m (281.05 KB)\n"
            ],
            "text/html": [
              "<pre style=\"white-space:pre;overflow-x:auto;line-height:normal;font-family:Menlo,'DejaVu Sans Mono',consolas,'Courier New',monospace\"><span style=\"font-weight: bold\"> Total params: </span><span style=\"color: #00af00; text-decoration-color: #00af00\">71,950</span> (281.05 KB)\n",
              "</pre>\n"
            ]
          },
          "metadata": {}
        },
        {
          "output_type": "display_data",
          "data": {
            "text/plain": [
              "\u001b[1m Trainable params: \u001b[0m\u001b[38;5;34m71,950\u001b[0m (281.05 KB)\n"
            ],
            "text/html": [
              "<pre style=\"white-space:pre;overflow-x:auto;line-height:normal;font-family:Menlo,'DejaVu Sans Mono',consolas,'Courier New',monospace\"><span style=\"font-weight: bold\"> Trainable params: </span><span style=\"color: #00af00; text-decoration-color: #00af00\">71,950</span> (281.05 KB)\n",
              "</pre>\n"
            ]
          },
          "metadata": {}
        },
        {
          "output_type": "display_data",
          "data": {
            "text/plain": [
              "\u001b[1m Non-trainable params: \u001b[0m\u001b[38;5;34m0\u001b[0m (0.00 B)\n"
            ],
            "text/html": [
              "<pre style=\"white-space:pre;overflow-x:auto;line-height:normal;font-family:Menlo,'DejaVu Sans Mono',consolas,'Courier New',monospace\"><span style=\"font-weight: bold\"> Non-trainable params: </span><span style=\"color: #00af00; text-decoration-color: #00af00\">0</span> (0.00 B)\n",
              "</pre>\n"
            ]
          },
          "metadata": {}
        }
      ],
      "source": [
        "model = Sequential([\n",
        "    Dense(n1DNN, activation=activationFunctionDNN, input_shape=(n_features,)),\n",
        "    Dense(n2DNN, activation=activationFunctionDNN),\n",
        "    Dense(n_hours)\n",
        "])\n",
        "# Compile the model with Mean Absolute Error as the Loss function\n",
        "opt = Adam(learning_rate = 1e-5)\n",
        "model.compile(optimizer=opt, loss='mean_absolute_error')  #, metrics=[smape])\n",
        "\n",
        "# Print the model summary\n",
        "model.summary()"
      ]
    },
    {
      "cell_type": "markdown",
      "metadata": {
        "id": "GA8kC2akhXJB"
      },
      "source": [
        "### Training DNN model"
      ]
    },
    {
      "cell_type": "code",
      "execution_count": null,
      "metadata": {
        "id": "PT_QeDF1hWtJ"
      },
      "outputs": [],
      "source": [
        "# Early stopping configuration\n",
        "early_stopping = EarlyStopping(monitor='val_loss', patience=10, restore_best_weights=True)"
      ]
    },
    {
      "cell_type": "code",
      "execution_count": null,
      "metadata": {
        "colab": {
          "base_uri": "https://localhost:8080/",
          "height": 1000
        },
        "id": "DMvI7txszM_K",
        "outputId": "7c689aef-1459-49ac-a82e-4a64a6ba4ffa"
      },
      "outputs": [
        {
          "output_type": "stream",
          "name": "stdout",
          "text": [
            "Epoch 1/1000\n",
            "\u001b[1m24/24\u001b[0m \u001b[32m━━━━━━━━━━━━━━━━━━━━\u001b[0m\u001b[37m\u001b[0m \u001b[1m2s\u001b[0m 16ms/step - loss: 0.3027 - val_loss: 0.3341\n",
            "Epoch 2/1000\n",
            "\u001b[1m24/24\u001b[0m \u001b[32m━━━━━━━━━━━━━━━━━━━━\u001b[0m\u001b[37m\u001b[0m \u001b[1m0s\u001b[0m 8ms/step - loss: 0.2920 - val_loss: 0.3249\n",
            "Epoch 3/1000\n",
            "\u001b[1m24/24\u001b[0m \u001b[32m━━━━━━━━━━━━━━━━━━━━\u001b[0m\u001b[37m\u001b[0m \u001b[1m0s\u001b[0m 7ms/step - loss: 0.2822 - val_loss: 0.3163\n",
            "Epoch 4/1000\n",
            "\u001b[1m24/24\u001b[0m \u001b[32m━━━━━━━━━━━━━━━━━━━━\u001b[0m\u001b[37m\u001b[0m \u001b[1m0s\u001b[0m 8ms/step - loss: 0.2731 - val_loss: 0.3083\n",
            "Epoch 5/1000\n",
            "\u001b[1m24/24\u001b[0m \u001b[32m━━━━━━━━━━━━━━━━━━━━\u001b[0m\u001b[37m\u001b[0m \u001b[1m0s\u001b[0m 6ms/step - loss: 0.2646 - val_loss: 0.3007\n",
            "Epoch 6/1000\n",
            "\u001b[1m24/24\u001b[0m \u001b[32m━━━━━━━━━━━━━━━━━━━━\u001b[0m\u001b[37m\u001b[0m \u001b[1m0s\u001b[0m 4ms/step - loss: 0.2567 - val_loss: 0.2934\n",
            "Epoch 7/1000\n",
            "\u001b[1m24/24\u001b[0m \u001b[32m━━━━━━━━━━━━━━━━━━━━\u001b[0m\u001b[37m\u001b[0m \u001b[1m0s\u001b[0m 4ms/step - loss: 0.2493 - val_loss: 0.2864\n",
            "Epoch 8/1000\n",
            "\u001b[1m24/24\u001b[0m \u001b[32m━━━━━━━━━━━━━━━━━━━━\u001b[0m\u001b[37m\u001b[0m \u001b[1m0s\u001b[0m 5ms/step - loss: 0.2422 - val_loss: 0.2796\n",
            "Epoch 9/1000\n",
            "\u001b[1m24/24\u001b[0m \u001b[32m━━━━━━━━━━━━━━━━━━━━\u001b[0m\u001b[37m\u001b[0m \u001b[1m0s\u001b[0m 4ms/step - loss: 0.2355 - val_loss: 0.2731\n",
            "Epoch 10/1000\n",
            "\u001b[1m24/24\u001b[0m \u001b[32m━━━━━━━━━━━━━━━━━━━━\u001b[0m\u001b[37m\u001b[0m \u001b[1m0s\u001b[0m 5ms/step - loss: 0.2292 - val_loss: 0.2667\n",
            "Epoch 11/1000\n",
            "\u001b[1m24/24\u001b[0m \u001b[32m━━━━━━━━━━━━━━━━━━━━\u001b[0m\u001b[37m\u001b[0m \u001b[1m0s\u001b[0m 4ms/step - loss: 0.2233 - val_loss: 0.2606\n",
            "Epoch 12/1000\n",
            "\u001b[1m24/24\u001b[0m \u001b[32m━━━━━━━━━━━━━━━━━━━━\u001b[0m\u001b[37m\u001b[0m \u001b[1m0s\u001b[0m 4ms/step - loss: 0.2176 - val_loss: 0.2546\n",
            "Epoch 13/1000\n",
            "\u001b[1m24/24\u001b[0m \u001b[32m━━━━━━━━━━━━━━━━━━━━\u001b[0m\u001b[37m\u001b[0m \u001b[1m0s\u001b[0m 4ms/step - loss: 0.2123 - val_loss: 0.2489\n",
            "Epoch 14/1000\n",
            "\u001b[1m24/24\u001b[0m \u001b[32m━━━━━━━━━━━━━━━━━━━━\u001b[0m\u001b[37m\u001b[0m \u001b[1m0s\u001b[0m 5ms/step - loss: 0.2073 - val_loss: 0.2433\n",
            "Epoch 15/1000\n",
            "\u001b[1m24/24\u001b[0m \u001b[32m━━━━━━━━━━━━━━━━━━━━\u001b[0m\u001b[37m\u001b[0m \u001b[1m0s\u001b[0m 4ms/step - loss: 0.2026 - val_loss: 0.2379\n",
            "Epoch 16/1000\n",
            "\u001b[1m24/24\u001b[0m \u001b[32m━━━━━━━━━━━━━━━━━━━━\u001b[0m\u001b[37m\u001b[0m \u001b[1m0s\u001b[0m 4ms/step - loss: 0.1982 - val_loss: 0.2326\n",
            "Epoch 17/1000\n",
            "\u001b[1m24/24\u001b[0m \u001b[32m━━━━━━━━━━━━━━━━━━━━\u001b[0m\u001b[37m\u001b[0m \u001b[1m0s\u001b[0m 5ms/step - loss: 0.1940 - val_loss: 0.2276\n",
            "Epoch 18/1000\n",
            "\u001b[1m24/24\u001b[0m \u001b[32m━━━━━━━━━━━━━━━━━━━━\u001b[0m\u001b[37m\u001b[0m \u001b[1m0s\u001b[0m 4ms/step - loss: 0.1900 - val_loss: 0.2228\n",
            "Epoch 19/1000\n",
            "\u001b[1m24/24\u001b[0m \u001b[32m━━━━━━━━━━━━━━━━━━━━\u001b[0m\u001b[37m\u001b[0m \u001b[1m0s\u001b[0m 4ms/step - loss: 0.1864 - val_loss: 0.2182\n",
            "Epoch 20/1000\n",
            "\u001b[1m24/24\u001b[0m \u001b[32m━━━━━━━━━━━━━━━━━━━━\u001b[0m\u001b[37m\u001b[0m \u001b[1m0s\u001b[0m 5ms/step - loss: 0.1830 - val_loss: 0.2138\n",
            "Epoch 21/1000\n",
            "\u001b[1m24/24\u001b[0m \u001b[32m━━━━━━━━━━━━━━━━━━━━\u001b[0m\u001b[37m\u001b[0m \u001b[1m0s\u001b[0m 5ms/step - loss: 0.1798 - val_loss: 0.2096\n",
            "Epoch 22/1000\n",
            "\u001b[1m24/24\u001b[0m \u001b[32m━━━━━━━━━━━━━━━━━━━━\u001b[0m\u001b[37m\u001b[0m \u001b[1m0s\u001b[0m 4ms/step - loss: 0.1768 - val_loss: 0.2057\n",
            "Epoch 23/1000\n",
            "\u001b[1m24/24\u001b[0m \u001b[32m━━━━━━━━━━━━━━━━━━━━\u001b[0m\u001b[37m\u001b[0m \u001b[1m0s\u001b[0m 5ms/step - loss: 0.1740 - val_loss: 0.2018\n",
            "Epoch 24/1000\n",
            "\u001b[1m24/24\u001b[0m \u001b[32m━━━━━━━━━━━━━━━━━━━━\u001b[0m\u001b[37m\u001b[0m \u001b[1m0s\u001b[0m 4ms/step - loss: 0.1713 - val_loss: 0.1982\n",
            "Epoch 25/1000\n",
            "\u001b[1m24/24\u001b[0m \u001b[32m━━━━━━━━━━━━━━━━━━━━\u001b[0m\u001b[37m\u001b[0m \u001b[1m0s\u001b[0m 4ms/step - loss: 0.1688 - val_loss: 0.1948\n",
            "Epoch 26/1000\n",
            "\u001b[1m24/24\u001b[0m \u001b[32m━━━━━━━━━━━━━━━━━━━━\u001b[0m\u001b[37m\u001b[0m \u001b[1m0s\u001b[0m 4ms/step - loss: 0.1665 - val_loss: 0.1915\n",
            "Epoch 27/1000\n",
            "\u001b[1m24/24\u001b[0m \u001b[32m━━━━━━━━━━━━━━━━━━━━\u001b[0m\u001b[37m\u001b[0m \u001b[1m0s\u001b[0m 5ms/step - loss: 0.1643 - val_loss: 0.1885\n",
            "Epoch 28/1000\n",
            "\u001b[1m24/24\u001b[0m \u001b[32m━━━━━━━━━━━━━━━━━━━━\u001b[0m\u001b[37m\u001b[0m \u001b[1m0s\u001b[0m 4ms/step - loss: 0.1622 - val_loss: 0.1856\n",
            "Epoch 29/1000\n",
            "\u001b[1m24/24\u001b[0m \u001b[32m━━━━━━━━━━━━━━━━━━━━\u001b[0m\u001b[37m\u001b[0m \u001b[1m0s\u001b[0m 5ms/step - loss: 0.1603 - val_loss: 0.1829\n",
            "Epoch 30/1000\n",
            "\u001b[1m24/24\u001b[0m \u001b[32m━━━━━━━━━━━━━━━━━━━━\u001b[0m\u001b[37m\u001b[0m \u001b[1m0s\u001b[0m 5ms/step - loss: 0.1585 - val_loss: 0.1804\n",
            "Epoch 31/1000\n",
            "\u001b[1m24/24\u001b[0m \u001b[32m━━━━━━━━━━━━━━━━━━━━\u001b[0m\u001b[37m\u001b[0m \u001b[1m0s\u001b[0m 5ms/step - loss: 0.1568 - val_loss: 0.1781\n",
            "Epoch 32/1000\n",
            "\u001b[1m24/24\u001b[0m \u001b[32m━━━━━━━━━━━━━━━━━━━━\u001b[0m\u001b[37m\u001b[0m \u001b[1m0s\u001b[0m 5ms/step - loss: 0.1552 - val_loss: 0.1760\n",
            "Epoch 33/1000\n",
            "\u001b[1m24/24\u001b[0m \u001b[32m━━━━━━━━━━━━━━━━━━━━\u001b[0m\u001b[37m\u001b[0m \u001b[1m0s\u001b[0m 5ms/step - loss: 0.1537 - val_loss: 0.1742\n",
            "Epoch 34/1000\n",
            "\u001b[1m24/24\u001b[0m \u001b[32m━━━━━━━━━━━━━━━━━━━━\u001b[0m\u001b[37m\u001b[0m \u001b[1m0s\u001b[0m 6ms/step - loss: 0.1523 - val_loss: 0.1726\n",
            "Epoch 35/1000\n",
            "\u001b[1m24/24\u001b[0m \u001b[32m━━━━━━━━━━━━━━━━━━━━\u001b[0m\u001b[37m\u001b[0m \u001b[1m0s\u001b[0m 5ms/step - loss: 0.1510 - val_loss: 0.1711\n",
            "Epoch 36/1000\n",
            "\u001b[1m24/24\u001b[0m \u001b[32m━━━━━━━━━━━━━━━━━━━━\u001b[0m\u001b[37m\u001b[0m \u001b[1m0s\u001b[0m 4ms/step - loss: 0.1498 - val_loss: 0.1698\n",
            "Epoch 37/1000\n",
            "\u001b[1m24/24\u001b[0m \u001b[32m━━━━━━━━━━━━━━━━━━━━\u001b[0m\u001b[37m\u001b[0m \u001b[1m0s\u001b[0m 4ms/step - loss: 0.1487 - val_loss: 0.1686\n",
            "Epoch 38/1000\n",
            "\u001b[1m24/24\u001b[0m \u001b[32m━━━━━━━━━━━━━━━━━━━━\u001b[0m\u001b[37m\u001b[0m \u001b[1m0s\u001b[0m 4ms/step - loss: 0.1476 - val_loss: 0.1675\n",
            "Epoch 39/1000\n",
            "\u001b[1m24/24\u001b[0m \u001b[32m━━━━━━━━━━━━━━━━━━━━\u001b[0m\u001b[37m\u001b[0m \u001b[1m0s\u001b[0m 6ms/step - loss: 0.1467 - val_loss: 0.1665\n",
            "Epoch 40/1000\n",
            "\u001b[1m24/24\u001b[0m \u001b[32m━━━━━━━━━━━━━━━━━━━━\u001b[0m\u001b[37m\u001b[0m \u001b[1m0s\u001b[0m 7ms/step - loss: 0.1457 - val_loss: 0.1657\n",
            "Epoch 41/1000\n",
            "\u001b[1m24/24\u001b[0m \u001b[32m━━━━━━━━━━━━━━━━━━━━\u001b[0m\u001b[37m\u001b[0m \u001b[1m0s\u001b[0m 7ms/step - loss: 0.1448 - val_loss: 0.1649\n",
            "Epoch 42/1000\n",
            "\u001b[1m24/24\u001b[0m \u001b[32m━━━━━━━━━━━━━━━━━━━━\u001b[0m\u001b[37m\u001b[0m \u001b[1m0s\u001b[0m 7ms/step - loss: 0.1439 - val_loss: 0.1642\n",
            "Epoch 43/1000\n",
            "\u001b[1m24/24\u001b[0m \u001b[32m━━━━━━━━━━━━━━━━━━━━\u001b[0m\u001b[37m\u001b[0m \u001b[1m0s\u001b[0m 7ms/step - loss: 0.1431 - val_loss: 0.1636\n",
            "Epoch 44/1000\n",
            "\u001b[1m24/24\u001b[0m \u001b[32m━━━━━━━━━━━━━━━━━━━━\u001b[0m\u001b[37m\u001b[0m \u001b[1m0s\u001b[0m 7ms/step - loss: 0.1423 - val_loss: 0.1629\n",
            "Epoch 45/1000\n",
            "\u001b[1m24/24\u001b[0m \u001b[32m━━━━━━━━━━━━━━━━━━━━\u001b[0m\u001b[37m\u001b[0m \u001b[1m0s\u001b[0m 8ms/step - loss: 0.1415 - val_loss: 0.1623\n",
            "Epoch 46/1000\n",
            "\u001b[1m24/24\u001b[0m \u001b[32m━━━━━━━━━━━━━━━━━━━━\u001b[0m\u001b[37m\u001b[0m \u001b[1m0s\u001b[0m 7ms/step - loss: 0.1408 - val_loss: 0.1617\n",
            "Epoch 47/1000\n",
            "\u001b[1m24/24\u001b[0m \u001b[32m━━━━━━━━━━━━━━━━━━━━\u001b[0m\u001b[37m\u001b[0m \u001b[1m0s\u001b[0m 7ms/step - loss: 0.1401 - val_loss: 0.1611\n",
            "Epoch 48/1000\n",
            "\u001b[1m24/24\u001b[0m \u001b[32m━━━━━━━━━━━━━━━━━━━━\u001b[0m\u001b[37m\u001b[0m \u001b[1m0s\u001b[0m 8ms/step - loss: 0.1394 - val_loss: 0.1606\n",
            "Epoch 49/1000\n",
            "\u001b[1m24/24\u001b[0m \u001b[32m━━━━━━━━━━━━━━━━━━━━\u001b[0m\u001b[37m\u001b[0m \u001b[1m0s\u001b[0m 13ms/step - loss: 0.1387 - val_loss: 0.1601\n",
            "Epoch 50/1000\n",
            "\u001b[1m24/24\u001b[0m \u001b[32m━━━━━━━━━━━━━━━━━━━━\u001b[0m\u001b[37m\u001b[0m \u001b[1m0s\u001b[0m 8ms/step - loss: 0.1381 - val_loss: 0.1596\n",
            "Epoch 51/1000\n",
            "\u001b[1m24/24\u001b[0m \u001b[32m━━━━━━━━━━━━━━━━━━━━\u001b[0m\u001b[37m\u001b[0m \u001b[1m0s\u001b[0m 11ms/step - loss: 0.1375 - val_loss: 0.1592\n",
            "Epoch 52/1000\n",
            "\u001b[1m24/24\u001b[0m \u001b[32m━━━━━━━━━━━━━━━━━━━━\u001b[0m\u001b[37m\u001b[0m \u001b[1m0s\u001b[0m 10ms/step - loss: 0.1369 - val_loss: 0.1587\n",
            "Epoch 53/1000\n",
            "\u001b[1m24/24\u001b[0m \u001b[32m━━━━━━━━━━━━━━━━━━━━\u001b[0m\u001b[37m\u001b[0m \u001b[1m0s\u001b[0m 4ms/step - loss: 0.1363 - val_loss: 0.1582\n",
            "Epoch 54/1000\n",
            "\u001b[1m24/24\u001b[0m \u001b[32m━━━━━━━━━━━━━━━━━━━━\u001b[0m\u001b[37m\u001b[0m \u001b[1m0s\u001b[0m 4ms/step - loss: 0.1357 - val_loss: 0.1578\n",
            "Epoch 55/1000\n",
            "\u001b[1m24/24\u001b[0m \u001b[32m━━━━━━━━━━━━━━━━━━━━\u001b[0m\u001b[37m\u001b[0m \u001b[1m0s\u001b[0m 6ms/step - loss: 0.1352 - val_loss: 0.1574\n",
            "Epoch 56/1000\n",
            "\u001b[1m24/24\u001b[0m \u001b[32m━━━━━━━━━━━━━━━━━━━━\u001b[0m\u001b[37m\u001b[0m \u001b[1m0s\u001b[0m 8ms/step - loss: 0.1347 - val_loss: 0.1570\n",
            "Epoch 57/1000\n",
            "\u001b[1m24/24\u001b[0m \u001b[32m━━━━━━━━━━━━━━━━━━━━\u001b[0m\u001b[37m\u001b[0m \u001b[1m0s\u001b[0m 5ms/step - loss: 0.1342 - val_loss: 0.1567\n",
            "Epoch 58/1000\n",
            "\u001b[1m24/24\u001b[0m \u001b[32m━━━━━━━━━━━━━━━━━━━━\u001b[0m\u001b[37m\u001b[0m \u001b[1m0s\u001b[0m 4ms/step - loss: 0.1337 - val_loss: 0.1563\n",
            "Epoch 59/1000\n",
            "\u001b[1m24/24\u001b[0m \u001b[32m━━━━━━━━━━━━━━━━━━━━\u001b[0m\u001b[37m\u001b[0m \u001b[1m0s\u001b[0m 10ms/step - loss: 0.1332 - val_loss: 0.1560\n",
            "Epoch 60/1000\n",
            "\u001b[1m24/24\u001b[0m \u001b[32m━━━━━━━━━━━━━━━━━━━━\u001b[0m\u001b[37m\u001b[0m \u001b[1m0s\u001b[0m 8ms/step - loss: 0.1328 - val_loss: 0.1556\n",
            "Epoch 61/1000\n",
            "\u001b[1m24/24\u001b[0m \u001b[32m━━━━━━━━━━━━━━━━━━━━\u001b[0m\u001b[37m\u001b[0m \u001b[1m0s\u001b[0m 5ms/step - loss: 0.1323 - val_loss: 0.1553\n",
            "Epoch 62/1000\n",
            "\u001b[1m24/24\u001b[0m \u001b[32m━━━━━━━━━━━━━━━━━━━━\u001b[0m\u001b[37m\u001b[0m \u001b[1m0s\u001b[0m 4ms/step - loss: 0.1319 - val_loss: 0.1550\n",
            "Epoch 63/1000\n",
            "\u001b[1m24/24\u001b[0m \u001b[32m━━━━━━━━━━━━━━━━━━━━\u001b[0m\u001b[37m\u001b[0m \u001b[1m0s\u001b[0m 6ms/step - loss: 0.1315 - val_loss: 0.1547\n",
            "Epoch 64/1000\n",
            "\u001b[1m24/24\u001b[0m \u001b[32m━━━━━━━━━━━━━━━━━━━━\u001b[0m\u001b[37m\u001b[0m \u001b[1m0s\u001b[0m 7ms/step - loss: 0.1311 - val_loss: 0.1545\n",
            "Epoch 65/1000\n",
            "\u001b[1m24/24\u001b[0m \u001b[32m━━━━━━━━━━━━━━━━━━━━\u001b[0m\u001b[37m\u001b[0m \u001b[1m0s\u001b[0m 5ms/step - loss: 0.1307 - val_loss: 0.1542\n",
            "Epoch 66/1000\n",
            "\u001b[1m24/24\u001b[0m \u001b[32m━━━━━━━━━━━━━━━━━━━━\u001b[0m\u001b[37m\u001b[0m \u001b[1m0s\u001b[0m 6ms/step - loss: 0.1303 - val_loss: 0.1540\n",
            "Epoch 67/1000\n",
            "\u001b[1m24/24\u001b[0m \u001b[32m━━━━━━━━━━━━━━━━━━━━\u001b[0m\u001b[37m\u001b[0m \u001b[1m0s\u001b[0m 5ms/step - loss: 0.1300 - val_loss: 0.1537\n",
            "Epoch 68/1000\n",
            "\u001b[1m24/24\u001b[0m \u001b[32m━━━━━━━━━━━━━━━━━━━━\u001b[0m\u001b[37m\u001b[0m \u001b[1m0s\u001b[0m 5ms/step - loss: 0.1296 - val_loss: 0.1535\n",
            "Epoch 69/1000\n",
            "\u001b[1m24/24\u001b[0m \u001b[32m━━━━━━━━━━━━━━━━━━━━\u001b[0m\u001b[37m\u001b[0m \u001b[1m0s\u001b[0m 5ms/step - loss: 0.1293 - val_loss: 0.1532\n",
            "Epoch 70/1000\n",
            "\u001b[1m24/24\u001b[0m \u001b[32m━━━━━━━━━━━━━━━━━━━━\u001b[0m\u001b[37m\u001b[0m \u001b[1m0s\u001b[0m 4ms/step - loss: 0.1290 - val_loss: 0.1530\n",
            "Epoch 71/1000\n",
            "\u001b[1m24/24\u001b[0m \u001b[32m━━━━━━━━━━━━━━━━━━━━\u001b[0m\u001b[37m\u001b[0m \u001b[1m0s\u001b[0m 5ms/step - loss: 0.1286 - val_loss: 0.1528\n",
            "Epoch 72/1000\n",
            "\u001b[1m24/24\u001b[0m \u001b[32m━━━━━━━━━━━━━━━━━━━━\u001b[0m\u001b[37m\u001b[0m \u001b[1m0s\u001b[0m 7ms/step - loss: 0.1283 - val_loss: 0.1526\n",
            "Epoch 73/1000\n",
            "\u001b[1m24/24\u001b[0m \u001b[32m━━━━━━━━━━━━━━━━━━━━\u001b[0m\u001b[37m\u001b[0m \u001b[1m0s\u001b[0m 10ms/step - loss: 0.1280 - val_loss: 0.1525\n",
            "Epoch 74/1000\n",
            "\u001b[1m24/24\u001b[0m \u001b[32m━━━━━━━━━━━━━━━━━━━━\u001b[0m\u001b[37m\u001b[0m \u001b[1m0s\u001b[0m 11ms/step - loss: 0.1277 - val_loss: 0.1523\n",
            "Epoch 75/1000\n",
            "\u001b[1m24/24\u001b[0m \u001b[32m━━━━━━━━━━━━━━━━━━━━\u001b[0m\u001b[37m\u001b[0m \u001b[1m0s\u001b[0m 8ms/step - loss: 0.1274 - val_loss: 0.1521\n",
            "Epoch 76/1000\n",
            "\u001b[1m24/24\u001b[0m \u001b[32m━━━━━━━━━━━━━━━━━━━━\u001b[0m\u001b[37m\u001b[0m \u001b[1m0s\u001b[0m 6ms/step - loss: 0.1271 - val_loss: 0.1520\n",
            "Epoch 77/1000\n",
            "\u001b[1m24/24\u001b[0m \u001b[32m━━━━━━━━━━━━━━━━━━━━\u001b[0m\u001b[37m\u001b[0m \u001b[1m0s\u001b[0m 9ms/step - loss: 0.1268 - val_loss: 0.1518\n",
            "Epoch 78/1000\n",
            "\u001b[1m24/24\u001b[0m \u001b[32m━━━━━━━━━━━━━━━━━━━━\u001b[0m\u001b[37m\u001b[0m \u001b[1m0s\u001b[0m 6ms/step - loss: 0.1265 - val_loss: 0.1516\n",
            "Epoch 79/1000\n",
            "\u001b[1m24/24\u001b[0m \u001b[32m━━━━━━━━━━━━━━━━━━━━\u001b[0m\u001b[37m\u001b[0m \u001b[1m0s\u001b[0m 6ms/step - loss: 0.1263 - val_loss: 0.1515\n",
            "Epoch 80/1000\n",
            "\u001b[1m24/24\u001b[0m \u001b[32m━━━━━━━━━━━━━━━━━━━━\u001b[0m\u001b[37m\u001b[0m \u001b[1m0s\u001b[0m 11ms/step - loss: 0.1260 - val_loss: 0.1513\n",
            "Epoch 81/1000\n",
            "\u001b[1m24/24\u001b[0m \u001b[32m━━━━━━━━━━━━━━━━━━━━\u001b[0m\u001b[37m\u001b[0m \u001b[1m0s\u001b[0m 11ms/step - loss: 0.1257 - val_loss: 0.1512\n",
            "Epoch 82/1000\n",
            "\u001b[1m24/24\u001b[0m \u001b[32m━━━━━━━━━━━━━━━━━━━━\u001b[0m\u001b[37m\u001b[0m \u001b[1m0s\u001b[0m 8ms/step - loss: 0.1255 - val_loss: 0.1511\n",
            "Epoch 83/1000\n",
            "\u001b[1m24/24\u001b[0m \u001b[32m━━━━━━━━━━━━━━━━━━━━\u001b[0m\u001b[37m\u001b[0m \u001b[1m0s\u001b[0m 6ms/step - loss: 0.1252 - val_loss: 0.1509\n",
            "Epoch 84/1000\n",
            "\u001b[1m24/24\u001b[0m \u001b[32m━━━━━━━━━━━━━━━━━━━━\u001b[0m\u001b[37m\u001b[0m \u001b[1m0s\u001b[0m 8ms/step - loss: 0.1250 - val_loss: 0.1508\n",
            "Epoch 85/1000\n",
            "\u001b[1m24/24\u001b[0m \u001b[32m━━━━━━━━━━━━━━━━━━━━\u001b[0m\u001b[37m\u001b[0m \u001b[1m0s\u001b[0m 7ms/step - loss: 0.1247 - val_loss: 0.1507\n",
            "Epoch 86/1000\n",
            "\u001b[1m24/24\u001b[0m \u001b[32m━━━━━━━━━━━━━━━━━━━━\u001b[0m\u001b[37m\u001b[0m \u001b[1m0s\u001b[0m 7ms/step - loss: 0.1245 - val_loss: 0.1505\n",
            "Epoch 87/1000\n",
            "\u001b[1m24/24\u001b[0m \u001b[32m━━━━━━━━━━━━━━━━━━━━\u001b[0m\u001b[37m\u001b[0m \u001b[1m0s\u001b[0m 8ms/step - loss: 0.1242 - val_loss: 0.1504\n",
            "Epoch 88/1000\n",
            "\u001b[1m24/24\u001b[0m \u001b[32m━━━━━━━━━━━━━━━━━━━━\u001b[0m\u001b[37m\u001b[0m \u001b[1m0s\u001b[0m 8ms/step - loss: 0.1240 - val_loss: 0.1503\n",
            "Epoch 89/1000\n",
            "\u001b[1m24/24\u001b[0m \u001b[32m━━━━━━━━━━━━━━━━━━━━\u001b[0m\u001b[37m\u001b[0m \u001b[1m0s\u001b[0m 6ms/step - loss: 0.1238 - val_loss: 0.1502\n",
            "Epoch 90/1000\n",
            "\u001b[1m24/24\u001b[0m \u001b[32m━━━━━━━━━━━━━━━━━━━━\u001b[0m\u001b[37m\u001b[0m \u001b[1m0s\u001b[0m 6ms/step - loss: 0.1235 - val_loss: 0.1501\n",
            "Epoch 91/1000\n",
            "\u001b[1m24/24\u001b[0m \u001b[32m━━━━━━━━━━━━━━━━━━━━\u001b[0m\u001b[37m\u001b[0m \u001b[1m0s\u001b[0m 6ms/step - loss: 0.1233 - val_loss: 0.1499\n",
            "Epoch 92/1000\n",
            "\u001b[1m24/24\u001b[0m \u001b[32m━━━━━━━━━━━━━━━━━━━━\u001b[0m\u001b[37m\u001b[0m \u001b[1m0s\u001b[0m 8ms/step - loss: 0.1231 - val_loss: 0.1498\n",
            "Epoch 93/1000\n",
            "\u001b[1m24/24\u001b[0m \u001b[32m━━━━━━━━━━━━━━━━━━━━\u001b[0m\u001b[37m\u001b[0m \u001b[1m0s\u001b[0m 7ms/step - loss: 0.1229 - val_loss: 0.1497\n",
            "Epoch 94/1000\n",
            "\u001b[1m24/24\u001b[0m \u001b[32m━━━━━━━━━━━━━━━━━━━━\u001b[0m\u001b[37m\u001b[0m \u001b[1m1s\u001b[0m 25ms/step - loss: 0.1227 - val_loss: 0.1496\n",
            "Epoch 95/1000\n",
            "\u001b[1m24/24\u001b[0m \u001b[32m━━━━━━━━━━━━━━━━━━━━\u001b[0m\u001b[37m\u001b[0m \u001b[1m1s\u001b[0m 30ms/step - loss: 0.1225 - val_loss: 0.1495\n",
            "Epoch 96/1000\n",
            "\u001b[1m24/24\u001b[0m \u001b[32m━━━━━━━━━━━━━━━━━━━━\u001b[0m\u001b[37m\u001b[0m \u001b[1m1s\u001b[0m 15ms/step - loss: 0.1222 - val_loss: 0.1495\n",
            "Epoch 97/1000\n",
            "\u001b[1m24/24\u001b[0m \u001b[32m━━━━━━━━━━━━━━━━━━━━\u001b[0m\u001b[37m\u001b[0m \u001b[1m0s\u001b[0m 13ms/step - loss: 0.1220 - val_loss: 0.1494\n",
            "Epoch 98/1000\n",
            "\u001b[1m24/24\u001b[0m \u001b[32m━━━━━━━━━━━━━━━━━━━━\u001b[0m\u001b[37m\u001b[0m \u001b[1m0s\u001b[0m 10ms/step - loss: 0.1218 - val_loss: 0.1493\n",
            "Epoch 99/1000\n",
            "\u001b[1m24/24\u001b[0m \u001b[32m━━━━━━━━━━━━━━━━━━━━\u001b[0m\u001b[37m\u001b[0m \u001b[1m0s\u001b[0m 13ms/step - loss: 0.1216 - val_loss: 0.1492\n",
            "Epoch 100/1000\n",
            "\u001b[1m24/24\u001b[0m \u001b[32m━━━━━━━━━━━━━━━━━━━━\u001b[0m\u001b[37m\u001b[0m \u001b[1m1s\u001b[0m 8ms/step - loss: 0.1214 - val_loss: 0.1492\n",
            "Epoch 101/1000\n",
            "\u001b[1m24/24\u001b[0m \u001b[32m━━━━━━━━━━━━━━━━━━━━\u001b[0m\u001b[37m\u001b[0m \u001b[1m0s\u001b[0m 8ms/step - loss: 0.1212 - val_loss: 0.1491\n",
            "Epoch 102/1000\n",
            "\u001b[1m24/24\u001b[0m \u001b[32m━━━━━━━━━━━━━━━━━━━━\u001b[0m\u001b[37m\u001b[0m \u001b[1m0s\u001b[0m 8ms/step - loss: 0.1210 - val_loss: 0.1490\n",
            "Epoch 103/1000\n",
            "\u001b[1m24/24\u001b[0m \u001b[32m━━━━━━━━━━━━━━━━━━━━\u001b[0m\u001b[37m\u001b[0m \u001b[1m0s\u001b[0m 6ms/step - loss: 0.1209 - val_loss: 0.1489\n",
            "Epoch 104/1000\n",
            "\u001b[1m24/24\u001b[0m \u001b[32m━━━━━━━━━━━━━━━━━━━━\u001b[0m\u001b[37m\u001b[0m \u001b[1m0s\u001b[0m 7ms/step - loss: 0.1207 - val_loss: 0.1488\n",
            "Epoch 105/1000\n",
            "\u001b[1m24/24\u001b[0m \u001b[32m━━━━━━━━━━━━━━━━━━━━\u001b[0m\u001b[37m\u001b[0m \u001b[1m0s\u001b[0m 7ms/step - loss: 0.1205 - val_loss: 0.1488\n",
            "Epoch 106/1000\n",
            "\u001b[1m24/24\u001b[0m \u001b[32m━━━━━━━━━━━━━━━━━━━━\u001b[0m\u001b[37m\u001b[0m \u001b[1m0s\u001b[0m 7ms/step - loss: 0.1203 - val_loss: 0.1487\n",
            "Epoch 107/1000\n",
            "\u001b[1m24/24\u001b[0m \u001b[32m━━━━━━━━━━━━━━━━━━━━\u001b[0m\u001b[37m\u001b[0m \u001b[1m0s\u001b[0m 7ms/step - loss: 0.1201 - val_loss: 0.1486\n",
            "Epoch 108/1000\n",
            "\u001b[1m24/24\u001b[0m \u001b[32m━━━━━━━━━━━━━━━━━━━━\u001b[0m\u001b[37m\u001b[0m \u001b[1m0s\u001b[0m 6ms/step - loss: 0.1199 - val_loss: 0.1486\n",
            "Epoch 109/1000\n",
            "\u001b[1m24/24\u001b[0m \u001b[32m━━━━━━━━━━━━━━━━━━━━\u001b[0m\u001b[37m\u001b[0m \u001b[1m0s\u001b[0m 6ms/step - loss: 0.1198 - val_loss: 0.1485\n",
            "Epoch 110/1000\n",
            "\u001b[1m24/24\u001b[0m \u001b[32m━━━━━━━━━━━━━━━━━━━━\u001b[0m\u001b[37m\u001b[0m \u001b[1m0s\u001b[0m 9ms/step - loss: 0.1196 - val_loss: 0.1484\n",
            "Epoch 111/1000\n",
            "\u001b[1m24/24\u001b[0m \u001b[32m━━━━━━━━━━━━━━━━━━━━\u001b[0m\u001b[37m\u001b[0m \u001b[1m0s\u001b[0m 8ms/step - loss: 0.1194 - val_loss: 0.1484\n",
            "Epoch 112/1000\n",
            "\u001b[1m24/24\u001b[0m \u001b[32m━━━━━━━━━━━━━━━━━━━━\u001b[0m\u001b[37m\u001b[0m \u001b[1m0s\u001b[0m 8ms/step - loss: 0.1193 - val_loss: 0.1483\n",
            "Epoch 113/1000\n",
            "\u001b[1m24/24\u001b[0m \u001b[32m━━━━━━━━━━━━━━━━━━━━\u001b[0m\u001b[37m\u001b[0m \u001b[1m0s\u001b[0m 9ms/step - loss: 0.1191 - val_loss: 0.1482\n",
            "Epoch 114/1000\n",
            "\u001b[1m24/24\u001b[0m \u001b[32m━━━━━━━━━━━━━━━━━━━━\u001b[0m\u001b[37m\u001b[0m \u001b[1m0s\u001b[0m 8ms/step - loss: 0.1189 - val_loss: 0.1482\n",
            "Epoch 115/1000\n",
            "\u001b[1m24/24\u001b[0m \u001b[32m━━━━━━━━━━━━━━━━━━━━\u001b[0m\u001b[37m\u001b[0m \u001b[1m0s\u001b[0m 7ms/step - loss: 0.1188 - val_loss: 0.1481\n",
            "Epoch 116/1000\n",
            "\u001b[1m24/24\u001b[0m \u001b[32m━━━━━━━━━━━━━━━━━━━━\u001b[0m\u001b[37m\u001b[0m \u001b[1m0s\u001b[0m 12ms/step - loss: 0.1186 - val_loss: 0.1481\n",
            "Epoch 117/1000\n",
            "\u001b[1m24/24\u001b[0m \u001b[32m━━━━━━━━━━━━━━━━━━━━\u001b[0m\u001b[37m\u001b[0m \u001b[1m1s\u001b[0m 13ms/step - loss: 0.1185 - val_loss: 0.1480\n",
            "Epoch 118/1000\n",
            "\u001b[1m24/24\u001b[0m \u001b[32m━━━━━━━━━━━━━━━━━━━━\u001b[0m\u001b[37m\u001b[0m \u001b[1m0s\u001b[0m 13ms/step - loss: 0.1183 - val_loss: 0.1479\n",
            "Epoch 119/1000\n",
            "\u001b[1m24/24\u001b[0m \u001b[32m━━━━━━━━━━━━━━━━━━━━\u001b[0m\u001b[37m\u001b[0m \u001b[1m0s\u001b[0m 5ms/step - loss: 0.1181 - val_loss: 0.1479\n",
            "Epoch 120/1000\n",
            "\u001b[1m24/24\u001b[0m \u001b[32m━━━━━━━━━━━━━━━━━━━━\u001b[0m\u001b[37m\u001b[0m \u001b[1m0s\u001b[0m 4ms/step - loss: 0.1180 - val_loss: 0.1478\n",
            "Epoch 121/1000\n",
            "\u001b[1m24/24\u001b[0m \u001b[32m━━━━━━━━━━━━━━━━━━━━\u001b[0m\u001b[37m\u001b[0m \u001b[1m0s\u001b[0m 5ms/step - loss: 0.1178 - val_loss: 0.1478\n",
            "Epoch 122/1000\n",
            "\u001b[1m24/24\u001b[0m \u001b[32m━━━━━━━━━━━━━━━━━━━━\u001b[0m\u001b[37m\u001b[0m \u001b[1m0s\u001b[0m 5ms/step - loss: 0.1177 - val_loss: 0.1478\n",
            "Epoch 123/1000\n",
            "\u001b[1m24/24\u001b[0m \u001b[32m━━━━━━━━━━━━━━━━━━━━\u001b[0m\u001b[37m\u001b[0m \u001b[1m0s\u001b[0m 10ms/step - loss: 0.1176 - val_loss: 0.1477\n",
            "Epoch 124/1000\n",
            "\u001b[1m24/24\u001b[0m \u001b[32m━━━━━━━━━━━━━━━━━━━━\u001b[0m\u001b[37m\u001b[0m \u001b[1m0s\u001b[0m 8ms/step - loss: 0.1174 - val_loss: 0.1477\n",
            "Epoch 125/1000\n",
            "\u001b[1m24/24\u001b[0m \u001b[32m━━━━━━━━━━━━━━━━━━━━\u001b[0m\u001b[37m\u001b[0m \u001b[1m0s\u001b[0m 4ms/step - loss: 0.1173 - val_loss: 0.1476\n",
            "Epoch 126/1000\n",
            "\u001b[1m24/24\u001b[0m \u001b[32m━━━━━━━━━━━━━━━━━━━━\u001b[0m\u001b[37m\u001b[0m \u001b[1m0s\u001b[0m 13ms/step - loss: 0.1171 - val_loss: 0.1476\n",
            "Epoch 127/1000\n",
            "\u001b[1m24/24\u001b[0m \u001b[32m━━━━━━━━━━━━━━━━━━━━\u001b[0m\u001b[37m\u001b[0m \u001b[1m0s\u001b[0m 8ms/step - loss: 0.1170 - val_loss: 0.1475\n",
            "Epoch 128/1000\n",
            "\u001b[1m24/24\u001b[0m \u001b[32m━━━━━━━━━━━━━━━━━━━━\u001b[0m\u001b[37m\u001b[0m \u001b[1m0s\u001b[0m 6ms/step - loss: 0.1168 - val_loss: 0.1475\n",
            "Epoch 129/1000\n",
            "\u001b[1m24/24\u001b[0m \u001b[32m━━━━━━━━━━━━━━━━━━━━\u001b[0m\u001b[37m\u001b[0m \u001b[1m0s\u001b[0m 5ms/step - loss: 0.1167 - val_loss: 0.1475\n",
            "Epoch 130/1000\n",
            "\u001b[1m24/24\u001b[0m \u001b[32m━━━━━━━━━━━━━━━━━━━━\u001b[0m\u001b[37m\u001b[0m \u001b[1m0s\u001b[0m 5ms/step - loss: 0.1166 - val_loss: 0.1474\n",
            "Epoch 131/1000\n",
            "\u001b[1m24/24\u001b[0m \u001b[32m━━━━━━━━━━━━━━━━━━━━\u001b[0m\u001b[37m\u001b[0m \u001b[1m0s\u001b[0m 5ms/step - loss: 0.1164 - val_loss: 0.1474\n",
            "Epoch 132/1000\n",
            "\u001b[1m24/24\u001b[0m \u001b[32m━━━━━━━━━━━━━━━━━━━━\u001b[0m\u001b[37m\u001b[0m \u001b[1m0s\u001b[0m 5ms/step - loss: 0.1163 - val_loss: 0.1474\n",
            "Epoch 133/1000\n",
            "\u001b[1m24/24\u001b[0m \u001b[32m━━━━━━━━━━━━━━━━━━━━\u001b[0m\u001b[37m\u001b[0m \u001b[1m0s\u001b[0m 5ms/step - loss: 0.1162 - val_loss: 0.1473\n",
            "Epoch 134/1000\n",
            "\u001b[1m24/24\u001b[0m \u001b[32m━━━━━━━━━━━━━━━━━━━━\u001b[0m\u001b[37m\u001b[0m \u001b[1m0s\u001b[0m 4ms/step - loss: 0.1160 - val_loss: 0.1473\n",
            "Epoch 135/1000\n",
            "\u001b[1m24/24\u001b[0m \u001b[32m━━━━━━━━━━━━━━━━━━━━\u001b[0m\u001b[37m\u001b[0m \u001b[1m0s\u001b[0m 5ms/step - loss: 0.1159 - val_loss: 0.1473\n",
            "Epoch 136/1000\n",
            "\u001b[1m24/24\u001b[0m \u001b[32m━━━━━━━━━━━━━━━━━━━━\u001b[0m\u001b[37m\u001b[0m \u001b[1m0s\u001b[0m 4ms/step - loss: 0.1158 - val_loss: 0.1472\n",
            "Epoch 137/1000\n",
            "\u001b[1m24/24\u001b[0m \u001b[32m━━━━━━━━━━━━━━━━━━━━\u001b[0m\u001b[37m\u001b[0m \u001b[1m0s\u001b[0m 8ms/step - loss: 0.1156 - val_loss: 0.1472\n",
            "Epoch 138/1000\n",
            "\u001b[1m24/24\u001b[0m \u001b[32m━━━━━━━━━━━━━━━━━━━━\u001b[0m\u001b[37m\u001b[0m \u001b[1m1s\u001b[0m 19ms/step - loss: 0.1155 - val_loss: 0.1471\n",
            "Epoch 139/1000\n",
            "\u001b[1m24/24\u001b[0m \u001b[32m━━━━━━━━━━━━━━━━━━━━\u001b[0m\u001b[37m\u001b[0m \u001b[1m1s\u001b[0m 18ms/step - loss: 0.1154 - val_loss: 0.1471\n",
            "Epoch 140/1000\n",
            "\u001b[1m24/24\u001b[0m \u001b[32m━━━━━━━━━━━━━━━━━━━━\u001b[0m\u001b[37m\u001b[0m \u001b[1m1s\u001b[0m 19ms/step - loss: 0.1153 - val_loss: 0.1471\n",
            "Epoch 141/1000\n",
            "\u001b[1m24/24\u001b[0m \u001b[32m━━━━━━━━━━━━━━━━━━━━\u001b[0m\u001b[37m\u001b[0m \u001b[1m0s\u001b[0m 10ms/step - loss: 0.1151 - val_loss: 0.1470\n",
            "Epoch 142/1000\n",
            "\u001b[1m24/24\u001b[0m \u001b[32m━━━━━━━━━━━━━━━━━━━━\u001b[0m\u001b[37m\u001b[0m \u001b[1m1s\u001b[0m 13ms/step - loss: 0.1150 - val_loss: 0.1470\n",
            "Epoch 143/1000\n",
            "\u001b[1m24/24\u001b[0m \u001b[32m━━━━━━━━━━━━━━━━━━━━\u001b[0m\u001b[37m\u001b[0m \u001b[1m1s\u001b[0m 24ms/step - loss: 0.1149 - val_loss: 0.1469\n",
            "Epoch 144/1000\n",
            "\u001b[1m24/24\u001b[0m \u001b[32m━━━━━━━━━━━━━━━━━━━━\u001b[0m\u001b[37m\u001b[0m \u001b[1m1s\u001b[0m 12ms/step - loss: 0.1148 - val_loss: 0.1469\n",
            "Epoch 145/1000\n",
            "\u001b[1m24/24\u001b[0m \u001b[32m━━━━━━━━━━━━━━━━━━━━\u001b[0m\u001b[37m\u001b[0m \u001b[1m0s\u001b[0m 10ms/step - loss: 0.1147 - val_loss: 0.1468\n",
            "Epoch 146/1000\n",
            "\u001b[1m24/24\u001b[0m \u001b[32m━━━━━━━━━━━━━━━━━━━━\u001b[0m\u001b[37m\u001b[0m \u001b[1m0s\u001b[0m 11ms/step - loss: 0.1145 - val_loss: 0.1468\n",
            "Epoch 147/1000\n",
            "\u001b[1m24/24\u001b[0m \u001b[32m━━━━━━━━━━━━━━━━━━━━\u001b[0m\u001b[37m\u001b[0m \u001b[1m1s\u001b[0m 7ms/step - loss: 0.1144 - val_loss: 0.1468\n",
            "Epoch 148/1000\n",
            "\u001b[1m24/24\u001b[0m \u001b[32m━━━━━━━━━━━━━━━━━━━━\u001b[0m\u001b[37m\u001b[0m \u001b[1m0s\u001b[0m 8ms/step - loss: 0.1143 - val_loss: 0.1467\n",
            "Epoch 149/1000\n",
            "\u001b[1m24/24\u001b[0m \u001b[32m━━━━━━━━━━━━━━━━━━━━\u001b[0m\u001b[37m\u001b[0m \u001b[1m0s\u001b[0m 7ms/step - loss: 0.1142 - val_loss: 0.1467\n",
            "Epoch 150/1000\n",
            "\u001b[1m24/24\u001b[0m \u001b[32m━━━━━━━━━━━━━━━━━━━━\u001b[0m\u001b[37m\u001b[0m \u001b[1m0s\u001b[0m 7ms/step - loss: 0.1141 - val_loss: 0.1467\n",
            "Epoch 151/1000\n",
            "\u001b[1m24/24\u001b[0m \u001b[32m━━━━━━━━━━━━━━━━━━━━\u001b[0m\u001b[37m\u001b[0m \u001b[1m0s\u001b[0m 6ms/step - loss: 0.1140 - val_loss: 0.1466\n",
            "Epoch 152/1000\n",
            "\u001b[1m24/24\u001b[0m \u001b[32m━━━━━━━━━━━━━━━━━━━━\u001b[0m\u001b[37m\u001b[0m \u001b[1m0s\u001b[0m 8ms/step - loss: 0.1139 - val_loss: 0.1466\n",
            "Epoch 153/1000\n",
            "\u001b[1m24/24\u001b[0m \u001b[32m━━━━━━━━━━━━━━━━━━━━\u001b[0m\u001b[37m\u001b[0m \u001b[1m0s\u001b[0m 5ms/step - loss: 0.1138 - val_loss: 0.1466\n",
            "Epoch 154/1000\n",
            "\u001b[1m24/24\u001b[0m \u001b[32m━━━━━━━━━━━━━━━━━━━━\u001b[0m\u001b[37m\u001b[0m \u001b[1m0s\u001b[0m 5ms/step - loss: 0.1137 - val_loss: 0.1465\n",
            "Epoch 155/1000\n",
            "\u001b[1m24/24\u001b[0m \u001b[32m━━━━━━━━━━━━━━━━━━━━\u001b[0m\u001b[37m\u001b[0m \u001b[1m0s\u001b[0m 5ms/step - loss: 0.1135 - val_loss: 0.1465\n",
            "Epoch 156/1000\n",
            "\u001b[1m24/24\u001b[0m \u001b[32m━━━━━━━━━━━━━━━━━━━━\u001b[0m\u001b[37m\u001b[0m \u001b[1m0s\u001b[0m 4ms/step - loss: 0.1134 - val_loss: 0.1465\n",
            "Epoch 157/1000\n",
            "\u001b[1m24/24\u001b[0m \u001b[32m━━━━━━━━━━━━━━━━━━━━\u001b[0m\u001b[37m\u001b[0m \u001b[1m0s\u001b[0m 10ms/step - loss: 0.1133 - val_loss: 0.1464\n",
            "Epoch 158/1000\n",
            "\u001b[1m24/24\u001b[0m \u001b[32m━━━━━━━━━━━━━━━━━━━━\u001b[0m\u001b[37m\u001b[0m \u001b[1m0s\u001b[0m 6ms/step - loss: 0.1132 - val_loss: 0.1464\n",
            "Epoch 159/1000\n",
            "\u001b[1m24/24\u001b[0m \u001b[32m━━━━━━━━━━━━━━━━━━━━\u001b[0m\u001b[37m\u001b[0m \u001b[1m0s\u001b[0m 5ms/step - loss: 0.1131 - val_loss: 0.1464\n",
            "Epoch 160/1000\n",
            "\u001b[1m24/24\u001b[0m \u001b[32m━━━━━━━━━━━━━━━━━━━━\u001b[0m\u001b[37m\u001b[0m \u001b[1m0s\u001b[0m 4ms/step - loss: 0.1130 - val_loss: 0.1463\n",
            "Epoch 161/1000\n",
            "\u001b[1m24/24\u001b[0m \u001b[32m━━━━━━━━━━━━━━━━━━━━\u001b[0m\u001b[37m\u001b[0m \u001b[1m0s\u001b[0m 6ms/step - loss: 0.1129 - val_loss: 0.1463\n",
            "Epoch 162/1000\n",
            "\u001b[1m24/24\u001b[0m \u001b[32m━━━━━━━━━━━━━━━━━━━━\u001b[0m\u001b[37m\u001b[0m \u001b[1m0s\u001b[0m 6ms/step - loss: 0.1128 - val_loss: 0.1463\n",
            "Epoch 163/1000\n",
            "\u001b[1m24/24\u001b[0m \u001b[32m━━━━━━━━━━━━━━━━━━━━\u001b[0m\u001b[37m\u001b[0m \u001b[1m0s\u001b[0m 6ms/step - loss: 0.1127 - val_loss: 0.1463\n",
            "Epoch 164/1000\n",
            "\u001b[1m24/24\u001b[0m \u001b[32m━━━━━━━━━━━━━━━━━━━━\u001b[0m\u001b[37m\u001b[0m \u001b[1m0s\u001b[0m 7ms/step - loss: 0.1126 - val_loss: 0.1463\n",
            "Epoch 165/1000\n",
            "\u001b[1m24/24\u001b[0m \u001b[32m━━━━━━━━━━━━━━━━━━━━\u001b[0m\u001b[37m\u001b[0m \u001b[1m0s\u001b[0m 8ms/step - loss: 0.1125 - val_loss: 0.1462\n",
            "Epoch 166/1000\n",
            "\u001b[1m24/24\u001b[0m \u001b[32m━━━━━━━━━━━━━━━━━━━━\u001b[0m\u001b[37m\u001b[0m \u001b[1m0s\u001b[0m 10ms/step - loss: 0.1124 - val_loss: 0.1462\n",
            "Epoch 167/1000\n",
            "\u001b[1m24/24\u001b[0m \u001b[32m━━━━━━━━━━━━━━━━━━━━\u001b[0m\u001b[37m\u001b[0m \u001b[1m0s\u001b[0m 8ms/step - loss: 0.1123 - val_loss: 0.1462\n",
            "Epoch 168/1000\n",
            "\u001b[1m24/24\u001b[0m \u001b[32m━━━━━━━━━━━━━━━━━━━━\u001b[0m\u001b[37m\u001b[0m \u001b[1m0s\u001b[0m 8ms/step - loss: 0.1123 - val_loss: 0.1462\n",
            "Epoch 169/1000\n",
            "\u001b[1m24/24\u001b[0m \u001b[32m━━━━━━━━━━━━━━━━━━━━\u001b[0m\u001b[37m\u001b[0m \u001b[1m0s\u001b[0m 8ms/step - loss: 0.1122 - val_loss: 0.1461\n",
            "Epoch 170/1000\n",
            "\u001b[1m24/24\u001b[0m \u001b[32m━━━━━━━━━━━━━━━━━━━━\u001b[0m\u001b[37m\u001b[0m \u001b[1m0s\u001b[0m 10ms/step - loss: 0.1121 - val_loss: 0.1461\n",
            "Epoch 171/1000\n",
            "\u001b[1m24/24\u001b[0m \u001b[32m━━━━━━━━━━━━━━━━━━━━\u001b[0m\u001b[37m\u001b[0m \u001b[1m0s\u001b[0m 14ms/step - loss: 0.1120 - val_loss: 0.1461\n",
            "Epoch 172/1000\n",
            "\u001b[1m24/24\u001b[0m \u001b[32m━━━━━━━━━━━━━━━━━━━━\u001b[0m\u001b[37m\u001b[0m \u001b[1m1s\u001b[0m 13ms/step - loss: 0.1119 - val_loss: 0.1461\n",
            "Epoch 173/1000\n",
            "\u001b[1m24/24\u001b[0m \u001b[32m━━━━━━━━━━━━━━━━━━━━\u001b[0m\u001b[37m\u001b[0m \u001b[1m1s\u001b[0m 16ms/step - loss: 0.1118 - val_loss: 0.1460\n",
            "Epoch 174/1000\n",
            "\u001b[1m24/24\u001b[0m \u001b[32m━━━━━━━━━━━━━━━━━━━━\u001b[0m\u001b[37m\u001b[0m \u001b[1m1s\u001b[0m 12ms/step - loss: 0.1117 - val_loss: 0.1460\n",
            "Epoch 175/1000\n",
            "\u001b[1m24/24\u001b[0m \u001b[32m━━━━━━━━━━━━━━━━━━━━\u001b[0m\u001b[37m\u001b[0m \u001b[1m1s\u001b[0m 19ms/step - loss: 0.1116 - val_loss: 0.1460\n",
            "Epoch 176/1000\n",
            "\u001b[1m24/24\u001b[0m \u001b[32m━━━━━━━━━━━━━━━━━━━━\u001b[0m\u001b[37m\u001b[0m \u001b[1m1s\u001b[0m 30ms/step - loss: 0.1115 - val_loss: 0.1460\n",
            "Epoch 177/1000\n",
            "\u001b[1m24/24\u001b[0m \u001b[32m━━━━━━━━━━━━━━━━━━━━\u001b[0m\u001b[37m\u001b[0m \u001b[1m1s\u001b[0m 20ms/step - loss: 0.1114 - val_loss: 0.1459\n",
            "Epoch 178/1000\n",
            "\u001b[1m24/24\u001b[0m \u001b[32m━━━━━━━━━━━━━━━━━━━━\u001b[0m\u001b[37m\u001b[0m \u001b[1m1s\u001b[0m 19ms/step - loss: 0.1113 - val_loss: 0.1459\n",
            "Epoch 179/1000\n",
            "\u001b[1m24/24\u001b[0m \u001b[32m━━━━━━━━━━━━━━━━━━━━\u001b[0m\u001b[37m\u001b[0m \u001b[1m1s\u001b[0m 17ms/step - loss: 0.1112 - val_loss: 0.1459\n",
            "Epoch 180/1000\n",
            "\u001b[1m24/24\u001b[0m \u001b[32m━━━━━━━━━━━━━━━━━━━━\u001b[0m\u001b[37m\u001b[0m \u001b[1m1s\u001b[0m 12ms/step - loss: 0.1112 - val_loss: 0.1459\n",
            "Epoch 181/1000\n",
            "\u001b[1m24/24\u001b[0m \u001b[32m━━━━━━━━━━━━━━━━━━━━\u001b[0m\u001b[37m\u001b[0m \u001b[1m1s\u001b[0m 10ms/step - loss: 0.1111 - val_loss: 0.1459\n",
            "Epoch 182/1000\n",
            "\u001b[1m24/24\u001b[0m \u001b[32m━━━━━━━━━━━━━━━━━━━━\u001b[0m\u001b[37m\u001b[0m \u001b[1m1s\u001b[0m 12ms/step - loss: 0.1110 - val_loss: 0.1459\n",
            "Epoch 183/1000\n",
            "\u001b[1m24/24\u001b[0m \u001b[32m━━━━━━━━━━━━━━━━━━━━\u001b[0m\u001b[37m\u001b[0m \u001b[1m1s\u001b[0m 14ms/step - loss: 0.1109 - val_loss: 0.1458\n",
            "Epoch 184/1000\n",
            "\u001b[1m24/24\u001b[0m \u001b[32m━━━━━━━━━━━━━━━━━━━━\u001b[0m\u001b[37m\u001b[0m \u001b[1m1s\u001b[0m 16ms/step - loss: 0.1108 - val_loss: 0.1458\n",
            "Epoch 185/1000\n",
            "\u001b[1m24/24\u001b[0m \u001b[32m━━━━━━━━━━━━━━━━━━━━\u001b[0m\u001b[37m\u001b[0m \u001b[1m1s\u001b[0m 20ms/step - loss: 0.1107 - val_loss: 0.1458\n",
            "Epoch 186/1000\n",
            "\u001b[1m24/24\u001b[0m \u001b[32m━━━━━━━━━━━━━━━━━━━━\u001b[0m\u001b[37m\u001b[0m \u001b[1m0s\u001b[0m 13ms/step - loss: 0.1107 - val_loss: 0.1458\n",
            "Epoch 187/1000\n",
            "\u001b[1m24/24\u001b[0m \u001b[32m━━━━━━━━━━━━━━━━━━━━\u001b[0m\u001b[37m\u001b[0m \u001b[1m1s\u001b[0m 12ms/step - loss: 0.1106 - val_loss: 0.1458\n",
            "Epoch 188/1000\n",
            "\u001b[1m24/24\u001b[0m \u001b[32m━━━━━━━━━━━━━━━━━━━━\u001b[0m\u001b[37m\u001b[0m \u001b[1m0s\u001b[0m 7ms/step - loss: 0.1105 - val_loss: 0.1457\n",
            "Epoch 189/1000\n",
            "\u001b[1m24/24\u001b[0m \u001b[32m━━━━━━━━━━━━━━━━━━━━\u001b[0m\u001b[37m\u001b[0m \u001b[1m0s\u001b[0m 6ms/step - loss: 0.1104 - val_loss: 0.1457\n",
            "Epoch 190/1000\n",
            "\u001b[1m24/24\u001b[0m \u001b[32m━━━━━━━━━━━━━━━━━━━━\u001b[0m\u001b[37m\u001b[0m \u001b[1m0s\u001b[0m 7ms/step - loss: 0.1103 - val_loss: 0.1457\n",
            "Epoch 191/1000\n",
            "\u001b[1m24/24\u001b[0m \u001b[32m━━━━━━━━━━━━━━━━━━━━\u001b[0m\u001b[37m\u001b[0m \u001b[1m0s\u001b[0m 6ms/step - loss: 0.1102 - val_loss: 0.1457\n",
            "Epoch 192/1000\n",
            "\u001b[1m24/24\u001b[0m \u001b[32m━━━━━━━━━━━━━━━━━━━━\u001b[0m\u001b[37m\u001b[0m \u001b[1m0s\u001b[0m 8ms/step - loss: 0.1102 - val_loss: 0.1456\n",
            "Epoch 193/1000\n",
            "\u001b[1m24/24\u001b[0m \u001b[32m━━━━━━━━━━━━━━━━━━━━\u001b[0m\u001b[37m\u001b[0m \u001b[1m0s\u001b[0m 4ms/step - loss: 0.1101 - val_loss: 0.1456\n",
            "Epoch 194/1000\n",
            "\u001b[1m24/24\u001b[0m \u001b[32m━━━━━━━━━━━━━━━━━━━━\u001b[0m\u001b[37m\u001b[0m \u001b[1m0s\u001b[0m 7ms/step - loss: 0.1100 - val_loss: 0.1456\n",
            "Epoch 195/1000\n",
            "\u001b[1m24/24\u001b[0m \u001b[32m━━━━━━━━━━━━━━━━━━━━\u001b[0m\u001b[37m\u001b[0m \u001b[1m0s\u001b[0m 7ms/step - loss: 0.1099 - val_loss: 0.1455\n",
            "Epoch 196/1000\n",
            "\u001b[1m24/24\u001b[0m \u001b[32m━━━━━━━━━━━━━━━━━━━━\u001b[0m\u001b[37m\u001b[0m \u001b[1m0s\u001b[0m 5ms/step - loss: 0.1099 - val_loss: 0.1455\n",
            "Epoch 197/1000\n",
            "\u001b[1m24/24\u001b[0m \u001b[32m━━━━━━━━━━━━━━━━━━━━\u001b[0m\u001b[37m\u001b[0m \u001b[1m0s\u001b[0m 11ms/step - loss: 0.1098 - val_loss: 0.1455\n",
            "Epoch 198/1000\n",
            "\u001b[1m24/24\u001b[0m \u001b[32m━━━━━━━━━━━━━━━━━━━━\u001b[0m\u001b[37m\u001b[0m \u001b[1m0s\u001b[0m 9ms/step - loss: 0.1097 - val_loss: 0.1455\n",
            "Epoch 199/1000\n",
            "\u001b[1m24/24\u001b[0m \u001b[32m━━━━━━━━━━━━━━━━━━━━\u001b[0m\u001b[37m\u001b[0m \u001b[1m0s\u001b[0m 5ms/step - loss: 0.1096 - val_loss: 0.1454\n",
            "Epoch 200/1000\n",
            "\u001b[1m24/24\u001b[0m \u001b[32m━━━━━━━━━━━━━━━━━━━━\u001b[0m\u001b[37m\u001b[0m \u001b[1m0s\u001b[0m 5ms/step - loss: 0.1095 - val_loss: 0.1454\n",
            "Epoch 201/1000\n",
            "\u001b[1m24/24\u001b[0m \u001b[32m━━━━━━━━━━━━━━━━━━━━\u001b[0m\u001b[37m\u001b[0m \u001b[1m0s\u001b[0m 5ms/step - loss: 0.1095 - val_loss: 0.1454\n",
            "Epoch 202/1000\n",
            "\u001b[1m24/24\u001b[0m \u001b[32m━━━━━━━━━━━━━━━━━━━━\u001b[0m\u001b[37m\u001b[0m \u001b[1m0s\u001b[0m 6ms/step - loss: 0.1094 - val_loss: 0.1454\n",
            "Epoch 203/1000\n",
            "\u001b[1m24/24\u001b[0m \u001b[32m━━━━━━━━━━━━━━━━━━━━\u001b[0m\u001b[37m\u001b[0m \u001b[1m0s\u001b[0m 5ms/step - loss: 0.1093 - val_loss: 0.1453\n",
            "Epoch 204/1000\n",
            "\u001b[1m24/24\u001b[0m \u001b[32m━━━━━━━━━━━━━━━━━━━━\u001b[0m\u001b[37m\u001b[0m \u001b[1m0s\u001b[0m 8ms/step - loss: 0.1093 - val_loss: 0.1453\n",
            "Epoch 205/1000\n",
            "\u001b[1m24/24\u001b[0m \u001b[32m━━━━━━━━━━━━━━━━━━━━\u001b[0m\u001b[37m\u001b[0m \u001b[1m0s\u001b[0m 8ms/step - loss: 0.1092 - val_loss: 0.1453\n",
            "Epoch 206/1000\n",
            "\u001b[1m24/24\u001b[0m \u001b[32m━━━━━━━━━━━━━━━━━━━━\u001b[0m\u001b[37m\u001b[0m \u001b[1m0s\u001b[0m 7ms/step - loss: 0.1091 - val_loss: 0.1453\n",
            "Epoch 207/1000\n",
            "\u001b[1m24/24\u001b[0m \u001b[32m━━━━━━━━━━━━━━━━━━━━\u001b[0m\u001b[37m\u001b[0m \u001b[1m0s\u001b[0m 7ms/step - loss: 0.1090 - val_loss: 0.1453\n",
            "Epoch 208/1000\n",
            "\u001b[1m24/24\u001b[0m \u001b[32m━━━━━━━━━━━━━━━━━━━━\u001b[0m\u001b[37m\u001b[0m \u001b[1m0s\u001b[0m 8ms/step - loss: 0.1090 - val_loss: 0.1453\n",
            "Epoch 209/1000\n",
            "\u001b[1m24/24\u001b[0m \u001b[32m━━━━━━━━━━━━━━━━━━━━\u001b[0m\u001b[37m\u001b[0m \u001b[1m0s\u001b[0m 14ms/step - loss: 0.1089 - val_loss: 0.1452\n",
            "Epoch 210/1000\n",
            "\u001b[1m24/24\u001b[0m \u001b[32m━━━━━━━━━━━━━━━━━━━━\u001b[0m\u001b[37m\u001b[0m \u001b[1m1s\u001b[0m 15ms/step - loss: 0.1088 - val_loss: 0.1452\n",
            "Epoch 211/1000\n",
            "\u001b[1m24/24\u001b[0m \u001b[32m━━━━━━━━━━━━━━━━━━━━\u001b[0m\u001b[37m\u001b[0m \u001b[1m0s\u001b[0m 11ms/step - loss: 0.1087 - val_loss: 0.1452\n",
            "Epoch 212/1000\n",
            "\u001b[1m24/24\u001b[0m \u001b[32m━━━━━━━━━━━━━━━━━━━━\u001b[0m\u001b[37m\u001b[0m \u001b[1m0s\u001b[0m 11ms/step - loss: 0.1087 - val_loss: 0.1452\n",
            "Epoch 213/1000\n",
            "\u001b[1m24/24\u001b[0m \u001b[32m━━━━━━━━━━━━━━━━━━━━\u001b[0m\u001b[37m\u001b[0m \u001b[1m1s\u001b[0m 13ms/step - loss: 0.1086 - val_loss: 0.1452\n",
            "Epoch 214/1000\n",
            "\u001b[1m24/24\u001b[0m \u001b[32m━━━━━━━━━━━━━━━━━━━━\u001b[0m\u001b[37m\u001b[0m \u001b[1m0s\u001b[0m 14ms/step - loss: 0.1085 - val_loss: 0.1451\n",
            "Epoch 215/1000\n",
            "\u001b[1m24/24\u001b[0m \u001b[32m━━━━━━━━━━━━━━━━━━━━\u001b[0m\u001b[37m\u001b[0m \u001b[1m0s\u001b[0m 17ms/step - loss: 0.1085 - val_loss: 0.1451\n",
            "Epoch 216/1000\n",
            "\u001b[1m24/24\u001b[0m \u001b[32m━━━━━━━━━━━━━━━━━━━━\u001b[0m\u001b[37m\u001b[0m \u001b[1m0s\u001b[0m 17ms/step - loss: 0.1084 - val_loss: 0.1451\n",
            "Epoch 217/1000\n",
            "\u001b[1m24/24\u001b[0m \u001b[32m━━━━━━━━━━━━━━━━━━━━\u001b[0m\u001b[37m\u001b[0m \u001b[1m1s\u001b[0m 16ms/step - loss: 0.1083 - val_loss: 0.1451\n",
            "Epoch 218/1000\n",
            "\u001b[1m24/24\u001b[0m \u001b[32m━━━━━━━━━━━━━━━━━━━━\u001b[0m\u001b[37m\u001b[0m \u001b[1m0s\u001b[0m 13ms/step - loss: 0.1083 - val_loss: 0.1451\n",
            "Epoch 219/1000\n",
            "\u001b[1m24/24\u001b[0m \u001b[32m━━━━━━━━━━━━━━━━━━━━\u001b[0m\u001b[37m\u001b[0m \u001b[1m1s\u001b[0m 12ms/step - loss: 0.1082 - val_loss: 0.1451\n",
            "Epoch 220/1000\n",
            "\u001b[1m24/24\u001b[0m \u001b[32m━━━━━━━━━━━━━━━━━━━━\u001b[0m\u001b[37m\u001b[0m \u001b[1m1s\u001b[0m 14ms/step - loss: 0.1081 - val_loss: 0.1451\n",
            "Epoch 221/1000\n",
            "\u001b[1m24/24\u001b[0m \u001b[32m━━━━━━━━━━━━━━━━━━━━\u001b[0m\u001b[37m\u001b[0m \u001b[1m0s\u001b[0m 10ms/step - loss: 0.1080 - val_loss: 0.1450\n",
            "Epoch 222/1000\n",
            "\u001b[1m24/24\u001b[0m \u001b[32m━━━━━━━━━━━━━━━━━━━━\u001b[0m\u001b[37m\u001b[0m \u001b[1m1s\u001b[0m 11ms/step - loss: 0.1080 - val_loss: 0.1450\n",
            "Epoch 223/1000\n",
            "\u001b[1m24/24\u001b[0m \u001b[32m━━━━━━━━━━━━━━━━━━━━\u001b[0m\u001b[37m\u001b[0m \u001b[1m0s\u001b[0m 4ms/step - loss: 0.1079 - val_loss: 0.1450\n",
            "Epoch 224/1000\n",
            "\u001b[1m24/24\u001b[0m \u001b[32m━━━━━━━━━━━━━━━━━━━━\u001b[0m\u001b[37m\u001b[0m \u001b[1m0s\u001b[0m 6ms/step - loss: 0.1078 - val_loss: 0.1450\n",
            "Epoch 225/1000\n",
            "\u001b[1m24/24\u001b[0m \u001b[32m━━━━━━━━━━━━━━━━━━━━\u001b[0m\u001b[37m\u001b[0m \u001b[1m0s\u001b[0m 7ms/step - loss: 0.1078 - val_loss: 0.1450\n",
            "Epoch 226/1000\n",
            "\u001b[1m24/24\u001b[0m \u001b[32m━━━━━━━━━━━━━━━━━━━━\u001b[0m\u001b[37m\u001b[0m \u001b[1m0s\u001b[0m 8ms/step - loss: 0.1077 - val_loss: 0.1449\n",
            "Epoch 227/1000\n",
            "\u001b[1m24/24\u001b[0m \u001b[32m━━━━━━━━━━━━━━━━━━━━\u001b[0m\u001b[37m\u001b[0m \u001b[1m0s\u001b[0m 8ms/step - loss: 0.1077 - val_loss: 0.1449\n",
            "Epoch 228/1000\n",
            "\u001b[1m24/24\u001b[0m \u001b[32m━━━━━━━━━━━━━━━━━━━━\u001b[0m\u001b[37m\u001b[0m \u001b[1m0s\u001b[0m 4ms/step - loss: 0.1076 - val_loss: 0.1449\n",
            "Epoch 229/1000\n",
            "\u001b[1m24/24\u001b[0m \u001b[32m━━━━━━━━━━━━━━━━━━━━\u001b[0m\u001b[37m\u001b[0m \u001b[1m0s\u001b[0m 9ms/step - loss: 0.1075 - val_loss: 0.1449\n",
            "Epoch 230/1000\n",
            "\u001b[1m24/24\u001b[0m \u001b[32m━━━━━━━━━━━━━━━━━━━━\u001b[0m\u001b[37m\u001b[0m \u001b[1m0s\u001b[0m 6ms/step - loss: 0.1075 - val_loss: 0.1449\n",
            "Epoch 231/1000\n",
            "\u001b[1m24/24\u001b[0m \u001b[32m━━━━━━━━━━━━━━━━━━━━\u001b[0m\u001b[37m\u001b[0m \u001b[1m0s\u001b[0m 5ms/step - loss: 0.1074 - val_loss: 0.1448\n",
            "Epoch 232/1000\n",
            "\u001b[1m24/24\u001b[0m \u001b[32m━━━━━━━━━━━━━━━━━━━━\u001b[0m\u001b[37m\u001b[0m \u001b[1m0s\u001b[0m 4ms/step - loss: 0.1073 - val_loss: 0.1448\n",
            "Epoch 233/1000\n",
            "\u001b[1m24/24\u001b[0m \u001b[32m━━━━━━━━━━━━━━━━━━━━\u001b[0m\u001b[37m\u001b[0m \u001b[1m0s\u001b[0m 5ms/step - loss: 0.1073 - val_loss: 0.1448\n",
            "Epoch 234/1000\n",
            "\u001b[1m24/24\u001b[0m \u001b[32m━━━━━━━━━━━━━━━━━━━━\u001b[0m\u001b[37m\u001b[0m \u001b[1m0s\u001b[0m 5ms/step - loss: 0.1072 - val_loss: 0.1448\n",
            "Epoch 235/1000\n",
            "\u001b[1m24/24\u001b[0m \u001b[32m━━━━━━━━━━━━━━━━━━━━\u001b[0m\u001b[37m\u001b[0m \u001b[1m0s\u001b[0m 5ms/step - loss: 0.1071 - val_loss: 0.1448\n",
            "Epoch 236/1000\n",
            "\u001b[1m24/24\u001b[0m \u001b[32m━━━━━━━━━━━━━━━━━━━━\u001b[0m\u001b[37m\u001b[0m \u001b[1m0s\u001b[0m 6ms/step - loss: 0.1071 - val_loss: 0.1448\n",
            "Epoch 237/1000\n",
            "\u001b[1m24/24\u001b[0m \u001b[32m━━━━━━━━━━━━━━━━━━━━\u001b[0m\u001b[37m\u001b[0m \u001b[1m0s\u001b[0m 6ms/step - loss: 0.1070 - val_loss: 0.1448\n",
            "Epoch 238/1000\n",
            "\u001b[1m24/24\u001b[0m \u001b[32m━━━━━━━━━━━━━━━━━━━━\u001b[0m\u001b[37m\u001b[0m \u001b[1m0s\u001b[0m 5ms/step - loss: 0.1070 - val_loss: 0.1447\n",
            "Epoch 239/1000\n",
            "\u001b[1m24/24\u001b[0m \u001b[32m━━━━━━━━━━━━━━━━━━━━\u001b[0m\u001b[37m\u001b[0m \u001b[1m0s\u001b[0m 7ms/step - loss: 0.1069 - val_loss: 0.1447\n",
            "Epoch 240/1000\n",
            "\u001b[1m24/24\u001b[0m \u001b[32m━━━━━━━━━━━━━━━━━━━━\u001b[0m\u001b[37m\u001b[0m \u001b[1m0s\u001b[0m 5ms/step - loss: 0.1068 - val_loss: 0.1447\n",
            "Epoch 241/1000\n",
            "\u001b[1m24/24\u001b[0m \u001b[32m━━━━━━━━━━━━━━━━━━━━\u001b[0m\u001b[37m\u001b[0m \u001b[1m0s\u001b[0m 6ms/step - loss: 0.1068 - val_loss: 0.1447\n",
            "Epoch 242/1000\n",
            "\u001b[1m24/24\u001b[0m \u001b[32m━━━━━━━━━━━━━━━━━━━━\u001b[0m\u001b[37m\u001b[0m \u001b[1m0s\u001b[0m 5ms/step - loss: 0.1067 - val_loss: 0.1447\n",
            "Epoch 243/1000\n",
            "\u001b[1m24/24\u001b[0m \u001b[32m━━━━━━━━━━━━━━━━━━━━\u001b[0m\u001b[37m\u001b[0m \u001b[1m0s\u001b[0m 5ms/step - loss: 0.1067 - val_loss: 0.1447\n",
            "Epoch 244/1000\n",
            "\u001b[1m24/24\u001b[0m \u001b[32m━━━━━━━━━━━━━━━━━━━━\u001b[0m\u001b[37m\u001b[0m \u001b[1m0s\u001b[0m 6ms/step - loss: 0.1066 - val_loss: 0.1447\n",
            "Epoch 245/1000\n",
            "\u001b[1m24/24\u001b[0m \u001b[32m━━━━━━━━━━━━━━━━━━━━\u001b[0m\u001b[37m\u001b[0m \u001b[1m0s\u001b[0m 10ms/step - loss: 0.1065 - val_loss: 0.1446\n",
            "Epoch 246/1000\n",
            "\u001b[1m24/24\u001b[0m \u001b[32m━━━━━━━━━━━━━━━━━━━━\u001b[0m\u001b[37m\u001b[0m \u001b[1m0s\u001b[0m 7ms/step - loss: 0.1065 - val_loss: 0.1446\n",
            "Epoch 247/1000\n",
            "\u001b[1m24/24\u001b[0m \u001b[32m━━━━━━━━━━━━━━━━━━━━\u001b[0m\u001b[37m\u001b[0m \u001b[1m0s\u001b[0m 5ms/step - loss: 0.1064 - val_loss: 0.1446\n",
            "Epoch 248/1000\n",
            "\u001b[1m24/24\u001b[0m \u001b[32m━━━━━━━━━━━━━━━━━━━━\u001b[0m\u001b[37m\u001b[0m \u001b[1m0s\u001b[0m 7ms/step - loss: 0.1064 - val_loss: 0.1446\n",
            "Epoch 249/1000\n",
            "\u001b[1m24/24\u001b[0m \u001b[32m━━━━━━━━━━━━━━━━━━━━\u001b[0m\u001b[37m\u001b[0m \u001b[1m0s\u001b[0m 6ms/step - loss: 0.1063 - val_loss: 0.1446\n",
            "Epoch 250/1000\n",
            "\u001b[1m24/24\u001b[0m \u001b[32m━━━━━━━━━━━━━━━━━━━━\u001b[0m\u001b[37m\u001b[0m \u001b[1m0s\u001b[0m 5ms/step - loss: 0.1062 - val_loss: 0.1446\n",
            "Epoch 251/1000\n",
            "\u001b[1m24/24\u001b[0m \u001b[32m━━━━━━━━━━━━━━━━━━━━\u001b[0m\u001b[37m\u001b[0m \u001b[1m0s\u001b[0m 5ms/step - loss: 0.1062 - val_loss: 0.1445\n",
            "Epoch 252/1000\n",
            "\u001b[1m24/24\u001b[0m \u001b[32m━━━━━━━━━━━━━━━━━━━━\u001b[0m\u001b[37m\u001b[0m \u001b[1m0s\u001b[0m 5ms/step - loss: 0.1061 - val_loss: 0.1445\n",
            "Epoch 253/1000\n",
            "\u001b[1m24/24\u001b[0m \u001b[32m━━━━━━━━━━━━━━━━━━━━\u001b[0m\u001b[37m\u001b[0m \u001b[1m0s\u001b[0m 8ms/step - loss: 0.1061 - val_loss: 0.1445\n",
            "Epoch 254/1000\n",
            "\u001b[1m24/24\u001b[0m \u001b[32m━━━━━━━━━━━━━━━━━━━━\u001b[0m\u001b[37m\u001b[0m \u001b[1m0s\u001b[0m 15ms/step - loss: 0.1060 - val_loss: 0.1445\n",
            "Epoch 255/1000\n",
            "\u001b[1m24/24\u001b[0m \u001b[32m━━━━━━━━━━━━━━━━━━━━\u001b[0m\u001b[37m\u001b[0m \u001b[1m0s\u001b[0m 11ms/step - loss: 0.1060 - val_loss: 0.1445\n",
            "Epoch 256/1000\n",
            "\u001b[1m24/24\u001b[0m \u001b[32m━━━━━━━━━━━━━━━━━━━━\u001b[0m\u001b[37m\u001b[0m \u001b[1m0s\u001b[0m 10ms/step - loss: 0.1059 - val_loss: 0.1445\n",
            "Epoch 257/1000\n",
            "\u001b[1m24/24\u001b[0m \u001b[32m━━━━━━━━━━━━━━━━━━━━\u001b[0m\u001b[37m\u001b[0m \u001b[1m1s\u001b[0m 8ms/step - loss: 0.1058 - val_loss: 0.1445\n",
            "Epoch 258/1000\n",
            "\u001b[1m24/24\u001b[0m \u001b[32m━━━━━━━━━━━━━━━━━━━━\u001b[0m\u001b[37m\u001b[0m \u001b[1m0s\u001b[0m 10ms/step - loss: 0.1058 - val_loss: 0.1444\n",
            "Epoch 259/1000\n",
            "\u001b[1m24/24\u001b[0m \u001b[32m━━━━━━━━━━━━━━━━━━━━\u001b[0m\u001b[37m\u001b[0m \u001b[1m0s\u001b[0m 10ms/step - loss: 0.1057 - val_loss: 0.1444\n",
            "Epoch 260/1000\n",
            "\u001b[1m24/24\u001b[0m \u001b[32m━━━━━━━━━━━━━━━━━━━━\u001b[0m\u001b[37m\u001b[0m \u001b[1m0s\u001b[0m 11ms/step - loss: 0.1057 - val_loss: 0.1444\n",
            "Epoch 261/1000\n",
            "\u001b[1m24/24\u001b[0m \u001b[32m━━━━━━━━━━━━━━━━━━━━\u001b[0m\u001b[37m\u001b[0m \u001b[1m1s\u001b[0m 11ms/step - loss: 0.1056 - val_loss: 0.1444\n",
            "Epoch 262/1000\n",
            "\u001b[1m24/24\u001b[0m \u001b[32m━━━━━━━━━━━━━━━━━━━━\u001b[0m\u001b[37m\u001b[0m \u001b[1m0s\u001b[0m 14ms/step - loss: 0.1056 - val_loss: 0.1444\n",
            "Epoch 263/1000\n",
            "\u001b[1m24/24\u001b[0m \u001b[32m━━━━━━━━━━━━━━━━━━━━\u001b[0m\u001b[37m\u001b[0m \u001b[1m0s\u001b[0m 6ms/step - loss: 0.1055 - val_loss: 0.1444\n",
            "Epoch 264/1000\n",
            "\u001b[1m24/24\u001b[0m \u001b[32m━━━━━━━━━━━━━━━━━━━━\u001b[0m\u001b[37m\u001b[0m \u001b[1m0s\u001b[0m 6ms/step - loss: 0.1055 - val_loss: 0.1444\n",
            "Epoch 265/1000\n",
            "\u001b[1m24/24\u001b[0m \u001b[32m━━━━━━━━━━━━━━━━━━━━\u001b[0m\u001b[37m\u001b[0m \u001b[1m0s\u001b[0m 5ms/step - loss: 0.1054 - val_loss: 0.1444\n",
            "Epoch 266/1000\n",
            "\u001b[1m24/24\u001b[0m \u001b[32m━━━━━━━━━━━━━━━━━━━━\u001b[0m\u001b[37m\u001b[0m \u001b[1m0s\u001b[0m 5ms/step - loss: 0.1053 - val_loss: 0.1443\n",
            "Epoch 267/1000\n",
            "\u001b[1m24/24\u001b[0m \u001b[32m━━━━━━━━━━━━━━━━━━━━\u001b[0m\u001b[37m\u001b[0m \u001b[1m0s\u001b[0m 6ms/step - loss: 0.1053 - val_loss: 0.1443\n",
            "Epoch 268/1000\n",
            "\u001b[1m24/24\u001b[0m \u001b[32m━━━━━━━━━━━━━━━━━━━━\u001b[0m\u001b[37m\u001b[0m \u001b[1m0s\u001b[0m 6ms/step - loss: 0.1052 - val_loss: 0.1443\n",
            "Epoch 269/1000\n",
            "\u001b[1m24/24\u001b[0m \u001b[32m━━━━━━━━━━━━━━━━━━━━\u001b[0m\u001b[37m\u001b[0m \u001b[1m0s\u001b[0m 6ms/step - loss: 0.1052 - val_loss: 0.1443\n",
            "Epoch 270/1000\n",
            "\u001b[1m24/24\u001b[0m \u001b[32m━━━━━━━━━━━━━━━━━━━━\u001b[0m\u001b[37m\u001b[0m \u001b[1m0s\u001b[0m 5ms/step - loss: 0.1051 - val_loss: 0.1443\n",
            "Epoch 271/1000\n",
            "\u001b[1m24/24\u001b[0m \u001b[32m━━━━━━━━━━━━━━━━━━━━\u001b[0m\u001b[37m\u001b[0m \u001b[1m0s\u001b[0m 7ms/step - loss: 0.1051 - val_loss: 0.1443\n",
            "Epoch 272/1000\n",
            "\u001b[1m24/24\u001b[0m \u001b[32m━━━━━━━━━━━━━━━━━━━━\u001b[0m\u001b[37m\u001b[0m \u001b[1m0s\u001b[0m 10ms/step - loss: 0.1050 - val_loss: 0.1443\n",
            "Epoch 273/1000\n",
            "\u001b[1m24/24\u001b[0m \u001b[32m━━━━━━━━━━━━━━━━━━━━\u001b[0m\u001b[37m\u001b[0m \u001b[1m0s\u001b[0m 10ms/step - loss: 0.1050 - val_loss: 0.1443\n",
            "Epoch 274/1000\n",
            "\u001b[1m24/24\u001b[0m \u001b[32m━━━━━━━━━━━━━━━━━━━━\u001b[0m\u001b[37m\u001b[0m \u001b[1m0s\u001b[0m 9ms/step - loss: 0.1049 - val_loss: 0.1442\n",
            "Epoch 275/1000\n",
            "\u001b[1m24/24\u001b[0m \u001b[32m━━━━━━━━━━━━━━━━━━━━\u001b[0m\u001b[37m\u001b[0m \u001b[1m0s\u001b[0m 8ms/step - loss: 0.1049 - val_loss: 0.1442\n",
            "Epoch 276/1000\n",
            "\u001b[1m24/24\u001b[0m \u001b[32m━━━━━━━━━━━━━━━━━━━━\u001b[0m\u001b[37m\u001b[0m \u001b[1m0s\u001b[0m 9ms/step - loss: 0.1048 - val_loss: 0.1442\n",
            "Epoch 277/1000\n",
            "\u001b[1m24/24\u001b[0m \u001b[32m━━━━━━━━━━━━━━━━━━━━\u001b[0m\u001b[37m\u001b[0m \u001b[1m0s\u001b[0m 6ms/step - loss: 0.1048 - val_loss: 0.1442\n",
            "Epoch 278/1000\n",
            "\u001b[1m24/24\u001b[0m \u001b[32m━━━━━━━━━━━━━━━━━━━━\u001b[0m\u001b[37m\u001b[0m \u001b[1m0s\u001b[0m 6ms/step - loss: 0.1047 - val_loss: 0.1442\n",
            "Epoch 279/1000\n",
            "\u001b[1m24/24\u001b[0m \u001b[32m━━━━━━━━━━━━━━━━━━━━\u001b[0m\u001b[37m\u001b[0m \u001b[1m0s\u001b[0m 5ms/step - loss: 0.1047 - val_loss: 0.1442\n",
            "Epoch 280/1000\n",
            "\u001b[1m24/24\u001b[0m \u001b[32m━━━━━━━━━━━━━━━━━━━━\u001b[0m\u001b[37m\u001b[0m \u001b[1m0s\u001b[0m 9ms/step - loss: 0.1046 - val_loss: 0.1442\n",
            "Epoch 281/1000\n",
            "\u001b[1m24/24\u001b[0m \u001b[32m━━━━━━━━━━━━━━━━━━━━\u001b[0m\u001b[37m\u001b[0m \u001b[1m0s\u001b[0m 5ms/step - loss: 0.1046 - val_loss: 0.1442\n",
            "Epoch 282/1000\n",
            "\u001b[1m24/24\u001b[0m \u001b[32m━━━━━━━━━━━━━━━━━━━━\u001b[0m\u001b[37m\u001b[0m \u001b[1m0s\u001b[0m 7ms/step - loss: 0.1045 - val_loss: 0.1442\n",
            "Epoch 283/1000\n",
            "\u001b[1m24/24\u001b[0m \u001b[32m━━━━━━━━━━━━━━━━━━━━\u001b[0m\u001b[37m\u001b[0m \u001b[1m0s\u001b[0m 5ms/step - loss: 0.1045 - val_loss: 0.1441\n",
            "Epoch 284/1000\n",
            "\u001b[1m24/24\u001b[0m \u001b[32m━━━━━━━━━━━━━━━━━━━━\u001b[0m\u001b[37m\u001b[0m \u001b[1m0s\u001b[0m 6ms/step - loss: 0.1044 - val_loss: 0.1441\n",
            "Epoch 285/1000\n",
            "\u001b[1m24/24\u001b[0m \u001b[32m━━━━━━━━━━━━━━━━━━━━\u001b[0m\u001b[37m\u001b[0m \u001b[1m0s\u001b[0m 6ms/step - loss: 0.1044 - val_loss: 0.1441\n",
            "Epoch 286/1000\n",
            "\u001b[1m24/24\u001b[0m \u001b[32m━━━━━━━━━━━━━━━━━━━━\u001b[0m\u001b[37m\u001b[0m \u001b[1m0s\u001b[0m 5ms/step - loss: 0.1043 - val_loss: 0.1441\n",
            "Epoch 287/1000\n",
            "\u001b[1m24/24\u001b[0m \u001b[32m━━━━━━━━━━━━━━━━━━━━\u001b[0m\u001b[37m\u001b[0m \u001b[1m0s\u001b[0m 5ms/step - loss: 0.1043 - val_loss: 0.1441\n",
            "Epoch 288/1000\n",
            "\u001b[1m24/24\u001b[0m \u001b[32m━━━━━━━━━━━━━━━━━━━━\u001b[0m\u001b[37m\u001b[0m \u001b[1m0s\u001b[0m 5ms/step - loss: 0.1042 - val_loss: 0.1441\n",
            "Epoch 289/1000\n",
            "\u001b[1m24/24\u001b[0m \u001b[32m━━━━━━━━━━━━━━━━━━━━\u001b[0m\u001b[37m\u001b[0m \u001b[1m0s\u001b[0m 7ms/step - loss: 0.1042 - val_loss: 0.1441\n",
            "Epoch 290/1000\n",
            "\u001b[1m24/24\u001b[0m \u001b[32m━━━━━━━━━━━━━━━━━━━━\u001b[0m\u001b[37m\u001b[0m \u001b[1m0s\u001b[0m 8ms/step - loss: 0.1041 - val_loss: 0.1441\n",
            "Epoch 291/1000\n",
            "\u001b[1m24/24\u001b[0m \u001b[32m━━━━━━━━━━━━━━━━━━━━\u001b[0m\u001b[37m\u001b[0m \u001b[1m0s\u001b[0m 5ms/step - loss: 0.1041 - val_loss: 0.1440\n",
            "Epoch 292/1000\n",
            "\u001b[1m24/24\u001b[0m \u001b[32m━━━━━━━━━━━━━━━━━━━━\u001b[0m\u001b[37m\u001b[0m \u001b[1m0s\u001b[0m 5ms/step - loss: 0.1040 - val_loss: 0.1440\n",
            "Epoch 293/1000\n",
            "\u001b[1m24/24\u001b[0m \u001b[32m━━━━━━━━━━━━━━━━━━━━\u001b[0m\u001b[37m\u001b[0m \u001b[1m0s\u001b[0m 7ms/step - loss: 0.1040 - val_loss: 0.1440\n",
            "Epoch 294/1000\n",
            "\u001b[1m24/24\u001b[0m \u001b[32m━━━━━━━━━━━━━━━━━━━━\u001b[0m\u001b[37m\u001b[0m \u001b[1m0s\u001b[0m 6ms/step - loss: 0.1039 - val_loss: 0.1440\n",
            "Epoch 295/1000\n",
            "\u001b[1m24/24\u001b[0m \u001b[32m━━━━━━━━━━━━━━━━━━━━\u001b[0m\u001b[37m\u001b[0m \u001b[1m0s\u001b[0m 8ms/step - loss: 0.1039 - val_loss: 0.1440\n",
            "Epoch 296/1000\n",
            "\u001b[1m24/24\u001b[0m \u001b[32m━━━━━━━━━━━━━━━━━━━━\u001b[0m\u001b[37m\u001b[0m \u001b[1m0s\u001b[0m 9ms/step - loss: 0.1038 - val_loss: 0.1440\n",
            "Epoch 297/1000\n",
            "\u001b[1m24/24\u001b[0m \u001b[32m━━━━━━━━━━━━━━━━━━━━\u001b[0m\u001b[37m\u001b[0m \u001b[1m0s\u001b[0m 8ms/step - loss: 0.1038 - val_loss: 0.1440\n",
            "Epoch 298/1000\n",
            "\u001b[1m24/24\u001b[0m \u001b[32m━━━━━━━━━━━━━━━━━━━━\u001b[0m\u001b[37m\u001b[0m \u001b[1m0s\u001b[0m 7ms/step - loss: 0.1037 - val_loss: 0.1440\n",
            "Epoch 299/1000\n",
            "\u001b[1m24/24\u001b[0m \u001b[32m━━━━━━━━━━━━━━━━━━━━\u001b[0m\u001b[37m\u001b[0m \u001b[1m0s\u001b[0m 8ms/step - loss: 0.1037 - val_loss: 0.1440\n",
            "Epoch 300/1000\n",
            "\u001b[1m24/24\u001b[0m \u001b[32m━━━━━━━━━━━━━━━━━━━━\u001b[0m\u001b[37m\u001b[0m \u001b[1m0s\u001b[0m 9ms/step - loss: 0.1036 - val_loss: 0.1440\n",
            "Epoch 301/1000\n",
            "\u001b[1m24/24\u001b[0m \u001b[32m━━━━━━━━━━━━━━━━━━━━\u001b[0m\u001b[37m\u001b[0m \u001b[1m0s\u001b[0m 9ms/step - loss: 0.1036 - val_loss: 0.1440\n",
            "Epoch 302/1000\n",
            "\u001b[1m24/24\u001b[0m \u001b[32m━━━━━━━━━━━━━━━━━━━━\u001b[0m\u001b[37m\u001b[0m \u001b[1m0s\u001b[0m 15ms/step - loss: 0.1035 - val_loss: 0.1440\n",
            "Epoch 303/1000\n",
            "\u001b[1m24/24\u001b[0m \u001b[32m━━━━━━━━━━━━━━━━━━━━\u001b[0m\u001b[37m\u001b[0m \u001b[1m0s\u001b[0m 13ms/step - loss: 0.1035 - val_loss: 0.1440\n",
            "Epoch 304/1000\n",
            "\u001b[1m24/24\u001b[0m \u001b[32m━━━━━━━━━━━━━━━━━━━━\u001b[0m\u001b[37m\u001b[0m \u001b[1m1s\u001b[0m 9ms/step - loss: 0.1034 - val_loss: 0.1440\n",
            "Epoch 305/1000\n",
            "\u001b[1m24/24\u001b[0m \u001b[32m━━━━━━━━━━━━━━━━━━━━\u001b[0m\u001b[37m\u001b[0m \u001b[1m0s\u001b[0m 12ms/step - loss: 0.1034 - val_loss: 0.1440\n",
            "Epoch 306/1000\n",
            "\u001b[1m24/24\u001b[0m \u001b[32m━━━━━━━━━━━━━━━━━━━━\u001b[0m\u001b[37m\u001b[0m \u001b[1m0s\u001b[0m 7ms/step - loss: 0.1033 - val_loss: 0.1439\n",
            "Epoch 307/1000\n",
            "\u001b[1m24/24\u001b[0m \u001b[32m━━━━━━━━━━━━━━━━━━━━\u001b[0m\u001b[37m\u001b[0m \u001b[1m0s\u001b[0m 8ms/step - loss: 0.1033 - val_loss: 0.1439\n",
            "Epoch 308/1000\n",
            "\u001b[1m24/24\u001b[0m \u001b[32m━━━━━━━━━━━━━━━━━━━━\u001b[0m\u001b[37m\u001b[0m \u001b[1m0s\u001b[0m 9ms/step - loss: 0.1033 - val_loss: 0.1439\n",
            "Epoch 309/1000\n",
            "\u001b[1m24/24\u001b[0m \u001b[32m━━━━━━━━━━━━━━━━━━━━\u001b[0m\u001b[37m\u001b[0m \u001b[1m0s\u001b[0m 8ms/step - loss: 0.1032 - val_loss: 0.1439\n",
            "Epoch 310/1000\n",
            "\u001b[1m24/24\u001b[0m \u001b[32m━━━━━━━━━━━━━━━━━━━━\u001b[0m\u001b[37m\u001b[0m \u001b[1m0s\u001b[0m 11ms/step - loss: 0.1032 - val_loss: 0.1439\n",
            "Epoch 311/1000\n",
            "\u001b[1m24/24\u001b[0m \u001b[32m━━━━━━━━━━━━━━━━━━━━\u001b[0m\u001b[37m\u001b[0m \u001b[1m0s\u001b[0m 9ms/step - loss: 0.1031 - val_loss: 0.1439\n",
            "Epoch 312/1000\n",
            "\u001b[1m24/24\u001b[0m \u001b[32m━━━━━━━━━━━━━━━━━━━━\u001b[0m\u001b[37m\u001b[0m \u001b[1m0s\u001b[0m 7ms/step - loss: 0.1031 - val_loss: 0.1439\n",
            "Epoch 313/1000\n",
            "\u001b[1m24/24\u001b[0m \u001b[32m━━━━━━━━━━━━━━━━━━━━\u001b[0m\u001b[37m\u001b[0m \u001b[1m0s\u001b[0m 8ms/step - loss: 0.1030 - val_loss: 0.1439\n",
            "Epoch 314/1000\n",
            "\u001b[1m24/24\u001b[0m \u001b[32m━━━━━━━━━━━━━━━━━━━━\u001b[0m\u001b[37m\u001b[0m \u001b[1m0s\u001b[0m 10ms/step - loss: 0.1030 - val_loss: 0.1439\n",
            "Epoch 315/1000\n",
            "\u001b[1m24/24\u001b[0m \u001b[32m━━━━━━━━━━━━━━━━━━━━\u001b[0m\u001b[37m\u001b[0m \u001b[1m0s\u001b[0m 9ms/step - loss: 0.1029 - val_loss: 0.1439\n",
            "Epoch 316/1000\n",
            "\u001b[1m24/24\u001b[0m \u001b[32m━━━━━━━━━━━━━━━━━━━━\u001b[0m\u001b[37m\u001b[0m \u001b[1m0s\u001b[0m 7ms/step - loss: 0.1029 - val_loss: 0.1439\n",
            "Epoch 317/1000\n",
            "\u001b[1m24/24\u001b[0m \u001b[32m━━━━━━━━━━━━━━━━━━━━\u001b[0m\u001b[37m\u001b[0m \u001b[1m0s\u001b[0m 5ms/step - loss: 0.1028 - val_loss: 0.1439\n",
            "Epoch 318/1000\n",
            "\u001b[1m24/24\u001b[0m \u001b[32m━━━━━━━━━━━━━━━━━━━━\u001b[0m\u001b[37m\u001b[0m \u001b[1m0s\u001b[0m 9ms/step - loss: 0.1028 - val_loss: 0.1438\n",
            "Epoch 319/1000\n",
            "\u001b[1m24/24\u001b[0m \u001b[32m━━━━━━━━━━━━━━━━━━━━\u001b[0m\u001b[37m\u001b[0m \u001b[1m0s\u001b[0m 5ms/step - loss: 0.1027 - val_loss: 0.1438\n",
            "Epoch 320/1000\n",
            "\u001b[1m24/24\u001b[0m \u001b[32m━━━━━━━━━━━━━━━━━━━━\u001b[0m\u001b[37m\u001b[0m \u001b[1m0s\u001b[0m 5ms/step - loss: 0.1027 - val_loss: 0.1438\n",
            "Epoch 321/1000\n",
            "\u001b[1m24/24\u001b[0m \u001b[32m━━━━━━━━━━━━━━━━━━━━\u001b[0m\u001b[37m\u001b[0m \u001b[1m0s\u001b[0m 5ms/step - loss: 0.1027 - val_loss: 0.1438\n",
            "Epoch 322/1000\n",
            "\u001b[1m24/24\u001b[0m \u001b[32m━━━━━━━━━━━━━━━━━━━━\u001b[0m\u001b[37m\u001b[0m \u001b[1m0s\u001b[0m 6ms/step - loss: 0.1026 - val_loss: 0.1438\n",
            "Epoch 323/1000\n",
            "\u001b[1m24/24\u001b[0m \u001b[32m━━━━━━━━━━━━━━━━━━━━\u001b[0m\u001b[37m\u001b[0m \u001b[1m0s\u001b[0m 12ms/step - loss: 0.1026 - val_loss: 0.1438\n",
            "Epoch 324/1000\n",
            "\u001b[1m24/24\u001b[0m \u001b[32m━━━━━━━━━━━━━━━━━━━━\u001b[0m\u001b[37m\u001b[0m \u001b[1m0s\u001b[0m 8ms/step - loss: 0.1025 - val_loss: 0.1438\n",
            "Epoch 325/1000\n",
            "\u001b[1m24/24\u001b[0m \u001b[32m━━━━━━━━━━━━━━━━━━━━\u001b[0m\u001b[37m\u001b[0m \u001b[1m0s\u001b[0m 9ms/step - loss: 0.1025 - val_loss: 0.1438\n",
            "Epoch 326/1000\n",
            "\u001b[1m24/24\u001b[0m \u001b[32m━━━━━━━━━━━━━━━━━━━━\u001b[0m\u001b[37m\u001b[0m \u001b[1m0s\u001b[0m 8ms/step - loss: 0.1024 - val_loss: 0.1438\n",
            "Epoch 327/1000\n",
            "\u001b[1m24/24\u001b[0m \u001b[32m━━━━━━━━━━━━━━━━━━━━\u001b[0m\u001b[37m\u001b[0m \u001b[1m0s\u001b[0m 7ms/step - loss: 0.1024 - val_loss: 0.1438\n",
            "Epoch 328/1000\n",
            "\u001b[1m24/24\u001b[0m \u001b[32m━━━━━━━━━━━━━━━━━━━━\u001b[0m\u001b[37m\u001b[0m \u001b[1m0s\u001b[0m 8ms/step - loss: 0.1023 - val_loss: 0.1437\n",
            "Epoch 329/1000\n",
            "\u001b[1m24/24\u001b[0m \u001b[32m━━━━━━━━━━━━━━━━━━━━\u001b[0m\u001b[37m\u001b[0m \u001b[1m0s\u001b[0m 10ms/step - loss: 0.1023 - val_loss: 0.1438\n",
            "Epoch 330/1000\n",
            "\u001b[1m24/24\u001b[0m \u001b[32m━━━━━━━━━━━━━━━━━━━━\u001b[0m\u001b[37m\u001b[0m \u001b[1m0s\u001b[0m 11ms/step - loss: 0.1023 - val_loss: 0.1438\n",
            "Epoch 331/1000\n",
            "\u001b[1m24/24\u001b[0m \u001b[32m━━━━━━━━━━━━━━━━━━━━\u001b[0m\u001b[37m\u001b[0m \u001b[1m0s\u001b[0m 8ms/step - loss: 0.1022 - val_loss: 0.1438\n",
            "Epoch 332/1000\n",
            "\u001b[1m24/24\u001b[0m \u001b[32m━━━━━━━━━━━━━━━━━━━━\u001b[0m\u001b[37m\u001b[0m \u001b[1m0s\u001b[0m 8ms/step - loss: 0.1022 - val_loss: 0.1437\n",
            "Epoch 333/1000\n",
            "\u001b[1m24/24\u001b[0m \u001b[32m━━━━━━━━━━━━━━━━━━━━\u001b[0m\u001b[37m\u001b[0m \u001b[1m0s\u001b[0m 8ms/step - loss: 0.1021 - val_loss: 0.1437\n",
            "Epoch 334/1000\n",
            "\u001b[1m24/24\u001b[0m \u001b[32m━━━━━━━━━━━━━━━━━━━━\u001b[0m\u001b[37m\u001b[0m \u001b[1m0s\u001b[0m 6ms/step - loss: 0.1021 - val_loss: 0.1437\n",
            "Epoch 335/1000\n",
            "\u001b[1m24/24\u001b[0m \u001b[32m━━━━━━━━━━━━━━━━━━━━\u001b[0m\u001b[37m\u001b[0m \u001b[1m0s\u001b[0m 8ms/step - loss: 0.1020 - val_loss: 0.1437\n",
            "Epoch 336/1000\n",
            "\u001b[1m24/24\u001b[0m \u001b[32m━━━━━━━━━━━━━━━━━━━━\u001b[0m\u001b[37m\u001b[0m \u001b[1m0s\u001b[0m 6ms/step - loss: 0.1020 - val_loss: 0.1437\n",
            "Epoch 337/1000\n",
            "\u001b[1m24/24\u001b[0m \u001b[32m━━━━━━━━━━━━━━━━━━━━\u001b[0m\u001b[37m\u001b[0m \u001b[1m0s\u001b[0m 7ms/step - loss: 0.1019 - val_loss: 0.1437\n",
            "Epoch 338/1000\n",
            "\u001b[1m24/24\u001b[0m \u001b[32m━━━━━━━━━━━━━━━━━━━━\u001b[0m\u001b[37m\u001b[0m \u001b[1m0s\u001b[0m 6ms/step - loss: 0.1019 - val_loss: 0.1437\n",
            "Epoch 339/1000\n",
            "\u001b[1m24/24\u001b[0m \u001b[32m━━━━━━━━━━━━━━━━━━━━\u001b[0m\u001b[37m\u001b[0m \u001b[1m0s\u001b[0m 7ms/step - loss: 0.1019 - val_loss: 0.1437\n",
            "Epoch 340/1000\n",
            "\u001b[1m24/24\u001b[0m \u001b[32m━━━━━━━━━━━━━━━━━━━━\u001b[0m\u001b[37m\u001b[0m \u001b[1m0s\u001b[0m 9ms/step - loss: 0.1018 - val_loss: 0.1437\n",
            "Epoch 341/1000\n",
            "\u001b[1m24/24\u001b[0m \u001b[32m━━━━━━━━━━━━━━━━━━━━\u001b[0m\u001b[37m\u001b[0m \u001b[1m0s\u001b[0m 9ms/step - loss: 0.1018 - val_loss: 0.1437\n",
            "Epoch 342/1000\n",
            "\u001b[1m24/24\u001b[0m \u001b[32m━━━━━━━━━━━━━━━━━━━━\u001b[0m\u001b[37m\u001b[0m \u001b[1m0s\u001b[0m 9ms/step - loss: 0.1017 - val_loss: 0.1437\n",
            "Epoch 343/1000\n",
            "\u001b[1m24/24\u001b[0m \u001b[32m━━━━━━━━━━━━━━━━━━━━\u001b[0m\u001b[37m\u001b[0m \u001b[1m0s\u001b[0m 8ms/step - loss: 0.1017 - val_loss: 0.1437\n",
            "Epoch 344/1000\n",
            "\u001b[1m24/24\u001b[0m \u001b[32m━━━━━━━━━━━━━━━━━━━━\u001b[0m\u001b[37m\u001b[0m \u001b[1m0s\u001b[0m 9ms/step - loss: 0.1016 - val_loss: 0.1437\n",
            "Epoch 345/1000\n",
            "\u001b[1m24/24\u001b[0m \u001b[32m━━━━━━━━━━━━━━━━━━━━\u001b[0m\u001b[37m\u001b[0m \u001b[1m0s\u001b[0m 10ms/step - loss: 0.1016 - val_loss: 0.1437\n",
            "Epoch 346/1000\n",
            "\u001b[1m24/24\u001b[0m \u001b[32m━━━━━━━━━━━━━━━━━━━━\u001b[0m\u001b[37m\u001b[0m \u001b[1m0s\u001b[0m 10ms/step - loss: 0.1016 - val_loss: 0.1437\n",
            "Epoch 347/1000\n",
            "\u001b[1m24/24\u001b[0m \u001b[32m━━━━━━━━━━━━━━━━━━━━\u001b[0m\u001b[37m\u001b[0m \u001b[1m0s\u001b[0m 7ms/step - loss: 0.1015 - val_loss: 0.1436\n",
            "Epoch 348/1000\n",
            "\u001b[1m24/24\u001b[0m \u001b[32m━━━━━━━━━━━━━━━━━━━━\u001b[0m\u001b[37m\u001b[0m \u001b[1m0s\u001b[0m 9ms/step - loss: 0.1015 - val_loss: 0.1437\n",
            "Epoch 349/1000\n",
            "\u001b[1m24/24\u001b[0m \u001b[32m━━━━━━━━━━━━━━━━━━━━\u001b[0m\u001b[37m\u001b[0m \u001b[1m0s\u001b[0m 10ms/step - loss: 0.1014 - val_loss: 0.1436\n",
            "Epoch 350/1000\n",
            "\u001b[1m24/24\u001b[0m \u001b[32m━━━━━━━━━━━━━━━━━━━━\u001b[0m\u001b[37m\u001b[0m \u001b[1m0s\u001b[0m 8ms/step - loss: 0.1014 - val_loss: 0.1437\n",
            "Epoch 351/1000\n",
            "\u001b[1m24/24\u001b[0m \u001b[32m━━━━━━━━━━━━━━━━━━━━\u001b[0m\u001b[37m\u001b[0m \u001b[1m0s\u001b[0m 7ms/step - loss: 0.1013 - val_loss: 0.1436\n",
            "Epoch 352/1000\n",
            "\u001b[1m24/24\u001b[0m \u001b[32m━━━━━━━━━━━━━━━━━━━━\u001b[0m\u001b[37m\u001b[0m \u001b[1m0s\u001b[0m 14ms/step - loss: 0.1013 - val_loss: 0.1436\n",
            "Epoch 353/1000\n",
            "\u001b[1m24/24\u001b[0m \u001b[32m━━━━━━━━━━━━━━━━━━━━\u001b[0m\u001b[37m\u001b[0m \u001b[1m0s\u001b[0m 12ms/step - loss: 0.1013 - val_loss: 0.1436\n",
            "Epoch 354/1000\n",
            "\u001b[1m24/24\u001b[0m \u001b[32m━━━━━━━━━━━━━━━━━━━━\u001b[0m\u001b[37m\u001b[0m \u001b[1m0s\u001b[0m 13ms/step - loss: 0.1012 - val_loss: 0.1436\n",
            "Epoch 355/1000\n",
            "\u001b[1m24/24\u001b[0m \u001b[32m━━━━━━━━━━━━━━━━━━━━\u001b[0m\u001b[37m\u001b[0m \u001b[1m0s\u001b[0m 13ms/step - loss: 0.1012 - val_loss: 0.1436\n",
            "Epoch 356/1000\n",
            "\u001b[1m24/24\u001b[0m \u001b[32m━━━━━━━━━━━━━━━━━━━━\u001b[0m\u001b[37m\u001b[0m \u001b[1m1s\u001b[0m 13ms/step - loss: 0.1011 - val_loss: 0.1436\n",
            "Epoch 357/1000\n",
            "\u001b[1m24/24\u001b[0m \u001b[32m━━━━━━━━━━━━━━━━━━━━\u001b[0m\u001b[37m\u001b[0m \u001b[1m1s\u001b[0m 13ms/step - loss: 0.1011 - val_loss: 0.1436\n",
            "Epoch 358/1000\n",
            "\u001b[1m24/24\u001b[0m \u001b[32m━━━━━━━━━━━━━━━━━━━━\u001b[0m\u001b[37m\u001b[0m \u001b[1m1s\u001b[0m 17ms/step - loss: 0.1011 - val_loss: 0.1436\n",
            "Epoch 359/1000\n",
            "\u001b[1m24/24\u001b[0m \u001b[32m━━━━━━━━━━━━━━━━━━━━\u001b[0m\u001b[37m\u001b[0m \u001b[1m1s\u001b[0m 13ms/step - loss: 0.1010 - val_loss: 0.1436\n",
            "Epoch 360/1000\n",
            "\u001b[1m24/24\u001b[0m \u001b[32m━━━━━━━━━━━━━━━━━━━━\u001b[0m\u001b[37m\u001b[0m \u001b[1m0s\u001b[0m 16ms/step - loss: 0.1010 - val_loss: 0.1436\n",
            "Epoch 361/1000\n",
            "\u001b[1m24/24\u001b[0m \u001b[32m━━━━━━━━━━━━━━━━━━━━\u001b[0m\u001b[37m\u001b[0m \u001b[1m1s\u001b[0m 12ms/step - loss: 0.1009 - val_loss: 0.1436\n",
            "Epoch 362/1000\n",
            "\u001b[1m24/24\u001b[0m \u001b[32m━━━━━━━━━━━━━━━━━━━━\u001b[0m\u001b[37m\u001b[0m \u001b[1m1s\u001b[0m 9ms/step - loss: 0.1009 - val_loss: 0.1436\n",
            "Epoch 363/1000\n",
            "\u001b[1m24/24\u001b[0m \u001b[32m━━━━━━━━━━━━━━━━━━━━\u001b[0m\u001b[37m\u001b[0m \u001b[1m0s\u001b[0m 8ms/step - loss: 0.1009 - val_loss: 0.1436\n",
            "Epoch 364/1000\n",
            "\u001b[1m24/24\u001b[0m \u001b[32m━━━━━━━━━━━━━━━━━━━━\u001b[0m\u001b[37m\u001b[0m \u001b[1m0s\u001b[0m 8ms/step - loss: 0.1008 - val_loss: 0.1436\n",
            "Epoch 365/1000\n",
            "\u001b[1m24/24\u001b[0m \u001b[32m━━━━━━━━━━━━━━━━━━━━\u001b[0m\u001b[37m\u001b[0m \u001b[1m0s\u001b[0m 8ms/step - loss: 0.1008 - val_loss: 0.1436\n",
            "Epoch 366/1000\n",
            "\u001b[1m24/24\u001b[0m \u001b[32m━━━━━━━━━━━━━━━━━━━━\u001b[0m\u001b[37m\u001b[0m \u001b[1m0s\u001b[0m 9ms/step - loss: 0.1007 - val_loss: 0.1435\n",
            "Epoch 367/1000\n",
            "\u001b[1m24/24\u001b[0m \u001b[32m━━━━━━━━━━━━━━━━━━━━\u001b[0m\u001b[37m\u001b[0m \u001b[1m0s\u001b[0m 9ms/step - loss: 0.1007 - val_loss: 0.1436\n",
            "Epoch 368/1000\n",
            "\u001b[1m24/24\u001b[0m \u001b[32m━━━━━━━━━━━━━━━━━━━━\u001b[0m\u001b[37m\u001b[0m \u001b[1m0s\u001b[0m 11ms/step - loss: 0.1007 - val_loss: 0.1436\n",
            "Epoch 369/1000\n",
            "\u001b[1m24/24\u001b[0m \u001b[32m━━━━━━━━━━━━━━━━━━━━\u001b[0m\u001b[37m\u001b[0m \u001b[1m0s\u001b[0m 9ms/step - loss: 0.1006 - val_loss: 0.1435\n",
            "Epoch 370/1000\n",
            "\u001b[1m24/24\u001b[0m \u001b[32m━━━━━━━━━━━━━━━━━━━━\u001b[0m\u001b[37m\u001b[0m \u001b[1m0s\u001b[0m 9ms/step - loss: 0.1006 - val_loss: 0.1435\n",
            "Epoch 371/1000\n",
            "\u001b[1m24/24\u001b[0m \u001b[32m━━━━━━━━━━━━━━━━━━━━\u001b[0m\u001b[37m\u001b[0m \u001b[1m0s\u001b[0m 9ms/step - loss: 0.1005 - val_loss: 0.1435\n",
            "Epoch 372/1000\n",
            "\u001b[1m24/24\u001b[0m \u001b[32m━━━━━━━━━━━━━━━━━━━━\u001b[0m\u001b[37m\u001b[0m \u001b[1m0s\u001b[0m 10ms/step - loss: 0.1005 - val_loss: 0.1435\n",
            "Epoch 373/1000\n",
            "\u001b[1m24/24\u001b[0m \u001b[32m━━━━━━━━━━━━━━━━━━━━\u001b[0m\u001b[37m\u001b[0m \u001b[1m0s\u001b[0m 11ms/step - loss: 0.1005 - val_loss: 0.1435\n",
            "Epoch 374/1000\n",
            "\u001b[1m24/24\u001b[0m \u001b[32m━━━━━━━━━━━━━━━━━━━━\u001b[0m\u001b[37m\u001b[0m \u001b[1m0s\u001b[0m 5ms/step - loss: 0.1004 - val_loss: 0.1435\n",
            "Epoch 375/1000\n",
            "\u001b[1m24/24\u001b[0m \u001b[32m━━━━━━━━━━━━━━━━━━━━\u001b[0m\u001b[37m\u001b[0m \u001b[1m0s\u001b[0m 5ms/step - loss: 0.1004 - val_loss: 0.1435\n",
            "Epoch 376/1000\n",
            "\u001b[1m24/24\u001b[0m \u001b[32m━━━━━━━━━━━━━━━━━━━━\u001b[0m\u001b[37m\u001b[0m \u001b[1m0s\u001b[0m 7ms/step - loss: 0.1004 - val_loss: 0.1435\n",
            "Epoch 377/1000\n",
            "\u001b[1m24/24\u001b[0m \u001b[32m━━━━━━━━━━━━━━━━━━━━\u001b[0m\u001b[37m\u001b[0m \u001b[1m0s\u001b[0m 5ms/step - loss: 0.1003 - val_loss: 0.1435\n",
            "Epoch 378/1000\n",
            "\u001b[1m24/24\u001b[0m \u001b[32m━━━━━━━━━━━━━━━━━━━━\u001b[0m\u001b[37m\u001b[0m \u001b[1m0s\u001b[0m 6ms/step - loss: 0.1003 - val_loss: 0.1435\n",
            "Epoch 379/1000\n",
            "\u001b[1m24/24\u001b[0m \u001b[32m━━━━━━━━━━━━━━━━━━━━\u001b[0m\u001b[37m\u001b[0m \u001b[1m0s\u001b[0m 5ms/step - loss: 0.1002 - val_loss: 0.1435\n",
            "Epoch 380/1000\n",
            "\u001b[1m24/24\u001b[0m \u001b[32m━━━━━━━━━━━━━━━━━━━━\u001b[0m\u001b[37m\u001b[0m \u001b[1m0s\u001b[0m 6ms/step - loss: 0.1002 - val_loss: 0.1435\n",
            "Epoch 381/1000\n",
            "\u001b[1m24/24\u001b[0m \u001b[32m━━━━━━━━━━━━━━━━━━━━\u001b[0m\u001b[37m\u001b[0m \u001b[1m0s\u001b[0m 6ms/step - loss: 0.1002 - val_loss: 0.1435\n",
            "Epoch 382/1000\n",
            "\u001b[1m24/24\u001b[0m \u001b[32m━━━━━━━━━━━━━━━━━━━━\u001b[0m\u001b[37m\u001b[0m \u001b[1m0s\u001b[0m 6ms/step - loss: 0.1001 - val_loss: 0.1435\n",
            "Epoch 383/1000\n",
            "\u001b[1m24/24\u001b[0m \u001b[32m━━━━━━━━━━━━━━━━━━━━\u001b[0m\u001b[37m\u001b[0m \u001b[1m0s\u001b[0m 6ms/step - loss: 0.1001 - val_loss: 0.1435\n",
            "Epoch 384/1000\n",
            "\u001b[1m24/24\u001b[0m \u001b[32m━━━━━━━━━━━━━━━━━━━━\u001b[0m\u001b[37m\u001b[0m \u001b[1m0s\u001b[0m 6ms/step - loss: 0.1000 - val_loss: 0.1435\n",
            "Epoch 385/1000\n",
            "\u001b[1m24/24\u001b[0m \u001b[32m━━━━━━━━━━━━━━━━━━━━\u001b[0m\u001b[37m\u001b[0m \u001b[1m0s\u001b[0m 6ms/step - loss: 0.1000 - val_loss: 0.1435\n",
            "Epoch 386/1000\n",
            "\u001b[1m24/24\u001b[0m \u001b[32m━━━━━━━━━━━━━━━━━━━━\u001b[0m\u001b[37m\u001b[0m \u001b[1m0s\u001b[0m 5ms/step - loss: 0.1000 - val_loss: 0.1435\n",
            "Epoch 387/1000\n",
            "\u001b[1m24/24\u001b[0m \u001b[32m━━━━━━━━━━━━━━━━━━━━\u001b[0m\u001b[37m\u001b[0m \u001b[1m0s\u001b[0m 5ms/step - loss: 0.0999 - val_loss: 0.1435\n",
            "Epoch 388/1000\n",
            "\u001b[1m24/24\u001b[0m \u001b[32m━━━━━━━━━━━━━━━━━━━━\u001b[0m\u001b[37m\u001b[0m \u001b[1m0s\u001b[0m 6ms/step - loss: 0.0999 - val_loss: 0.1435\n",
            "Epoch 389/1000\n",
            "\u001b[1m24/24\u001b[0m \u001b[32m━━━━━━━━━━━━━━━━━━━━\u001b[0m\u001b[37m\u001b[0m \u001b[1m0s\u001b[0m 5ms/step - loss: 0.0999 - val_loss: 0.1435\n",
            "Epoch 390/1000\n",
            "\u001b[1m24/24\u001b[0m \u001b[32m━━━━━━━━━━━━━━━━━━━━\u001b[0m\u001b[37m\u001b[0m \u001b[1m0s\u001b[0m 8ms/step - loss: 0.0998 - val_loss: 0.1435\n",
            "Epoch 391/1000\n",
            "\u001b[1m24/24\u001b[0m \u001b[32m━━━━━━━━━━━━━━━━━━━━\u001b[0m\u001b[37m\u001b[0m \u001b[1m0s\u001b[0m 5ms/step - loss: 0.0998 - val_loss: 0.1435\n",
            "Epoch 392/1000\n",
            "\u001b[1m24/24\u001b[0m \u001b[32m━━━━━━━━━━━━━━━━━━━━\u001b[0m\u001b[37m\u001b[0m \u001b[1m0s\u001b[0m 7ms/step - loss: 0.0997 - val_loss: 0.1434\n",
            "Epoch 393/1000\n",
            "\u001b[1m24/24\u001b[0m \u001b[32m━━━━━━━━━━━━━━━━━━━━\u001b[0m\u001b[37m\u001b[0m \u001b[1m0s\u001b[0m 6ms/step - loss: 0.0997 - val_loss: 0.1434\n",
            "Epoch 394/1000\n",
            "\u001b[1m24/24\u001b[0m \u001b[32m━━━━━━━━━━━━━━━━━━━━\u001b[0m\u001b[37m\u001b[0m \u001b[1m0s\u001b[0m 5ms/step - loss: 0.0997 - val_loss: 0.1434\n",
            "Epoch 395/1000\n",
            "\u001b[1m24/24\u001b[0m \u001b[32m━━━━━━━━━━━━━━━━━━━━\u001b[0m\u001b[37m\u001b[0m \u001b[1m0s\u001b[0m 6ms/step - loss: 0.0996 - val_loss: 0.1434\n",
            "Epoch 396/1000\n",
            "\u001b[1m24/24\u001b[0m \u001b[32m━━━━━━━━━━━━━━━━━━━━\u001b[0m\u001b[37m\u001b[0m \u001b[1m0s\u001b[0m 6ms/step - loss: 0.0996 - val_loss: 0.1434\n",
            "Epoch 397/1000\n",
            "\u001b[1m24/24\u001b[0m \u001b[32m━━━━━━━━━━━━━━━━━━━━\u001b[0m\u001b[37m\u001b[0m \u001b[1m0s\u001b[0m 6ms/step - loss: 0.0996 - val_loss: 0.1434\n",
            "Epoch 398/1000\n",
            "\u001b[1m24/24\u001b[0m \u001b[32m━━━━━━━━━━━━━━━━━━━━\u001b[0m\u001b[37m\u001b[0m \u001b[1m0s\u001b[0m 6ms/step - loss: 0.0995 - val_loss: 0.1434\n",
            "Epoch 399/1000\n",
            "\u001b[1m24/24\u001b[0m \u001b[32m━━━━━━━━━━━━━━━━━━━━\u001b[0m\u001b[37m\u001b[0m \u001b[1m0s\u001b[0m 6ms/step - loss: 0.0995 - val_loss: 0.1434\n",
            "Epoch 400/1000\n",
            "\u001b[1m24/24\u001b[0m \u001b[32m━━━━━━━━━━━━━━━━━━━━\u001b[0m\u001b[37m\u001b[0m \u001b[1m0s\u001b[0m 5ms/step - loss: 0.0994 - val_loss: 0.1434\n",
            "Epoch 401/1000\n",
            "\u001b[1m24/24\u001b[0m \u001b[32m━━━━━━━━━━━━━━━━━━━━\u001b[0m\u001b[37m\u001b[0m \u001b[1m0s\u001b[0m 6ms/step - loss: 0.0994 - val_loss: 0.1434\n",
            "Epoch 402/1000\n",
            "\u001b[1m24/24\u001b[0m \u001b[32m━━━━━━━━━━━━━━━━━━━━\u001b[0m\u001b[37m\u001b[0m \u001b[1m0s\u001b[0m 9ms/step - loss: 0.0994 - val_loss: 0.1434\n",
            "Epoch 403/1000\n",
            "\u001b[1m24/24\u001b[0m \u001b[32m━━━━━━━━━━━━━━━━━━━━\u001b[0m\u001b[37m\u001b[0m \u001b[1m0s\u001b[0m 8ms/step - loss: 0.0993 - val_loss: 0.1434\n",
            "Epoch 404/1000\n",
            "\u001b[1m24/24\u001b[0m \u001b[32m━━━━━━━━━━━━━━━━━━━━\u001b[0m\u001b[37m\u001b[0m \u001b[1m0s\u001b[0m 8ms/step - loss: 0.0993 - val_loss: 0.1434\n",
            "Epoch 405/1000\n",
            "\u001b[1m24/24\u001b[0m \u001b[32m━━━━━━━━━━━━━━━━━━━━\u001b[0m\u001b[37m\u001b[0m \u001b[1m0s\u001b[0m 10ms/step - loss: 0.0993 - val_loss: 0.1434\n",
            "Epoch 406/1000\n",
            "\u001b[1m24/24\u001b[0m \u001b[32m━━━━━━━━━━━━━━━━━━━━\u001b[0m\u001b[37m\u001b[0m \u001b[1m0s\u001b[0m 10ms/step - loss: 0.0992 - val_loss: 0.1434\n",
            "Epoch 407/1000\n",
            "\u001b[1m24/24\u001b[0m \u001b[32m━━━━━━━━━━━━━━━━━━━━\u001b[0m\u001b[37m\u001b[0m \u001b[1m0s\u001b[0m 10ms/step - loss: 0.0992 - val_loss: 0.1434\n",
            "Epoch 408/1000\n",
            "\u001b[1m24/24\u001b[0m \u001b[32m━━━━━━━━━━━━━━━━━━━━\u001b[0m\u001b[37m\u001b[0m \u001b[1m0s\u001b[0m 8ms/step - loss: 0.0992 - val_loss: 0.1434\n",
            "Epoch 409/1000\n",
            "\u001b[1m24/24\u001b[0m \u001b[32m━━━━━━━━━━━━━━━━━━━━\u001b[0m\u001b[37m\u001b[0m \u001b[1m0s\u001b[0m 9ms/step - loss: 0.0991 - val_loss: 0.1434\n",
            "Epoch 410/1000\n",
            "\u001b[1m24/24\u001b[0m \u001b[32m━━━━━━━━━━━━━━━━━━━━\u001b[0m\u001b[37m\u001b[0m \u001b[1m0s\u001b[0m 8ms/step - loss: 0.0991 - val_loss: 0.1434\n",
            "Epoch 411/1000\n",
            "\u001b[1m24/24\u001b[0m \u001b[32m━━━━━━━━━━━━━━━━━━━━\u001b[0m\u001b[37m\u001b[0m \u001b[1m0s\u001b[0m 9ms/step - loss: 0.0990 - val_loss: 0.1434\n",
            "Epoch 412/1000\n",
            "\u001b[1m24/24\u001b[0m \u001b[32m━━━━━━━━━━━━━━━━━━━━\u001b[0m\u001b[37m\u001b[0m \u001b[1m0s\u001b[0m 11ms/step - loss: 0.0990 - val_loss: 0.1433\n",
            "Epoch 413/1000\n",
            "\u001b[1m24/24\u001b[0m \u001b[32m━━━━━━━━━━━━━━━━━━━━\u001b[0m\u001b[37m\u001b[0m \u001b[1m1s\u001b[0m 6ms/step - loss: 0.0990 - val_loss: 0.1433\n",
            "Epoch 414/1000\n",
            "\u001b[1m24/24\u001b[0m \u001b[32m━━━━━━━━━━━━━━━━━━━━\u001b[0m\u001b[37m\u001b[0m \u001b[1m0s\u001b[0m 6ms/step - loss: 0.0989 - val_loss: 0.1433\n",
            "Epoch 415/1000\n",
            "\u001b[1m24/24\u001b[0m \u001b[32m━━━━━━━━━━━━━━━━━━━━\u001b[0m\u001b[37m\u001b[0m \u001b[1m0s\u001b[0m 6ms/step - loss: 0.0989 - val_loss: 0.1433\n",
            "Epoch 416/1000\n",
            "\u001b[1m24/24\u001b[0m \u001b[32m━━━━━━━━━━━━━━━━━━━━\u001b[0m\u001b[37m\u001b[0m \u001b[1m0s\u001b[0m 5ms/step - loss: 0.0989 - val_loss: 0.1433\n",
            "Epoch 417/1000\n",
            "\u001b[1m24/24\u001b[0m \u001b[32m━━━━━━━━━━━━━━━━━━━━\u001b[0m\u001b[37m\u001b[0m \u001b[1m0s\u001b[0m 5ms/step - loss: 0.0988 - val_loss: 0.1433\n",
            "Epoch 418/1000\n",
            "\u001b[1m24/24\u001b[0m \u001b[32m━━━━━━━━━━━━━━━━━━━━\u001b[0m\u001b[37m\u001b[0m \u001b[1m0s\u001b[0m 5ms/step - loss: 0.0988 - val_loss: 0.1433\n",
            "Epoch 419/1000\n",
            "\u001b[1m24/24\u001b[0m \u001b[32m━━━━━━━━━━━━━━━━━━━━\u001b[0m\u001b[37m\u001b[0m \u001b[1m0s\u001b[0m 5ms/step - loss: 0.0988 - val_loss: 0.1433\n",
            "Epoch 420/1000\n",
            "\u001b[1m24/24\u001b[0m \u001b[32m━━━━━━━━━━━━━━━━━━━━\u001b[0m\u001b[37m\u001b[0m \u001b[1m0s\u001b[0m 6ms/step - loss: 0.0987 - val_loss: 0.1433\n",
            "Epoch 421/1000\n",
            "\u001b[1m24/24\u001b[0m \u001b[32m━━━━━━━━━━━━━━━━━━━━\u001b[0m\u001b[37m\u001b[0m \u001b[1m0s\u001b[0m 5ms/step - loss: 0.0987 - val_loss: 0.1433\n",
            "Epoch 422/1000\n",
            "\u001b[1m24/24\u001b[0m \u001b[32m━━━━━━━━━━━━━━━━━━━━\u001b[0m\u001b[37m\u001b[0m \u001b[1m0s\u001b[0m 6ms/step - loss: 0.0987 - val_loss: 0.1433\n",
            "Epoch 423/1000\n",
            "\u001b[1m24/24\u001b[0m \u001b[32m━━━━━━━━━━━━━━━━━━━━\u001b[0m\u001b[37m\u001b[0m \u001b[1m0s\u001b[0m 5ms/step - loss: 0.0986 - val_loss: 0.1433\n",
            "Epoch 424/1000\n",
            "\u001b[1m24/24\u001b[0m \u001b[32m━━━━━━━━━━━━━━━━━━━━\u001b[0m\u001b[37m\u001b[0m \u001b[1m0s\u001b[0m 5ms/step - loss: 0.0986 - val_loss: 0.1433\n",
            "Epoch 425/1000\n",
            "\u001b[1m24/24\u001b[0m \u001b[32m━━━━━━━━━━━━━━━━━━━━\u001b[0m\u001b[37m\u001b[0m \u001b[1m0s\u001b[0m 6ms/step - loss: 0.0985 - val_loss: 0.1433\n",
            "Epoch 426/1000\n",
            "\u001b[1m24/24\u001b[0m \u001b[32m━━━━━━━━━━━━━━━━━━━━\u001b[0m\u001b[37m\u001b[0m \u001b[1m0s\u001b[0m 7ms/step - loss: 0.0985 - val_loss: 0.1433\n",
            "Epoch 427/1000\n",
            "\u001b[1m24/24\u001b[0m \u001b[32m━━━━━━━━━━━━━━━━━━━━\u001b[0m\u001b[37m\u001b[0m \u001b[1m0s\u001b[0m 6ms/step - loss: 0.0985 - val_loss: 0.1433\n",
            "Epoch 428/1000\n",
            "\u001b[1m24/24\u001b[0m \u001b[32m━━━━━━━━━━━━━━━━━━━━\u001b[0m\u001b[37m\u001b[0m \u001b[1m0s\u001b[0m 5ms/step - loss: 0.0984 - val_loss: 0.1432\n",
            "Epoch 429/1000\n",
            "\u001b[1m24/24\u001b[0m \u001b[32m━━━━━━━━━━━━━━━━━━━━\u001b[0m\u001b[37m\u001b[0m \u001b[1m0s\u001b[0m 6ms/step - loss: 0.0984 - val_loss: 0.1432\n",
            "Epoch 430/1000\n",
            "\u001b[1m24/24\u001b[0m \u001b[32m━━━━━━━━━━━━━━━━━━━━\u001b[0m\u001b[37m\u001b[0m \u001b[1m0s\u001b[0m 6ms/step - loss: 0.0984 - val_loss: 0.1432\n",
            "Epoch 431/1000\n",
            "\u001b[1m24/24\u001b[0m \u001b[32m━━━━━━━━━━━━━━━━━━━━\u001b[0m\u001b[37m\u001b[0m \u001b[1m0s\u001b[0m 5ms/step - loss: 0.0983 - val_loss: 0.1433\n",
            "Epoch 432/1000\n",
            "\u001b[1m24/24\u001b[0m \u001b[32m━━━━━━━━━━━━━━━━━━━━\u001b[0m\u001b[37m\u001b[0m \u001b[1m0s\u001b[0m 6ms/step - loss: 0.0983 - val_loss: 0.1433\n",
            "Epoch 433/1000\n",
            "\u001b[1m24/24\u001b[0m \u001b[32m━━━━━━━━━━━━━━━━━━━━\u001b[0m\u001b[37m\u001b[0m \u001b[1m0s\u001b[0m 6ms/step - loss: 0.0983 - val_loss: 0.1432\n",
            "Epoch 434/1000\n",
            "\u001b[1m24/24\u001b[0m \u001b[32m━━━━━━━━━━━━━━━━━━━━\u001b[0m\u001b[37m\u001b[0m \u001b[1m0s\u001b[0m 6ms/step - loss: 0.0982 - val_loss: 0.1433\n",
            "Epoch 435/1000\n",
            "\u001b[1m24/24\u001b[0m \u001b[32m━━━━━━━━━━━━━━━━━━━━\u001b[0m\u001b[37m\u001b[0m \u001b[1m0s\u001b[0m 5ms/step - loss: 0.0982 - val_loss: 0.1432\n",
            "Epoch 436/1000\n",
            "\u001b[1m24/24\u001b[0m \u001b[32m━━━━━━━━━━━━━━━━━━━━\u001b[0m\u001b[37m\u001b[0m \u001b[1m0s\u001b[0m 6ms/step - loss: 0.0982 - val_loss: 0.1432\n",
            "Epoch 437/1000\n",
            "\u001b[1m24/24\u001b[0m \u001b[32m━━━━━━━━━━━━━━━━━━━━\u001b[0m\u001b[37m\u001b[0m \u001b[1m0s\u001b[0m 5ms/step - loss: 0.0981 - val_loss: 0.1432\n",
            "Epoch 438/1000\n",
            "\u001b[1m24/24\u001b[0m \u001b[32m━━━━━━━━━━━━━━━━━━━━\u001b[0m\u001b[37m\u001b[0m \u001b[1m0s\u001b[0m 5ms/step - loss: 0.0981 - val_loss: 0.1432\n",
            "Epoch 439/1000\n",
            "\u001b[1m24/24\u001b[0m \u001b[32m━━━━━━━━━━━━━━━━━━━━\u001b[0m\u001b[37m\u001b[0m \u001b[1m0s\u001b[0m 5ms/step - loss: 0.0981 - val_loss: 0.1432\n",
            "Epoch 440/1000\n",
            "\u001b[1m24/24\u001b[0m \u001b[32m━━━━━━━━━━━━━━━━━━━━\u001b[0m\u001b[37m\u001b[0m \u001b[1m0s\u001b[0m 14ms/step - loss: 0.0980 - val_loss: 0.1432\n",
            "Epoch 441/1000\n",
            "\u001b[1m24/24\u001b[0m \u001b[32m━━━━━━━━━━━━━━━━━━━━\u001b[0m\u001b[37m\u001b[0m \u001b[1m1s\u001b[0m 18ms/step - loss: 0.0980 - val_loss: 0.1432\n",
            "Epoch 442/1000\n",
            "\u001b[1m24/24\u001b[0m \u001b[32m━━━━━━━━━━━━━━━━━━━━\u001b[0m\u001b[37m\u001b[0m \u001b[1m0s\u001b[0m 14ms/step - loss: 0.0980 - val_loss: 0.1432\n",
            "Epoch 443/1000\n",
            "\u001b[1m24/24\u001b[0m \u001b[32m━━━━━━━━━━━━━━━━━━━━\u001b[0m\u001b[37m\u001b[0m \u001b[1m0s\u001b[0m 5ms/step - loss: 0.0979 - val_loss: 0.1432\n",
            "Epoch 444/1000\n",
            "\u001b[1m24/24\u001b[0m \u001b[32m━━━━━━━━━━━━━━━━━━━━\u001b[0m\u001b[37m\u001b[0m \u001b[1m1s\u001b[0m 22ms/step - loss: 0.0979 - val_loss: 0.1432\n",
            "Epoch 445/1000\n",
            "\u001b[1m24/24\u001b[0m \u001b[32m━━━━━━━━━━━━━━━━━━━━\u001b[0m\u001b[37m\u001b[0m \u001b[1m0s\u001b[0m 10ms/step - loss: 0.0979 - val_loss: 0.1432\n",
            "Epoch 446/1000\n",
            "\u001b[1m24/24\u001b[0m \u001b[32m━━━━━━━━━━━━━━━━━━━━\u001b[0m\u001b[37m\u001b[0m \u001b[1m0s\u001b[0m 7ms/step - loss: 0.0978 - val_loss: 0.1432\n",
            "Epoch 447/1000\n",
            "\u001b[1m24/24\u001b[0m \u001b[32m━━━━━━━━━━━━━━━━━━━━\u001b[0m\u001b[37m\u001b[0m \u001b[1m0s\u001b[0m 6ms/step - loss: 0.0978 - val_loss: 0.1432\n",
            "Epoch 448/1000\n",
            "\u001b[1m24/24\u001b[0m \u001b[32m━━━━━━━━━━━━━━━━━━━━\u001b[0m\u001b[37m\u001b[0m \u001b[1m1s\u001b[0m 18ms/step - loss: 0.0978 - val_loss: 0.1432\n",
            "Epoch 449/1000\n",
            "\u001b[1m24/24\u001b[0m \u001b[32m━━━━━━━━━━━━━━━━━━━━\u001b[0m\u001b[37m\u001b[0m \u001b[1m0s\u001b[0m 11ms/step - loss: 0.0977 - val_loss: 0.1432\n",
            "Epoch 450/1000\n",
            "\u001b[1m24/24\u001b[0m \u001b[32m━━━━━━━━━━━━━━━━━━━━\u001b[0m\u001b[37m\u001b[0m \u001b[1m1s\u001b[0m 8ms/step - loss: 0.0977 - val_loss: 0.1432\n",
            "Epoch 451/1000\n",
            "\u001b[1m24/24\u001b[0m \u001b[32m━━━━━━━━━━━━━━━━━━━━\u001b[0m\u001b[37m\u001b[0m \u001b[1m0s\u001b[0m 8ms/step - loss: 0.0977 - val_loss: 0.1432\n",
            "Epoch 452/1000\n",
            "\u001b[1m24/24\u001b[0m \u001b[32m━━━━━━━━━━━━━━━━━━━━\u001b[0m\u001b[37m\u001b[0m \u001b[1m0s\u001b[0m 8ms/step - loss: 0.0976 - val_loss: 0.1432\n",
            "Epoch 453/1000\n",
            "\u001b[1m24/24\u001b[0m \u001b[32m━━━━━━━━━━━━━━━━━━━━\u001b[0m\u001b[37m\u001b[0m \u001b[1m0s\u001b[0m 8ms/step - loss: 0.0976 - val_loss: 0.1432\n",
            "Epoch 454/1000\n",
            "\u001b[1m24/24\u001b[0m \u001b[32m━━━━━━━━━━━━━━━━━━━━\u001b[0m\u001b[37m\u001b[0m \u001b[1m0s\u001b[0m 8ms/step - loss: 0.0975 - val_loss: 0.1432\n",
            "Epoch 455/1000\n",
            "\u001b[1m24/24\u001b[0m \u001b[32m━━━━━━━━━━━━━━━━━━━━\u001b[0m\u001b[37m\u001b[0m \u001b[1m0s\u001b[0m 9ms/step - loss: 0.0975 - val_loss: 0.1432\n",
            "Epoch 456/1000\n",
            "\u001b[1m24/24\u001b[0m \u001b[32m━━━━━━━━━━━━━━━━━━━━\u001b[0m\u001b[37m\u001b[0m \u001b[1m0s\u001b[0m 8ms/step - loss: 0.0975 - val_loss: 0.1431\n",
            "Epoch 457/1000\n",
            "\u001b[1m24/24\u001b[0m \u001b[32m━━━━━━━━━━━━━━━━━━━━\u001b[0m\u001b[37m\u001b[0m \u001b[1m0s\u001b[0m 8ms/step - loss: 0.0975 - val_loss: 0.1431\n",
            "Epoch 458/1000\n",
            "\u001b[1m24/24\u001b[0m \u001b[32m━━━━━━━━━━━━━━━━━━━━\u001b[0m\u001b[37m\u001b[0m \u001b[1m0s\u001b[0m 6ms/step - loss: 0.0974 - val_loss: 0.1431\n",
            "Epoch 459/1000\n",
            "\u001b[1m24/24\u001b[0m \u001b[32m━━━━━━━━━━━━━━━━━━━━\u001b[0m\u001b[37m\u001b[0m \u001b[1m0s\u001b[0m 5ms/step - loss: 0.0974 - val_loss: 0.1431\n",
            "Epoch 460/1000\n",
            "\u001b[1m24/24\u001b[0m \u001b[32m━━━━━━━━━━━━━━━━━━━━\u001b[0m\u001b[37m\u001b[0m \u001b[1m0s\u001b[0m 5ms/step - loss: 0.0974 - val_loss: 0.1431\n",
            "Epoch 461/1000\n",
            "\u001b[1m24/24\u001b[0m \u001b[32m━━━━━━━━━━━━━━━━━━━━\u001b[0m\u001b[37m\u001b[0m \u001b[1m0s\u001b[0m 5ms/step - loss: 0.0973 - val_loss: 0.1431\n",
            "Epoch 462/1000\n",
            "\u001b[1m24/24\u001b[0m \u001b[32m━━━━━━━━━━━━━━━━━━━━\u001b[0m\u001b[37m\u001b[0m \u001b[1m0s\u001b[0m 5ms/step - loss: 0.0973 - val_loss: 0.1431\n",
            "Epoch 463/1000\n",
            "\u001b[1m24/24\u001b[0m \u001b[32m━━━━━━━━━━━━━━━━━━━━\u001b[0m\u001b[37m\u001b[0m \u001b[1m0s\u001b[0m 5ms/step - loss: 0.0973 - val_loss: 0.1432\n",
            "Epoch 464/1000\n",
            "\u001b[1m24/24\u001b[0m \u001b[32m━━━━━━━━━━━━━━━━━━━━\u001b[0m\u001b[37m\u001b[0m \u001b[1m0s\u001b[0m 5ms/step - loss: 0.0972 - val_loss: 0.1432\n",
            "Epoch 465/1000\n",
            "\u001b[1m24/24\u001b[0m \u001b[32m━━━━━━━━━━━━━━━━━━━━\u001b[0m\u001b[37m\u001b[0m \u001b[1m0s\u001b[0m 5ms/step - loss: 0.0972 - val_loss: 0.1431\n",
            "Epoch 466/1000\n",
            "\u001b[1m24/24\u001b[0m \u001b[32m━━━━━━━━━━━━━━━━━━━━\u001b[0m\u001b[37m\u001b[0m \u001b[1m0s\u001b[0m 6ms/step - loss: 0.0972 - val_loss: 0.1431\n",
            "Epoch 467/1000\n",
            "\u001b[1m24/24\u001b[0m \u001b[32m━━━━━━━━━━━━━━━━━━━━\u001b[0m\u001b[37m\u001b[0m \u001b[1m0s\u001b[0m 5ms/step - loss: 0.0971 - val_loss: 0.1431\n",
            "Epoch 468/1000\n",
            "\u001b[1m24/24\u001b[0m \u001b[32m━━━━━━━━━━━━━━━━━━━━\u001b[0m\u001b[37m\u001b[0m \u001b[1m0s\u001b[0m 5ms/step - loss: 0.0971 - val_loss: 0.1431\n",
            "Epoch 469/1000\n",
            "\u001b[1m24/24\u001b[0m \u001b[32m━━━━━━━━━━━━━━━━━━━━\u001b[0m\u001b[37m\u001b[0m \u001b[1m0s\u001b[0m 5ms/step - loss: 0.0971 - val_loss: 0.1431\n",
            "Epoch 470/1000\n",
            "\u001b[1m24/24\u001b[0m \u001b[32m━━━━━━━━━━━━━━━━━━━━\u001b[0m\u001b[37m\u001b[0m \u001b[1m0s\u001b[0m 5ms/step - loss: 0.0970 - val_loss: 0.1431\n",
            "Epoch 471/1000\n",
            "\u001b[1m24/24\u001b[0m \u001b[32m━━━━━━━━━━━━━━━━━━━━\u001b[0m\u001b[37m\u001b[0m \u001b[1m0s\u001b[0m 6ms/step - loss: 0.0970 - val_loss: 0.1431\n",
            "Epoch 472/1000\n",
            "\u001b[1m24/24\u001b[0m \u001b[32m━━━━━━━━━━━━━━━━━━━━\u001b[0m\u001b[37m\u001b[0m \u001b[1m0s\u001b[0m 6ms/step - loss: 0.0970 - val_loss: 0.1431\n",
            "Epoch 473/1000\n",
            "\u001b[1m24/24\u001b[0m \u001b[32m━━━━━━━━━━━━━━━━━━━━\u001b[0m\u001b[37m\u001b[0m \u001b[1m0s\u001b[0m 5ms/step - loss: 0.0969 - val_loss: 0.1431\n",
            "Epoch 474/1000\n",
            "\u001b[1m24/24\u001b[0m \u001b[32m━━━━━━━━━━━━━━━━━━━━\u001b[0m\u001b[37m\u001b[0m \u001b[1m0s\u001b[0m 6ms/step - loss: 0.0969 - val_loss: 0.1431\n",
            "Epoch 475/1000\n",
            "\u001b[1m24/24\u001b[0m \u001b[32m━━━━━━━━━━━━━━━━━━━━\u001b[0m\u001b[37m\u001b[0m \u001b[1m0s\u001b[0m 5ms/step - loss: 0.0969 - val_loss: 0.1431\n",
            "Epoch 476/1000\n",
            "\u001b[1m24/24\u001b[0m \u001b[32m━━━━━━━━━━━━━━━━━━━━\u001b[0m\u001b[37m\u001b[0m \u001b[1m0s\u001b[0m 6ms/step - loss: 0.0968 - val_loss: 0.1431\n",
            "Epoch 477/1000\n",
            "\u001b[1m24/24\u001b[0m \u001b[32m━━━━━━━━━━━━━━━━━━━━\u001b[0m\u001b[37m\u001b[0m \u001b[1m0s\u001b[0m 6ms/step - loss: 0.0968 - val_loss: 0.1431\n",
            "Epoch 478/1000\n",
            "\u001b[1m24/24\u001b[0m \u001b[32m━━━━━━━━━━━━━━━━━━━━\u001b[0m\u001b[37m\u001b[0m \u001b[1m0s\u001b[0m 5ms/step - loss: 0.0968 - val_loss: 0.1431\n",
            "Epoch 479/1000\n",
            "\u001b[1m24/24\u001b[0m \u001b[32m━━━━━━━━━━━━━━━━━━━━\u001b[0m\u001b[37m\u001b[0m \u001b[1m0s\u001b[0m 5ms/step - loss: 0.0967 - val_loss: 0.1431\n",
            "Epoch 480/1000\n",
            "\u001b[1m24/24\u001b[0m \u001b[32m━━━━━━━━━━━━━━━━━━━━\u001b[0m\u001b[37m\u001b[0m \u001b[1m0s\u001b[0m 5ms/step - loss: 0.0967 - val_loss: 0.1430\n",
            "Epoch 481/1000\n",
            "\u001b[1m24/24\u001b[0m \u001b[32m━━━━━━━━━━━━━━━━━━━━\u001b[0m\u001b[37m\u001b[0m \u001b[1m0s\u001b[0m 5ms/step - loss: 0.0967 - val_loss: 0.1431\n",
            "Epoch 482/1000\n",
            "\u001b[1m24/24\u001b[0m \u001b[32m━━━━━━━━━━━━━━━━━━━━\u001b[0m\u001b[37m\u001b[0m \u001b[1m0s\u001b[0m 5ms/step - loss: 0.0967 - val_loss: 0.1431\n",
            "Epoch 483/1000\n",
            "\u001b[1m24/24\u001b[0m \u001b[32m━━━━━━━━━━━━━━━━━━━━\u001b[0m\u001b[37m\u001b[0m \u001b[1m0s\u001b[0m 5ms/step - loss: 0.0966 - val_loss: 0.1431\n",
            "Epoch 484/1000\n",
            "\u001b[1m24/24\u001b[0m \u001b[32m━━━━━━━━━━━━━━━━━━━━\u001b[0m\u001b[37m\u001b[0m \u001b[1m0s\u001b[0m 5ms/step - loss: 0.0966 - val_loss: 0.1431\n",
            "Epoch 485/1000\n",
            "\u001b[1m24/24\u001b[0m \u001b[32m━━━━━━━━━━━━━━━━━━━━\u001b[0m\u001b[37m\u001b[0m \u001b[1m0s\u001b[0m 5ms/step - loss: 0.0966 - val_loss: 0.1431\n",
            "Epoch 486/1000\n",
            "\u001b[1m24/24\u001b[0m \u001b[32m━━━━━━━━━━━━━━━━━━━━\u001b[0m\u001b[37m\u001b[0m \u001b[1m0s\u001b[0m 5ms/step - loss: 0.0965 - val_loss: 0.1431\n",
            "Epoch 487/1000\n",
            "\u001b[1m24/24\u001b[0m \u001b[32m━━━━━━━━━━━━━━━━━━━━\u001b[0m\u001b[37m\u001b[0m \u001b[1m0s\u001b[0m 5ms/step - loss: 0.0965 - val_loss: 0.1430\n",
            "Epoch 488/1000\n",
            "\u001b[1m24/24\u001b[0m \u001b[32m━━━━━━━━━━━━━━━━━━━━\u001b[0m\u001b[37m\u001b[0m \u001b[1m0s\u001b[0m 6ms/step - loss: 0.0965 - val_loss: 0.1430\n",
            "Epoch 489/1000\n",
            "\u001b[1m24/24\u001b[0m \u001b[32m━━━━━━━━━━━━━━━━━━━━\u001b[0m\u001b[37m\u001b[0m \u001b[1m0s\u001b[0m 6ms/step - loss: 0.0964 - val_loss: 0.1430\n",
            "Epoch 490/1000\n",
            "\u001b[1m24/24\u001b[0m \u001b[32m━━━━━━━━━━━━━━━━━━━━\u001b[0m\u001b[37m\u001b[0m \u001b[1m0s\u001b[0m 5ms/step - loss: 0.0964 - val_loss: 0.1430\n",
            "Epoch 491/1000\n",
            "\u001b[1m24/24\u001b[0m \u001b[32m━━━━━━━━━━━━━━━━━━━━\u001b[0m\u001b[37m\u001b[0m \u001b[1m0s\u001b[0m 5ms/step - loss: 0.0964 - val_loss: 0.1430\n",
            "Epoch 492/1000\n",
            "\u001b[1m24/24\u001b[0m \u001b[32m━━━━━━━━━━━━━━━━━━━━\u001b[0m\u001b[37m\u001b[0m \u001b[1m0s\u001b[0m 5ms/step - loss: 0.0963 - val_loss: 0.1430\n",
            "Epoch 493/1000\n",
            "\u001b[1m24/24\u001b[0m \u001b[32m━━━━━━━━━━━━━━━━━━━━\u001b[0m\u001b[37m\u001b[0m \u001b[1m0s\u001b[0m 5ms/step - loss: 0.0963 - val_loss: 0.1430\n",
            "Epoch 494/1000\n",
            "\u001b[1m24/24\u001b[0m \u001b[32m━━━━━━━━━━━━━━━━━━━━\u001b[0m\u001b[37m\u001b[0m \u001b[1m0s\u001b[0m 5ms/step - loss: 0.0963 - val_loss: 0.1430\n",
            "Epoch 495/1000\n",
            "\u001b[1m24/24\u001b[0m \u001b[32m━━━━━━━━━━━━━━━━━━━━\u001b[0m\u001b[37m\u001b[0m \u001b[1m0s\u001b[0m 5ms/step - loss: 0.0963 - val_loss: 0.1430\n",
            "Epoch 496/1000\n",
            "\u001b[1m24/24\u001b[0m \u001b[32m━━━━━━━━━━━━━━━━━━━━\u001b[0m\u001b[37m\u001b[0m \u001b[1m0s\u001b[0m 6ms/step - loss: 0.0962 - val_loss: 0.1430\n",
            "Epoch 497/1000\n",
            "\u001b[1m24/24\u001b[0m \u001b[32m━━━━━━━━━━━━━━━━━━━━\u001b[0m\u001b[37m\u001b[0m \u001b[1m0s\u001b[0m 5ms/step - loss: 0.0962 - val_loss: 0.1430\n",
            "Epoch 498/1000\n",
            "\u001b[1m24/24\u001b[0m \u001b[32m━━━━━━━━━━━━━━━━━━━━\u001b[0m\u001b[37m\u001b[0m \u001b[1m0s\u001b[0m 6ms/step - loss: 0.0962 - val_loss: 0.1430\n",
            "Epoch 499/1000\n",
            "\u001b[1m24/24\u001b[0m \u001b[32m━━━━━━━━━━━━━━━━━━━━\u001b[0m\u001b[37m\u001b[0m \u001b[1m0s\u001b[0m 5ms/step - loss: 0.0961 - val_loss: 0.1430\n",
            "Epoch 500/1000\n",
            "\u001b[1m24/24\u001b[0m \u001b[32m━━━━━━━━━━━━━━━━━━━━\u001b[0m\u001b[37m\u001b[0m \u001b[1m0s\u001b[0m 5ms/step - loss: 0.0961 - val_loss: 0.1430\n",
            "Epoch 501/1000\n",
            "\u001b[1m24/24\u001b[0m \u001b[32m━━━━━━━━━━━━━━━━━━━━\u001b[0m\u001b[37m\u001b[0m \u001b[1m0s\u001b[0m 5ms/step - loss: 0.0961 - val_loss: 0.1430\n",
            "Epoch 502/1000\n",
            "\u001b[1m24/24\u001b[0m \u001b[32m━━━━━━━━━━━━━━━━━━━━\u001b[0m\u001b[37m\u001b[0m \u001b[1m0s\u001b[0m 11ms/step - loss: 0.0960 - val_loss: 0.1430\n",
            "Epoch 503/1000\n",
            "\u001b[1m24/24\u001b[0m \u001b[32m━━━━━━━━━━━━━━━━━━━━\u001b[0m\u001b[37m\u001b[0m \u001b[1m0s\u001b[0m 8ms/step - loss: 0.0960 - val_loss: 0.1430\n",
            "Epoch 504/1000\n",
            "\u001b[1m24/24\u001b[0m \u001b[32m━━━━━━━━━━━━━━━━━━━━\u001b[0m\u001b[37m\u001b[0m \u001b[1m0s\u001b[0m 9ms/step - loss: 0.0960 - val_loss: 0.1430\n",
            "Epoch 505/1000\n",
            "\u001b[1m24/24\u001b[0m \u001b[32m━━━━━━━━━━━━━━━━━━━━\u001b[0m\u001b[37m\u001b[0m \u001b[1m0s\u001b[0m 8ms/step - loss: 0.0960 - val_loss: 0.1430\n",
            "Epoch 506/1000\n",
            "\u001b[1m24/24\u001b[0m \u001b[32m━━━━━━━━━━━━━━━━━━━━\u001b[0m\u001b[37m\u001b[0m \u001b[1m0s\u001b[0m 8ms/step - loss: 0.0959 - val_loss: 0.1430\n",
            "Epoch 507/1000\n",
            "\u001b[1m24/24\u001b[0m \u001b[32m━━━━━━━━━━━━━━━━━━━━\u001b[0m\u001b[37m\u001b[0m \u001b[1m0s\u001b[0m 8ms/step - loss: 0.0959 - val_loss: 0.1430\n",
            "Epoch 508/1000\n",
            "\u001b[1m24/24\u001b[0m \u001b[32m━━━━━━━━━━━━━━━━━━━━\u001b[0m\u001b[37m\u001b[0m \u001b[1m0s\u001b[0m 8ms/step - loss: 0.0959 - val_loss: 0.1430\n",
            "Epoch 509/1000\n",
            "\u001b[1m24/24\u001b[0m \u001b[32m━━━━━━━━━━━━━━━━━━━━\u001b[0m\u001b[37m\u001b[0m \u001b[1m0s\u001b[0m 8ms/step - loss: 0.0958 - val_loss: 0.1430\n",
            "Epoch 510/1000\n",
            "\u001b[1m24/24\u001b[0m \u001b[32m━━━━━━━━━━━━━━━━━━━━\u001b[0m\u001b[37m\u001b[0m \u001b[1m0s\u001b[0m 8ms/step - loss: 0.0958 - val_loss: 0.1430\n",
            "Epoch 511/1000\n",
            "\u001b[1m24/24\u001b[0m \u001b[32m━━━━━━━━━━━━━━━━━━━━\u001b[0m\u001b[37m\u001b[0m \u001b[1m0s\u001b[0m 9ms/step - loss: 0.0958 - val_loss: 0.1430\n",
            "Epoch 512/1000\n",
            "\u001b[1m24/24\u001b[0m \u001b[32m━━━━━━━━━━━━━━━━━━━━\u001b[0m\u001b[37m\u001b[0m \u001b[1m0s\u001b[0m 11ms/step - loss: 0.0957 - val_loss: 0.1430\n",
            "Epoch 513/1000\n",
            "\u001b[1m24/24\u001b[0m \u001b[32m━━━━━━━━━━━━━━━━━━━━\u001b[0m\u001b[37m\u001b[0m \u001b[1m0s\u001b[0m 11ms/step - loss: 0.0957 - val_loss: 0.1430\n",
            "Epoch 514/1000\n",
            "\u001b[1m24/24\u001b[0m \u001b[32m━━━━━━━━━━━━━━━━━━━━\u001b[0m\u001b[37m\u001b[0m \u001b[1m0s\u001b[0m 9ms/step - loss: 0.0957 - val_loss: 0.1430\n",
            "Epoch 515/1000\n",
            "\u001b[1m24/24\u001b[0m \u001b[32m━━━━━━━━━━━━━━━━━━━━\u001b[0m\u001b[37m\u001b[0m \u001b[1m0s\u001b[0m 5ms/step - loss: 0.0956 - val_loss: 0.1430\n",
            "Epoch 516/1000\n",
            "\u001b[1m24/24\u001b[0m \u001b[32m━━━━━━━━━━━━━━━━━━━━\u001b[0m\u001b[37m\u001b[0m \u001b[1m0s\u001b[0m 6ms/step - loss: 0.0956 - val_loss: 0.1430\n",
            "Epoch 517/1000\n",
            "\u001b[1m24/24\u001b[0m \u001b[32m━━━━━━━━━━━━━━━━━━━━\u001b[0m\u001b[37m\u001b[0m \u001b[1m0s\u001b[0m 5ms/step - loss: 0.0956 - val_loss: 0.1430\n",
            "Epoch 518/1000\n",
            "\u001b[1m24/24\u001b[0m \u001b[32m━━━━━━━━━━━━━━━━━━━━\u001b[0m\u001b[37m\u001b[0m \u001b[1m0s\u001b[0m 6ms/step - loss: 0.0956 - val_loss: 0.1430\n",
            "Epoch 519/1000\n",
            "\u001b[1m24/24\u001b[0m \u001b[32m━━━━━━━━━━━━━━━━━━━━\u001b[0m\u001b[37m\u001b[0m \u001b[1m0s\u001b[0m 5ms/step - loss: 0.0955 - val_loss: 0.1430\n",
            "Epoch 520/1000\n",
            "\u001b[1m24/24\u001b[0m \u001b[32m━━━━━━━━━━━━━━━━━━━━\u001b[0m\u001b[37m\u001b[0m \u001b[1m0s\u001b[0m 5ms/step - loss: 0.0955 - val_loss: 0.1430\n",
            "Epoch 521/1000\n",
            "\u001b[1m24/24\u001b[0m \u001b[32m━━━━━━━━━━━━━━━━━━━━\u001b[0m\u001b[37m\u001b[0m \u001b[1m0s\u001b[0m 6ms/step - loss: 0.0955 - val_loss: 0.1430\n",
            "Epoch 522/1000\n",
            "\u001b[1m24/24\u001b[0m \u001b[32m━━━━━━━━━━━━━━━━━━━━\u001b[0m\u001b[37m\u001b[0m \u001b[1m0s\u001b[0m 6ms/step - loss: 0.0954 - val_loss: 0.1430\n",
            "Epoch 523/1000\n",
            "\u001b[1m24/24\u001b[0m \u001b[32m━━━━━━━━━━━━━━━━━━━━\u001b[0m\u001b[37m\u001b[0m \u001b[1m0s\u001b[0m 5ms/step - loss: 0.0954 - val_loss: 0.1430\n",
            "Epoch 524/1000\n",
            "\u001b[1m24/24\u001b[0m \u001b[32m━━━━━━━━━━━━━━━━━━━━\u001b[0m\u001b[37m\u001b[0m \u001b[1m0s\u001b[0m 5ms/step - loss: 0.0954 - val_loss: 0.1430\n",
            "Epoch 525/1000\n",
            "\u001b[1m24/24\u001b[0m \u001b[32m━━━━━━━━━━━━━━━━━━━━\u001b[0m\u001b[37m\u001b[0m \u001b[1m0s\u001b[0m 5ms/step - loss: 0.0954 - val_loss: 0.1430\n",
            "Epoch 526/1000\n",
            "\u001b[1m24/24\u001b[0m \u001b[32m━━━━━━━━━━━━━━━━━━━━\u001b[0m\u001b[37m\u001b[0m \u001b[1m0s\u001b[0m 5ms/step - loss: 0.0953 - val_loss: 0.1429\n",
            "Epoch 527/1000\n",
            "\u001b[1m24/24\u001b[0m \u001b[32m━━━━━━━━━━━━━━━━━━━━\u001b[0m\u001b[37m\u001b[0m \u001b[1m0s\u001b[0m 7ms/step - loss: 0.0953 - val_loss: 0.1429\n",
            "Epoch 528/1000\n",
            "\u001b[1m24/24\u001b[0m \u001b[32m━━━━━━━━━━━━━━━━━━━━\u001b[0m\u001b[37m\u001b[0m \u001b[1m0s\u001b[0m 5ms/step - loss: 0.0953 - val_loss: 0.1430\n",
            "Epoch 529/1000\n",
            "\u001b[1m24/24\u001b[0m \u001b[32m━━━━━━━━━━━━━━━━━━━━\u001b[0m\u001b[37m\u001b[0m \u001b[1m0s\u001b[0m 5ms/step - loss: 0.0952 - val_loss: 0.1430\n",
            "Epoch 530/1000\n",
            "\u001b[1m24/24\u001b[0m \u001b[32m━━━━━━━━━━━━━━━━━━━━\u001b[0m\u001b[37m\u001b[0m \u001b[1m0s\u001b[0m 5ms/step - loss: 0.0952 - val_loss: 0.1430\n",
            "Epoch 531/1000\n",
            "\u001b[1m24/24\u001b[0m \u001b[32m━━━━━━━━━━━━━━━━━━━━\u001b[0m\u001b[37m\u001b[0m \u001b[1m0s\u001b[0m 5ms/step - loss: 0.0952 - val_loss: 0.1430\n",
            "Epoch 532/1000\n",
            "\u001b[1m24/24\u001b[0m \u001b[32m━━━━━━━━━━━━━━━━━━━━\u001b[0m\u001b[37m\u001b[0m \u001b[1m0s\u001b[0m 7ms/step - loss: 0.0952 - val_loss: 0.1430\n",
            "Epoch 533/1000\n",
            "\u001b[1m24/24\u001b[0m \u001b[32m━━━━━━━━━━━━━━━━━━━━\u001b[0m\u001b[37m\u001b[0m \u001b[1m0s\u001b[0m 6ms/step - loss: 0.0951 - val_loss: 0.1429\n",
            "Epoch 534/1000\n",
            "\u001b[1m24/24\u001b[0m \u001b[32m━━━━━━━━━━━━━━━━━━━━\u001b[0m\u001b[37m\u001b[0m \u001b[1m0s\u001b[0m 5ms/step - loss: 0.0951 - val_loss: 0.1429\n",
            "Epoch 535/1000\n",
            "\u001b[1m24/24\u001b[0m \u001b[32m━━━━━━━━━━━━━━━━━━━━\u001b[0m\u001b[37m\u001b[0m \u001b[1m0s\u001b[0m 5ms/step - loss: 0.0951 - val_loss: 0.1429\n",
            "Epoch 536/1000\n",
            "\u001b[1m24/24\u001b[0m \u001b[32m━━━━━━━━━━━━━━━━━━━━\u001b[0m\u001b[37m\u001b[0m \u001b[1m0s\u001b[0m 7ms/step - loss: 0.0950 - val_loss: 0.1429\n",
            "Epoch 537/1000\n",
            "\u001b[1m24/24\u001b[0m \u001b[32m━━━━━━━━━━━━━━━━━━━━\u001b[0m\u001b[37m\u001b[0m \u001b[1m0s\u001b[0m 5ms/step - loss: 0.0950 - val_loss: 0.1429\n",
            "Epoch 538/1000\n",
            "\u001b[1m24/24\u001b[0m \u001b[32m━━━━━━━━━━━━━━━━━━━━\u001b[0m\u001b[37m\u001b[0m \u001b[1m0s\u001b[0m 5ms/step - loss: 0.0950 - val_loss: 0.1429\n",
            "Epoch 539/1000\n",
            "\u001b[1m24/24\u001b[0m \u001b[32m━━━━━━━━━━━━━━━━━━━━\u001b[0m\u001b[37m\u001b[0m \u001b[1m0s\u001b[0m 5ms/step - loss: 0.0950 - val_loss: 0.1429\n",
            "Epoch 540/1000\n",
            "\u001b[1m24/24\u001b[0m \u001b[32m━━━━━━━━━━━━━━━━━━━━\u001b[0m\u001b[37m\u001b[0m \u001b[1m0s\u001b[0m 6ms/step - loss: 0.0949 - val_loss: 0.1429\n",
            "Epoch 541/1000\n",
            "\u001b[1m24/24\u001b[0m \u001b[32m━━━━━━━━━━━━━━━━━━━━\u001b[0m\u001b[37m\u001b[0m \u001b[1m0s\u001b[0m 6ms/step - loss: 0.0949 - val_loss: 0.1429\n",
            "Epoch 542/1000\n",
            "\u001b[1m24/24\u001b[0m \u001b[32m━━━━━━━━━━━━━━━━━━━━\u001b[0m\u001b[37m\u001b[0m \u001b[1m0s\u001b[0m 5ms/step - loss: 0.0949 - val_loss: 0.1429\n",
            "Epoch 543/1000\n",
            "\u001b[1m24/24\u001b[0m \u001b[32m━━━━━━━━━━━━━━━━━━━━\u001b[0m\u001b[37m\u001b[0m \u001b[1m0s\u001b[0m 5ms/step - loss: 0.0948 - val_loss: 0.1429\n",
            "Epoch 544/1000\n",
            "\u001b[1m24/24\u001b[0m \u001b[32m━━━━━━━━━━━━━━━━━━━━\u001b[0m\u001b[37m\u001b[0m \u001b[1m0s\u001b[0m 6ms/step - loss: 0.0948 - val_loss: 0.1429\n",
            "Epoch 545/1000\n",
            "\u001b[1m24/24\u001b[0m \u001b[32m━━━━━━━━━━━━━━━━━━━━\u001b[0m\u001b[37m\u001b[0m \u001b[1m0s\u001b[0m 7ms/step - loss: 0.0948 - val_loss: 0.1429\n",
            "Epoch 546/1000\n",
            "\u001b[1m24/24\u001b[0m \u001b[32m━━━━━━━━━━━━━━━━━━━━\u001b[0m\u001b[37m\u001b[0m \u001b[1m0s\u001b[0m 5ms/step - loss: 0.0948 - val_loss: 0.1429\n"
          ]
        },
        {
          "output_type": "display_data",
          "data": {
            "text/plain": [
              "<Figure size 640x480 with 1 Axes>"
            ],
            "image/png": "[encoded data removed]"
          },
          "metadata": {}
        }
      ],
      "source": [
        "# Train the model\n",
        "history = model.fit(Xtrain_scaled, Ytrain,\n",
        "                    epochs=1000,\n",
        "                    batch_size=64,\n",
        "                    validation_data=(Xval_scaled, Yval),\n",
        "                    shuffle = True,\n",
        "                    callbacks=[early_stopping])\n",
        "\n",
        "# Plot training & validation loss values\n",
        "plt.plot(history.history['loss'])\n",
        "plt.plot(history.history['val_loss'])\n",
        "plt.title('Model loss')\n",
        "plt.xlabel('Epoch')\n",
        "plt.ylabel('Loss')\n",
        "plt.legend(['Train', 'Validation'], loc='upper right')\n",
        "plt.show()"
      ]
    },
    {
      "cell_type": "markdown",
      "metadata": {
        "id": "NRL7firwfCr2"
      },
      "source": [
        "The loss and smape refer to training set, while val_loss and val_smape refer to validation set.\n",
        "\n",
        "It stops before, due to the early stopping."
      ]
    },
    {
      "cell_type": "markdown",
      "metadata": {
        "id": "eMN6Oo-RfBJm"
      },
      "source": [
        "### Prediction and sMAPE:\n",
        "Performance evaluation of DNN model on test set"
      ]
    },
    {
      "cell_type": "code",
      "execution_count": null,
      "metadata": {
        "colab": {
          "base_uri": "https://localhost:8080/"
        },
        "id": "_yrSKIHVxnCg",
        "outputId": "4cb56c92-3859-4e5f-96af-806695900a9b"
      },
      "outputs": [
        {
          "output_type": "stream",
          "name": "stdout",
          "text": [
            "    Valori Attesi  Predizioni\n",
            "0            7.72   13.831306\n",
            "1            8.35    8.466706\n",
            "2            7.15   11.236300\n",
            "3            4.97    3.315855\n",
            "4            5.39    4.164815\n",
            "5            8.38    8.306069\n",
            "6           18.05   22.706499\n",
            "7           26.38   38.279140\n",
            "8           27.92   38.789413\n",
            "9           31.97   41.816132\n",
            "10          32.96   38.793087\n",
            "11          29.76   39.968140\n",
            "12          27.53   46.327732\n",
            "13          24.52   39.292965\n",
            "14          23.98   38.132641\n",
            "15          23.91   34.156353\n",
            "16          23.92   38.273258\n",
            "17          27.93   41.376175\n",
            "18          40.13   54.990059\n",
            "19          39.45   51.598274\n",
            "sMAPE: 16.28%\n"
          ]
        }
      ],
      "source": [
        "Yp = model.predict(Xtest_scaled, verbose=0).squeeze()\n",
        "Yp = y_scaler.inverse_transform(Yp).squeeze()\n",
        "\n",
        "# To print some predicted values\n",
        "results = pd.DataFrame({\n",
        "    'Valori Attesi': Ytest.flatten(),\n",
        "    'Predizioni': Yp.flatten()\n",
        "})\n",
        "\n",
        "print(results.head(20))\n",
        "\n",
        "# Calculate and print the metrics\n",
        "smape_value = smape(tf.cast(Ytest, dtype=tf.float64), tf.cast(Yp, dtype=tf.float64))\n",
        "print(f'sMAPE: {smape_value:.2f}%')"
      ]
    },
    {
      "cell_type": "markdown",
      "metadata": {
        "id": "rhOnP6AZitME"
      },
      "source": [
        "##LSTM-DNN model"
      ]
    },
    {
      "cell_type": "code",
      "execution_count": 106,
      "metadata": {
        "id": "7uQxNKTYiusD"
      },
      "outputs": [],
      "source": [
        "activationFunctionDNN = 'relu'\n",
        "activationFunctionLSTM = 'tanh'\n",
        "nDNN = 184\n",
        "nLSTM = 83\n",
        "sequenceLength = 336  #hours for 2 weeks\n",
        "n_hours = 24\n",
        "hours = range(n_hours)\n",
        "\n",
        "timesteps = sequenceLength  # 2 weeks of hourly data"
      ]
    },
    {
      "cell_type": "markdown",
      "metadata": {
        "id": "2wNzJF6b0Ie2"
      },
      "source": [
        "###X_F - day-ahead input\n",
        "Data: are divided into:\n",
        "*   Future information (X_F)\n",
        "*   A collection of input sequence, each one representing past information (X_S)\n",
        "\n"
      ]
    },
    {
      "cell_type": "code",
      "execution_count": 107,
      "metadata": {
        "id": "ppK38nDG1aSy"
      },
      "outputs": [],
      "source": [
        "columns_X_F = ['Day'] +  \\\n",
        "          [f'Generation_D_h{hour}' for hour in hours] + \\\n",
        "          [f'Load_D_h{hour}' for hour in hours]\n",
        "\n",
        "n_features_F = len(columns_X_F)"
      ]
    },
    {
      "cell_type": "code",
      "execution_count": 108,
      "metadata": {
        "id": "_LPzTeAp1f11"
      },
      "outputs": [],
      "source": [
        "indexTrain = train_df.iloc[24:,:].loc[train_df.index[0] :].index\n",
        "indexTest = test_df.iloc[24:,:].loc[test_df.index[0] :].index\n",
        "indexVal = val_df.iloc[24:,:].loc[val_df.index[0] :].index\n",
        "\n",
        "predDatesTrain = indexTrain[::24]\n",
        "predDatesVal = indexVal[::24]\n",
        "predDatesTest = indexTest[::24]\n",
        "\n",
        "# I create dataframe where the index is the time where a prediction is made and the columns is the horizons of the prediction\n",
        "indexTrain = pd.DataFrame(index=predDatesTrain, columns=['h' + str(hour) for hour in range(24)])\n",
        "indexVal = pd.DataFrame(index=predDatesVal, columns=['h' + str(hour) for hour in range(24)])\n",
        "indexTest = pd.DataFrame(index=predDatesTest, columns=['h' + str(hour) for hour in range(24)])\n",
        "\n",
        "for hour in range(24):\n",
        "  indexTrain.loc[:, 'h' + str(hour)] = indexTrain.index + pd.Timedelta(hours=hour)\n",
        "  indexVal.loc[:, 'h' + str(hour)] = indexVal.index + pd.Timedelta(hours=hour)\n",
        "  indexTest.loc[:, 'h' + str(hour)] = indexTest.index + pd.Timedelta(hours=hour)\n",
        "\n",
        "# Preallocating in memory the X and Y arrays\n",
        "X_F_train = np.zeros([indexTrain.shape[0], n_features_F])\n",
        "Ytrain = np.zeros([indexTrain.shape[0], n_hours])\n",
        "X_F_val = np.zeros([indexVal.shape[0], n_features_F])\n",
        "Yval = np.zeros([indexVal.shape[0], n_hours])\n",
        "X_F_test = np.zeros([indexTest.shape[0], n_features_F])\n",
        "Ytest = np.zeros([indexTest.shape[0], n_hours])\n",
        "\n",
        "indexFeatures_F = 0\n",
        "\n",
        "\n",
        "# Adding the day of the week as a feature\n",
        "X_F_train[:, 0] = indexTrain.index.dayofweek\n",
        "X_F_val[:, 0] = indexVal.index.dayofweek\n",
        "X_F_test[:, 0] = indexTest.index.dayofweek\n",
        "indexFeatures_F += 1\n",
        "\n",
        "\n",
        "# Adding generation inputs at day D\n",
        "for hour in range(24):\n",
        "    past_day = 1\n",
        "    #define the corresponding future index at time D\n",
        "    futureIndexTrain = pd.to_datetime(indexTrain.loc[:, 'h' + str(hour)].values)\n",
        "    futureIndexVal = pd.to_datetime(indexVal.loc[:, 'h' + str(hour)].values)\n",
        "    futureIndexTest = pd.to_datetime(indexTest.loc[:, 'h' + str(hour)].values)\n",
        "\n",
        "    X_F_train[:, indexFeatures_F] = train_df.loc[futureIndexTrain, 'Generation forecast']\n",
        "    X_F_val[:, indexFeatures_F] = val_df.loc[futureIndexVal, 'Generation forecast']\n",
        "    X_F_test[:, indexFeatures_F] = test_df.loc[futureIndexTest, 'Generation forecast']\n",
        "    indexFeatures_F += 1\n",
        "\n",
        "\n",
        "#adding load inputs at day D\n",
        "for hour in range(24):\n",
        "    past_day = 1\n",
        "    #define the corresponding future index at time D\n",
        "    futureIndexTrain = pd.to_datetime(indexTrain.loc[:, 'h' + str(hour)].values)\n",
        "    futureIndexVal = pd.to_datetime(indexVal.loc[:, 'h' + str(hour)].values)\n",
        "    futureIndexTest = pd.to_datetime(indexTest.loc[:, 'h' + str(hour)].values)\n",
        "\n",
        "    # Adding Load inputs at day D\n",
        "    X_F_train[:, indexFeatures_F] = train_df.loc[futureIndexTrain, 'System load forecast']\n",
        "    X_F_val[:, indexFeatures_F] = val_df.loc[futureIndexVal, 'System load forecast']\n",
        "    X_F_test[:, indexFeatures_F] = test_df.loc[futureIndexTest, 'System load forecast']\n",
        "    indexFeatures_F += 1"
      ]
    },
    {
      "cell_type": "code",
      "execution_count": 109,
      "metadata": {
        "colab": {
          "base_uri": "https://localhost:8080/"
        },
        "id": "UFSna5CD4ykH",
        "outputId": "01bcf9ca-592a-4d52-f7de-448cc3a1b0d3"
      },
      "outputs": [
        {
          "output_type": "stream",
          "name": "stdout",
          "text": [
            "(1542, 49)\n",
            "(319, 49)\n",
            "(320, 49)\n"
          ]
        }
      ],
      "source": [
        "print(X_F_train.shape) # from 10/01/2011\n",
        "print(X_F_val.shape)\n",
        "print(X_F_test.shape)"
      ]
    },
    {
      "cell_type": "markdown",
      "metadata": {
        "id": "y9oeWIHq5hwk"
      },
      "source": [
        "### Y - target"
      ]
    },
    {
      "cell_type": "code",
      "execution_count": 110,
      "metadata": {
        "id": "qwtEL2WM5pJh"
      },
      "outputs": [],
      "source": [
        "# Extracting the predicted values Y\n",
        "for hour in range(24):\n",
        "  futureIndexTrain = pd.to_datetime(indexTrain.loc[:, 'h' + str(hour)].values)\n",
        "  futureIndexVal = pd.to_datetime(indexVal.loc[:, 'h' + str(hour)].values)\n",
        "  futureIndexTest = pd.to_datetime(indexTest.loc[:, 'h' + str(hour)].values)\n",
        "\n",
        "  Ytrain[:, hour] = train_df.loc[futureIndexTrain, 'Prices']\n",
        "  Yval[:,hour] = val_df.loc[futureIndexVal, 'Prices']\n",
        "  Ytest[:, hour] = test_df.loc[futureIndexTest, 'Prices']\n",
        "\n",
        "indexTest = indexTest.index"
      ]
    },
    {
      "cell_type": "code",
      "execution_count": 111,
      "metadata": {
        "colab": {
          "base_uri": "https://localhost:8080/"
        },
        "id": "J_B-1tJX7N_7",
        "outputId": "c5e1d572-85d8-483c-e3b1-ca77cae741cc"
      },
      "outputs": [
        {
          "output_type": "stream",
          "name": "stdout",
          "text": [
            "(1542, 24)\n",
            "(319, 24)\n",
            "(320, 24)\n"
          ]
        }
      ],
      "source": [
        "print(Ytrain.shape)\n",
        "print(Yval.shape)\n",
        "print(Ytest.shape)"
      ]
    },
    {
      "cell_type": "markdown",
      "metadata": {
        "id": "bMPsuul97WDC"
      },
      "source": [
        "### X_S - past informations"
      ]
    },
    {
      "cell_type": "code",
      "execution_count": 112,
      "metadata": {
        "colab": {
          "base_uri": "https://localhost:8080/"
        },
        "id": "Sn8qdSZUqfC9",
        "outputId": "9190b0cd-ef4a-4135-a8ee-62597de76fe0"
      },
      "outputs": [
        {
          "output_type": "stream",
          "name": "stdout",
          "text": [
            "(1529, 336, 1)\n",
            "(306, 336, 1)\n",
            "(307, 336, 1)\n"
          ]
        }
      ],
      "source": [
        "#past information (collection of past values) = sequential inputs --> LSTM\n",
        "#group by timesteps\n",
        "def create_sequences(data, steps):\n",
        "    X = []\n",
        "    for i in range(steps, len(data), n_hours):\n",
        "      X.append(data.iloc[i-steps:i].values)\n",
        "    return np.array(X)\n",
        "\n",
        "# Creazione di X_S per il training, validation e test set\n",
        "X_S_train = create_sequences(train_df[['Prices']], timesteps) #start from 23/01/211 to 31/12/2014\n",
        "X_S_val = create_sequences(val_df[['Prices']], timesteps)\n",
        "X_S_test = create_sequences(test_df[['Prices']], timesteps)\n",
        "\n",
        "print(X_S_train.shape)\n",
        "print(X_S_val.shape)\n",
        "print(X_S_test.shape)"
      ]
    },
    {
      "cell_type": "markdown",
      "metadata": {
        "id": "mfojB7H48GpX"
      },
      "source": [
        "The size of X_S, X_F and Y have to match:"
      ]
    },
    {
      "cell_type": "code",
      "execution_count": 113,
      "metadata": {
        "colab": {
          "base_uri": "https://localhost:8080/"
        },
        "id": "4F6dlgabHMHM",
        "outputId": "0458d9d1-bfb3-4cb6-bd30-2de16547023e"
      },
      "outputs": [
        {
          "output_type": "stream",
          "name": "stdout",
          "text": [
            "(1529, 49)\n",
            "(306, 49)\n",
            "(307, 49)\n",
            "(1529, 24)\n",
            "(306, 24)\n",
            "(307, 24)\n"
          ]
        }
      ],
      "source": [
        "X_F_train = X_F_train[13:]   # Remove the first 13 days\n",
        "X_F_val = X_F_val[13:]\n",
        "X_F_test = X_F_test[13:]\n",
        "Ytrain = Ytrain[13:]   # Remove the first 13 days\n",
        "Yval = Yval[13:]\n",
        "Ytest = Ytest[13:]\n",
        "print(X_F_train.shape)\n",
        "print(X_F_val.shape)\n",
        "print(X_F_test.shape)\n",
        "print(Ytrain.shape)\n",
        "print(Yval.shape)\n",
        "print(Ytest.shape)"
      ]
    },
    {
      "cell_type": "code",
      "execution_count": 114,
      "metadata": {
        "colab": {
          "base_uri": "https://localhost:8080/"
        },
        "id": "Xd8sAUv49whf",
        "outputId": "167d80d3-4d8a-4102-e710-ad850ce5fcce"
      },
      "outputs": [
        {
          "output_type": "stream",
          "name": "stdout",
          "text": [
            "1\n",
            "49\n"
          ]
        }
      ],
      "source": [
        "x_seq_num_features = X_S_train.shape[2]\n",
        "x_non_seq_num_features = X_F_train.shape[1]\n",
        "print(x_seq_num_features)\n",
        "print(x_non_seq_num_features)"
      ]
    },
    {
      "cell_type": "markdown",
      "metadata": {
        "id": "6ndpewo2_Bs0"
      },
      "source": [
        "### Data Normalization"
      ]
    },
    {
      "cell_type": "code",
      "execution_count": 115,
      "metadata": {
        "id": "IWhPxtrF_Ath"
      },
      "outputs": [],
      "source": [
        "# Scale X_F\n",
        "scaler_F = MinMaxScaler(feature_range=(-1, 1))\n",
        "X_F_train = scaler_F.fit_transform(X_F_train)\n",
        "X_F_val = scaler_F.transform(X_F_val)\n",
        "X_F_test = scaler_F.transform(X_F_test)\n",
        "\n",
        "# Scale X_S\n",
        "scale_S = MinMaxScaler(feature_range=(-1, 1))\n",
        "X_S_train = scale_S.fit_transform(X_S_train.reshape(-1, x_seq_num_features)).reshape(X_S_train.shape)\n",
        "X_S_val = scale_S.transform(X_S_val.reshape(-1, x_seq_num_features)).reshape(X_S_val.shape)\n",
        "X_S_test = scale_S.transform(X_S_test.reshape(-1, x_seq_num_features)).reshape(X_S_test.shape)\n",
        "\n",
        "# Scale the target values\n",
        "y_scaler = MinMaxScaler(feature_range=(-1, 1))\n",
        "Ytrain = y_scaler.fit_transform(Ytrain)\n",
        "Yval = y_scaler.transform(Yval)"
      ]
    },
    {
      "cell_type": "markdown",
      "metadata": {
        "id": "slaScZxv_oAd"
      },
      "source": [
        "### Model"
      ]
    },
    {
      "cell_type": "code",
      "execution_count": 116,
      "metadata": {
        "colab": {
          "base_uri": "https://localhost:8080/",
          "height": 378
        },
        "id": "K13edkfx2QzA",
        "outputId": "ff34e190-4b99-4d1e-fd54-68542b4fca67"
      },
      "outputs": [
        {
          "output_type": "display_data",
          "data": {
            "text/plain": [
              "\u001b[1mModel: \"functional_6\"\u001b[0m\n"
            ],
            "text/html": [
              "<pre style=\"white-space:pre;overflow-x:auto;line-height:normal;font-family:Menlo,'DejaVu Sans Mono',consolas,'Courier New',monospace\"><span style=\"font-weight: bold\">Model: \"functional_6\"</span>\n",
              "</pre>\n"
            ]
          },
          "metadata": {}
        },
        {
          "output_type": "display_data",
          "data": {
            "text/plain": [
              "┏━━━━━━━━━━━━━━━━━━━━━━━━━━━┳━━━━━━━━━━━━━━━━━━━━━━━━┳━━━━━━━━━━━━━━━━┳━━━━━━━━━━━━━━━━━━━━━━━━┓\n",
              "┃\u001b[1m \u001b[0m\u001b[1mLayer (type)             \u001b[0m\u001b[1m \u001b[0m┃\u001b[1m \u001b[0m\u001b[1mOutput Shape          \u001b[0m\u001b[1m \u001b[0m┃\u001b[1m \u001b[0m\u001b[1m       Param #\u001b[0m\u001b[1m \u001b[0m┃\u001b[1m \u001b[0m\u001b[1mConnected to          \u001b[0m\u001b[1m \u001b[0m┃\n",
              "┡━━━━━━━━━━━━━━━━━━━━━━━━━━━╇━━━━━━━━━━━━━━━━━━━━━━━━╇━━━━━━━━━━━━━━━━╇━━━━━━━━━━━━━━━━━━━━━━━━┩\n",
              "│ sequential_input          │ (\u001b[38;5;45mNone\u001b[0m, \u001b[38;5;34m336\u001b[0m, \u001b[38;5;34m1\u001b[0m)         │              \u001b[38;5;34m0\u001b[0m │ -                      │\n",
              "│ (\u001b[38;5;33mInputLayer\u001b[0m)              │                        │                │                        │\n",
              "├───────────────────────────┼────────────────────────┼────────────────┼────────────────────────┤\n",
              "│ non_sequential_input      │ (\u001b[38;5;45mNone\u001b[0m, \u001b[38;5;34m49\u001b[0m)             │              \u001b[38;5;34m0\u001b[0m │ -                      │\n",
              "│ (\u001b[38;5;33mInputLayer\u001b[0m)              │                        │                │                        │\n",
              "├───────────────────────────┼────────────────────────┼────────────────┼────────────────────────┤\n",
              "│ lstm (\u001b[38;5;33mLSTM\u001b[0m)               │ (\u001b[38;5;45mNone\u001b[0m, \u001b[38;5;34m83\u001b[0m)             │         \u001b[38;5;34m28,220\u001b[0m │ sequential_input[\u001b[38;5;34m0\u001b[0m][\u001b[38;5;34m0\u001b[0m] │\n",
              "├───────────────────────────┼────────────────────────┼────────────────┼────────────────────────┤\n",
              "│ DNN (\u001b[38;5;33mDense\u001b[0m)               │ (\u001b[38;5;45mNone\u001b[0m, \u001b[38;5;34m184\u001b[0m)            │          \u001b[38;5;34m9,200\u001b[0m │ non_sequential_input[\u001b[38;5;34m…\u001b[0m │\n",
              "├───────────────────────────┼────────────────────────┼────────────────┼────────────────────────┤\n",
              "│ concat (\u001b[38;5;33mConcatenate\u001b[0m)      │ (\u001b[38;5;45mNone\u001b[0m, \u001b[38;5;34m267\u001b[0m)            │              \u001b[38;5;34m0\u001b[0m │ lstm[\u001b[38;5;34m0\u001b[0m][\u001b[38;5;34m0\u001b[0m], DNN[\u001b[38;5;34m0\u001b[0m][\u001b[38;5;34m0\u001b[0m]  │\n",
              "├───────────────────────────┼────────────────────────┼────────────────┼────────────────────────┤\n",
              "│ output (\u001b[38;5;33mDense\u001b[0m)            │ (\u001b[38;5;45mNone\u001b[0m, \u001b[38;5;34m24\u001b[0m)             │          \u001b[38;5;34m6,432\u001b[0m │ concat[\u001b[38;5;34m0\u001b[0m][\u001b[38;5;34m0\u001b[0m]           │\n",
              "└───────────────────────────┴────────────────────────┴────────────────┴────────────────────────┘\n"
            ],
            "text/html": [
              "<pre style=\"white-space:pre;overflow-x:auto;line-height:normal;font-family:Menlo,'DejaVu Sans Mono',consolas,'Courier New',monospace\">┏━━━━━━━━━━━━━━━━━━━━━━━━━━━┳━━━━━━━━━━━━━━━━━━━━━━━━┳━━━━━━━━━━━━━━━━┳━━━━━━━━━━━━━━━━━━━━━━━━┓\n",
              "┃<span style=\"font-weight: bold\"> Layer (type)              </span>┃<span style=\"font-weight: bold\"> Output Shape           </span>┃<span style=\"font-weight: bold\">        Param # </span>┃<span style=\"font-weight: bold\"> Connected to           </span>┃\n",
              "┡━━━━━━━━━━━━━━━━━━━━━━━━━━━╇━━━━━━━━━━━━━━━━━━━━━━━━╇━━━━━━━━━━━━━━━━╇━━━━━━━━━━━━━━━━━━━━━━━━┩\n",
              "│ sequential_input          │ (<span style=\"color: #00d7ff; text-decoration-color: #00d7ff\">None</span>, <span style=\"color: #00af00; text-decoration-color: #00af00\">336</span>, <span style=\"color: #00af00; text-decoration-color: #00af00\">1</span>)         │              <span style=\"color: #00af00; text-decoration-color: #00af00\">0</span> │ -                      │\n",
              "│ (<span style=\"color: #0087ff; text-decoration-color: #0087ff\">InputLayer</span>)              │                        │                │                        │\n",
              "├───────────────────────────┼────────────────────────┼────────────────┼────────────────────────┤\n",
              "│ non_sequential_input      │ (<span style=\"color: #00d7ff; text-decoration-color: #00d7ff\">None</span>, <span style=\"color: #00af00; text-decoration-color: #00af00\">49</span>)             │              <span style=\"color: #00af00; text-decoration-color: #00af00\">0</span> │ -                      │\n",
              "│ (<span style=\"color: #0087ff; text-decoration-color: #0087ff\">InputLayer</span>)              │                        │                │                        │\n",
              "├───────────────────────────┼────────────────────────┼────────────────┼────────────────────────┤\n",
              "│ lstm (<span style=\"color: #0087ff; text-decoration-color: #0087ff\">LSTM</span>)               │ (<span style=\"color: #00d7ff; text-decoration-color: #00d7ff\">None</span>, <span style=\"color: #00af00; text-decoration-color: #00af00\">83</span>)             │         <span style=\"color: #00af00; text-decoration-color: #00af00\">28,220</span> │ sequential_input[<span style=\"color: #00af00; text-decoration-color: #00af00\">0</span>][<span style=\"color: #00af00; text-decoration-color: #00af00\">0</span>] │\n",
              "├───────────────────────────┼────────────────────────┼────────────────┼────────────────────────┤\n",
              "│ DNN (<span style=\"color: #0087ff; text-decoration-color: #0087ff\">Dense</span>)               │ (<span style=\"color: #00d7ff; text-decoration-color: #00d7ff\">None</span>, <span style=\"color: #00af00; text-decoration-color: #00af00\">184</span>)            │          <span style=\"color: #00af00; text-decoration-color: #00af00\">9,200</span> │ non_sequential_input[<span style=\"color: #00af00; text-decoration-color: #00af00\">…</span> │\n",
              "├───────────────────────────┼────────────────────────┼────────────────┼────────────────────────┤\n",
              "│ concat (<span style=\"color: #0087ff; text-decoration-color: #0087ff\">Concatenate</span>)      │ (<span style=\"color: #00d7ff; text-decoration-color: #00d7ff\">None</span>, <span style=\"color: #00af00; text-decoration-color: #00af00\">267</span>)            │              <span style=\"color: #00af00; text-decoration-color: #00af00\">0</span> │ lstm[<span style=\"color: #00af00; text-decoration-color: #00af00\">0</span>][<span style=\"color: #00af00; text-decoration-color: #00af00\">0</span>], DNN[<span style=\"color: #00af00; text-decoration-color: #00af00\">0</span>][<span style=\"color: #00af00; text-decoration-color: #00af00\">0</span>]  │\n",
              "├───────────────────────────┼────────────────────────┼────────────────┼────────────────────────┤\n",
              "│ output (<span style=\"color: #0087ff; text-decoration-color: #0087ff\">Dense</span>)            │ (<span style=\"color: #00d7ff; text-decoration-color: #00d7ff\">None</span>, <span style=\"color: #00af00; text-decoration-color: #00af00\">24</span>)             │          <span style=\"color: #00af00; text-decoration-color: #00af00\">6,432</span> │ concat[<span style=\"color: #00af00; text-decoration-color: #00af00\">0</span>][<span style=\"color: #00af00; text-decoration-color: #00af00\">0</span>]           │\n",
              "└───────────────────────────┴────────────────────────┴────────────────┴────────────────────────┘\n",
              "</pre>\n"
            ]
          },
          "metadata": {}
        },
        {
          "output_type": "display_data",
          "data": {
            "text/plain": [
              "\u001b[1m Total params: \u001b[0m\u001b[38;5;34m43,852\u001b[0m (171.30 KB)\n"
            ],
            "text/html": [
              "<pre style=\"white-space:pre;overflow-x:auto;line-height:normal;font-family:Menlo,'DejaVu Sans Mono',consolas,'Courier New',monospace\"><span style=\"font-weight: bold\"> Total params: </span><span style=\"color: #00af00; text-decoration-color: #00af00\">43,852</span> (171.30 KB)\n",
              "</pre>\n"
            ]
          },
          "metadata": {}
        },
        {
          "output_type": "display_data",
          "data": {
            "text/plain": [
              "\u001b[1m Trainable params: \u001b[0m\u001b[38;5;34m43,852\u001b[0m (171.30 KB)\n"
            ],
            "text/html": [
              "<pre style=\"white-space:pre;overflow-x:auto;line-height:normal;font-family:Menlo,'DejaVu Sans Mono',consolas,'Courier New',monospace\"><span style=\"font-weight: bold\"> Trainable params: </span><span style=\"color: #00af00; text-decoration-color: #00af00\">43,852</span> (171.30 KB)\n",
              "</pre>\n"
            ]
          },
          "metadata": {}
        },
        {
          "output_type": "display_data",
          "data": {
            "text/plain": [
              "\u001b[1m Non-trainable params: \u001b[0m\u001b[38;5;34m0\u001b[0m (0.00 B)\n"
            ],
            "text/html": [
              "<pre style=\"white-space:pre;overflow-x:auto;line-height:normal;font-family:Menlo,'DejaVu Sans Mono',consolas,'Courier New',monospace\"><span style=\"font-weight: bold\"> Non-trainable params: </span><span style=\"color: #00af00; text-decoration-color: #00af00\">0</span> (0.00 B)\n",
              "</pre>\n"
            ]
          },
          "metadata": {}
        }
      ],
      "source": [
        "#sequential input for LSTM\n",
        "seq_input = Input(shape=(timesteps, x_seq_num_features), name = 'sequential_input')\n",
        "lstm_out = LSTM(units=nLSTM, activation=activationFunctionLSTM, return_sequences=False, name = 'lstm')(seq_input)\n",
        "\n",
        "# Non-sequential input for DNN\n",
        "non_seq_input = Input(shape=(x_non_seq_num_features,), name='non_sequential_input')  # Number of non-sequential features\n",
        "dnn_out = Dense(units=nDNN, activation=activationFunctionDNN, name='DNN')(non_seq_input)\n",
        "\n",
        "# Concatenate the outputs of LSTM and DNN\n",
        "concat = Concatenate(name = 'concat')([lstm_out, dnn_out])\n",
        "\n",
        "# Output layer\n",
        "out = Dense(units=n_hours, activation = 'linear', name = 'output')(concat)\n",
        "\n",
        "# Build the model\n",
        "model = Model(inputs=[seq_input, non_seq_input], outputs=out)\n",
        "\n",
        "# Compile the model\n",
        "#opt = Adam(learning_rate = 1e-4)\n",
        "model.compile(optimizer='adam', loss='mean_absolute_error')\n",
        "\n",
        "# Model summary\n",
        "model.summary()"
      ]
    },
    {
      "cell_type": "markdown",
      "metadata": {
        "id": "gDUyHZqv_jVI"
      },
      "source": [
        "### Training LSTM-DNN model"
      ]
    },
    {
      "cell_type": "code",
      "execution_count": 117,
      "metadata": {
        "id": "qO7tA_cIxcO2"
      },
      "outputs": [],
      "source": [
        "early_stopping = EarlyStopping(monitor='val_loss', patience=10, restore_best_weights=True)\n",
        "lr_schedule = ReduceLROnPlateau(monitor='val_loss',  factor=0.6, patience=12, min_lr=1e-6)"
      ]
    },
    {
      "cell_type": "code",
      "execution_count": 118,
      "metadata": {
        "colab": {
          "base_uri": "https://localhost:8080/",
          "height": 1000
        },
        "id": "z7CpNZaEu__3",
        "outputId": "62e60a36-babd-480a-f942-5696935fe2bb"
      },
      "outputs": [
        {
          "output_type": "stream",
          "name": "stdout",
          "text": [
            "Epoch 1/1000\n",
            "\u001b[1m12/12\u001b[0m \u001b[32m━━━━━━━━━━━━━━━━━━━━\u001b[0m\u001b[37m\u001b[0m \u001b[1m9s\u001b[0m 512ms/step - loss: 0.2564 - val_loss: 0.2037 - learning_rate: 0.0010\n",
            "Epoch 2/1000\n",
            "\u001b[1m12/12\u001b[0m \u001b[32m━━━━━━━━━━━━━━━━━━━━\u001b[0m\u001b[37m\u001b[0m \u001b[1m8s\u001b[0m 661ms/step - loss: 0.1734 - val_loss: 0.1721 - learning_rate: 0.0010\n",
            "Epoch 3/1000\n",
            "\u001b[1m12/12\u001b[0m \u001b[32m━━━━━━━━━━━━━━━━━━━━\u001b[0m\u001b[37m\u001b[0m \u001b[1m6s\u001b[0m 487ms/step - loss: 0.1415 - val_loss: 0.1645 - learning_rate: 0.0010\n",
            "Epoch 4/1000\n",
            "\u001b[1m12/12\u001b[0m \u001b[32m━━━━━━━━━━━━━━━━━━━━\u001b[0m\u001b[37m\u001b[0m \u001b[1m10s\u001b[0m 488ms/step - loss: 0.1322 - val_loss: 0.1577 - learning_rate: 0.0010\n",
            "Epoch 5/1000\n",
            "\u001b[1m12/12\u001b[0m \u001b[32m━━━━━━━━━━━━━━━━━━━━\u001b[0m\u001b[37m\u001b[0m \u001b[1m12s\u001b[0m 583ms/step - loss: 0.1279 - val_loss: 0.1525 - learning_rate: 0.0010\n",
            "Epoch 6/1000\n",
            "\u001b[1m12/12\u001b[0m \u001b[32m━━━━━━━━━━━━━━━━━━━━\u001b[0m\u001b[37m\u001b[0m \u001b[1m11s\u001b[0m 667ms/step - loss: 0.1247 - val_loss: 0.1530 - learning_rate: 0.0010\n",
            "Epoch 7/1000\n",
            "\u001b[1m12/12\u001b[0m \u001b[32m━━━━━━━━━━━━━━━━━━━━\u001b[0m\u001b[37m\u001b[0m \u001b[1m8s\u001b[0m 484ms/step - loss: 0.1228 - val_loss: 0.1516 - learning_rate: 0.0010\n",
            "Epoch 8/1000\n",
            "\u001b[1m12/12\u001b[0m \u001b[32m━━━━━━━━━━━━━━━━━━━━\u001b[0m\u001b[37m\u001b[0m \u001b[1m8s\u001b[0m 666ms/step - loss: 0.1217 - val_loss: 0.1505 - learning_rate: 0.0010\n",
            "Epoch 9/1000\n",
            "\u001b[1m12/12\u001b[0m \u001b[32m━━━━━━━━━━━━━━━━━━━━\u001b[0m\u001b[37m\u001b[0m \u001b[1m9s\u001b[0m 515ms/step - loss: 0.1204 - val_loss: 0.1493 - learning_rate: 0.0010\n",
            "Epoch 10/1000\n",
            "\u001b[1m12/12\u001b[0m \u001b[32m━━━━━━━━━━━━━━━━━━━━\u001b[0m\u001b[37m\u001b[0m \u001b[1m10s\u001b[0m 488ms/step - loss: 0.1195 - val_loss: 0.1483 - learning_rate: 0.0010\n",
            "Epoch 11/1000\n",
            "\u001b[1m12/12\u001b[0m \u001b[32m━━━━━━━━━━━━━━━━━━━━\u001b[0m\u001b[37m\u001b[0m \u001b[1m15s\u001b[0m 877ms/step - loss: 0.1184 - val_loss: 0.1478 - learning_rate: 0.0010\n",
            "Epoch 12/1000\n",
            "\u001b[1m12/12\u001b[0m \u001b[32m━━━━━━━━━━━━━━━━━━━━\u001b[0m\u001b[37m\u001b[0m \u001b[1m17s\u001b[0m 657ms/step - loss: 0.1175 - val_loss: 0.1467 - learning_rate: 0.0010\n",
            "Epoch 13/1000\n",
            "\u001b[1m12/12\u001b[0m \u001b[32m━━━━━━━━━━━━━━━━━━━━\u001b[0m\u001b[37m\u001b[0m \u001b[1m6s\u001b[0m 491ms/step - loss: 0.1170 - val_loss: 0.1466 - learning_rate: 0.0010\n",
            "Epoch 14/1000\n",
            "\u001b[1m12/12\u001b[0m \u001b[32m━━━━━━━━━━━━━━━━━━━━\u001b[0m\u001b[37m\u001b[0m \u001b[1m11s\u001b[0m 512ms/step - loss: 0.1162 - val_loss: 0.1454 - learning_rate: 0.0010\n",
            "Epoch 15/1000\n",
            "\u001b[1m12/12\u001b[0m \u001b[32m━━━━━━━━━━━━━━━━━━━━\u001b[0m\u001b[37m\u001b[0m \u001b[1m13s\u001b[0m 817ms/step - loss: 0.1156 - val_loss: 0.1456 - learning_rate: 0.0010\n",
            "Epoch 16/1000\n",
            "\u001b[1m12/12\u001b[0m \u001b[32m━━━━━━━━━━━━━━━━━━━━\u001b[0m\u001b[37m\u001b[0m \u001b[1m7s\u001b[0m 488ms/step - loss: 0.1148 - val_loss: 0.1447 - learning_rate: 0.0010\n",
            "Epoch 17/1000\n",
            "\u001b[1m12/12\u001b[0m \u001b[32m━━━━━━━━━━━━━━━━━━━━\u001b[0m\u001b[37m\u001b[0m \u001b[1m8s\u001b[0m 663ms/step - loss: 0.1142 - val_loss: 0.1457 - learning_rate: 0.0010\n",
            "Epoch 18/1000\n",
            "\u001b[1m12/12\u001b[0m \u001b[32m━━━━━━━━━━━━━━━━━━━━\u001b[0m\u001b[37m\u001b[0m \u001b[1m6s\u001b[0m 489ms/step - loss: 0.1132 - val_loss: 0.1460 - learning_rate: 0.0010\n",
            "Epoch 19/1000\n",
            "\u001b[1m12/12\u001b[0m \u001b[32m━━━━━━━━━━━━━━━━━━━━\u001b[0m\u001b[37m\u001b[0m \u001b[1m8s\u001b[0m 666ms/step - loss: 0.1124 - val_loss: 0.1454 - learning_rate: 0.0010\n",
            "Epoch 20/1000\n",
            "\u001b[1m12/12\u001b[0m \u001b[32m━━━━━━━━━━━━━━━━━━━━\u001b[0m\u001b[37m\u001b[0m \u001b[1m6s\u001b[0m 487ms/step - loss: 0.1123 - val_loss: 0.1435 - learning_rate: 0.0010\n",
            "Epoch 21/1000\n",
            "\u001b[1m12/12\u001b[0m \u001b[32m━━━━━━━━━━━━━━━━━━━━\u001b[0m\u001b[37m\u001b[0m \u001b[1m8s\u001b[0m 640ms/step - loss: 0.1118 - val_loss: 0.1421 - learning_rate: 0.0010\n",
            "Epoch 22/1000\n",
            "\u001b[1m12/12\u001b[0m \u001b[32m━━━━━━━━━━━━━━━━━━━━\u001b[0m\u001b[37m\u001b[0m \u001b[1m9s\u001b[0m 491ms/step - loss: 0.1109 - val_loss: 0.1450 - learning_rate: 0.0010\n",
            "Epoch 23/1000\n",
            "\u001b[1m12/12\u001b[0m \u001b[32m━━━━━━━━━━━━━━━━━━━━\u001b[0m\u001b[37m\u001b[0m \u001b[1m10s\u001b[0m 486ms/step - loss: 0.1104 - val_loss: 0.1417 - learning_rate: 0.0010\n",
            "Epoch 24/1000\n",
            "\u001b[1m12/12\u001b[0m \u001b[32m━━━━━━━━━━━━━━━━━━━━\u001b[0m\u001b[37m\u001b[0m \u001b[1m8s\u001b[0m 666ms/step - loss: 0.1101 - val_loss: 0.1435 - learning_rate: 0.0010\n",
            "Epoch 25/1000\n",
            "\u001b[1m12/12\u001b[0m \u001b[32m━━━━━━━━━━━━━━━━━━━━\u001b[0m\u001b[37m\u001b[0m \u001b[1m8s\u001b[0m 488ms/step - loss: 0.1096 - val_loss: 0.1431 - learning_rate: 0.0010\n",
            "Epoch 26/1000\n",
            "\u001b[1m12/12\u001b[0m \u001b[32m━━━━━━━━━━━━━━━━━━━━\u001b[0m\u001b[37m\u001b[0m \u001b[1m10s\u001b[0m 491ms/step - loss: 0.1089 - val_loss: 0.1431 - learning_rate: 0.0010\n",
            "Epoch 27/1000\n",
            "\u001b[1m12/12\u001b[0m \u001b[32m━━━━━━━━━━━━━━━━━━━━\u001b[0m\u001b[37m\u001b[0m \u001b[1m8s\u001b[0m 660ms/step - loss: 0.1089 - val_loss: 0.1428 - learning_rate: 0.0010\n",
            "Epoch 28/1000\n",
            "\u001b[1m12/12\u001b[0m \u001b[32m━━━━━━━━━━━━━━━━━━━━\u001b[0m\u001b[37m\u001b[0m \u001b[1m6s\u001b[0m 492ms/step - loss: 0.1082 - val_loss: 0.1420 - learning_rate: 0.0010\n",
            "Epoch 29/1000\n",
            "\u001b[1m12/12\u001b[0m \u001b[32m━━━━━━━━━━━━━━━━━━━━\u001b[0m\u001b[37m\u001b[0m \u001b[1m12s\u001b[0m 584ms/step - loss: 0.1082 - val_loss: 0.1428 - learning_rate: 0.0010\n",
            "Epoch 30/1000\n",
            "\u001b[1m12/12\u001b[0m \u001b[32m━━━━━━━━━━━━━━━━━━━━\u001b[0m\u001b[37m\u001b[0m \u001b[1m11s\u001b[0m 663ms/step - loss: 0.1081 - val_loss: 0.1425 - learning_rate: 0.0010\n",
            "Epoch 31/1000\n",
            "\u001b[1m12/12\u001b[0m \u001b[32m━━━━━━━━━━━━━━━━━━━━\u001b[0m\u001b[37m\u001b[0m \u001b[1m6s\u001b[0m 490ms/step - loss: 0.1073 - val_loss: 0.1416 - learning_rate: 0.0010\n",
            "Epoch 32/1000\n",
            "\u001b[1m12/12\u001b[0m \u001b[32m━━━━━━━━━━━━━━━━━━━━\u001b[0m\u001b[37m\u001b[0m \u001b[1m11s\u001b[0m 575ms/step - loss: 0.1071 - val_loss: 0.1413 - learning_rate: 0.0010\n",
            "Epoch 33/1000\n",
            "\u001b[1m12/12\u001b[0m \u001b[32m━━━━━━━━━━━━━━━━━━━━\u001b[0m\u001b[37m\u001b[0m \u001b[1m6s\u001b[0m 501ms/step - loss: 0.1068 - val_loss: 0.1418 - learning_rate: 0.0010\n",
            "Epoch 34/1000\n",
            "\u001b[1m12/12\u001b[0m \u001b[32m━━━━━━━━━━━━━━━━━━━━\u001b[0m\u001b[37m\u001b[0m \u001b[1m10s\u001b[0m 491ms/step - loss: 0.1061 - val_loss: 0.1413 - learning_rate: 0.0010\n",
            "Epoch 35/1000\n",
            "\u001b[1m12/12\u001b[0m \u001b[32m━━━━━━━━━━━━━━━━━━━━\u001b[0m\u001b[37m\u001b[0m \u001b[1m8s\u001b[0m 666ms/step - loss: 0.1057 - val_loss: 0.1414 - learning_rate: 0.0010\n",
            "Epoch 36/1000\n",
            "\u001b[1m12/12\u001b[0m \u001b[32m━━━━━━━━━━━━━━━━━━━━\u001b[0m\u001b[37m\u001b[0m \u001b[1m8s\u001b[0m 497ms/step - loss: 0.1054 - val_loss: 0.1415 - learning_rate: 0.0010\n",
            "Epoch 37/1000\n",
            "\u001b[1m12/12\u001b[0m \u001b[32m━━━━━━━━━━━━━━━━━━━━\u001b[0m\u001b[37m\u001b[0m \u001b[1m10s\u001b[0m 498ms/step - loss: 0.1052 - val_loss: 0.1413 - learning_rate: 0.0010\n",
            "Epoch 38/1000\n",
            "\u001b[1m12/12\u001b[0m \u001b[32m━━━━━━━━━━━━━━━━━━━━\u001b[0m\u001b[37m\u001b[0m \u001b[1m10s\u001b[0m 491ms/step - loss: 0.1049 - val_loss: 0.1412 - learning_rate: 0.0010\n",
            "Epoch 39/1000\n",
            "\u001b[1m12/12\u001b[0m \u001b[32m━━━━━━━━━━━━━━━━━━━━\u001b[0m\u001b[37m\u001b[0m \u001b[1m8s\u001b[0m 669ms/step - loss: 0.1046 - val_loss: 0.1411 - learning_rate: 0.0010\n",
            "Epoch 40/1000\n",
            "\u001b[1m12/12\u001b[0m \u001b[32m━━━━━━━━━━━━━━━━━━━━\u001b[0m\u001b[37m\u001b[0m \u001b[1m6s\u001b[0m 489ms/step - loss: 0.1044 - val_loss: 0.1410 - learning_rate: 0.0010\n",
            "Epoch 41/1000\n",
            "\u001b[1m12/12\u001b[0m \u001b[32m━━━━━━━━━━━━━━━━━━━━\u001b[0m\u001b[37m\u001b[0m \u001b[1m12s\u001b[0m 607ms/step - loss: 0.1039 - val_loss: 0.1409 - learning_rate: 0.0010\n",
            "Epoch 42/1000\n",
            "\u001b[1m12/12\u001b[0m \u001b[32m━━━━━━━━━━━━━━━━━━━━\u001b[0m\u001b[37m\u001b[0m \u001b[1m11s\u001b[0m 667ms/step - loss: 0.1037 - val_loss: 0.1407 - learning_rate: 0.0010\n",
            "Epoch 43/1000\n",
            "\u001b[1m12/12\u001b[0m \u001b[32m━━━━━━━━━━━━━━━━━━━━\u001b[0m\u001b[37m\u001b[0m \u001b[1m8s\u001b[0m 491ms/step - loss: 0.1034 - val_loss: 0.1409 - learning_rate: 0.0010\n",
            "Epoch 44/1000\n",
            "\u001b[1m12/12\u001b[0m \u001b[32m━━━━━━━━━━━━━━━━━━━━\u001b[0m\u001b[37m\u001b[0m \u001b[1m10s\u001b[0m 492ms/step - loss: 0.1031 - val_loss: 0.1409 - learning_rate: 0.0010\n",
            "Epoch 45/1000\n",
            "\u001b[1m12/12\u001b[0m \u001b[32m━━━━━━━━━━━━━━━━━━━━\u001b[0m\u001b[37m\u001b[0m \u001b[1m11s\u001b[0m 519ms/step - loss: 0.1029 - val_loss: 0.1409 - learning_rate: 0.0010\n",
            "Epoch 46/1000\n",
            "\u001b[1m12/12\u001b[0m \u001b[32m━━━━━━━━━━━━━━━━━━━━\u001b[0m\u001b[37m\u001b[0m \u001b[1m13s\u001b[0m 809ms/step - loss: 0.1027 - val_loss: 0.1404 - learning_rate: 0.0010\n",
            "Epoch 47/1000\n",
            "\u001b[1m12/12\u001b[0m \u001b[32m━━━━━━━━━━━━━━━━━━━━\u001b[0m\u001b[37m\u001b[0m \u001b[1m6s\u001b[0m 491ms/step - loss: 0.1024 - val_loss: 0.1403 - learning_rate: 0.0010\n",
            "Epoch 48/1000\n",
            "\u001b[1m12/12\u001b[0m \u001b[32m━━━━━━━━━━━━━━━━━━━━\u001b[0m\u001b[37m\u001b[0m \u001b[1m8s\u001b[0m 642ms/step - loss: 0.1023 - val_loss: 0.1402 - learning_rate: 0.0010\n",
            "Epoch 49/1000\n",
            "\u001b[1m12/12\u001b[0m \u001b[32m━━━━━━━━━━━━━━━━━━━━\u001b[0m\u001b[37m\u001b[0m \u001b[1m6s\u001b[0m 490ms/step - loss: 0.1022 - val_loss: 0.1402 - learning_rate: 0.0010\n",
            "Epoch 50/1000\n",
            "\u001b[1m12/12\u001b[0m \u001b[32m━━━━━━━━━━━━━━━━━━━━\u001b[0m\u001b[37m\u001b[0m \u001b[1m8s\u001b[0m 652ms/step - loss: 0.1023 - val_loss: 0.1395 - learning_rate: 0.0010\n",
            "Epoch 51/1000\n",
            "\u001b[1m12/12\u001b[0m \u001b[32m━━━━━━━━━━━━━━━━━━━━\u001b[0m\u001b[37m\u001b[0m \u001b[1m9s\u001b[0m 560ms/step - loss: 0.1019 - val_loss: 0.1400 - learning_rate: 0.0010\n",
            "Epoch 52/1000\n",
            "\u001b[1m12/12\u001b[0m \u001b[32m━━━━━━━━━━━━━━━━━━━━\u001b[0m\u001b[37m\u001b[0m \u001b[1m9s\u001b[0m 487ms/step - loss: 0.1016 - val_loss: 0.1393 - learning_rate: 0.0010\n",
            "Epoch 53/1000\n",
            "\u001b[1m12/12\u001b[0m \u001b[32m━━━━━━━━━━━━━━━━━━━━\u001b[0m\u001b[37m\u001b[0m \u001b[1m10s\u001b[0m 487ms/step - loss: 0.1013 - val_loss: 0.1404 - learning_rate: 0.0010\n",
            "Epoch 54/1000\n",
            "\u001b[1m12/12\u001b[0m \u001b[32m━━━━━━━━━━━━━━━━━━━━\u001b[0m\u001b[37m\u001b[0m \u001b[1m11s\u001b[0m 528ms/step - loss: 0.1013 - val_loss: 0.1396 - learning_rate: 0.0010\n",
            "Epoch 55/1000\n",
            "\u001b[1m12/12\u001b[0m \u001b[32m━━━━━━━━━━━━━━━━━━━━\u001b[0m\u001b[37m\u001b[0m \u001b[1m6s\u001b[0m 520ms/step - loss: 0.1011 - val_loss: 0.1401 - learning_rate: 0.0010\n",
            "Epoch 56/1000\n",
            "\u001b[1m12/12\u001b[0m \u001b[32m━━━━━━━━━━━━━━━━━━━━\u001b[0m\u001b[37m\u001b[0m \u001b[1m10s\u001b[0m 488ms/step - loss: 0.1009 - val_loss: 0.1395 - learning_rate: 0.0010\n",
            "Epoch 57/1000\n",
            "\u001b[1m12/12\u001b[0m \u001b[32m━━━━━━━━━━━━━━━━━━━━\u001b[0m\u001b[37m\u001b[0m \u001b[1m10s\u001b[0m 488ms/step - loss: 0.1006 - val_loss: 0.1387 - learning_rate: 0.0010\n",
            "Epoch 58/1000\n",
            "\u001b[1m12/12\u001b[0m \u001b[32m━━━━━━━━━━━━━━━━━━━━\u001b[0m\u001b[37m\u001b[0m \u001b[1m11s\u001b[0m 531ms/step - loss: 0.1005 - val_loss: 0.1389 - learning_rate: 0.0010\n",
            "Epoch 59/1000\n",
            "\u001b[1m12/12\u001b[0m \u001b[32m━━━━━━━━━━━━━━━━━━━━\u001b[0m\u001b[37m\u001b[0m \u001b[1m6s\u001b[0m 519ms/step - loss: 0.1003 - val_loss: 0.1391 - learning_rate: 0.0010\n",
            "Epoch 60/1000\n",
            "\u001b[1m12/12\u001b[0m \u001b[32m━━━━━━━━━━━━━━━━━━━━\u001b[0m\u001b[37m\u001b[0m \u001b[1m10s\u001b[0m 489ms/step - loss: 0.1001 - val_loss: 0.1392 - learning_rate: 0.0010\n",
            "Epoch 61/1000\n",
            "\u001b[1m12/12\u001b[0m \u001b[32m━━━━━━━━━━━━━━━━━━━━\u001b[0m\u001b[37m\u001b[0m \u001b[1m10s\u001b[0m 488ms/step - loss: 0.1000 - val_loss: 0.1389 - learning_rate: 0.0010\n",
            "Epoch 62/1000\n",
            "\u001b[1m12/12\u001b[0m \u001b[32m━━━━━━━━━━━━━━━━━━━━\u001b[0m\u001b[37m\u001b[0m \u001b[1m11s\u001b[0m 524ms/step - loss: 0.0999 - val_loss: 0.1394 - learning_rate: 0.0010\n",
            "Epoch 63/1000\n",
            "\u001b[1m12/12\u001b[0m \u001b[32m━━━━━━━━━━━━━━━━━━━━\u001b[0m\u001b[37m\u001b[0m \u001b[1m11s\u001b[0m 663ms/step - loss: 0.0999 - val_loss: 0.1390 - learning_rate: 0.0010\n",
            "Epoch 64/1000\n",
            "\u001b[1m12/12\u001b[0m \u001b[32m━━━━━━━━━━━━━━━━━━━━\u001b[0m\u001b[37m\u001b[0m \u001b[1m8s\u001b[0m 501ms/step - loss: 0.0997 - val_loss: 0.1393 - learning_rate: 0.0010\n",
            "Epoch 65/1000\n",
            "\u001b[1m12/12\u001b[0m \u001b[32m━━━━━━━━━━━━━━━━━━━━\u001b[0m\u001b[37m\u001b[0m \u001b[1m8s\u001b[0m 612ms/step - loss: 0.0997 - val_loss: 0.1383 - learning_rate: 0.0010\n",
            "Epoch 66/1000\n",
            "\u001b[1m12/12\u001b[0m \u001b[32m━━━━━━━━━━━━━━━━━━━━\u001b[0m\u001b[37m\u001b[0m \u001b[1m6s\u001b[0m 486ms/step - loss: 0.0995 - val_loss: 0.1389 - learning_rate: 0.0010\n",
            "Epoch 67/1000\n",
            "\u001b[1m12/12\u001b[0m \u001b[32m━━━━━━━━━━━━━━━━━━━━\u001b[0m\u001b[37m\u001b[0m \u001b[1m8s\u001b[0m 649ms/step - loss: 0.0996 - val_loss: 0.1395 - learning_rate: 0.0010\n",
            "Epoch 68/1000\n",
            "\u001b[1m12/12\u001b[0m \u001b[32m━━━━━━━━━━━━━━━━━━━━\u001b[0m\u001b[37m\u001b[0m \u001b[1m9s\u001b[0m 573ms/step - loss: 0.0992 - val_loss: 0.1388 - learning_rate: 0.0010\n",
            "Epoch 69/1000\n",
            "\u001b[1m12/12\u001b[0m \u001b[32m━━━━━━━━━━━━━━━━━━━━\u001b[0m\u001b[37m\u001b[0m \u001b[1m9s\u001b[0m 490ms/step - loss: 0.0989 - val_loss: 0.1387 - learning_rate: 0.0010\n",
            "Epoch 70/1000\n",
            "\u001b[1m12/12\u001b[0m \u001b[32m━━━━━━━━━━━━━━━━━━━━\u001b[0m\u001b[37m\u001b[0m \u001b[1m10s\u001b[0m 486ms/step - loss: 0.0990 - val_loss: 0.1394 - learning_rate: 0.0010\n",
            "Epoch 71/1000\n",
            "\u001b[1m12/12\u001b[0m \u001b[32m━━━━━━━━━━━━━━━━━━━━\u001b[0m\u001b[37m\u001b[0m \u001b[1m11s\u001b[0m 529ms/step - loss: 0.0992 - val_loss: 0.1385 - learning_rate: 0.0010\n",
            "Epoch 72/1000\n",
            "\u001b[1m12/12\u001b[0m \u001b[32m━━━━━━━━━━━━━━━━━━━━\u001b[0m\u001b[37m\u001b[0m \u001b[1m11s\u001b[0m 665ms/step - loss: 0.0987 - val_loss: 0.1386 - learning_rate: 0.0010\n",
            "Epoch 73/1000\n",
            "\u001b[1m12/12\u001b[0m \u001b[32m━━━━━━━━━━━━━━━━━━━━\u001b[0m\u001b[37m\u001b[0m \u001b[1m8s\u001b[0m 503ms/step - loss: 0.0985 - val_loss: 0.1382 - learning_rate: 0.0010\n",
            "Epoch 74/1000\n",
            "\u001b[1m12/12\u001b[0m \u001b[32m━━━━━━━━━━━━━━━━━━━━\u001b[0m\u001b[37m\u001b[0m \u001b[1m8s\u001b[0m 619ms/step - loss: 0.0984 - val_loss: 0.1395 - learning_rate: 0.0010\n",
            "Epoch 75/1000\n",
            "\u001b[1m12/12\u001b[0m \u001b[32m━━━━━━━━━━━━━━━━━━━━\u001b[0m\u001b[37m\u001b[0m \u001b[1m10s\u001b[0m 635ms/step - loss: 0.0986 - val_loss: 0.1389 - learning_rate: 0.0010\n",
            "Epoch 76/1000\n",
            "\u001b[1m12/12\u001b[0m \u001b[32m━━━━━━━━━━━━━━━━━━━━\u001b[0m\u001b[37m\u001b[0m \u001b[1m6s\u001b[0m 492ms/step - loss: 0.0983 - val_loss: 0.1398 - learning_rate: 0.0010\n",
            "Epoch 77/1000\n",
            "\u001b[1m12/12\u001b[0m \u001b[32m━━━━━━━━━━━━━━━━━━━━\u001b[0m\u001b[37m\u001b[0m \u001b[1m7s\u001b[0m 593ms/step - loss: 0.0987 - val_loss: 0.1378 - learning_rate: 0.0010\n",
            "Epoch 78/1000\n",
            "\u001b[1m12/12\u001b[0m \u001b[32m━━━━━━━━━━━━━━━━━━━━\u001b[0m\u001b[37m\u001b[0m \u001b[1m9s\u001b[0m 708ms/step - loss: 0.0980 - val_loss: 0.1382 - learning_rate: 0.0010\n",
            "Epoch 79/1000\n",
            "\u001b[1m12/12\u001b[0m \u001b[32m━━━━━━━━━━━━━━━━━━━━\u001b[0m\u001b[37m\u001b[0m \u001b[1m6s\u001b[0m 496ms/step - loss: 0.0978 - val_loss: 0.1380 - learning_rate: 0.0010\n",
            "Epoch 80/1000\n",
            "\u001b[1m12/12\u001b[0m \u001b[32m━━━━━━━━━━━━━━━━━━━━\u001b[0m\u001b[37m\u001b[0m \u001b[1m10s\u001b[0m 490ms/step - loss: 0.0977 - val_loss: 0.1382 - learning_rate: 0.0010\n",
            "Epoch 81/1000\n",
            "\u001b[1m12/12\u001b[0m \u001b[32m━━━━━━━━━━━━━━━━━━━━\u001b[0m\u001b[37m\u001b[0m \u001b[1m8s\u001b[0m 663ms/step - loss: 0.0976 - val_loss: 0.1386 - learning_rate: 0.0010\n",
            "Epoch 82/1000\n",
            "\u001b[1m12/12\u001b[0m \u001b[32m━━━━━━━━━━━━━━━━━━━━\u001b[0m\u001b[37m\u001b[0m \u001b[1m8s\u001b[0m 495ms/step - loss: 0.0975 - val_loss: 0.1376 - learning_rate: 0.0010\n",
            "Epoch 83/1000\n",
            "\u001b[1m12/12\u001b[0m \u001b[32m━━━━━━━━━━━━━━━━━━━━\u001b[0m\u001b[37m\u001b[0m \u001b[1m10s\u001b[0m 489ms/step - loss: 0.0972 - val_loss: 0.1380 - learning_rate: 0.0010\n",
            "Epoch 84/1000\n",
            "\u001b[1m12/12\u001b[0m \u001b[32m━━━━━━━━━━━━━━━━━━━━\u001b[0m\u001b[37m\u001b[0m \u001b[1m10s\u001b[0m 490ms/step - loss: 0.0970 - val_loss: 0.1383 - learning_rate: 0.0010\n",
            "Epoch 85/1000\n",
            "\u001b[1m12/12\u001b[0m \u001b[32m━━━━━━━━━━━━━━━━━━━━\u001b[0m\u001b[37m\u001b[0m \u001b[1m11s\u001b[0m 551ms/step - loss: 0.0969 - val_loss: 0.1379 - learning_rate: 0.0010\n",
            "Epoch 86/1000\n",
            "\u001b[1m12/12\u001b[0m \u001b[32m━━━━━━━━━━━━━━━━━━━━\u001b[0m\u001b[37m\u001b[0m \u001b[1m11s\u001b[0m 667ms/step - loss: 0.0968 - val_loss: 0.1374 - learning_rate: 0.0010\n",
            "Epoch 87/1000\n",
            "\u001b[1m12/12\u001b[0m \u001b[32m━━━━━━━━━━━━━━━━━━━━\u001b[0m\u001b[37m\u001b[0m \u001b[1m6s\u001b[0m 490ms/step - loss: 0.0969 - val_loss: 0.1382 - learning_rate: 0.0010\n",
            "Epoch 88/1000\n",
            "\u001b[1m12/12\u001b[0m \u001b[32m━━━━━━━━━━━━━━━━━━━━\u001b[0m\u001b[37m\u001b[0m \u001b[1m10s\u001b[0m 485ms/step - loss: 0.0970 - val_loss: 0.1374 - learning_rate: 0.0010\n",
            "Epoch 89/1000\n",
            "\u001b[1m12/12\u001b[0m \u001b[32m━━━━━━━━━━━━━━━━━━━━\u001b[0m\u001b[37m\u001b[0m \u001b[1m12s\u001b[0m 636ms/step - loss: 0.0969 - val_loss: 0.1378 - learning_rate: 0.0010\n",
            "Epoch 90/1000\n",
            "\u001b[1m12/12\u001b[0m \u001b[32m━━━━━━━━━━━━━━━━━━━━\u001b[0m\u001b[37m\u001b[0m \u001b[1m10s\u001b[0m 598ms/step - loss: 0.0967 - val_loss: 0.1378 - learning_rate: 0.0010\n",
            "Epoch 91/1000\n",
            "\u001b[1m12/12\u001b[0m \u001b[32m━━━━━━━━━━━━━━━━━━━━\u001b[0m\u001b[37m\u001b[0m \u001b[1m9s\u001b[0m 490ms/step - loss: 0.0967 - val_loss: 0.1377 - learning_rate: 0.0010\n",
            "Epoch 92/1000\n",
            "\u001b[1m12/12\u001b[0m \u001b[32m━━━━━━━━━━━━━━━━━━━━\u001b[0m\u001b[37m\u001b[0m \u001b[1m10s\u001b[0m 490ms/step - loss: 0.0971 - val_loss: 0.1398 - learning_rate: 0.0010\n",
            "Epoch 93/1000\n",
            "\u001b[1m12/12\u001b[0m \u001b[32m━━━━━━━━━━━━━━━━━━━━\u001b[0m\u001b[37m\u001b[0m \u001b[1m11s\u001b[0m 525ms/step - loss: 0.0973 - val_loss: 0.1376 - learning_rate: 0.0010\n",
            "Epoch 94/1000\n",
            "\u001b[1m12/12\u001b[0m \u001b[32m━━━━━━━━━━━━━━━━━━━━\u001b[0m\u001b[37m\u001b[0m \u001b[1m11s\u001b[0m 658ms/step - loss: 0.0966 - val_loss: 0.1375 - learning_rate: 0.0010\n",
            "Epoch 95/1000\n",
            "\u001b[1m12/12\u001b[0m \u001b[32m━━━━━━━━━━━━━━━━━━━━\u001b[0m\u001b[37m\u001b[0m \u001b[1m9s\u001b[0m 504ms/step - loss: 0.0962 - val_loss: 0.1396 - learning_rate: 0.0010\n",
            "Epoch 96/1000\n",
            "\u001b[1m12/12\u001b[0m \u001b[32m━━━━━━━━━━━━━━━━━━━━\u001b[0m\u001b[37m\u001b[0m \u001b[1m10s\u001b[0m 489ms/step - loss: 0.0962 - val_loss: 0.1395 - learning_rate: 0.0010\n",
            "Epoch 97/1000\n",
            "\u001b[1m12/12\u001b[0m \u001b[32m━━━━━━━━━━━━━━━━━━━━\u001b[0m\u001b[37m\u001b[0m \u001b[1m10s\u001b[0m 484ms/step - loss: 0.0961 - val_loss: 0.1369 - learning_rate: 0.0010\n",
            "Epoch 98/1000\n",
            "\u001b[1m12/12\u001b[0m \u001b[32m━━━━━━━━━━━━━━━━━━━━\u001b[0m\u001b[37m\u001b[0m \u001b[1m11s\u001b[0m 541ms/step - loss: 0.0957 - val_loss: 0.1379 - learning_rate: 0.0010\n",
            "Epoch 99/1000\n",
            "\u001b[1m12/12\u001b[0m \u001b[32m━━━━━━━━━━━━━━━━━━━━\u001b[0m\u001b[37m\u001b[0m \u001b[1m6s\u001b[0m 511ms/step - loss: 0.0956 - val_loss: 0.1364 - learning_rate: 0.0010\n",
            "Epoch 100/1000\n",
            "\u001b[1m12/12\u001b[0m \u001b[32m━━━━━━━━━━━━━━━━━━━━\u001b[0m\u001b[37m\u001b[0m \u001b[1m10s\u001b[0m 486ms/step - loss: 0.0956 - val_loss: 0.1406 - learning_rate: 0.0010\n",
            "Epoch 101/1000\n",
            "\u001b[1m12/12\u001b[0m \u001b[32m━━━━━━━━━━━━━━━━━━━━\u001b[0m\u001b[37m\u001b[0m \u001b[1m10s\u001b[0m 488ms/step - loss: 0.0959 - val_loss: 0.1381 - learning_rate: 0.0010\n",
            "Epoch 102/1000\n",
            "\u001b[1m12/12\u001b[0m \u001b[32m━━━━━━━━━━━━━━━━━━━━\u001b[0m\u001b[37m\u001b[0m \u001b[1m8s\u001b[0m 669ms/step - loss: 0.0953 - val_loss: 0.1389 - learning_rate: 0.0010\n",
            "Epoch 103/1000\n",
            "\u001b[1m12/12\u001b[0m \u001b[32m━━━━━━━━━━━━━━━━━━━━\u001b[0m\u001b[37m\u001b[0m \u001b[1m8s\u001b[0m 494ms/step - loss: 0.0953 - val_loss: 0.1383 - learning_rate: 0.0010\n",
            "Epoch 104/1000\n",
            "\u001b[1m12/12\u001b[0m \u001b[32m━━━━━━━━━━━━━━━━━━━━\u001b[0m\u001b[37m\u001b[0m \u001b[1m10s\u001b[0m 492ms/step - loss: 0.0953 - val_loss: 0.1375 - learning_rate: 0.0010\n",
            "Epoch 105/1000\n",
            "\u001b[1m12/12\u001b[0m \u001b[32m━━━━━━━━━━━━━━━━━━━━\u001b[0m\u001b[37m\u001b[0m \u001b[1m8s\u001b[0m 670ms/step - loss: 0.0950 - val_loss: 0.1374 - learning_rate: 0.0010\n",
            "Epoch 106/1000\n",
            "\u001b[1m12/12\u001b[0m \u001b[32m━━━━━━━━━━━━━━━━━━━━\u001b[0m\u001b[37m\u001b[0m \u001b[1m8s\u001b[0m 492ms/step - loss: 0.0951 - val_loss: 0.1374 - learning_rate: 0.0010\n",
            "Epoch 107/1000\n",
            "\u001b[1m12/12\u001b[0m \u001b[32m━━━━━━━━━━━━━━━━━━━━\u001b[0m\u001b[37m\u001b[0m \u001b[1m10s\u001b[0m 858ms/step - loss: 0.0950 - val_loss: 0.1373 - learning_rate: 0.0010\n",
            "Epoch 108/1000\n",
            "\u001b[1m12/12\u001b[0m \u001b[32m━━━━━━━━━━━━━━━━━━━━\u001b[0m\u001b[37m\u001b[0m \u001b[1m6s\u001b[0m 496ms/step - loss: 0.0949 - val_loss: 0.1390 - learning_rate: 0.0010\n",
            "Epoch 109/1000\n",
            "\u001b[1m12/12\u001b[0m \u001b[32m━━━━━━━━━━━━━━━━━━━━\u001b[0m\u001b[37m\u001b[0m \u001b[1m11s\u001b[0m 520ms/step - loss: 0.0949 - val_loss: 0.1415 - learning_rate: 0.0010\n"
          ]
        },
        {
          "output_type": "display_data",
          "data": {
            "text/plain": [
              "<Figure size 640x480 with 1 Axes>"
            ],
            "image/png": "[encoded data removed]"
          },
          "metadata": {}
        }
      ],
      "source": [
        "#training the model\n",
        "history = model.fit([X_S_train, X_F_train], # sequential and non-sequential inputs\n",
        "                    [Ytrain],\n",
        "                    validation_data=([X_S_val, X_F_val], Yval),\n",
        "                    epochs=1000,\n",
        "                    batch_size=128,\n",
        "                    shuffle=True,\n",
        "                    callbacks=[early_stopping, lr_schedule]\n",
        ")\n",
        "\n",
        "# Plot training & validation loss values\n",
        "plt.plot(history.history['loss'])\n",
        "plt.plot(history.history['val_loss'])\n",
        "plt.title('Model loss')\n",
        "plt.xlabel('Epoch')\n",
        "plt.ylabel('Loss')\n",
        "plt.legend(['Train', 'Validation'], loc='upper right')\n",
        "plt.show()"
      ]
    },
    {
      "cell_type": "markdown",
      "metadata": {
        "id": "VVVnrOvCFTGR"
      },
      "source": [
        "### Prediction and sMAPE\n",
        "Performance evaluation of the hybrid LSTM-DNN model on the test set"
      ]
    },
    {
      "cell_type": "code",
      "execution_count": 119,
      "metadata": {
        "colab": {
          "base_uri": "https://localhost:8080/"
        },
        "id": "NoV9v6Q5vDBa",
        "outputId": "b4b23356-80d4-4a6a-e03f-2bae05a0a805"
      },
      "outputs": [
        {
          "output_type": "stream",
          "name": "stdout",
          "text": [
            "    Valori Attesi  Predizioni\n",
            "0           22.86   19.698660\n",
            "1           18.84   19.001488\n",
            "2           17.60   17.762600\n",
            "3           17.42   12.600945\n",
            "4           17.01   11.039365\n",
            "5           20.00   18.196604\n",
            "6           28.23   34.959118\n",
            "7           35.72   48.653522\n",
            "8           34.00   51.674606\n",
            "9           31.49   50.114826\n",
            "10          30.63   49.472092\n",
            "11          30.12   45.788429\n",
            "12          27.69   43.456726\n",
            "13          24.50   45.673431\n",
            "14          22.76   38.502262\n",
            "15          22.78   35.770264\n",
            "16          23.40   33.818298\n",
            "17          26.58   40.386745\n",
            "18          34.03   56.527328\n",
            "19          41.54   61.430523\n",
            "sMAPE: 18.59%\n"
          ]
        }
      ],
      "source": [
        "Yp = model.predict([X_S_test, X_F_test], verbose=0).squeeze()\n",
        "Yp = y_scaler.inverse_transform(Yp).squeeze()\n",
        "\n",
        "results = pd.DataFrame({\n",
        "    'Valori Attesi': Ytest.flatten(),\n",
        "    'Predizioni': Yp.flatten()\n",
        "})\n",
        "\n",
        "print(results.head(20))\n",
        "\n",
        "# Calculate and print the metrics\n",
        "smape_value = smape(tf.cast(Ytest, dtype=tf.float64), tf.cast(Yp, dtype=tf.float64))\n",
        "print(f'sMAPE: {smape_value:.2f}%')"
      ]
    },
    {
      "cell_type": "markdown",
      "metadata": {
        "id": "geEXOMurivCu"
      },
      "source": [
        "##GRU-DNN model"
      ]
    },
    {
      "cell_type": "code",
      "execution_count": 70,
      "metadata": {
        "id": "FV3erE9RizCI"
      },
      "outputs": [],
      "source": [
        "activationFunctionDNN = 'relu'\n",
        "activationFunctionGRU = 'tanh'\n",
        "dropoutGRUDNN = 0.32\n",
        "nDNN = 166\n",
        "nGRU = 132\n",
        "sequenceLength = 504  # 3 weeks of hourly data\n",
        "n_hours = 24\n",
        "hours = range(n_hours)\n",
        "timesteps = sequenceLength  # 3 weeks of hourly data"
      ]
    },
    {
      "cell_type": "markdown",
      "metadata": {
        "id": "phG-BrSO63Fg"
      },
      "source": [
        "###X_F - day-ahead input"
      ]
    },
    {
      "cell_type": "code",
      "execution_count": 71,
      "metadata": {
        "id": "vgny7-FF7RMC"
      },
      "outputs": [],
      "source": [
        "columns_X_F = ['Day'] +  \\\n",
        "          [f'Generation_D_h{hour}' for hour in hours] + \\\n",
        "          [f'Load_D_h{hour}' for hour in hours]\n",
        "\n",
        "n_features_F = len(columns_X_F)"
      ]
    },
    {
      "cell_type": "code",
      "execution_count": 72,
      "metadata": {
        "id": "3vS-KQXq62Zo"
      },
      "outputs": [],
      "source": [
        "indexTrain = train_df.iloc[24:,:].loc[train_df.index[0] :].index\n",
        "indexTest = test_df.iloc[24:,:].loc[test_df.index[0] :].index\n",
        "indexVal = val_df.iloc[24:,:].loc[val_df.index[0] :].index\n",
        "\n",
        "predDatesTrain = indexTrain[::24]\n",
        "predDatesVal = indexVal[::24]\n",
        "predDatesTest = indexTest[::24]\n",
        "\n",
        "indexTrain = pd.DataFrame(index=predDatesTrain, columns=['h' + str(hour) for hour in range(24)])\n",
        "indexVal = pd.DataFrame(index=predDatesVal, columns=['h' + str(hour) for hour in range(24)])\n",
        "indexTest = pd.DataFrame(index=predDatesTest, columns=['h' + str(hour) for hour in range(24)])\n",
        "\n",
        "for hour in range(24):\n",
        "  indexTrain.loc[:, 'h' + str(hour)] = indexTrain.index + pd.Timedelta(hours=hour)\n",
        "  indexVal.loc[:, 'h' + str(hour)] = indexVal.index + pd.Timedelta(hours=hour)\n",
        "  indexTest.loc[:, 'h' + str(hour)] = indexTest.index + pd.Timedelta(hours=hour)\n",
        "\n",
        "# Preallocating in memory the X and Y arrays\n",
        "X_F_train = np.zeros([indexTrain.shape[0], n_features_F])\n",
        "Ytrain = np.zeros([indexTrain.shape[0], n_hours])\n",
        "X_F_val = np.zeros([indexVal.shape[0], n_features_F])\n",
        "Yval = np.zeros([indexVal.shape[0], n_hours])\n",
        "X_F_test = np.zeros([indexTest.shape[0], n_features_F])\n",
        "Ytest = np.zeros([indexTest.shape[0], n_hours])\n",
        "\n",
        "indexFeatures_F = 0\n",
        "\n",
        "\n",
        "# Adding the day of the week as a feature\n",
        "X_F_train[:, 0] = indexTrain.index.dayofweek\n",
        "X_F_val[:, 0] = indexVal.index.dayofweek\n",
        "X_F_test[:, 0] = indexTest.index.dayofweek\n",
        "indexFeatures_F += 1\n",
        "\n",
        "\n",
        "# Adding generation inputs at day D\n",
        "for hour in range(24):\n",
        "    past_day = 1\n",
        "    #define the corresponding future index at time D\n",
        "    futureIndexTrain = pd.to_datetime(indexTrain.loc[:, 'h' + str(hour)].values)\n",
        "    futureIndexVal = pd.to_datetime(indexVal.loc[:, 'h' + str(hour)].values)\n",
        "    futureIndexTest = pd.to_datetime(indexTest.loc[:, 'h' + str(hour)].values)\n",
        "\n",
        "    X_F_train[:, indexFeatures_F] = train_df.loc[futureIndexTrain, 'Generation forecast']\n",
        "    X_F_val[:, indexFeatures_F] = val_df.loc[futureIndexVal, 'Generation forecast']\n",
        "    X_F_test[:, indexFeatures_F] = test_df.loc[futureIndexTest, 'Generation forecast']\n",
        "    indexFeatures_F += 1\n",
        "\n",
        "\n",
        "#adding load inputs at day D\n",
        "for hour in range(24):\n",
        "    past_day = 1\n",
        "    #define the corresponding future index at time D\n",
        "    futureIndexTrain = pd.to_datetime(indexTrain.loc[:, 'h' + str(hour)].values)\n",
        "    futureIndexVal = pd.to_datetime(indexVal.loc[:, 'h' + str(hour)].values)\n",
        "    futureIndexTest = pd.to_datetime(indexTest.loc[:, 'h' + str(hour)].values)\n",
        "\n",
        "    # Adding Load inputs at day D\n",
        "    X_F_train[:, indexFeatures_F] = train_df.loc[futureIndexTrain, 'System load forecast']\n",
        "    X_F_val[:, indexFeatures_F] = val_df.loc[futureIndexVal, 'System load forecast']\n",
        "    X_F_test[:, indexFeatures_F] = test_df.loc[futureIndexTest, 'System load forecast']\n",
        "    indexFeatures_F += 1"
      ]
    },
    {
      "cell_type": "markdown",
      "metadata": {
        "id": "48QmM_cq7aMf"
      },
      "source": [
        "### Y - target:"
      ]
    },
    {
      "cell_type": "code",
      "execution_count": 73,
      "metadata": {
        "id": "CI8NJV4p7chf"
      },
      "outputs": [],
      "source": [
        "# Extracting the predicted values Y\n",
        "for hour in range(24):\n",
        "  futureIndexTrain = pd.to_datetime(indexTrain.loc[:, 'h' + str(hour)].values)\n",
        "  futureIndexVal = pd.to_datetime(indexVal.loc[:, 'h' + str(hour)].values)\n",
        "  futureIndexTest = pd.to_datetime(indexTest.loc[:, 'h' + str(hour)].values)\n",
        "\n",
        "  Ytrain[:, hour] = train_df.loc[futureIndexTrain, 'Prices']\n",
        "  Yval[:,hour] = val_df.loc[futureIndexVal, 'Prices']\n",
        "  Ytest[:, hour] = test_df.loc[futureIndexTest, 'Prices']\n",
        "\n",
        "# Redefining indexTest to return only the dates at which a prediction is made\n",
        "indexTest = indexTest.index"
      ]
    },
    {
      "cell_type": "code",
      "execution_count": 74,
      "metadata": {
        "colab": {
          "base_uri": "https://localhost:8080/"
        },
        "id": "zJhg2pPD7erk",
        "outputId": "487e2fad-c0cf-4505-8200-3681c9a90226"
      },
      "outputs": [
        {
          "output_type": "stream",
          "name": "stdout",
          "text": [
            "(1542, 24)\n",
            "(319, 24)\n",
            "(320, 24)\n"
          ]
        }
      ],
      "source": [
        "print(Ytrain.shape)\n",
        "print(Yval.shape)\n",
        "print(Ytest.shape)"
      ]
    },
    {
      "cell_type": "markdown",
      "metadata": {
        "id": "mMItzjzW7j-q"
      },
      "source": [
        "### X_S - past informations"
      ]
    },
    {
      "cell_type": "code",
      "execution_count": 75,
      "metadata": {
        "colab": {
          "base_uri": "https://localhost:8080/"
        },
        "id": "99vB8yka7hp-",
        "outputId": "03ef7d3e-ecda-4aef-f997-43c01b638f82"
      },
      "outputs": [
        {
          "output_type": "stream",
          "name": "stdout",
          "text": [
            "(1522, 504, 1)\n",
            "(299, 504, 1)\n",
            "(300, 504, 1)\n"
          ]
        }
      ],
      "source": [
        "#past information (collection of past values) = sequential inputs --> GRU\n",
        "#group by timesteps\n",
        "def create_sequences(data, steps):\n",
        "    X = []\n",
        "    for i in range(steps, len(data), n_hours):\n",
        "      X.append(data.iloc[i-steps:i].values)\n",
        "    return np.array(X)\n",
        "\n",
        "# Creazione di X_S per il training, validation e test set\n",
        "X_S_train = create_sequences(train_df[['Prices']], timesteps) #start from 23/01/2011\n",
        "X_S_val = create_sequences(val_df[['Prices']], timesteps)\n",
        "X_S_test = create_sequences(test_df[['Prices']], timesteps)\n",
        "\n",
        "print(X_S_train.shape)\n",
        "print(X_S_val.shape)\n",
        "print(X_S_test.shape)"
      ]
    },
    {
      "cell_type": "markdown",
      "metadata": {
        "id": "UxFJIeOn75b_"
      },
      "source": [
        "The size and samples of X_S, X_F and Y have to match:\n",
        "\n",
        "\n"
      ]
    },
    {
      "cell_type": "code",
      "execution_count": 76,
      "metadata": {
        "colab": {
          "base_uri": "https://localhost:8080/"
        },
        "id": "CYYPP1l37o_n",
        "outputId": "bc020c8d-0804-4125-a32a-82f30df638e5"
      },
      "outputs": [
        {
          "output_type": "stream",
          "name": "stdout",
          "text": [
            "(1522, 49)\n",
            "(299, 49)\n",
            "(300, 49)\n",
            "(1522, 24)\n",
            "(299, 24)\n",
            "(300, 24)\n"
          ]
        }
      ],
      "source": [
        "X_F_train = X_F_train[20:]   # Remove the first 20 days\n",
        "X_F_val = X_F_val[20:]\n",
        "X_F_test = X_F_test[20:]\n",
        "Ytrain = Ytrain[20:]   # Remove the first 20 days\n",
        "Yval = Yval[20:]\n",
        "Ytest = Ytest[20:]\n",
        "print(X_F_train.shape)\n",
        "print(X_F_val.shape)\n",
        "print(X_F_test.shape)\n",
        "print(Ytrain.shape)\n",
        "print(Yval.shape)\n",
        "print(Ytest.shape)"
      ]
    },
    {
      "cell_type": "code",
      "execution_count": 77,
      "metadata": {
        "colab": {
          "base_uri": "https://localhost:8080/"
        },
        "id": "P1YjD1q68feQ",
        "outputId": "1403483d-6cb9-4e5d-f36d-28041fcb6726"
      },
      "outputs": [
        {
          "output_type": "stream",
          "name": "stdout",
          "text": [
            "1\n",
            "49\n"
          ]
        }
      ],
      "source": [
        "x_seq_num_features = X_S_train.shape[2]\n",
        "x_non_seq_num_features = X_F_train.shape[1]\n",
        "print(x_seq_num_features)\n",
        "print(x_non_seq_num_features)"
      ]
    },
    {
      "cell_type": "markdown",
      "metadata": {
        "id": "WGm8eKy58qzV"
      },
      "source": [
        "### Data Normalization"
      ]
    },
    {
      "cell_type": "code",
      "execution_count": 78,
      "metadata": {
        "id": "m6yJ7BNq8seM"
      },
      "outputs": [],
      "source": [
        "# Scale X_F\n",
        "scaler_F = MinMaxScaler(feature_range=(-1, 1))\n",
        "X_F_train = scaler_F.fit_transform(X_F_train)\n",
        "X_F_val = scaler_F.transform(X_F_val)\n",
        "X_F_test = scaler_F.transform(X_F_test)\n",
        "\n",
        "# Scale X_S\n",
        "scale_S = MinMaxScaler(feature_range=(-1, 1))\n",
        "X_S_train = scale_S.fit_transform(X_S_train.reshape(-1, x_seq_num_features)).reshape(X_S_train.shape)\n",
        "X_S_val = scale_S.transform(X_S_val.reshape(-1, x_seq_num_features)).reshape(X_S_val.shape)\n",
        "X_S_test = scale_S.transform(X_S_test.reshape(-1, x_seq_num_features)).reshape(X_S_test.shape)\n",
        "\n",
        "# Scale the target values\n",
        "y_scaler = MinMaxScaler(feature_range=(-1, 1))\n",
        "Ytrain = y_scaler.fit_transform(Ytrain)\n",
        "Yval = y_scaler.transform(Yval)"
      ]
    },
    {
      "cell_type": "markdown",
      "metadata": {
        "id": "EsoSU8rU7HaN"
      },
      "source": [
        "### Model"
      ]
    },
    {
      "cell_type": "code",
      "execution_count": 79,
      "metadata": {
        "colab": {
          "base_uri": "https://localhost:8080/",
          "height": 427
        },
        "id": "XdI4_GUB6REH",
        "outputId": "1858c3ad-64c5-4f8f-eb6f-83dec87c0f25"
      },
      "outputs": [
        {
          "output_type": "display_data",
          "data": {
            "text/plain": [
              "\u001b[1mModel: \"functional_4\"\u001b[0m\n"
            ],
            "text/html": [
              "<pre style=\"white-space:pre;overflow-x:auto;line-height:normal;font-family:Menlo,'DejaVu Sans Mono',consolas,'Courier New',monospace\"><span style=\"font-weight: bold\">Model: \"functional_4\"</span>\n",
              "</pre>\n"
            ]
          },
          "metadata": {}
        },
        {
          "output_type": "display_data",
          "data": {
            "text/plain": [
              "┏━━━━━━━━━━━━━━━━━━━━━━━━━━━┳━━━━━━━━━━━━━━━━━━━━━━━━┳━━━━━━━━━━━━━━━━┳━━━━━━━━━━━━━━━━━━━━━━━━┓\n",
              "┃\u001b[1m \u001b[0m\u001b[1mLayer (type)             \u001b[0m\u001b[1m \u001b[0m┃\u001b[1m \u001b[0m\u001b[1mOutput Shape          \u001b[0m\u001b[1m \u001b[0m┃\u001b[1m \u001b[0m\u001b[1m       Param #\u001b[0m\u001b[1m \u001b[0m┃\u001b[1m \u001b[0m\u001b[1mConnected to          \u001b[0m\u001b[1m \u001b[0m┃\n",
              "┡━━━━━━━━━━━━━━━━━━━━━━━━━━━╇━━━━━━━━━━━━━━━━━━━━━━━━╇━━━━━━━━━━━━━━━━╇━━━━━━━━━━━━━━━━━━━━━━━━┩\n",
              "│ input_layer_2             │ (\u001b[38;5;45mNone\u001b[0m, \u001b[38;5;34m504\u001b[0m, \u001b[38;5;34m1\u001b[0m)         │              \u001b[38;5;34m0\u001b[0m │ -                      │\n",
              "│ (\u001b[38;5;33mInputLayer\u001b[0m)              │                        │                │                        │\n",
              "├───────────────────────────┼────────────────────────┼────────────────┼────────────────────────┤\n",
              "│ gru_2 (\u001b[38;5;33mGRU\u001b[0m)               │ (\u001b[38;5;45mNone\u001b[0m, \u001b[38;5;34m132\u001b[0m)            │         \u001b[38;5;34m53,460\u001b[0m │ input_layer_2[\u001b[38;5;34m0\u001b[0m][\u001b[38;5;34m0\u001b[0m]    │\n",
              "├───────────────────────────┼────────────────────────┼────────────────┼────────────────────────┤\n",
              "│ non_sequential_input      │ (\u001b[38;5;45mNone\u001b[0m, \u001b[38;5;34m49\u001b[0m)             │              \u001b[38;5;34m0\u001b[0m │ -                      │\n",
              "│ (\u001b[38;5;33mInputLayer\u001b[0m)              │                        │                │                        │\n",
              "├───────────────────────────┼────────────────────────┼────────────────┼────────────────────────┤\n",
              "│ dropout_2 (\u001b[38;5;33mDropout\u001b[0m)       │ (\u001b[38;5;45mNone\u001b[0m, \u001b[38;5;34m132\u001b[0m)            │              \u001b[38;5;34m0\u001b[0m │ gru_2[\u001b[38;5;34m0\u001b[0m][\u001b[38;5;34m0\u001b[0m]            │\n",
              "├───────────────────────────┼────────────────────────┼────────────────┼────────────────────────┤\n",
              "│ DNN (\u001b[38;5;33mDense\u001b[0m)               │ (\u001b[38;5;45mNone\u001b[0m, \u001b[38;5;34m166\u001b[0m)            │          \u001b[38;5;34m8,300\u001b[0m │ non_sequential_input[\u001b[38;5;34m…\u001b[0m │\n",
              "├───────────────────────────┼────────────────────────┼────────────────┼────────────────────────┤\n",
              "│ concat (\u001b[38;5;33mConcatenate\u001b[0m)      │ (\u001b[38;5;45mNone\u001b[0m, \u001b[38;5;34m298\u001b[0m)            │              \u001b[38;5;34m0\u001b[0m │ dropout_2[\u001b[38;5;34m0\u001b[0m][\u001b[38;5;34m0\u001b[0m],       │\n",
              "│                           │                        │                │ DNN[\u001b[38;5;34m0\u001b[0m][\u001b[38;5;34m0\u001b[0m]              │\n",
              "├───────────────────────────┼────────────────────────┼────────────────┼────────────────────────┤\n",
              "│ output (\u001b[38;5;33mDense\u001b[0m)            │ (\u001b[38;5;45mNone\u001b[0m, \u001b[38;5;34m24\u001b[0m)             │          \u001b[38;5;34m7,176\u001b[0m │ concat[\u001b[38;5;34m0\u001b[0m][\u001b[38;5;34m0\u001b[0m]           │\n",
              "└───────────────────────────┴────────────────────────┴────────────────┴────────────────────────┘\n"
            ],
            "text/html": [
              "<pre style=\"white-space:pre;overflow-x:auto;line-height:normal;font-family:Menlo,'DejaVu Sans Mono',consolas,'Courier New',monospace\">┏━━━━━━━━━━━━━━━━━━━━━━━━━━━┳━━━━━━━━━━━━━━━━━━━━━━━━┳━━━━━━━━━━━━━━━━┳━━━━━━━━━━━━━━━━━━━━━━━━┓\n",
              "┃<span style=\"font-weight: bold\"> Layer (type)              </span>┃<span style=\"font-weight: bold\"> Output Shape           </span>┃<span style=\"font-weight: bold\">        Param # </span>┃<span style=\"font-weight: bold\"> Connected to           </span>┃\n",
              "┡━━━━━━━━━━━━━━━━━━━━━━━━━━━╇━━━━━━━━━━━━━━━━━━━━━━━━╇━━━━━━━━━━━━━━━━╇━━━━━━━━━━━━━━━━━━━━━━━━┩\n",
              "│ input_layer_2             │ (<span style=\"color: #00d7ff; text-decoration-color: #00d7ff\">None</span>, <span style=\"color: #00af00; text-decoration-color: #00af00\">504</span>, <span style=\"color: #00af00; text-decoration-color: #00af00\">1</span>)         │              <span style=\"color: #00af00; text-decoration-color: #00af00\">0</span> │ -                      │\n",
              "│ (<span style=\"color: #0087ff; text-decoration-color: #0087ff\">InputLayer</span>)              │                        │                │                        │\n",
              "├───────────────────────────┼────────────────────────┼────────────────┼────────────────────────┤\n",
              "│ gru_2 (<span style=\"color: #0087ff; text-decoration-color: #0087ff\">GRU</span>)               │ (<span style=\"color: #00d7ff; text-decoration-color: #00d7ff\">None</span>, <span style=\"color: #00af00; text-decoration-color: #00af00\">132</span>)            │         <span style=\"color: #00af00; text-decoration-color: #00af00\">53,460</span> │ input_layer_2[<span style=\"color: #00af00; text-decoration-color: #00af00\">0</span>][<span style=\"color: #00af00; text-decoration-color: #00af00\">0</span>]    │\n",
              "├───────────────────────────┼────────────────────────┼────────────────┼────────────────────────┤\n",
              "│ non_sequential_input      │ (<span style=\"color: #00d7ff; text-decoration-color: #00d7ff\">None</span>, <span style=\"color: #00af00; text-decoration-color: #00af00\">49</span>)             │              <span style=\"color: #00af00; text-decoration-color: #00af00\">0</span> │ -                      │\n",
              "│ (<span style=\"color: #0087ff; text-decoration-color: #0087ff\">InputLayer</span>)              │                        │                │                        │\n",
              "├───────────────────────────┼────────────────────────┼────────────────┼────────────────────────┤\n",
              "│ dropout_2 (<span style=\"color: #0087ff; text-decoration-color: #0087ff\">Dropout</span>)       │ (<span style=\"color: #00d7ff; text-decoration-color: #00d7ff\">None</span>, <span style=\"color: #00af00; text-decoration-color: #00af00\">132</span>)            │              <span style=\"color: #00af00; text-decoration-color: #00af00\">0</span> │ gru_2[<span style=\"color: #00af00; text-decoration-color: #00af00\">0</span>][<span style=\"color: #00af00; text-decoration-color: #00af00\">0</span>]            │\n",
              "├───────────────────────────┼────────────────────────┼────────────────┼────────────────────────┤\n",
              "│ DNN (<span style=\"color: #0087ff; text-decoration-color: #0087ff\">Dense</span>)               │ (<span style=\"color: #00d7ff; text-decoration-color: #00d7ff\">None</span>, <span style=\"color: #00af00; text-decoration-color: #00af00\">166</span>)            │          <span style=\"color: #00af00; text-decoration-color: #00af00\">8,300</span> │ non_sequential_input[<span style=\"color: #00af00; text-decoration-color: #00af00\">…</span> │\n",
              "├───────────────────────────┼────────────────────────┼────────────────┼────────────────────────┤\n",
              "│ concat (<span style=\"color: #0087ff; text-decoration-color: #0087ff\">Concatenate</span>)      │ (<span style=\"color: #00d7ff; text-decoration-color: #00d7ff\">None</span>, <span style=\"color: #00af00; text-decoration-color: #00af00\">298</span>)            │              <span style=\"color: #00af00; text-decoration-color: #00af00\">0</span> │ dropout_2[<span style=\"color: #00af00; text-decoration-color: #00af00\">0</span>][<span style=\"color: #00af00; text-decoration-color: #00af00\">0</span>],       │\n",
              "│                           │                        │                │ DNN[<span style=\"color: #00af00; text-decoration-color: #00af00\">0</span>][<span style=\"color: #00af00; text-decoration-color: #00af00\">0</span>]              │\n",
              "├───────────────────────────┼────────────────────────┼────────────────┼────────────────────────┤\n",
              "│ output (<span style=\"color: #0087ff; text-decoration-color: #0087ff\">Dense</span>)            │ (<span style=\"color: #00d7ff; text-decoration-color: #00d7ff\">None</span>, <span style=\"color: #00af00; text-decoration-color: #00af00\">24</span>)             │          <span style=\"color: #00af00; text-decoration-color: #00af00\">7,176</span> │ concat[<span style=\"color: #00af00; text-decoration-color: #00af00\">0</span>][<span style=\"color: #00af00; text-decoration-color: #00af00\">0</span>]           │\n",
              "└───────────────────────────┴────────────────────────┴────────────────┴────────────────────────┘\n",
              "</pre>\n"
            ]
          },
          "metadata": {}
        },
        {
          "output_type": "display_data",
          "data": {
            "text/plain": [
              "\u001b[1m Total params: \u001b[0m\u001b[38;5;34m68,936\u001b[0m (269.28 KB)\n"
            ],
            "text/html": [
              "<pre style=\"white-space:pre;overflow-x:auto;line-height:normal;font-family:Menlo,'DejaVu Sans Mono',consolas,'Courier New',monospace\"><span style=\"font-weight: bold\"> Total params: </span><span style=\"color: #00af00; text-decoration-color: #00af00\">68,936</span> (269.28 KB)\n",
              "</pre>\n"
            ]
          },
          "metadata": {}
        },
        {
          "output_type": "display_data",
          "data": {
            "text/plain": [
              "\u001b[1m Trainable params: \u001b[0m\u001b[38;5;34m68,936\u001b[0m (269.28 KB)\n"
            ],
            "text/html": [
              "<pre style=\"white-space:pre;overflow-x:auto;line-height:normal;font-family:Menlo,'DejaVu Sans Mono',consolas,'Courier New',monospace\"><span style=\"font-weight: bold\"> Trainable params: </span><span style=\"color: #00af00; text-decoration-color: #00af00\">68,936</span> (269.28 KB)\n",
              "</pre>\n"
            ]
          },
          "metadata": {}
        },
        {
          "output_type": "display_data",
          "data": {
            "text/plain": [
              "\u001b[1m Non-trainable params: \u001b[0m\u001b[38;5;34m0\u001b[0m (0.00 B)\n"
            ],
            "text/html": [
              "<pre style=\"white-space:pre;overflow-x:auto;line-height:normal;font-family:Menlo,'DejaVu Sans Mono',consolas,'Courier New',monospace\"><span style=\"font-weight: bold\"> Non-trainable params: </span><span style=\"color: #00af00; text-decoration-color: #00af00\">0</span> (0.00 B)\n",
              "</pre>\n"
            ]
          },
          "metadata": {}
        }
      ],
      "source": [
        "# Sequential input for GRU\n",
        "seq_input = Input(shape=(timesteps, x_seq_num_features))  # Number of sequential features\n",
        "gru_out = GRU(units=nGRU, activation=activationFunctionGRU)(seq_input)\n",
        "gru_out = Dropout(dropoutGRUDNN)(gru_out)  # Apply dropout as specified\n",
        "\n",
        "# Non-sequential input for DNN\n",
        "non_seq_input = Input(shape=(x_non_seq_num_features,), name='non_sequential_input')  # Number of non-sequential features\n",
        "dnn_out = Dense(units=nDNN, activation=activationFunctionDNN, name='DNN')(non_seq_input)\n",
        "\n",
        "# Concatenate the outputs of GRU and DNN\n",
        "concat = Concatenate(name = 'concat')([gru_out, dnn_out])\n",
        "\n",
        "# Output layer\n",
        "output = Dense(units=24, name = 'output')(concat)\n",
        "\n",
        "# Build the model\n",
        "model = Model(inputs=[seq_input, non_seq_input], outputs=output)\n",
        "\n",
        "# Compile the model\n",
        "model.compile(optimizer='adam', loss='mean_absolute_error' ) #, metrics=[smape])\n",
        "\n",
        "# Model summary\n",
        "model.summary()"
      ]
    },
    {
      "cell_type": "markdown",
      "metadata": {
        "id": "LsRIuItQkhJg"
      },
      "source": [
        "### Training GRU-DNN model"
      ]
    },
    {
      "cell_type": "code",
      "execution_count": 80,
      "metadata": {
        "id": "a9nmp7X-3HX4"
      },
      "outputs": [],
      "source": [
        "early_stopping = EarlyStopping(monitor='val_loss', patience=10, restore_best_weights=True)\n",
        "lr_schedule = ReduceLROnPlateau(monitor='val_loss',  factor=0.6, patience=12, min_lr=1e-6)"
      ]
    },
    {
      "cell_type": "code",
      "execution_count": 81,
      "metadata": {
        "colab": {
          "base_uri": "https://localhost:8080/"
        },
        "id": "mOxOeW6J6tPV",
        "outputId": "2602844e-7b56-4153-ba3c-818573c7a6e7"
      },
      "outputs": [
        {
          "output_type": "stream",
          "name": "stdout",
          "text": [
            "Epoch 1/1000\n",
            "\u001b[1m12/12\u001b[0m \u001b[32m━━━━━━━━━━━━━━━━━━━━\u001b[0m\u001b[37m\u001b[0m \u001b[1m22s\u001b[0m 2s/step - loss: 0.2629 - val_loss: 0.2156 - learning_rate: 0.0010\n",
            "Epoch 2/1000\n",
            "\u001b[1m12/12\u001b[0m \u001b[32m━━━━━━━━━━━━━━━━━━━━\u001b[0m\u001b[37m\u001b[0m \u001b[1m21s\u001b[0m 2s/step - loss: 0.1722 - val_loss: 0.1734 - learning_rate: 0.0010\n",
            "Epoch 3/1000\n",
            "\u001b[1m12/12\u001b[0m \u001b[32m━━━━━━━━━━━━━━━━━━━━\u001b[0m\u001b[37m\u001b[0m \u001b[1m19s\u001b[0m 1s/step - loss: 0.1441 - val_loss: 0.1592 - learning_rate: 0.0010\n",
            "Epoch 4/1000\n",
            "\u001b[1m12/12\u001b[0m \u001b[32m━━━━━━━━━━━━━━━━━━━━\u001b[0m\u001b[37m\u001b[0m \u001b[1m23s\u001b[0m 2s/step - loss: 0.1353 - val_loss: 0.1551 - learning_rate: 0.0010\n",
            "Epoch 5/1000\n",
            "\u001b[1m12/12\u001b[0m \u001b[32m━━━━━━━━━━━━━━━━━━━━\u001b[0m\u001b[37m\u001b[0m \u001b[1m21s\u001b[0m 2s/step - loss: 0.1319 - val_loss: 0.1512 - learning_rate: 0.0010\n",
            "Epoch 6/1000\n",
            "\u001b[1m12/12\u001b[0m \u001b[32m━━━━━━━━━━━━━━━━━━━━\u001b[0m\u001b[37m\u001b[0m \u001b[1m21s\u001b[0m 2s/step - loss: 0.1295 - val_loss: 0.1502 - learning_rate: 0.0010\n",
            "Epoch 7/1000\n",
            "\u001b[1m12/12\u001b[0m \u001b[32m━━━━━━━━━━━━━━━━━━━━\u001b[0m\u001b[37m\u001b[0m \u001b[1m40s\u001b[0m 2s/step - loss: 0.1281 - val_loss: 0.1494 - learning_rate: 0.0010\n",
            "Epoch 8/1000\n",
            "\u001b[1m12/12\u001b[0m \u001b[32m━━━━━━━━━━━━━━━━━━━━\u001b[0m\u001b[37m\u001b[0m \u001b[1m19s\u001b[0m 2s/step - loss: 0.1258 - val_loss: 0.1481 - learning_rate: 0.0010\n",
            "Epoch 9/1000\n",
            "\u001b[1m12/12\u001b[0m \u001b[32m━━━━━━━━━━━━━━━━━━━━\u001b[0m\u001b[37m\u001b[0m \u001b[1m18s\u001b[0m 2s/step - loss: 0.1249 - val_loss: 0.1473 - learning_rate: 0.0010\n",
            "Epoch 10/1000\n",
            "\u001b[1m12/12\u001b[0m \u001b[32m━━━━━━━━━━━━━━━━━━━━\u001b[0m\u001b[37m\u001b[0m \u001b[1m21s\u001b[0m 2s/step - loss: 0.1235 - val_loss: 0.1474 - learning_rate: 0.0010\n",
            "Epoch 11/1000\n",
            "\u001b[1m12/12\u001b[0m \u001b[32m━━━━━━━━━━━━━━━━━━━━\u001b[0m\u001b[37m\u001b[0m \u001b[1m40s\u001b[0m 2s/step - loss: 0.1234 - val_loss: 0.1469 - learning_rate: 0.0010\n",
            "Epoch 12/1000\n",
            "\u001b[1m12/12\u001b[0m \u001b[32m━━━━━━━━━━━━━━━━━━━━\u001b[0m\u001b[37m\u001b[0m \u001b[1m19s\u001b[0m 1s/step - loss: 0.1228 - val_loss: 0.1474 - learning_rate: 0.0010\n",
            "Epoch 13/1000\n",
            "\u001b[1m12/12\u001b[0m \u001b[32m━━━━━━━━━━━━━━━━━━━━\u001b[0m\u001b[37m\u001b[0m \u001b[1m21s\u001b[0m 2s/step - loss: 0.1216 - val_loss: 0.1472 - learning_rate: 0.0010\n",
            "Epoch 14/1000\n",
            "\u001b[1m12/12\u001b[0m \u001b[32m━━━━━━━━━━━━━━━━━━━━\u001b[0m\u001b[37m\u001b[0m \u001b[1m20s\u001b[0m 1s/step - loss: 0.1212 - val_loss: 0.1473 - learning_rate: 0.0010\n",
            "Epoch 15/1000\n",
            "\u001b[1m12/12\u001b[0m \u001b[32m━━━━━━━━━━━━━━━━━━━━\u001b[0m\u001b[37m\u001b[0m \u001b[1m18s\u001b[0m 2s/step - loss: 0.1207 - val_loss: 0.1476 - learning_rate: 0.0010\n",
            "Epoch 16/1000\n",
            "\u001b[1m12/12\u001b[0m \u001b[32m━━━━━━━━━━━━━━━━━━━━\u001b[0m\u001b[37m\u001b[0m \u001b[1m19s\u001b[0m 2s/step - loss: 0.1204 - val_loss: 0.1479 - learning_rate: 0.0010\n",
            "Epoch 17/1000\n",
            "\u001b[1m12/12\u001b[0m \u001b[32m━━━━━━━━━━━━━━━━━━━━\u001b[0m\u001b[37m\u001b[0m \u001b[1m21s\u001b[0m 2s/step - loss: 0.1202 - val_loss: 0.1473 - learning_rate: 0.0010\n",
            "Epoch 18/1000\n",
            "\u001b[1m12/12\u001b[0m \u001b[32m━━━━━━━━━━━━━━━━━━━━\u001b[0m\u001b[37m\u001b[0m \u001b[1m19s\u001b[0m 2s/step - loss: 0.1201 - val_loss: 0.1475 - learning_rate: 0.0010\n",
            "Epoch 19/1000\n",
            "\u001b[1m12/12\u001b[0m \u001b[32m━━━━━━━━━━━━━━━━━━━━\u001b[0m\u001b[37m\u001b[0m \u001b[1m20s\u001b[0m 2s/step - loss: 0.1191 - val_loss: 0.1467 - learning_rate: 0.0010\n",
            "Epoch 20/1000\n",
            "\u001b[1m12/12\u001b[0m \u001b[32m━━━━━━━━━━━━━━━━━━━━\u001b[0m\u001b[37m\u001b[0m \u001b[1m21s\u001b[0m 2s/step - loss: 0.1184 - val_loss: 0.1464 - learning_rate: 0.0010\n",
            "Epoch 21/1000\n",
            "\u001b[1m12/12\u001b[0m \u001b[32m━━━━━━━━━━━━━━━━━━━━\u001b[0m\u001b[37m\u001b[0m \u001b[1m20s\u001b[0m 2s/step - loss: 0.1180 - val_loss: 0.1465 - learning_rate: 0.0010\n",
            "Epoch 22/1000\n",
            "\u001b[1m12/12\u001b[0m \u001b[32m━━━━━━━━━━━━━━━━━━━━\u001b[0m\u001b[37m\u001b[0m \u001b[1m21s\u001b[0m 2s/step - loss: 0.1181 - val_loss: 0.1462 - learning_rate: 0.0010\n",
            "Epoch 23/1000\n",
            "\u001b[1m12/12\u001b[0m \u001b[32m━━━━━━━━━━━━━━━━━━━━\u001b[0m\u001b[37m\u001b[0m \u001b[1m20s\u001b[0m 2s/step - loss: 0.1178 - val_loss: 0.1464 - learning_rate: 0.0010\n",
            "Epoch 24/1000\n",
            "\u001b[1m12/12\u001b[0m \u001b[32m━━━━━━━━━━━━━━━━━━━━\u001b[0m\u001b[37m\u001b[0m \u001b[1m18s\u001b[0m 1s/step - loss: 0.1169 - val_loss: 0.1464 - learning_rate: 0.0010\n",
            "Epoch 25/1000\n",
            "\u001b[1m12/12\u001b[0m \u001b[32m━━━━━━━━━━━━━━━━━━━━\u001b[0m\u001b[37m\u001b[0m \u001b[1m19s\u001b[0m 2s/step - loss: 0.1169 - val_loss: 0.1461 - learning_rate: 0.0010\n",
            "Epoch 26/1000\n",
            "\u001b[1m12/12\u001b[0m \u001b[32m━━━━━━━━━━━━━━━━━━━━\u001b[0m\u001b[37m\u001b[0m \u001b[1m19s\u001b[0m 1s/step - loss: 0.1169 - val_loss: 0.1464 - learning_rate: 0.0010\n",
            "Epoch 27/1000\n",
            "\u001b[1m12/12\u001b[0m \u001b[32m━━━━━━━━━━━━━━━━━━━━\u001b[0m\u001b[37m\u001b[0m \u001b[1m19s\u001b[0m 2s/step - loss: 0.1167 - val_loss: 0.1461 - learning_rate: 0.0010\n",
            "Epoch 28/1000\n",
            "\u001b[1m12/12\u001b[0m \u001b[32m━━━━━━━━━━━━━━━━━━━━\u001b[0m\u001b[37m\u001b[0m \u001b[1m19s\u001b[0m 2s/step - loss: 0.1162 - val_loss: 0.1462 - learning_rate: 0.0010\n",
            "Epoch 29/1000\n",
            "\u001b[1m12/12\u001b[0m \u001b[32m━━━━━━━━━━━━━━━━━━━━\u001b[0m\u001b[37m\u001b[0m \u001b[1m20s\u001b[0m 2s/step - loss: 0.1156 - val_loss: 0.1466 - learning_rate: 0.0010\n",
            "Epoch 30/1000\n",
            "\u001b[1m12/12\u001b[0m \u001b[32m━━━━━━━━━━━━━━━━━━━━\u001b[0m\u001b[37m\u001b[0m \u001b[1m21s\u001b[0m 2s/step - loss: 0.1158 - val_loss: 0.1460 - learning_rate: 0.0010\n",
            "Epoch 31/1000\n",
            "\u001b[1m12/12\u001b[0m \u001b[32m━━━━━━━━━━━━━━━━━━━━\u001b[0m\u001b[37m\u001b[0m \u001b[1m22s\u001b[0m 2s/step - loss: 0.1152 - val_loss: 0.1453 - learning_rate: 0.0010\n",
            "Epoch 32/1000\n",
            "\u001b[1m12/12\u001b[0m \u001b[32m━━━━━━━━━━━━━━━━━━━━\u001b[0m\u001b[37m\u001b[0m \u001b[1m18s\u001b[0m 2s/step - loss: 0.1152 - val_loss: 0.1460 - learning_rate: 0.0010\n",
            "Epoch 33/1000\n",
            "\u001b[1m12/12\u001b[0m \u001b[32m━━━━━━━━━━━━━━━━━━━━\u001b[0m\u001b[37m\u001b[0m \u001b[1m20s\u001b[0m 1s/step - loss: 0.1144 - val_loss: 0.1455 - learning_rate: 0.0010\n",
            "Epoch 34/1000\n",
            "\u001b[1m12/12\u001b[0m \u001b[32m━━━━━━━━━━━━━━━━━━━━\u001b[0m\u001b[37m\u001b[0m \u001b[1m18s\u001b[0m 2s/step - loss: 0.1145 - val_loss: 0.1459 - learning_rate: 0.0010\n",
            "Epoch 35/1000\n",
            "\u001b[1m12/12\u001b[0m \u001b[32m━━━━━━━━━━━━━━━━━━━━\u001b[0m\u001b[37m\u001b[0m \u001b[1m22s\u001b[0m 2s/step - loss: 0.1146 - val_loss: 0.1452 - learning_rate: 0.0010\n",
            "Epoch 36/1000\n",
            "\u001b[1m12/12\u001b[0m \u001b[32m━━━━━━━━━━━━━━━━━━━━\u001b[0m\u001b[37m\u001b[0m \u001b[1m19s\u001b[0m 1s/step - loss: 0.1136 - val_loss: 0.1453 - learning_rate: 0.0010\n",
            "Epoch 37/1000\n",
            "\u001b[1m12/12\u001b[0m \u001b[32m━━━━━━━━━━━━━━━━━━━━\u001b[0m\u001b[37m\u001b[0m \u001b[1m23s\u001b[0m 2s/step - loss: 0.1138 - val_loss: 0.1458 - learning_rate: 0.0010\n",
            "Epoch 38/1000\n",
            "\u001b[1m12/12\u001b[0m \u001b[32m━━━━━━━━━━━━━━━━━━━━\u001b[0m\u001b[37m\u001b[0m \u001b[1m18s\u001b[0m 1s/step - loss: 0.1137 - val_loss: 0.1461 - learning_rate: 0.0010\n",
            "Epoch 39/1000\n",
            "\u001b[1m12/12\u001b[0m \u001b[32m━━━━━━━━━━━━━━━━━━━━\u001b[0m\u001b[37m\u001b[0m \u001b[1m22s\u001b[0m 2s/step - loss: 0.1136 - val_loss: 0.1458 - learning_rate: 0.0010\n",
            "Epoch 40/1000\n",
            "\u001b[1m12/12\u001b[0m \u001b[32m━━━━━━━━━━━━━━━━━━━━\u001b[0m\u001b[37m\u001b[0m \u001b[1m20s\u001b[0m 2s/step - loss: 0.1126 - val_loss: 0.1459 - learning_rate: 0.0010\n",
            "Epoch 41/1000\n",
            "\u001b[1m12/12\u001b[0m \u001b[32m━━━━━━━━━━━━━━━━━━━━\u001b[0m\u001b[37m\u001b[0m \u001b[1m21s\u001b[0m 2s/step - loss: 0.1130 - val_loss: 0.1463 - learning_rate: 0.0010\n",
            "Epoch 42/1000\n",
            "\u001b[1m12/12\u001b[0m \u001b[32m━━━━━━━━━━━━━━━━━━━━\u001b[0m\u001b[37m\u001b[0m \u001b[1m20s\u001b[0m 1s/step - loss: 0.1130 - val_loss: 0.1459 - learning_rate: 0.0010\n",
            "Epoch 43/1000\n",
            "\u001b[1m12/12\u001b[0m \u001b[32m━━━━━━━━━━━━━━━━━━━━\u001b[0m\u001b[37m\u001b[0m \u001b[1m22s\u001b[0m 2s/step - loss: 0.1126 - val_loss: 0.1453 - learning_rate: 0.0010\n",
            "Epoch 44/1000\n",
            "\u001b[1m12/12\u001b[0m \u001b[32m━━━━━━━━━━━━━━━━━━━━\u001b[0m\u001b[37m\u001b[0m \u001b[1m21s\u001b[0m 2s/step - loss: 0.1127 - val_loss: 0.1459 - learning_rate: 0.0010\n",
            "Epoch 45/1000\n",
            "\u001b[1m12/12\u001b[0m \u001b[32m━━━━━━━━━━━━━━━━━━━━\u001b[0m\u001b[37m\u001b[0m \u001b[1m19s\u001b[0m 2s/step - loss: 0.1126 - val_loss: 0.1457 - learning_rate: 0.0010\n"
          ]
        }
      ],
      "source": [
        "#train the model\n",
        "history = model.fit(\n",
        "    [X_S_train, X_F_train], Ytrain,  # Provide both sequential and non-sequential inputs\n",
        "    validation_data=([X_S_val, X_F_val], Yval),\n",
        "    epochs=1000,\n",
        "    batch_size=128,\n",
        "    shuffle=True,\n",
        "    callbacks=[early_stopping, lr_schedule]\n",
        ")"
      ]
    },
    {
      "cell_type": "code",
      "execution_count": 82,
      "metadata": {
        "colab": {
          "base_uri": "https://localhost:8080/",
          "height": 472
        },
        "id": "s5pnGgE5_wbs",
        "outputId": "5368deb4-b202-4dc2-f885-52258e17b8ad"
      },
      "outputs": [
        {
          "output_type": "display_data",
          "data": {
            "text/plain": [
              "<Figure size 640x480 with 1 Axes>"
            ],
            "image/png": "[encoded data removed]"
          },
          "metadata": {}
        }
      ],
      "source": [
        "# Plot training & validation loss values\n",
        "plt.plot(history.history['loss'])\n",
        "plt.plot(history.history['val_loss'])\n",
        "plt.title('Model loss')\n",
        "plt.xlabel('Epoch')\n",
        "plt.ylabel('Loss')\n",
        "plt.legend(['Train', 'Validation'], loc='upper right')\n",
        "plt.show()"
      ]
    },
    {
      "cell_type": "markdown",
      "metadata": {
        "id": "Uc3f2L8UP4Ov"
      },
      "source": [
        "### Prediction and sMAPE\n",
        "Performance evaluation of the hybrid GRU-DNN model on the test set."
      ]
    },
    {
      "cell_type": "code",
      "execution_count": 83,
      "metadata": {
        "colab": {
          "base_uri": "https://localhost:8080/"
        },
        "id": "HA3xB81N6wWG",
        "outputId": "8b374acb-9c65-468e-a2c9-75c554c5f20d"
      },
      "outputs": [
        {
          "output_type": "stream",
          "name": "stdout",
          "text": [
            "    Valori Attesi  Predizioni\n",
            "0           25.45   22.652798\n",
            "1           23.30   23.574898\n",
            "2           22.23   20.915020\n",
            "3           20.02   20.001358\n",
            "4           20.44   21.003889\n",
            "5           21.87   26.193485\n",
            "6           34.08   38.436028\n",
            "7           39.50   52.100128\n",
            "8           45.59   53.273495\n",
            "9           43.16   51.730225\n",
            "10          40.25   49.708694\n",
            "11          38.08   48.208595\n",
            "12          32.84   49.719475\n",
            "13          29.29   45.227325\n",
            "14          27.72   43.763199\n",
            "15          27.10   38.342243\n",
            "16          30.07   38.961445\n",
            "17          34.47   45.380978\n",
            "18          48.29   60.840595\n",
            "19          49.30   60.974266\n",
            "sMAPE: 19.73%\n"
          ]
        }
      ],
      "source": [
        "#Evaluating the model\n",
        "Yp = model.predict([X_S_test, X_F_test], verbose=0).squeeze()\n",
        "Yp = y_scaler.inverse_transform(Yp).squeeze()\n",
        "\n",
        "results = pd.DataFrame({\n",
        "    'Valori Attesi': Ytest.flatten(),\n",
        "    'Predizioni': Yp.flatten()\n",
        "})\n",
        "\n",
        "print(results.head(20))\n",
        "\n",
        "# Calculate and print the metrics\n",
        "smape_value = smape(tf.cast(Ytest, dtype=tf.float64), tf.cast(Yp, dtype=tf.float64))\n",
        "print(f'sMAPE: {smape_value:.2f}%')"
      ]
    },
    {
      "cell_type": "markdown",
      "metadata": {
        "id": "m_o2XjI0izYw"
      },
      "source": [
        "##CNN model (Convolutional Neural Network)"
      ]
    },
    {
      "cell_type": "code",
      "execution_count": null,
      "metadata": {
        "id": "57CDR4Hwi7AV"
      },
      "outputs": [],
      "source": [
        "activationFunctionCNN = 'relu'\n",
        "dropoutCNN = 0.31\n",
        "poolingFrequency = 1\n",
        "poolingType = 'max'\n",
        "filterSizePast = 3\n",
        "filterSizeDA = 3\n",
        "numberOfConvolutionsPast = 3\n",
        "numberOfConvolutionsDA = 3\n",
        "initialFeatureMapsPast = 64\n",
        "initialFeatureMapsDA = 64\n",
        "channelLength = 1 #1 weeks\n",
        "n_hours = 24\n",
        "\n",
        "hours = range(n_hours)\n",
        "timesteps = 168 #1 week / hours\n",
        "firstConvolutionalLayer = 64 #num of feature maps\n",
        "secondConvolutionalLayer = 128\n",
        "thirdConvolutionalLayer = 256"
      ]
    },
    {
      "cell_type": "markdown",
      "metadata": {
        "id": "b3gTsBpLW83H"
      },
      "source": [
        "The input data are divided into two parts:\n",
        "*   X_S is a collection of input sequences, each one is a vector representing some sequential past information (as in the previous hybrid models)\n",
        "*   X_F_col is a collection of input vectors, where each vector represent some future information of the 24 hours of the day ahead\n",
        "\n"
      ]
    },
    {
      "cell_type": "markdown",
      "metadata": {
        "id": "DOvc1Yfqf1yC"
      },
      "source": [
        "### Y - target"
      ]
    },
    {
      "cell_type": "code",
      "execution_count": null,
      "metadata": {
        "id": "BdYB6EiCf4Ks"
      },
      "outputs": [],
      "source": [
        "indexTrain = train_df.iloc[24:,:].loc[train_df.index[0] :].index\n",
        "indexTest = test_df.iloc[24:,:].loc[test_df.index[0] :].index\n",
        "indexVal = val_df.iloc[24:,:].loc[val_df.index[0] :].index\n",
        "\n",
        "predDatesTrain = indexTrain[::24]\n",
        "predDatesVal = indexVal[::24]\n",
        "predDatesTest = indexTest[::24]\n",
        "\n",
        "indexTrain = pd.DataFrame(index=predDatesTrain, columns=['h' + str(hour) for hour in range(24)])\n",
        "indexVal = pd.DataFrame(index=predDatesVal, columns=['h' + str(hour) for hour in range(24)])\n",
        "indexTest = pd.DataFrame(index=predDatesTest, columns=['h' + str(hour) for hour in range(24)])\n",
        "\n",
        "for hour in range(24):\n",
        "  indexTrain.loc[:, 'h' + str(hour)] = indexTrain.index + pd.Timedelta(hours=hour)\n",
        "  indexVal.loc[:, 'h' + str(hour)] = indexVal.index + pd.Timedelta(hours=hour)\n",
        "  indexTest.loc[:, 'h' + str(hour)] = indexTest.index + pd.Timedelta(hours=hour)\n",
        "\n",
        "# Preallocating in memory the X and Y arrays\n",
        "Ytrain = np.zeros([indexTrain.shape[0], n_hours])\n",
        "Yval = np.zeros([indexVal.shape[0], n_hours])\n",
        "Ytest = np.zeros([indexTest.shape[0], n_hours])\n",
        "\n",
        "# Extracting the predicted values Y\n",
        "for hour in range(24):\n",
        "  futureIndexTrain = pd.to_datetime(indexTrain.loc[:, 'h' + str(hour)].values)\n",
        "  futureIndexVal = pd.to_datetime(indexVal.loc[:, 'h' + str(hour)].values)\n",
        "  futureIndexTest = pd.to_datetime(indexTest.loc[:, 'h' + str(hour)].values)\n",
        "\n",
        "  Ytrain[:, hour] = train_df.loc[futureIndexTrain, 'Prices']\n",
        "  Yval[:,hour] = val_df.loc[futureIndexVal, 'Prices']\n",
        "  Ytest[:, hour] = test_df.loc[futureIndexTest, 'Prices']\n",
        "\n",
        "# Redefining indexTest to return only the dates at which a prediction is made\n",
        "indexTest = indexTest.index"
      ]
    },
    {
      "cell_type": "code",
      "execution_count": null,
      "metadata": {
        "colab": {
          "base_uri": "https://localhost:8080/"
        },
        "id": "F7mxkn2blKx1",
        "outputId": "689da661-d505-4556-a4c1-27312522dd1f"
      },
      "outputs": [
        {
          "name": "stdout",
          "output_type": "stream",
          "text": [
            "(1542, 24)\n",
            "(319, 24)\n",
            "(320, 24)\n"
          ]
        }
      ],
      "source": [
        "print(Ytrain.shape)\n",
        "print(Yval.shape)\n",
        "print(Ytest.shape)"
      ]
    },
    {
      "cell_type": "markdown",
      "metadata": {
        "id": "fdaKtHd0f4iH"
      },
      "source": [
        "###X_S - past informations"
      ]
    },
    {
      "cell_type": "code",
      "execution_count": null,
      "metadata": {
        "colab": {
          "base_uri": "https://localhost:8080/"
        },
        "id": "2pCIMWudf6Q3",
        "outputId": "9debbf29-fc41-4327-e0c8-409e6c4b9d16"
      },
      "outputs": [
        {
          "name": "stdout",
          "output_type": "stream",
          "text": [
            "(1536, 168, 1)\n",
            "(313, 168, 1)\n",
            "(314, 168, 1)\n"
          ]
        }
      ],
      "source": [
        "#past information (collection of past values)\n",
        "def create_sequences(data, steps):\n",
        "    X = []\n",
        "    for i in range(steps, len(data), n_hours):\n",
        "      X.append(data.iloc[i-steps:i].values)\n",
        "    return np.array(X)\n",
        "\n",
        "# Creazione di X_S per il training, validation e test set\n",
        "X_S_train = create_sequences(train_df[['Prices']], timesteps) #start after a week: from 16/01/2011\n",
        "X_S_val = create_sequences(val_df[['Prices']], timesteps)\n",
        "X_S_test = create_sequences(test_df[['Prices']], timesteps)\n",
        "\n",
        "print(X_S_train.shape)\n",
        "print(X_S_val.shape)\n",
        "print(X_S_test.shape)"
      ]
    },
    {
      "cell_type": "markdown",
      "metadata": {
        "id": "AiTz2H-nn2RV"
      },
      "source": [
        "###X_F - day-ahead input\n",
        "Features:\n",
        "*   day of the week,\n",
        "*   24 generation forecast,\n",
        "*   24 load forecast of the day D."
      ]
    },
    {
      "cell_type": "code",
      "execution_count": null,
      "metadata": {
        "colab": {
          "base_uri": "https://localhost:8080/"
        },
        "id": "NYYQDK5_LnWM",
        "outputId": "69702aa4-6412-4169-da16-4b5b5e11f7c8"
      },
      "outputs": [
        {
          "name": "stdout",
          "output_type": "stream",
          "text": [
            "(1543, 24, 3)\n",
            "(320, 24, 3)\n",
            "(321, 24, 3)\n"
          ]
        }
      ],
      "source": [
        "def create_sequences_F(data):\n",
        "    # Extract day of the week and add as a new column\n",
        "    day_of_week = pd.to_datetime(data.index).dayofweek.to_numpy()\n",
        "\n",
        "    # Initialize list to hold sequences\n",
        "    X = []\n",
        "    for i in range(0, len(data), n_hours):\n",
        "        day_of_week_window = day_of_week[i:i + n_hours]\n",
        "        w = data.iloc[i:i+ 24]\n",
        "        generation = w['Generation forecast'].values\n",
        "        load = w['System load forecast'].values\n",
        "        X.append(np.stack([day_of_week_window, generation, load], axis=-1))\n",
        "\n",
        "    X = np.array(X)  # Shape: (number_of_sequences, n_hours, 3)\n",
        "    return X\n",
        "\n",
        "X_F_train = create_sequences_F(train_df[[ 'Generation forecast', 'System load forecast']])\n",
        "X_F_val = create_sequences_F(val_df[[ 'Generation forecast', 'System load forecast']])\n",
        "X_F_test = create_sequences_F(test_df[[ 'Generation forecast', 'System load forecast']])\n",
        "\n",
        "print(X_F_train.shape) #from 09/01/2011\n",
        "print(X_F_val.shape)\n",
        "print(X_F_test.shape)"
      ]
    },
    {
      "cell_type": "markdown",
      "metadata": {
        "id": "H_w7oj9Votlx"
      },
      "source": [
        "Data have to be consistent: size and samples have to match\n",
        "\n",
        "Train start from 16/01/2011"
      ]
    },
    {
      "cell_type": "code",
      "execution_count": null,
      "metadata": {
        "colab": {
          "base_uri": "https://localhost:8080/"
        },
        "id": "JLzfCOWFoxtb",
        "outputId": "4b3af01d-6452-4499-9799-7d8c3194c7d7"
      },
      "outputs": [
        {
          "name": "stdout",
          "output_type": "stream",
          "text": [
            "(1536, 24)\n",
            "(1536, 24, 3)\n",
            "(1536, 168, 1)\n"
          ]
        }
      ],
      "source": [
        "#same num of samples\n",
        "Ytrain = Ytrain[6:]   # Remove the first 6 days\n",
        "Yval = Yval[6:]\n",
        "Ytest = Ytest[6:]\n",
        "X_F_train = X_F_train[7:]\n",
        "X_F_val = X_F_val[7:]\n",
        "X_F_test = X_F_test[7:]\n",
        "\n",
        "print(Ytrain.shape)\n",
        "print(X_F_train.shape)\n",
        "print(X_S_train.shape)"
      ]
    },
    {
      "cell_type": "markdown",
      "metadata": {
        "id": "U6R8xeHef-3O"
      },
      "source": [
        "### Data Normalization"
      ]
    },
    {
      "cell_type": "code",
      "execution_count": null,
      "metadata": {
        "id": "6UWnFPurf-bO"
      },
      "outputs": [],
      "source": [
        "# Scale X_F\n",
        "scaler_F = MinMaxScaler(feature_range=(-1, 1))\n",
        "X_F_train = scaler_F.fit_transform(X_F_train.reshape(-1, X_F_train.shape[2])).reshape(X_F_train.shape)\n",
        "X_F_val = scaler_F.transform(X_F_val.reshape(-1, X_F_val.shape[2])).reshape(X_F_val.shape)\n",
        "X_F_test = scaler_F.transform(X_F_test.reshape(-1, X_F_test.shape[2])).reshape(X_F_test.shape)\n",
        "\n",
        "# Scale X_S\n",
        "scale_S = MinMaxScaler(feature_range=(-1, 1))\n",
        "X_S_train = scale_S.fit_transform(X_S_train.reshape(-1, X_S_train.shape[2])).reshape(X_S_train.shape)\n",
        "X_S_val = scale_S.transform(X_S_val.reshape(-1, X_S_val.shape[2])).reshape(X_S_val.shape)\n",
        "X_S_test = scale_S.transform(X_S_test.reshape(-1, X_S_test.shape[2])).reshape(X_S_test.shape)\n",
        "\n",
        "# Scale the target values\n",
        "y_scaler = MinMaxScaler(feature_range=(-1, 1))\n",
        "Ytrain = y_scaler.fit_transform(Ytrain)\n",
        "Yval = y_scaler.transform(Yval)"
      ]
    },
    {
      "cell_type": "markdown",
      "metadata": {
        "id": "FFiX_XDRf60W"
      },
      "source": [
        "### Model"
      ]
    },
    {
      "cell_type": "code",
      "execution_count": null,
      "metadata": {
        "colab": {
          "base_uri": "https://localhost:8080/"
        },
        "id": "RwoFf_0BgCND",
        "outputId": "f3c8c069-7280-401b-f57f-2b982a1f0c6a"
      },
      "outputs": [
        {
          "data": {
            "text/html": [
              "<pre style=\"white-space:pre;overflow-x:auto;line-height:normal;font-family:Menlo,'DejaVu Sans Mono',consolas,'Courier New',monospace\"><span style=\"font-weight: bold\">Model: \"functional_3\"</span>\n",
              "</pre>\n"
            ],
            "text/plain": [
              "\u001b[1mModel: \"functional_3\"\u001b[0m\n"
            ]
          },
          "metadata": {},
          "output_type": "display_data"
        },
        {
          "data": {
            "text/html": [
              "<pre style=\"white-space:pre;overflow-x:auto;line-height:normal;font-family:Menlo,'DejaVu Sans Mono',consolas,'Courier New',monospace\">┏━━━━━━━━━━━━━━━━━━━━━━━━━━━┳━━━━━━━━━━━━━━━━━━━━━━━━┳━━━━━━━━━━━━━━━━┳━━━━━━━━━━━━━━━━━━━━━━━━┓\n",
              "┃<span style=\"font-weight: bold\"> Layer (type)              </span>┃<span style=\"font-weight: bold\"> Output Shape           </span>┃<span style=\"font-weight: bold\">        Param # </span>┃<span style=\"font-weight: bold\"> Connected to           </span>┃\n",
              "┡━━━━━━━━━━━━━━━━━━━━━━━━━━━╇━━━━━━━━━━━━━━━━━━━━━━━━╇━━━━━━━━━━━━━━━━╇━━━━━━━━━━━━━━━━━━━━━━━━┩\n",
              "│ input_layer_2             │ (<span style=\"color: #00d7ff; text-decoration-color: #00d7ff\">None</span>, <span style=\"color: #00af00; text-decoration-color: #00af00\">168</span>, <span style=\"color: #00af00; text-decoration-color: #00af00\">1</span>)         │              <span style=\"color: #00af00; text-decoration-color: #00af00\">0</span> │ -                      │\n",
              "│ (<span style=\"color: #0087ff; text-decoration-color: #0087ff\">InputLayer</span>)              │                        │                │                        │\n",
              "├───────────────────────────┼────────────────────────┼────────────────┼────────────────────────┤\n",
              "│ input_layer_3             │ (<span style=\"color: #00d7ff; text-decoration-color: #00d7ff\">None</span>, <span style=\"color: #00af00; text-decoration-color: #00af00\">24</span>, <span style=\"color: #00af00; text-decoration-color: #00af00\">3</span>)          │              <span style=\"color: #00af00; text-decoration-color: #00af00\">0</span> │ -                      │\n",
              "│ (<span style=\"color: #0087ff; text-decoration-color: #0087ff\">InputLayer</span>)              │                        │                │                        │\n",
              "├───────────────────────────┼────────────────────────┼────────────────┼────────────────────────┤\n",
              "│ conv1d (<span style=\"color: #0087ff; text-decoration-color: #0087ff\">Conv1D</span>)           │ (<span style=\"color: #00d7ff; text-decoration-color: #00d7ff\">None</span>, <span style=\"color: #00af00; text-decoration-color: #00af00\">166</span>, <span style=\"color: #00af00; text-decoration-color: #00af00\">64</span>)        │            <span style=\"color: #00af00; text-decoration-color: #00af00\">256</span> │ input_layer_2[<span style=\"color: #00af00; text-decoration-color: #00af00\">0</span>][<span style=\"color: #00af00; text-decoration-color: #00af00\">0</span>]    │\n",
              "├───────────────────────────┼────────────────────────┼────────────────┼────────────────────────┤\n",
              "│ conv1d_3 (<span style=\"color: #0087ff; text-decoration-color: #0087ff\">Conv1D</span>)         │ (<span style=\"color: #00d7ff; text-decoration-color: #00d7ff\">None</span>, <span style=\"color: #00af00; text-decoration-color: #00af00\">22</span>, <span style=\"color: #00af00; text-decoration-color: #00af00\">64</span>)         │            <span style=\"color: #00af00; text-decoration-color: #00af00\">640</span> │ input_layer_3[<span style=\"color: #00af00; text-decoration-color: #00af00\">0</span>][<span style=\"color: #00af00; text-decoration-color: #00af00\">0</span>]    │\n",
              "├───────────────────────────┼────────────────────────┼────────────────┼────────────────────────┤\n",
              "│ max_pooling1d             │ (<span style=\"color: #00d7ff; text-decoration-color: #00d7ff\">None</span>, <span style=\"color: #00af00; text-decoration-color: #00af00\">83</span>, <span style=\"color: #00af00; text-decoration-color: #00af00\">64</span>)         │              <span style=\"color: #00af00; text-decoration-color: #00af00\">0</span> │ conv1d[<span style=\"color: #00af00; text-decoration-color: #00af00\">0</span>][<span style=\"color: #00af00; text-decoration-color: #00af00\">0</span>]           │\n",
              "│ (<span style=\"color: #0087ff; text-decoration-color: #0087ff\">MaxPooling1D</span>)            │                        │                │                        │\n",
              "├───────────────────────────┼────────────────────────┼────────────────┼────────────────────────┤\n",
              "│ max_pooling1d_3           │ (<span style=\"color: #00d7ff; text-decoration-color: #00d7ff\">None</span>, <span style=\"color: #00af00; text-decoration-color: #00af00\">11</span>, <span style=\"color: #00af00; text-decoration-color: #00af00\">64</span>)         │              <span style=\"color: #00af00; text-decoration-color: #00af00\">0</span> │ conv1d_3[<span style=\"color: #00af00; text-decoration-color: #00af00\">0</span>][<span style=\"color: #00af00; text-decoration-color: #00af00\">0</span>]         │\n",
              "│ (<span style=\"color: #0087ff; text-decoration-color: #0087ff\">MaxPooling1D</span>)            │                        │                │                        │\n",
              "├───────────────────────────┼────────────────────────┼────────────────┼────────────────────────┤\n",
              "│ batch_normalization       │ (<span style=\"color: #00d7ff; text-decoration-color: #00d7ff\">None</span>, <span style=\"color: #00af00; text-decoration-color: #00af00\">83</span>, <span style=\"color: #00af00; text-decoration-color: #00af00\">64</span>)         │            <span style=\"color: #00af00; text-decoration-color: #00af00\">256</span> │ max_pooling1d[<span style=\"color: #00af00; text-decoration-color: #00af00\">0</span>][<span style=\"color: #00af00; text-decoration-color: #00af00\">0</span>]    │\n",
              "│ (<span style=\"color: #0087ff; text-decoration-color: #0087ff\">BatchNormalization</span>)      │                        │                │                        │\n",
              "├───────────────────────────┼────────────────────────┼────────────────┼────────────────────────┤\n",
              "│ batch_normalization_3     │ (<span style=\"color: #00d7ff; text-decoration-color: #00d7ff\">None</span>, <span style=\"color: #00af00; text-decoration-color: #00af00\">11</span>, <span style=\"color: #00af00; text-decoration-color: #00af00\">64</span>)         │            <span style=\"color: #00af00; text-decoration-color: #00af00\">256</span> │ max_pooling1d_3[<span style=\"color: #00af00; text-decoration-color: #00af00\">0</span>][<span style=\"color: #00af00; text-decoration-color: #00af00\">0</span>]  │\n",
              "│ (<span style=\"color: #0087ff; text-decoration-color: #0087ff\">BatchNormalization</span>)      │                        │                │                        │\n",
              "├───────────────────────────┼────────────────────────┼────────────────┼────────────────────────┤\n",
              "│ dropout_1 (<span style=\"color: #0087ff; text-decoration-color: #0087ff\">Dropout</span>)       │ (<span style=\"color: #00d7ff; text-decoration-color: #00d7ff\">None</span>, <span style=\"color: #00af00; text-decoration-color: #00af00\">83</span>, <span style=\"color: #00af00; text-decoration-color: #00af00\">64</span>)         │              <span style=\"color: #00af00; text-decoration-color: #00af00\">0</span> │ batch_normalization[<span style=\"color: #00af00; text-decoration-color: #00af00\">0</span>… │\n",
              "├───────────────────────────┼────────────────────────┼────────────────┼────────────────────────┤\n",
              "│ dropout_4 (<span style=\"color: #0087ff; text-decoration-color: #0087ff\">Dropout</span>)       │ (<span style=\"color: #00d7ff; text-decoration-color: #00d7ff\">None</span>, <span style=\"color: #00af00; text-decoration-color: #00af00\">11</span>, <span style=\"color: #00af00; text-decoration-color: #00af00\">64</span>)         │              <span style=\"color: #00af00; text-decoration-color: #00af00\">0</span> │ batch_normalization_3… │\n",
              "├───────────────────────────┼────────────────────────┼────────────────┼────────────────────────┤\n",
              "│ conv1d_1 (<span style=\"color: #0087ff; text-decoration-color: #0087ff\">Conv1D</span>)         │ (<span style=\"color: #00d7ff; text-decoration-color: #00d7ff\">None</span>, <span style=\"color: #00af00; text-decoration-color: #00af00\">81</span>, <span style=\"color: #00af00; text-decoration-color: #00af00\">128</span>)        │         <span style=\"color: #00af00; text-decoration-color: #00af00\">24,704</span> │ dropout_1[<span style=\"color: #00af00; text-decoration-color: #00af00\">0</span>][<span style=\"color: #00af00; text-decoration-color: #00af00\">0</span>]        │\n",
              "├───────────────────────────┼────────────────────────┼────────────────┼────────────────────────┤\n",
              "│ conv1d_4 (<span style=\"color: #0087ff; text-decoration-color: #0087ff\">Conv1D</span>)         │ (<span style=\"color: #00d7ff; text-decoration-color: #00d7ff\">None</span>, <span style=\"color: #00af00; text-decoration-color: #00af00\">9</span>, <span style=\"color: #00af00; text-decoration-color: #00af00\">128</span>)         │         <span style=\"color: #00af00; text-decoration-color: #00af00\">24,704</span> │ dropout_4[<span style=\"color: #00af00; text-decoration-color: #00af00\">0</span>][<span style=\"color: #00af00; text-decoration-color: #00af00\">0</span>]        │\n",
              "├───────────────────────────┼────────────────────────┼────────────────┼────────────────────────┤\n",
              "│ max_pooling1d_1           │ (<span style=\"color: #00d7ff; text-decoration-color: #00d7ff\">None</span>, <span style=\"color: #00af00; text-decoration-color: #00af00\">40</span>, <span style=\"color: #00af00; text-decoration-color: #00af00\">128</span>)        │              <span style=\"color: #00af00; text-decoration-color: #00af00\">0</span> │ conv1d_1[<span style=\"color: #00af00; text-decoration-color: #00af00\">0</span>][<span style=\"color: #00af00; text-decoration-color: #00af00\">0</span>]         │\n",
              "│ (<span style=\"color: #0087ff; text-decoration-color: #0087ff\">MaxPooling1D</span>)            │                        │                │                        │\n",
              "├───────────────────────────┼────────────────────────┼────────────────┼────────────────────────┤\n",
              "│ max_pooling1d_4           │ (<span style=\"color: #00d7ff; text-decoration-color: #00d7ff\">None</span>, <span style=\"color: #00af00; text-decoration-color: #00af00\">4</span>, <span style=\"color: #00af00; text-decoration-color: #00af00\">128</span>)         │              <span style=\"color: #00af00; text-decoration-color: #00af00\">0</span> │ conv1d_4[<span style=\"color: #00af00; text-decoration-color: #00af00\">0</span>][<span style=\"color: #00af00; text-decoration-color: #00af00\">0</span>]         │\n",
              "│ (<span style=\"color: #0087ff; text-decoration-color: #0087ff\">MaxPooling1D</span>)            │                        │                │                        │\n",
              "├───────────────────────────┼────────────────────────┼────────────────┼────────────────────────┤\n",
              "│ batch_normalization_1     │ (<span style=\"color: #00d7ff; text-decoration-color: #00d7ff\">None</span>, <span style=\"color: #00af00; text-decoration-color: #00af00\">40</span>, <span style=\"color: #00af00; text-decoration-color: #00af00\">128</span>)        │            <span style=\"color: #00af00; text-decoration-color: #00af00\">512</span> │ max_pooling1d_1[<span style=\"color: #00af00; text-decoration-color: #00af00\">0</span>][<span style=\"color: #00af00; text-decoration-color: #00af00\">0</span>]  │\n",
              "│ (<span style=\"color: #0087ff; text-decoration-color: #0087ff\">BatchNormalization</span>)      │                        │                │                        │\n",
              "├───────────────────────────┼────────────────────────┼────────────────┼────────────────────────┤\n",
              "│ batch_normalization_4     │ (<span style=\"color: #00d7ff; text-decoration-color: #00d7ff\">None</span>, <span style=\"color: #00af00; text-decoration-color: #00af00\">4</span>, <span style=\"color: #00af00; text-decoration-color: #00af00\">128</span>)         │            <span style=\"color: #00af00; text-decoration-color: #00af00\">512</span> │ max_pooling1d_4[<span style=\"color: #00af00; text-decoration-color: #00af00\">0</span>][<span style=\"color: #00af00; text-decoration-color: #00af00\">0</span>]  │\n",
              "│ (<span style=\"color: #0087ff; text-decoration-color: #0087ff\">BatchNormalization</span>)      │                        │                │                        │\n",
              "├───────────────────────────┼────────────────────────┼────────────────┼────────────────────────┤\n",
              "│ dropout_2 (<span style=\"color: #0087ff; text-decoration-color: #0087ff\">Dropout</span>)       │ (<span style=\"color: #00d7ff; text-decoration-color: #00d7ff\">None</span>, <span style=\"color: #00af00; text-decoration-color: #00af00\">40</span>, <span style=\"color: #00af00; text-decoration-color: #00af00\">128</span>)        │              <span style=\"color: #00af00; text-decoration-color: #00af00\">0</span> │ batch_normalization_1… │\n",
              "├───────────────────────────┼────────────────────────┼────────────────┼────────────────────────┤\n",
              "│ dropout_5 (<span style=\"color: #0087ff; text-decoration-color: #0087ff\">Dropout</span>)       │ (<span style=\"color: #00d7ff; text-decoration-color: #00d7ff\">None</span>, <span style=\"color: #00af00; text-decoration-color: #00af00\">4</span>, <span style=\"color: #00af00; text-decoration-color: #00af00\">128</span>)         │              <span style=\"color: #00af00; text-decoration-color: #00af00\">0</span> │ batch_normalization_4… │\n",
              "├───────────────────────────┼────────────────────────┼────────────────┼────────────────────────┤\n",
              "│ conv1d_2 (<span style=\"color: #0087ff; text-decoration-color: #0087ff\">Conv1D</span>)         │ (<span style=\"color: #00d7ff; text-decoration-color: #00d7ff\">None</span>, <span style=\"color: #00af00; text-decoration-color: #00af00\">38</span>, <span style=\"color: #00af00; text-decoration-color: #00af00\">256</span>)        │         <span style=\"color: #00af00; text-decoration-color: #00af00\">98,560</span> │ dropout_2[<span style=\"color: #00af00; text-decoration-color: #00af00\">0</span>][<span style=\"color: #00af00; text-decoration-color: #00af00\">0</span>]        │\n",
              "├───────────────────────────┼────────────────────────┼────────────────┼────────────────────────┤\n",
              "│ conv1d_5 (<span style=\"color: #0087ff; text-decoration-color: #0087ff\">Conv1D</span>)         │ (<span style=\"color: #00d7ff; text-decoration-color: #00d7ff\">None</span>, <span style=\"color: #00af00; text-decoration-color: #00af00\">2</span>, <span style=\"color: #00af00; text-decoration-color: #00af00\">256</span>)         │         <span style=\"color: #00af00; text-decoration-color: #00af00\">98,560</span> │ dropout_5[<span style=\"color: #00af00; text-decoration-color: #00af00\">0</span>][<span style=\"color: #00af00; text-decoration-color: #00af00\">0</span>]        │\n",
              "├───────────────────────────┼────────────────────────┼────────────────┼────────────────────────┤\n",
              "│ max_pooling1d_2           │ (<span style=\"color: #00d7ff; text-decoration-color: #00d7ff\">None</span>, <span style=\"color: #00af00; text-decoration-color: #00af00\">19</span>, <span style=\"color: #00af00; text-decoration-color: #00af00\">256</span>)        │              <span style=\"color: #00af00; text-decoration-color: #00af00\">0</span> │ conv1d_2[<span style=\"color: #00af00; text-decoration-color: #00af00\">0</span>][<span style=\"color: #00af00; text-decoration-color: #00af00\">0</span>]         │\n",
              "│ (<span style=\"color: #0087ff; text-decoration-color: #0087ff\">MaxPooling1D</span>)            │                        │                │                        │\n",
              "├───────────────────────────┼────────────────────────┼────────────────┼────────────────────────┤\n",
              "│ max_pooling1d_5           │ (<span style=\"color: #00d7ff; text-decoration-color: #00d7ff\">None</span>, <span style=\"color: #00af00; text-decoration-color: #00af00\">1</span>, <span style=\"color: #00af00; text-decoration-color: #00af00\">256</span>)         │              <span style=\"color: #00af00; text-decoration-color: #00af00\">0</span> │ conv1d_5[<span style=\"color: #00af00; text-decoration-color: #00af00\">0</span>][<span style=\"color: #00af00; text-decoration-color: #00af00\">0</span>]         │\n",
              "│ (<span style=\"color: #0087ff; text-decoration-color: #0087ff\">MaxPooling1D</span>)            │                        │                │                        │\n",
              "├───────────────────────────┼────────────────────────┼────────────────┼────────────────────────┤\n",
              "│ batch_normalization_2     │ (<span style=\"color: #00d7ff; text-decoration-color: #00d7ff\">None</span>, <span style=\"color: #00af00; text-decoration-color: #00af00\">19</span>, <span style=\"color: #00af00; text-decoration-color: #00af00\">256</span>)        │          <span style=\"color: #00af00; text-decoration-color: #00af00\">1,024</span> │ max_pooling1d_2[<span style=\"color: #00af00; text-decoration-color: #00af00\">0</span>][<span style=\"color: #00af00; text-decoration-color: #00af00\">0</span>]  │\n",
              "│ (<span style=\"color: #0087ff; text-decoration-color: #0087ff\">BatchNormalization</span>)      │                        │                │                        │\n",
              "├───────────────────────────┼────────────────────────┼────────────────┼────────────────────────┤\n",
              "│ batch_normalization_5     │ (<span style=\"color: #00d7ff; text-decoration-color: #00d7ff\">None</span>, <span style=\"color: #00af00; text-decoration-color: #00af00\">1</span>, <span style=\"color: #00af00; text-decoration-color: #00af00\">256</span>)         │          <span style=\"color: #00af00; text-decoration-color: #00af00\">1,024</span> │ max_pooling1d_5[<span style=\"color: #00af00; text-decoration-color: #00af00\">0</span>][<span style=\"color: #00af00; text-decoration-color: #00af00\">0</span>]  │\n",
              "│ (<span style=\"color: #0087ff; text-decoration-color: #0087ff\">BatchNormalization</span>)      │                        │                │                        │\n",
              "├───────────────────────────┼────────────────────────┼────────────────┼────────────────────────┤\n",
              "│ dropout_3 (<span style=\"color: #0087ff; text-decoration-color: #0087ff\">Dropout</span>)       │ (<span style=\"color: #00d7ff; text-decoration-color: #00d7ff\">None</span>, <span style=\"color: #00af00; text-decoration-color: #00af00\">19</span>, <span style=\"color: #00af00; text-decoration-color: #00af00\">256</span>)        │              <span style=\"color: #00af00; text-decoration-color: #00af00\">0</span> │ batch_normalization_2… │\n",
              "├───────────────────────────┼────────────────────────┼────────────────┼────────────────────────┤\n",
              "│ dropout_6 (<span style=\"color: #0087ff; text-decoration-color: #0087ff\">Dropout</span>)       │ (<span style=\"color: #00d7ff; text-decoration-color: #00d7ff\">None</span>, <span style=\"color: #00af00; text-decoration-color: #00af00\">1</span>, <span style=\"color: #00af00; text-decoration-color: #00af00\">256</span>)         │              <span style=\"color: #00af00; text-decoration-color: #00af00\">0</span> │ batch_normalization_5… │\n",
              "├───────────────────────────┼────────────────────────┼────────────────┼────────────────────────┤\n",
              "│ flatten (<span style=\"color: #0087ff; text-decoration-color: #0087ff\">Flatten</span>)         │ (<span style=\"color: #00d7ff; text-decoration-color: #00d7ff\">None</span>, <span style=\"color: #00af00; text-decoration-color: #00af00\">4864</span>)           │              <span style=\"color: #00af00; text-decoration-color: #00af00\">0</span> │ dropout_3[<span style=\"color: #00af00; text-decoration-color: #00af00\">0</span>][<span style=\"color: #00af00; text-decoration-color: #00af00\">0</span>]        │\n",
              "├───────────────────────────┼────────────────────────┼────────────────┼────────────────────────┤\n",
              "│ flatten_1 (<span style=\"color: #0087ff; text-decoration-color: #0087ff\">Flatten</span>)       │ (<span style=\"color: #00d7ff; text-decoration-color: #00d7ff\">None</span>, <span style=\"color: #00af00; text-decoration-color: #00af00\">256</span>)            │              <span style=\"color: #00af00; text-decoration-color: #00af00\">0</span> │ dropout_6[<span style=\"color: #00af00; text-decoration-color: #00af00\">0</span>][<span style=\"color: #00af00; text-decoration-color: #00af00\">0</span>]        │\n",
              "├───────────────────────────┼────────────────────────┼────────────────┼────────────────────────┤\n",
              "│ concatenate_CNN           │ (<span style=\"color: #00d7ff; text-decoration-color: #00d7ff\">None</span>, <span style=\"color: #00af00; text-decoration-color: #00af00\">5120</span>)           │              <span style=\"color: #00af00; text-decoration-color: #00af00\">0</span> │ flatten[<span style=\"color: #00af00; text-decoration-color: #00af00\">0</span>][<span style=\"color: #00af00; text-decoration-color: #00af00\">0</span>],         │\n",
              "│ (<span style=\"color: #0087ff; text-decoration-color: #0087ff\">Concatenate</span>)             │                        │                │ flatten_1[<span style=\"color: #00af00; text-decoration-color: #00af00\">0</span>][<span style=\"color: #00af00; text-decoration-color: #00af00\">0</span>]        │\n",
              "├───────────────────────────┼────────────────────────┼────────────────┼────────────────────────┤\n",
              "│ dense_3 (<span style=\"color: #0087ff; text-decoration-color: #0087ff\">Dense</span>)           │ (<span style=\"color: #00d7ff; text-decoration-color: #00d7ff\">None</span>, <span style=\"color: #00af00; text-decoration-color: #00af00\">24</span>)             │        <span style=\"color: #00af00; text-decoration-color: #00af00\">122,904</span> │ concatenate_CNN[<span style=\"color: #00af00; text-decoration-color: #00af00\">0</span>][<span style=\"color: #00af00; text-decoration-color: #00af00\">0</span>]  │\n",
              "└───────────────────────────┴────────────────────────┴────────────────┴────────────────────────┘\n",
              "</pre>\n"
            ],
            "text/plain": [
              "┏━━━━━━━━━━━━━━━━━━━━━━━━━━━┳━━━━━━━━━━━━━━━━━━━━━━━━┳━━━━━━━━━━━━━━━━┳━━━━━━━━━━━━━━━━━━━━━━━━┓\n",
              "┃\u001b[1m \u001b[0m\u001b[1mLayer (type)             \u001b[0m\u001b[1m \u001b[0m┃\u001b[1m \u001b[0m\u001b[1mOutput Shape          \u001b[0m\u001b[1m \u001b[0m┃\u001b[1m \u001b[0m\u001b[1m       Param #\u001b[0m\u001b[1m \u001b[0m┃\u001b[1m \u001b[0m\u001b[1mConnected to          \u001b[0m\u001b[1m \u001b[0m┃\n",
              "┡━━━━━━━━━━━━━━━━━━━━━━━━━━━╇━━━━━━━━━━━━━━━━━━━━━━━━╇━━━━━━━━━━━━━━━━╇━━━━━━━━━━━━━━━━━━━━━━━━┩\n",
              "│ input_layer_2             │ (\u001b[38;5;45mNone\u001b[0m, \u001b[38;5;34m168\u001b[0m, \u001b[38;5;34m1\u001b[0m)         │              \u001b[38;5;34m0\u001b[0m │ -                      │\n",
              "│ (\u001b[38;5;33mInputLayer\u001b[0m)              │                        │                │                        │\n",
              "├───────────────────────────┼────────────────────────┼────────────────┼────────────────────────┤\n",
              "│ input_layer_3             │ (\u001b[38;5;45mNone\u001b[0m, \u001b[38;5;34m24\u001b[0m, \u001b[38;5;34m3\u001b[0m)          │              \u001b[38;5;34m0\u001b[0m │ -                      │\n",
              "│ (\u001b[38;5;33mInputLayer\u001b[0m)              │                        │                │                        │\n",
              "├───────────────────────────┼────────────────────────┼────────────────┼────────────────────────┤\n",
              "│ conv1d (\u001b[38;5;33mConv1D\u001b[0m)           │ (\u001b[38;5;45mNone\u001b[0m, \u001b[38;5;34m166\u001b[0m, \u001b[38;5;34m64\u001b[0m)        │            \u001b[38;5;34m256\u001b[0m │ input_layer_2[\u001b[38;5;34m0\u001b[0m][\u001b[38;5;34m0\u001b[0m]    │\n",
              "├───────────────────────────┼────────────────────────┼────────────────┼────────────────────────┤\n",
              "│ conv1d_3 (\u001b[38;5;33mConv1D\u001b[0m)         │ (\u001b[38;5;45mNone\u001b[0m, \u001b[38;5;34m22\u001b[0m, \u001b[38;5;34m64\u001b[0m)         │            \u001b[38;5;34m640\u001b[0m │ input_layer_3[\u001b[38;5;34m0\u001b[0m][\u001b[38;5;34m0\u001b[0m]    │\n",
              "├───────────────────────────┼────────────────────────┼────────────────┼────────────────────────┤\n",
              "│ max_pooling1d             │ (\u001b[38;5;45mNone\u001b[0m, \u001b[38;5;34m83\u001b[0m, \u001b[38;5;34m64\u001b[0m)         │              \u001b[38;5;34m0\u001b[0m │ conv1d[\u001b[38;5;34m0\u001b[0m][\u001b[38;5;34m0\u001b[0m]           │\n",
              "│ (\u001b[38;5;33mMaxPooling1D\u001b[0m)            │                        │                │                        │\n",
              "├───────────────────────────┼────────────────────────┼────────────────┼────────────────────────┤\n",
              "│ max_pooling1d_3           │ (\u001b[38;5;45mNone\u001b[0m, \u001b[38;5;34m11\u001b[0m, \u001b[38;5;34m64\u001b[0m)         │              \u001b[38;5;34m0\u001b[0m │ conv1d_3[\u001b[38;5;34m0\u001b[0m][\u001b[38;5;34m0\u001b[0m]         │\n",
              "│ (\u001b[38;5;33mMaxPooling1D\u001b[0m)            │                        │                │                        │\n",
              "├───────────────────────────┼────────────────────────┼────────────────┼────────────────────────┤\n",
              "│ batch_normalization       │ (\u001b[38;5;45mNone\u001b[0m, \u001b[38;5;34m83\u001b[0m, \u001b[38;5;34m64\u001b[0m)         │            \u001b[38;5;34m256\u001b[0m │ max_pooling1d[\u001b[38;5;34m0\u001b[0m][\u001b[38;5;34m0\u001b[0m]    │\n",
              "│ (\u001b[38;5;33mBatchNormalization\u001b[0m)      │                        │                │                        │\n",
              "├───────────────────────────┼────────────────────────┼────────────────┼────────────────────────┤\n",
              "│ batch_normalization_3     │ (\u001b[38;5;45mNone\u001b[0m, \u001b[38;5;34m11\u001b[0m, \u001b[38;5;34m64\u001b[0m)         │            \u001b[38;5;34m256\u001b[0m │ max_pooling1d_3[\u001b[38;5;34m0\u001b[0m][\u001b[38;5;34m0\u001b[0m]  │\n",
              "│ (\u001b[38;5;33mBatchNormalization\u001b[0m)      │                        │                │                        │\n",
              "├───────────────────────────┼────────────────────────┼────────────────┼────────────────────────┤\n",
              "│ dropout_1 (\u001b[38;5;33mDropout\u001b[0m)       │ (\u001b[38;5;45mNone\u001b[0m, \u001b[38;5;34m83\u001b[0m, \u001b[38;5;34m64\u001b[0m)         │              \u001b[38;5;34m0\u001b[0m │ batch_normalization[\u001b[38;5;34m0\u001b[0m… │\n",
              "├───────────────────────────┼────────────────────────┼────────────────┼────────────────────────┤\n",
              "│ dropout_4 (\u001b[38;5;33mDropout\u001b[0m)       │ (\u001b[38;5;45mNone\u001b[0m, \u001b[38;5;34m11\u001b[0m, \u001b[38;5;34m64\u001b[0m)         │              \u001b[38;5;34m0\u001b[0m │ batch_normalization_3… │\n",
              "├───────────────────────────┼────────────────────────┼────────────────┼────────────────────────┤\n",
              "│ conv1d_1 (\u001b[38;5;33mConv1D\u001b[0m)         │ (\u001b[38;5;45mNone\u001b[0m, \u001b[38;5;34m81\u001b[0m, \u001b[38;5;34m128\u001b[0m)        │         \u001b[38;5;34m24,704\u001b[0m │ dropout_1[\u001b[38;5;34m0\u001b[0m][\u001b[38;5;34m0\u001b[0m]        │\n",
              "├───────────────────────────┼────────────────────────┼────────────────┼────────────────────────┤\n",
              "│ conv1d_4 (\u001b[38;5;33mConv1D\u001b[0m)         │ (\u001b[38;5;45mNone\u001b[0m, \u001b[38;5;34m9\u001b[0m, \u001b[38;5;34m128\u001b[0m)         │         \u001b[38;5;34m24,704\u001b[0m │ dropout_4[\u001b[38;5;34m0\u001b[0m][\u001b[38;5;34m0\u001b[0m]        │\n",
              "├───────────────────────────┼────────────────────────┼────────────────┼────────────────────────┤\n",
              "│ max_pooling1d_1           │ (\u001b[38;5;45mNone\u001b[0m, \u001b[38;5;34m40\u001b[0m, \u001b[38;5;34m128\u001b[0m)        │              \u001b[38;5;34m0\u001b[0m │ conv1d_1[\u001b[38;5;34m0\u001b[0m][\u001b[38;5;34m0\u001b[0m]         │\n",
              "│ (\u001b[38;5;33mMaxPooling1D\u001b[0m)            │                        │                │                        │\n",
              "├───────────────────────────┼────────────────────────┼────────────────┼────────────────────────┤\n",
              "│ max_pooling1d_4           │ (\u001b[38;5;45mNone\u001b[0m, \u001b[38;5;34m4\u001b[0m, \u001b[38;5;34m128\u001b[0m)         │              \u001b[38;5;34m0\u001b[0m │ conv1d_4[\u001b[38;5;34m0\u001b[0m][\u001b[38;5;34m0\u001b[0m]         │\n",
              "│ (\u001b[38;5;33mMaxPooling1D\u001b[0m)            │                        │                │                        │\n",
              "├───────────────────────────┼────────────────────────┼────────────────┼────────────────────────┤\n",
              "│ batch_normalization_1     │ (\u001b[38;5;45mNone\u001b[0m, \u001b[38;5;34m40\u001b[0m, \u001b[38;5;34m128\u001b[0m)        │            \u001b[38;5;34m512\u001b[0m │ max_pooling1d_1[\u001b[38;5;34m0\u001b[0m][\u001b[38;5;34m0\u001b[0m]  │\n",
              "│ (\u001b[38;5;33mBatchNormalization\u001b[0m)      │                        │                │                        │\n",
              "├───────────────────────────┼────────────────────────┼────────────────┼────────────────────────┤\n",
              "│ batch_normalization_4     │ (\u001b[38;5;45mNone\u001b[0m, \u001b[38;5;34m4\u001b[0m, \u001b[38;5;34m128\u001b[0m)         │            \u001b[38;5;34m512\u001b[0m │ max_pooling1d_4[\u001b[38;5;34m0\u001b[0m][\u001b[38;5;34m0\u001b[0m]  │\n",
              "│ (\u001b[38;5;33mBatchNormalization\u001b[0m)      │                        │                │                        │\n",
              "├───────────────────────────┼────────────────────────┼────────────────┼────────────────────────┤\n",
              "│ dropout_2 (\u001b[38;5;33mDropout\u001b[0m)       │ (\u001b[38;5;45mNone\u001b[0m, \u001b[38;5;34m40\u001b[0m, \u001b[38;5;34m128\u001b[0m)        │              \u001b[38;5;34m0\u001b[0m │ batch_normalization_1… │\n",
              "├───────────────────────────┼────────────────────────┼────────────────┼────────────────────────┤\n",
              "│ dropout_5 (\u001b[38;5;33mDropout\u001b[0m)       │ (\u001b[38;5;45mNone\u001b[0m, \u001b[38;5;34m4\u001b[0m, \u001b[38;5;34m128\u001b[0m)         │              \u001b[38;5;34m0\u001b[0m │ batch_normalization_4… │\n",
              "├───────────────────────────┼────────────────────────┼────────────────┼────────────────────────┤\n",
              "│ conv1d_2 (\u001b[38;5;33mConv1D\u001b[0m)         │ (\u001b[38;5;45mNone\u001b[0m, \u001b[38;5;34m38\u001b[0m, \u001b[38;5;34m256\u001b[0m)        │         \u001b[38;5;34m98,560\u001b[0m │ dropout_2[\u001b[38;5;34m0\u001b[0m][\u001b[38;5;34m0\u001b[0m]        │\n",
              "├───────────────────────────┼────────────────────────┼────────────────┼────────────────────────┤\n",
              "│ conv1d_5 (\u001b[38;5;33mConv1D\u001b[0m)         │ (\u001b[38;5;45mNone\u001b[0m, \u001b[38;5;34m2\u001b[0m, \u001b[38;5;34m256\u001b[0m)         │         \u001b[38;5;34m98,560\u001b[0m │ dropout_5[\u001b[38;5;34m0\u001b[0m][\u001b[38;5;34m0\u001b[0m]        │\n",
              "├───────────────────────────┼────────────────────────┼────────────────┼────────────────────────┤\n",
              "│ max_pooling1d_2           │ (\u001b[38;5;45mNone\u001b[0m, \u001b[38;5;34m19\u001b[0m, \u001b[38;5;34m256\u001b[0m)        │              \u001b[38;5;34m0\u001b[0m │ conv1d_2[\u001b[38;5;34m0\u001b[0m][\u001b[38;5;34m0\u001b[0m]         │\n",
              "│ (\u001b[38;5;33mMaxPooling1D\u001b[0m)            │                        │                │                        │\n",
              "├───────────────────────────┼────────────────────────┼────────────────┼────────────────────────┤\n",
              "│ max_pooling1d_5           │ (\u001b[38;5;45mNone\u001b[0m, \u001b[38;5;34m1\u001b[0m, \u001b[38;5;34m256\u001b[0m)         │              \u001b[38;5;34m0\u001b[0m │ conv1d_5[\u001b[38;5;34m0\u001b[0m][\u001b[38;5;34m0\u001b[0m]         │\n",
              "│ (\u001b[38;5;33mMaxPooling1D\u001b[0m)            │                        │                │                        │\n",
              "├───────────────────────────┼────────────────────────┼────────────────┼────────────────────────┤\n",
              "│ batch_normalization_2     │ (\u001b[38;5;45mNone\u001b[0m, \u001b[38;5;34m19\u001b[0m, \u001b[38;5;34m256\u001b[0m)        │          \u001b[38;5;34m1,024\u001b[0m │ max_pooling1d_2[\u001b[38;5;34m0\u001b[0m][\u001b[38;5;34m0\u001b[0m]  │\n",
              "│ (\u001b[38;5;33mBatchNormalization\u001b[0m)      │                        │                │                        │\n",
              "├───────────────────────────┼────────────────────────┼────────────────┼────────────────────────┤\n",
              "│ batch_normalization_5     │ (\u001b[38;5;45mNone\u001b[0m, \u001b[38;5;34m1\u001b[0m, \u001b[38;5;34m256\u001b[0m)         │          \u001b[38;5;34m1,024\u001b[0m │ max_pooling1d_5[\u001b[38;5;34m0\u001b[0m][\u001b[38;5;34m0\u001b[0m]  │\n",
              "│ (\u001b[38;5;33mBatchNormalization\u001b[0m)      │                        │                │                        │\n",
              "├───────────────────────────┼────────────────────────┼────────────────┼────────────────────────┤\n",
              "│ dropout_3 (\u001b[38;5;33mDropout\u001b[0m)       │ (\u001b[38;5;45mNone\u001b[0m, \u001b[38;5;34m19\u001b[0m, \u001b[38;5;34m256\u001b[0m)        │              \u001b[38;5;34m0\u001b[0m │ batch_normalization_2… │\n",
              "├───────────────────────────┼────────────────────────┼────────────────┼────────────────────────┤\n",
              "│ dropout_6 (\u001b[38;5;33mDropout\u001b[0m)       │ (\u001b[38;5;45mNone\u001b[0m, \u001b[38;5;34m1\u001b[0m, \u001b[38;5;34m256\u001b[0m)         │              \u001b[38;5;34m0\u001b[0m │ batch_normalization_5… │\n",
              "├───────────────────────────┼────────────────────────┼────────────────┼────────────────────────┤\n",
              "│ flatten (\u001b[38;5;33mFlatten\u001b[0m)         │ (\u001b[38;5;45mNone\u001b[0m, \u001b[38;5;34m4864\u001b[0m)           │              \u001b[38;5;34m0\u001b[0m │ dropout_3[\u001b[38;5;34m0\u001b[0m][\u001b[38;5;34m0\u001b[0m]        │\n",
              "├───────────────────────────┼────────────────────────┼────────────────┼────────────────────────┤\n",
              "│ flatten_1 (\u001b[38;5;33mFlatten\u001b[0m)       │ (\u001b[38;5;45mNone\u001b[0m, \u001b[38;5;34m256\u001b[0m)            │              \u001b[38;5;34m0\u001b[0m │ dropout_6[\u001b[38;5;34m0\u001b[0m][\u001b[38;5;34m0\u001b[0m]        │\n",
              "├───────────────────────────┼────────────────────────┼────────────────┼────────────────────────┤\n",
              "│ concatenate_CNN           │ (\u001b[38;5;45mNone\u001b[0m, \u001b[38;5;34m5120\u001b[0m)           │              \u001b[38;5;34m0\u001b[0m │ flatten[\u001b[38;5;34m0\u001b[0m][\u001b[38;5;34m0\u001b[0m],         │\n",
              "│ (\u001b[38;5;33mConcatenate\u001b[0m)             │                        │                │ flatten_1[\u001b[38;5;34m0\u001b[0m][\u001b[38;5;34m0\u001b[0m]        │\n",
              "├───────────────────────────┼────────────────────────┼────────────────┼────────────────────────┤\n",
              "│ dense_3 (\u001b[38;5;33mDense\u001b[0m)           │ (\u001b[38;5;45mNone\u001b[0m, \u001b[38;5;34m24\u001b[0m)             │        \u001b[38;5;34m122,904\u001b[0m │ concatenate_CNN[\u001b[38;5;34m0\u001b[0m][\u001b[38;5;34m0\u001b[0m]  │\n",
              "└───────────────────────────┴────────────────────────┴────────────────┴────────────────────────┘\n"
            ]
          },
          "metadata": {},
          "output_type": "display_data"
        },
        {
          "data": {
            "text/html": [
              "<pre style=\"white-space:pre;overflow-x:auto;line-height:normal;font-family:Menlo,'DejaVu Sans Mono',consolas,'Courier New',monospace\"><span style=\"font-weight: bold\"> Total params: </span><span style=\"color: #00af00; text-decoration-color: #00af00\">373,912</span> (1.43 MB)\n",
              "</pre>\n"
            ],
            "text/plain": [
              "\u001b[1m Total params: \u001b[0m\u001b[38;5;34m373,912\u001b[0m (1.43 MB)\n"
            ]
          },
          "metadata": {},
          "output_type": "display_data"
        },
        {
          "data": {
            "text/html": [
              "<pre style=\"white-space:pre;overflow-x:auto;line-height:normal;font-family:Menlo,'DejaVu Sans Mono',consolas,'Courier New',monospace\"><span style=\"font-weight: bold\"> Trainable params: </span><span style=\"color: #00af00; text-decoration-color: #00af00\">372,120</span> (1.42 MB)\n",
              "</pre>\n"
            ],
            "text/plain": [
              "\u001b[1m Trainable params: \u001b[0m\u001b[38;5;34m372,120\u001b[0m (1.42 MB)\n"
            ]
          },
          "metadata": {},
          "output_type": "display_data"
        },
        {
          "data": {
            "text/html": [
              "<pre style=\"white-space:pre;overflow-x:auto;line-height:normal;font-family:Menlo,'DejaVu Sans Mono',consolas,'Courier New',monospace\"><span style=\"font-weight: bold\"> Non-trainable params: </span><span style=\"color: #00af00; text-decoration-color: #00af00\">1,792</span> (7.00 KB)\n",
              "</pre>\n"
            ],
            "text/plain": [
              "\u001b[1m Non-trainable params: \u001b[0m\u001b[38;5;34m1,792\u001b[0m (7.00 KB)\n"
            ]
          },
          "metadata": {},
          "output_type": "display_data"
        }
      ],
      "source": [
        "# CNN for past data\n",
        "inputs = Input(shape=(X_S_train.shape[1], X_S_train.shape[2])) #(timesteps, num_features)\n",
        "x = inputs\n",
        "\n",
        "num_feature_maps = firstConvolutionalLayer\n",
        "for i in range(numberOfConvolutionsPast):\n",
        "    x = Conv1D(filters=num_feature_maps, kernel_size=filterSizePast, activation=activationFunctionCNN)(x)\n",
        "    x = MaxPooling1D(pool_size=2)(x) #poolingFrequency = 1 => after every convolutional layer I apply pooling max\n",
        "    x = BatchNormalization()(x) #apply batch normalization\n",
        "    x = Dropout(dropoutCNN)(x)  # Add dropout after max pooling and batch normalization\n",
        "    num_feature_maps *= 2  # Double the number of feature maps (64. 128, 256)\n",
        "\n",
        "x = Flatten()(x)\n",
        "past_cnn = Model(inputs, x, name='Past_CNN')\n",
        "\n",
        "\n",
        "\n",
        "# CNN for day-ahead data\n",
        "inputs_DA = Input(shape=(X_F_train.shape[1], X_F_train.shape[2])) #(24h, num_features)\n",
        "xDA = inputs_DA\n",
        "\n",
        "num_feature_maps = firstConvolutionalLayer\n",
        "for i in range(numberOfConvolutionsDA):\n",
        "    xDA = Conv1D(filters=num_feature_maps, kernel_size=filterSizeDA, activation=activationFunctionCNN)(xDA)\n",
        "    xDA = MaxPooling1D(pool_size=2)(xDA)\n",
        "    xDA = BatchNormalization()(xDA)\n",
        "    xDA = Dropout(dropoutCNN)(xDA)  # Add dropout after max pooling and batch normalization\n",
        "    num_feature_maps *= 2\n",
        "\n",
        "xDA = Flatten()(xDA)\n",
        "day_ahead_cnn = Model(inputs_DA, xDA, name='DayAhead_CNN')\n",
        "\n",
        "\n",
        "\n",
        "# Combine both CNNs\n",
        "combined = Concatenate(name='concatenate_CNN')([past_cnn.output, day_ahead_cnn.output])\n",
        "\n",
        "# Fully connected layer after concatenation: Output layer (for day-ahead price prediction)\n",
        "output = Dense(units = 24, activation='linear')(combined)  # Assuming you want to predict 24-hour prices\n",
        "\n",
        "# Final model\n",
        "model = Model(inputs=[past_cnn.input, day_ahead_cnn.input], outputs=output)\n",
        "\n",
        "# Compile the model\n",
        "opt = Adam(learning_rate = 1e-3)\n",
        "model.compile(optimizer=opt, loss='mean_absolute_error')\n",
        "\n",
        "# Model summary\n",
        "model.summary()"
      ]
    },
    {
      "cell_type": "markdown",
      "metadata": {
        "id": "MzgiuIQ3hxwn"
      },
      "source": [
        "### Training CNN model"
      ]
    },
    {
      "cell_type": "code",
      "execution_count": null,
      "metadata": {
        "id": "vKGUUKJm3Obe"
      },
      "outputs": [],
      "source": [
        "early_stopping = EarlyStopping(monitor='val_loss', patience=10, restore_best_weights=True)\n",
        "lr_schedule = ReduceLROnPlateau(monitor='val_loss',  factor=0.6, patience=8, min_lr=1e-6)"
      ]
    },
    {
      "cell_type": "code",
      "execution_count": null,
      "metadata": {
        "colab": {
          "base_uri": "https://localhost:8080/"
        },
        "id": "jcYXN07ThzL6",
        "outputId": "d60a82d8-10d1-4571-847c-43e3e36b05ff"
      },
      "outputs": [
        {
          "name": "stdout",
          "output_type": "stream",
          "text": [
            "Epoch 1/1000\n",
            "\u001b[1m16/16\u001b[0m \u001b[32m━━━━━━━━━━━━━━━━━━━━\u001b[0m\u001b[37m\u001b[0m \u001b[1m10s\u001b[0m 270ms/step - loss: 1.2219 - val_loss: 0.2801 - learning_rate: 0.0010\n",
            "Epoch 2/1000\n",
            "\u001b[1m16/16\u001b[0m \u001b[32m━━━━━━━━━━━━━━━━━━━━\u001b[0m\u001b[37m\u001b[0m \u001b[1m2s\u001b[0m 153ms/step - loss: 0.9953 - val_loss: 0.2738 - learning_rate: 0.0010\n",
            "Epoch 3/1000\n",
            "\u001b[1m16/16\u001b[0m \u001b[32m━━━━━━━━━━━━━━━━━━━━\u001b[0m\u001b[37m\u001b[0m \u001b[1m2s\u001b[0m 149ms/step - loss: 0.8672 - val_loss: 0.2967 - learning_rate: 0.0010\n",
            "Epoch 4/1000\n",
            "\u001b[1m16/16\u001b[0m \u001b[32m━━━━━━━━━━━━━━━━━━━━\u001b[0m\u001b[37m\u001b[0m \u001b[1m2s\u001b[0m 147ms/step - loss: 0.7568 - val_loss: 0.3097 - learning_rate: 0.0010\n",
            "Epoch 5/1000\n",
            "\u001b[1m16/16\u001b[0m \u001b[32m━━━━━━━━━━━━━━━━━━━━\u001b[0m\u001b[37m\u001b[0m \u001b[1m3s\u001b[0m 170ms/step - loss: 0.6927 - val_loss: 0.2661 - learning_rate: 0.0010\n",
            "Epoch 6/1000\n",
            "\u001b[1m16/16\u001b[0m \u001b[32m━━━━━━━━━━━━━━━━━━━━\u001b[0m\u001b[37m\u001b[0m \u001b[1m5s\u001b[0m 147ms/step - loss: 0.6475 - val_loss: 0.2683 - learning_rate: 0.0010\n",
            "Epoch 7/1000\n",
            "\u001b[1m16/16\u001b[0m \u001b[32m━━━━━━━━━━━━━━━━━━━━\u001b[0m\u001b[37m\u001b[0m \u001b[1m3s\u001b[0m 149ms/step - loss: 0.6104 - val_loss: 0.2744 - learning_rate: 0.0010\n",
            "Epoch 8/1000\n",
            "\u001b[1m16/16\u001b[0m \u001b[32m━━━━━━━━━━━━━━━━━━━━\u001b[0m\u001b[37m\u001b[0m \u001b[1m2s\u001b[0m 148ms/step - loss: 0.5590 - val_loss: 0.2822 - learning_rate: 0.0010\n",
            "Epoch 9/1000\n",
            "\u001b[1m16/16\u001b[0m \u001b[32m━━━━━━━━━━━━━━━━━━━━\u001b[0m\u001b[37m\u001b[0m \u001b[1m3s\u001b[0m 168ms/step - loss: 0.5405 - val_loss: 0.2573 - learning_rate: 0.0010\n",
            "Epoch 10/1000\n",
            "\u001b[1m16/16\u001b[0m \u001b[32m━━━━━━━━━━━━━━━━━━━━\u001b[0m\u001b[37m\u001b[0m \u001b[1m5s\u001b[0m 150ms/step - loss: 0.4978 - val_loss: 0.2703 - learning_rate: 0.0010\n",
            "Epoch 11/1000\n",
            "\u001b[1m16/16\u001b[0m \u001b[32m━━━━━━━━━━━━━━━━━━━━\u001b[0m\u001b[37m\u001b[0m \u001b[1m3s\u001b[0m 148ms/step - loss: 0.4605 - val_loss: 0.2685 - learning_rate: 0.0010\n",
            "Epoch 12/1000\n",
            "\u001b[1m16/16\u001b[0m \u001b[32m━━━━━━━━━━━━━━━━━━━━\u001b[0m\u001b[37m\u001b[0m \u001b[1m2s\u001b[0m 145ms/step - loss: 0.4439 - val_loss: 0.2719 - learning_rate: 0.0010\n",
            "Epoch 13/1000\n",
            "\u001b[1m16/16\u001b[0m \u001b[32m━━━━━━━━━━━━━━━━━━━━\u001b[0m\u001b[37m\u001b[0m \u001b[1m3s\u001b[0m 181ms/step - loss: 0.4021 - val_loss: 0.2548 - learning_rate: 0.0010\n",
            "Epoch 14/1000\n",
            "\u001b[1m16/16\u001b[0m \u001b[32m━━━━━━━━━━━━━━━━━━━━\u001b[0m\u001b[37m\u001b[0m \u001b[1m5s\u001b[0m 145ms/step - loss: 0.3708 - val_loss: 0.2441 - learning_rate: 0.0010\n",
            "Epoch 15/1000\n",
            "\u001b[1m16/16\u001b[0m \u001b[32m━━━━━━━━━━━━━━━━━━━━\u001b[0m\u001b[37m\u001b[0m \u001b[1m2s\u001b[0m 145ms/step - loss: 0.3209 - val_loss: 0.3043 - learning_rate: 0.0010\n",
            "Epoch 16/1000\n",
            "\u001b[1m16/16\u001b[0m \u001b[32m━━━━━━━━━━━━━━━━━━━━\u001b[0m\u001b[37m\u001b[0m \u001b[1m3s\u001b[0m 147ms/step - loss: 0.3204 - val_loss: 0.3034 - learning_rate: 0.0010\n",
            "Epoch 17/1000\n",
            "\u001b[1m16/16\u001b[0m \u001b[32m━━━━━━━━━━━━━━━━━━━━\u001b[0m\u001b[37m\u001b[0m \u001b[1m3s\u001b[0m 168ms/step - loss: 0.3027 - val_loss: 0.2725 - learning_rate: 0.0010\n",
            "Epoch 18/1000\n",
            "\u001b[1m16/16\u001b[0m \u001b[32m━━━━━━━━━━━━━━━━━━━━\u001b[0m\u001b[37m\u001b[0m \u001b[1m5s\u001b[0m 145ms/step - loss: 0.3202 - val_loss: 0.3021 - learning_rate: 0.0010\n",
            "Epoch 19/1000\n",
            "\u001b[1m16/16\u001b[0m \u001b[32m━━━━━━━━━━━━━━━━━━━━\u001b[0m\u001b[37m\u001b[0m \u001b[1m3s\u001b[0m 144ms/step - loss: 0.3297 - val_loss: 0.2679 - learning_rate: 0.0010\n",
            "Epoch 20/1000\n",
            "\u001b[1m16/16\u001b[0m \u001b[32m━━━━━━━━━━━━━━━━━━━━\u001b[0m\u001b[37m\u001b[0m \u001b[1m2s\u001b[0m 146ms/step - loss: 0.3017 - val_loss: 0.2722 - learning_rate: 0.0010\n",
            "Epoch 21/1000\n",
            "\u001b[1m16/16\u001b[0m \u001b[32m━━━━━━━━━━━━━━━━━━━━\u001b[0m\u001b[37m\u001b[0m \u001b[1m3s\u001b[0m 167ms/step - loss: 0.2886 - val_loss: 0.2713 - learning_rate: 0.0010\n",
            "Epoch 22/1000\n",
            "\u001b[1m16/16\u001b[0m \u001b[32m━━━━━━━━━━━━━━━━━━━━\u001b[0m\u001b[37m\u001b[0m \u001b[1m5s\u001b[0m 145ms/step - loss: 0.2960 - val_loss: 0.2491 - learning_rate: 0.0010\n",
            "Epoch 23/1000\n",
            "\u001b[1m16/16\u001b[0m \u001b[32m━━━━━━━━━━━━━━━━━━━━\u001b[0m\u001b[37m\u001b[0m \u001b[1m2s\u001b[0m 144ms/step - loss: 0.2680 - val_loss: 0.2493 - learning_rate: 6.0000e-04\n",
            "Epoch 24/1000\n",
            "\u001b[1m16/16\u001b[0m \u001b[32m━━━━━━━━━━━━━━━━━━━━\u001b[0m\u001b[37m\u001b[0m \u001b[1m2s\u001b[0m 146ms/step - loss: 0.2389 - val_loss: 0.2360 - learning_rate: 6.0000e-04\n",
            "Epoch 25/1000\n",
            "\u001b[1m16/16\u001b[0m \u001b[32m━━━━━━━━━━━━━━━━━━━━\u001b[0m\u001b[37m\u001b[0m \u001b[1m3s\u001b[0m 162ms/step - loss: 0.2304 - val_loss: 0.2388 - learning_rate: 6.0000e-04\n",
            "Epoch 26/1000\n",
            "\u001b[1m16/16\u001b[0m \u001b[32m━━━━━━━━━━━━━━━━━━━━\u001b[0m\u001b[37m\u001b[0m \u001b[1m5s\u001b[0m 145ms/step - loss: 0.2171 - val_loss: 0.2413 - learning_rate: 6.0000e-04\n",
            "Epoch 27/1000\n",
            "\u001b[1m16/16\u001b[0m \u001b[32m━━━━━━━━━━━━━━━━━━━━\u001b[0m\u001b[37m\u001b[0m \u001b[1m2s\u001b[0m 146ms/step - loss: 0.1882 - val_loss: 0.2334 - learning_rate: 6.0000e-04\n",
            "Epoch 28/1000\n",
            "\u001b[1m16/16\u001b[0m \u001b[32m━━━━━━━━━━━━━━━━━━━━\u001b[0m\u001b[37m\u001b[0m \u001b[1m3s\u001b[0m 146ms/step - loss: 0.1400 - val_loss: 0.2293 - learning_rate: 6.0000e-04\n",
            "Epoch 29/1000\n",
            "\u001b[1m16/16\u001b[0m \u001b[32m━━━━━━━━━━━━━━━━━━━━\u001b[0m\u001b[37m\u001b[0m \u001b[1m3s\u001b[0m 159ms/step - loss: 0.1346 - val_loss: 0.2211 - learning_rate: 6.0000e-04\n",
            "Epoch 30/1000\n",
            "\u001b[1m16/16\u001b[0m \u001b[32m━━━━━━━━━━━━━━━━━━━━\u001b[0m\u001b[37m\u001b[0m \u001b[1m5s\u001b[0m 146ms/step - loss: 0.1321 - val_loss: 0.2137 - learning_rate: 6.0000e-04\n",
            "Epoch 31/1000\n",
            "\u001b[1m16/16\u001b[0m \u001b[32m━━━━━━━━━━━━━━━━━━━━\u001b[0m\u001b[37m\u001b[0m \u001b[1m3s\u001b[0m 146ms/step - loss: 0.1345 - val_loss: 0.2070 - learning_rate: 6.0000e-04\n",
            "Epoch 32/1000\n",
            "\u001b[1m16/16\u001b[0m \u001b[32m━━━━━━━━━━━━━━━━━━━━\u001b[0m\u001b[37m\u001b[0m \u001b[1m2s\u001b[0m 151ms/step - loss: 0.1314 - val_loss: 0.2075 - learning_rate: 6.0000e-04\n",
            "Epoch 33/1000\n",
            "\u001b[1m16/16\u001b[0m \u001b[32m━━━━━━━━━━━━━━━━━━━━\u001b[0m\u001b[37m\u001b[0m \u001b[1m3s\u001b[0m 167ms/step - loss: 0.1323 - val_loss: 0.2008 - learning_rate: 6.0000e-04\n",
            "Epoch 34/1000\n",
            "\u001b[1m16/16\u001b[0m \u001b[32m━━━━━━━━━━━━━━━━━━━━\u001b[0m\u001b[37m\u001b[0m \u001b[1m5s\u001b[0m 146ms/step - loss: 0.1309 - val_loss: 0.1957 - learning_rate: 6.0000e-04\n",
            "Epoch 35/1000\n",
            "\u001b[1m16/16\u001b[0m \u001b[32m━━━━━━━━━━━━━━━━━━━━\u001b[0m\u001b[37m\u001b[0m \u001b[1m2s\u001b[0m 145ms/step - loss: 0.1311 - val_loss: 0.1943 - learning_rate: 6.0000e-04\n",
            "Epoch 36/1000\n",
            "\u001b[1m16/16\u001b[0m \u001b[32m━━━━━━━━━━━━━━━━━━━━\u001b[0m\u001b[37m\u001b[0m \u001b[1m2s\u001b[0m 145ms/step - loss: 0.1291 - val_loss: 0.1881 - learning_rate: 6.0000e-04\n",
            "Epoch 37/1000\n",
            "\u001b[1m16/16\u001b[0m \u001b[32m━━━━━━━━━━━━━━━━━━━━\u001b[0m\u001b[37m\u001b[0m \u001b[1m2s\u001b[0m 153ms/step - loss: 0.1295 - val_loss: 0.1863 - learning_rate: 6.0000e-04\n",
            "Epoch 38/1000\n",
            "\u001b[1m16/16\u001b[0m \u001b[32m━━━━━━━━━━━━━━━━━━━━\u001b[0m\u001b[37m\u001b[0m \u001b[1m4s\u001b[0m 243ms/step - loss: 0.1309 - val_loss: 0.1789 - learning_rate: 6.0000e-04\n",
            "Epoch 39/1000\n",
            "\u001b[1m16/16\u001b[0m \u001b[32m━━━━━━━━━━━━━━━━━━━━\u001b[0m\u001b[37m\u001b[0m \u001b[1m4s\u001b[0m 151ms/step - loss: 0.1295 - val_loss: 0.1762 - learning_rate: 6.0000e-04\n",
            "Epoch 40/1000\n",
            "\u001b[1m16/16\u001b[0m \u001b[32m━━━━━━━━━━━━━━━━━━━━\u001b[0m\u001b[37m\u001b[0m \u001b[1m3s\u001b[0m 159ms/step - loss: 0.1292 - val_loss: 0.1722 - learning_rate: 6.0000e-04\n",
            "Epoch 41/1000\n",
            "\u001b[1m16/16\u001b[0m \u001b[32m━━━━━━━━━━━━━━━━━━━━\u001b[0m\u001b[37m\u001b[0m \u001b[1m6s\u001b[0m 213ms/step - loss: 0.1309 - val_loss: 0.1731 - learning_rate: 6.0000e-04\n",
            "Epoch 42/1000\n",
            "\u001b[1m16/16\u001b[0m \u001b[32m━━━━━━━━━━━━━━━━━━━━\u001b[0m\u001b[37m\u001b[0m \u001b[1m4s\u001b[0m 150ms/step - loss: 0.1298 - val_loss: 0.1716 - learning_rate: 6.0000e-04\n",
            "Epoch 43/1000\n",
            "\u001b[1m16/16\u001b[0m \u001b[32m━━━━━━━━━━━━━━━━━━━━\u001b[0m\u001b[37m\u001b[0m \u001b[1m3s\u001b[0m 150ms/step - loss: 0.1289 - val_loss: 0.1699 - learning_rate: 6.0000e-04\n",
            "Epoch 44/1000\n",
            "\u001b[1m16/16\u001b[0m \u001b[32m━━━━━━━━━━━━━━━━━━━━\u001b[0m\u001b[37m\u001b[0m \u001b[1m3s\u001b[0m 155ms/step - loss: 0.1286 - val_loss: 0.1627 - learning_rate: 6.0000e-04\n",
            "Epoch 45/1000\n",
            "\u001b[1m16/16\u001b[0m \u001b[32m━━━━━━━━━━━━━━━━━━━━\u001b[0m\u001b[37m\u001b[0m \u001b[1m3s\u001b[0m 189ms/step - loss: 0.1275 - val_loss: 0.1615 - learning_rate: 6.0000e-04\n",
            "Epoch 46/1000\n",
            "\u001b[1m16/16\u001b[0m \u001b[32m━━━━━━━━━━━━━━━━━━━━\u001b[0m\u001b[37m\u001b[0m \u001b[1m4s\u001b[0m 150ms/step - loss: 0.1282 - val_loss: 0.1594 - learning_rate: 6.0000e-04\n",
            "Epoch 47/1000\n",
            "\u001b[1m16/16\u001b[0m \u001b[32m━━━━━━━━━━━━━━━━━━━━\u001b[0m\u001b[37m\u001b[0m \u001b[1m3s\u001b[0m 150ms/step - loss: 0.1282 - val_loss: 0.1604 - learning_rate: 6.0000e-04\n",
            "Epoch 48/1000\n",
            "\u001b[1m16/16\u001b[0m \u001b[32m━━━━━━━━━━━━━━━━━━━━\u001b[0m\u001b[37m\u001b[0m \u001b[1m3s\u001b[0m 156ms/step - loss: 0.1278 - val_loss: 0.1576 - learning_rate: 6.0000e-04\n",
            "Epoch 49/1000\n",
            "\u001b[1m16/16\u001b[0m \u001b[32m━━━━━━━━━━━━━━━━━━━━\u001b[0m\u001b[37m\u001b[0m \u001b[1m3s\u001b[0m 194ms/step - loss: 0.1277 - val_loss: 0.1579 - learning_rate: 6.0000e-04\n",
            "Epoch 50/1000\n",
            "\u001b[1m16/16\u001b[0m \u001b[32m━━━━━━━━━━━━━━━━━━━━\u001b[0m\u001b[37m\u001b[0m \u001b[1m5s\u001b[0m 166ms/step - loss: 0.1270 - val_loss: 0.1589 - learning_rate: 6.0000e-04\n",
            "Epoch 51/1000\n",
            "\u001b[1m16/16\u001b[0m \u001b[32m━━━━━━━━━━━━━━━━━━━━\u001b[0m\u001b[37m\u001b[0m \u001b[1m5s\u001b[0m 166ms/step - loss: 0.1276 - val_loss: 0.1530 - learning_rate: 6.0000e-04\n",
            "Epoch 52/1000\n",
            "\u001b[1m16/16\u001b[0m \u001b[32m━━━━━━━━━━━━━━━━━━━━\u001b[0m\u001b[37m\u001b[0m \u001b[1m7s\u001b[0m 293ms/step - loss: 0.1275 - val_loss: 0.1523 - learning_rate: 6.0000e-04\n",
            "Epoch 53/1000\n",
            "\u001b[1m16/16\u001b[0m \u001b[32m━━━━━━━━━━━━━━━━━━━━\u001b[0m\u001b[37m\u001b[0m \u001b[1m3s\u001b[0m 189ms/step - loss: 0.1260 - val_loss: 0.1506 - learning_rate: 6.0000e-04\n",
            "Epoch 54/1000\n",
            "\u001b[1m16/16\u001b[0m \u001b[32m━━━━━━━━━━━━━━━━━━━━\u001b[0m\u001b[37m\u001b[0m \u001b[1m4s\u001b[0m 152ms/step - loss: 0.1266 - val_loss: 0.1510 - learning_rate: 6.0000e-04\n",
            "Epoch 55/1000\n",
            "\u001b[1m16/16\u001b[0m \u001b[32m━━━━━━━━━━━━━━━━━━━━\u001b[0m\u001b[37m\u001b[0m \u001b[1m2s\u001b[0m 154ms/step - loss: 0.1257 - val_loss: 0.1536 - learning_rate: 6.0000e-04\n",
            "Epoch 56/1000\n",
            "\u001b[1m16/16\u001b[0m \u001b[32m━━━━━━━━━━━━━━━━━━━━\u001b[0m\u001b[37m\u001b[0m \u001b[1m4s\u001b[0m 250ms/step - loss: 0.1259 - val_loss: 0.1527 - learning_rate: 6.0000e-04\n",
            "Epoch 57/1000\n",
            "\u001b[1m16/16\u001b[0m \u001b[32m━━━━━━━━━━━━━━━━━━━━\u001b[0m\u001b[37m\u001b[0m \u001b[1m4s\u001b[0m 153ms/step - loss: 0.1262 - val_loss: 0.1500 - learning_rate: 6.0000e-04\n",
            "Epoch 58/1000\n",
            "\u001b[1m16/16\u001b[0m \u001b[32m━━━━━━━━━━━━━━━━━━━━\u001b[0m\u001b[37m\u001b[0m \u001b[1m2s\u001b[0m 149ms/step - loss: 0.1249 - val_loss: 0.1497 - learning_rate: 6.0000e-04\n",
            "Epoch 59/1000\n",
            "\u001b[1m16/16\u001b[0m \u001b[32m━━━━━━━━━━━━━━━━━━━━\u001b[0m\u001b[37m\u001b[0m \u001b[1m3s\u001b[0m 151ms/step - loss: 0.1240 - val_loss: 0.1469 - learning_rate: 6.0000e-04\n",
            "Epoch 60/1000\n",
            "\u001b[1m16/16\u001b[0m \u001b[32m━━━━━━━━━━━━━━━━━━━━\u001b[0m\u001b[37m\u001b[0m \u001b[1m3s\u001b[0m 176ms/step - loss: 0.1263 - val_loss: 0.1539 - learning_rate: 6.0000e-04\n",
            "Epoch 61/1000\n",
            "\u001b[1m16/16\u001b[0m \u001b[32m━━━━━━━━━━━━━━━━━━━━\u001b[0m\u001b[37m\u001b[0m \u001b[1m4s\u001b[0m 238ms/step - loss: 0.1243 - val_loss: 0.1561 - learning_rate: 6.0000e-04\n",
            "Epoch 62/1000\n",
            "\u001b[1m16/16\u001b[0m \u001b[32m━━━━━━━━━━━━━━━━━━━━\u001b[0m\u001b[37m\u001b[0m \u001b[1m4s\u001b[0m 147ms/step - loss: 0.1245 - val_loss: 0.1541 - learning_rate: 6.0000e-04\n",
            "Epoch 63/1000\n",
            "\u001b[1m16/16\u001b[0m \u001b[32m━━━━━━━━━━━━━━━━━━━━\u001b[0m\u001b[37m\u001b[0m \u001b[1m3s\u001b[0m 146ms/step - loss: 0.1249 - val_loss: 0.1523 - learning_rate: 6.0000e-04\n",
            "Epoch 64/1000\n",
            "\u001b[1m16/16\u001b[0m \u001b[32m━━━━━━━━━━━━━━━━━━━━\u001b[0m\u001b[37m\u001b[0m \u001b[1m2s\u001b[0m 147ms/step - loss: 0.1242 - val_loss: 0.1489 - learning_rate: 6.0000e-04\n",
            "Epoch 65/1000\n",
            "\u001b[1m16/16\u001b[0m \u001b[32m━━━━━━━━━━━━━━━━━━━━\u001b[0m\u001b[37m\u001b[0m \u001b[1m3s\u001b[0m 210ms/step - loss: 0.1246 - val_loss: 0.1479 - learning_rate: 6.0000e-04\n",
            "Epoch 66/1000\n",
            "\u001b[1m16/16\u001b[0m \u001b[32m━━━━━━━━━━━━━━━━━━━━\u001b[0m\u001b[37m\u001b[0m \u001b[1m3s\u001b[0m 202ms/step - loss: 0.1224 - val_loss: 0.1482 - learning_rate: 6.0000e-04\n",
            "Epoch 67/1000\n",
            "\u001b[1m16/16\u001b[0m \u001b[32m━━━━━━━━━━━━━━━━━━━━\u001b[0m\u001b[37m\u001b[0m \u001b[1m4s\u001b[0m 147ms/step - loss: 0.1233 - val_loss: 0.1478 - learning_rate: 6.0000e-04\n",
            "Epoch 68/1000\n",
            "\u001b[1m16/16\u001b[0m \u001b[32m━━━━━━━━━━━━━━━━━━━━\u001b[0m\u001b[37m\u001b[0m \u001b[1m3s\u001b[0m 145ms/step - loss: 0.1227 - val_loss: 0.1474 - learning_rate: 3.6000e-04\n",
            "Epoch 69/1000\n",
            "\u001b[1m16/16\u001b[0m \u001b[32m━━━━━━━━━━━━━━━━━━━━\u001b[0m\u001b[37m\u001b[0m \u001b[1m3s\u001b[0m 158ms/step - loss: 0.1201 - val_loss: 0.1496 - learning_rate: 3.6000e-04\n"
          ]
        }
      ],
      "source": [
        "#train the model\n",
        "history = model.fit(\n",
        "    [X_S_train, X_F_train], Ytrain,  # Provide both sequential and non-sequential inputs\n",
        "    validation_data=([X_S_val, X_F_val], Yval),\n",
        "    epochs=1000,\n",
        "    batch_size=96,\n",
        "    shuffle=True,\n",
        "    callbacks=[early_stopping, lr_schedule]\n",
        ")"
      ]
    },
    {
      "cell_type": "code",
      "execution_count": null,
      "metadata": {
        "colab": {
          "base_uri": "https://localhost:8080/",
          "height": 472
        },
        "id": "cA2oPVZ2h_mP",
        "outputId": "edd7a9d0-1652-43ca-f1bb-815f93ee5631"
      },
      "outputs": [
        {
          "data": {
            "image/png": "[encoded data removed]",
            "text/plain": [
              "<Figure size 640x480 with 1 Axes>"
            ]
          },
          "metadata": {},
          "output_type": "display_data"
        }
      ],
      "source": [
        "# Plot training & validation loss values\n",
        "plt.plot(history.history['loss'])\n",
        "plt.plot(history.history['val_loss'])\n",
        "plt.title('Model loss')\n",
        "plt.xlabel('Epoch')\n",
        "plt.ylabel('Loss')\n",
        "plt.legend(['Train', 'Validation'], loc='upper right')\n",
        "plt.show()"
      ]
    },
    {
      "cell_type": "markdown",
      "metadata": {
        "id": "FqHXAgCIlAzd"
      },
      "source": [
        "### Prediction and sMAPE\n",
        "Performance evaluation of the CNN model on the test set"
      ]
    },
    {
      "cell_type": "code",
      "execution_count": null,
      "metadata": {
        "colab": {
          "base_uri": "https://localhost:8080/"
        },
        "id": "d1egqysQpMNG",
        "outputId": "e6d9f323-4fc7-473d-bb5f-274ab657640e"
      },
      "outputs": [
        {
          "name": "stdout",
          "output_type": "stream",
          "text": [
            "    Valori Attesi  Predizioni\n",
            "0            7.72   21.814680\n",
            "1            8.35   20.536585\n",
            "2            7.15   15.762272\n",
            "3            4.97   15.650638\n",
            "4            5.39   15.272997\n",
            "5            8.38   20.940384\n",
            "6           18.05   30.140247\n",
            "7           26.38   42.278038\n",
            "8           27.92   45.159946\n",
            "9           31.97   43.945072\n",
            "10          32.96   41.982899\n",
            "11          29.76   40.436787\n",
            "12          27.53   42.953770\n",
            "13          24.52   41.267273\n",
            "14          23.98   38.106983\n",
            "15          23.91   34.791237\n",
            "16          23.92   35.592606\n",
            "17          27.93   40.369312\n",
            "18          40.13   47.278778\n",
            "19          39.45   48.901955\n",
            "sMAPE: 21.06%\n"
          ]
        }
      ],
      "source": [
        "#Evaluating the model\n",
        "Yp = model.predict([X_S_test, X_F_test], verbose=0).squeeze()\n",
        "Yp = y_scaler.inverse_transform(Yp).squeeze()\n",
        "\n",
        "results = pd.DataFrame({\n",
        "    'Valori Attesi': Ytest.flatten(),\n",
        "    'Predizioni': Yp.flatten()\n",
        "})\n",
        "\n",
        "print(results.head(20))\n",
        "\n",
        "# Calculate and print the metrics\n",
        "smape_value = smape(tf.cast(Ytest, dtype=tf.float64), tf.cast(Yp, dtype=tf.float64))\n",
        "print(f'sMAPE: {smape_value:.2f}%')"
      ]
    },
    {
      "cell_type": "markdown",
      "metadata": {
        "id": "080vyFnxNkCE"
      },
      "source": [
        "# BENCHMARK models\n",
        "*   Statistical methods without exogenous inputs and with exogenous inputs\n",
        "*   Artificial intelligence models\n",
        "\n"
      ]
    },
    {
      "cell_type": "code",
      "execution_count": 174,
      "metadata": {
        "id": "UC_8Bs7As-92"
      },
      "outputs": [],
      "source": [
        "df = pd.read_csv(file_path, parse_dates=['Date'], dayfirst=True)# Load the dataset\n",
        "# Convert the 'Date' column to datetime format\n",
        "df['Date'] = pd.to_datetime(df['Date'])\n",
        "df.columns = df.columns.str.strip()\n",
        "\n",
        "# Filter the dataset based on the date ranges\n",
        "train_df = df[(df['Date'] >= start_date) & (df['Date'] < val_start)]\n",
        "val_df = df[(df['Date'] >= val_start) & (df['Date'] < test_start)]\n",
        "test_df = df[(df['Date'] >= test_start)]\n",
        "\n",
        "train_df.set_index('Date', inplace=True)\n",
        "val_df.set_index('Date', inplace=True)\n",
        "test_df.set_index('Date', inplace=True)"
      ]
    },
    {
      "cell_type": "markdown",
      "metadata": {
        "id": "KR5tPOVOiHV9"
      },
      "source": [
        "##Statistical methods\n",
        "Statistical methods with or without exogenous inputs"
      ]
    },
    {
      "cell_type": "markdown",
      "metadata": {
        "id": "MLQe3qyuiOJ8"
      },
      "source": [
        "### Box-Cox tranformation\n",
        "Data Preprocessing for statistical models."
      ]
    },
    {
      "cell_type": "code",
      "execution_count": 122,
      "metadata": {
        "colab": {
          "base_uri": "https://localhost:8080/"
        },
        "id": "nrpwjm9DNjbh",
        "outputId": "14711eee-bf56-4ebf-96b7-2853b2c5058b"
      },
      "outputs": [
        {
          "output_type": "stream",
          "name": "stdout",
          "text": [
            "Transformed train_df:\n",
            "          Prices  Generation forecast  System load forecast\n",
            "0      10.566572             3.978823              9.417208\n",
            "1       8.049175             3.978394              9.367505\n",
            "2       6.471088             3.977449              9.363816\n",
            "3       4.847847             3.973998              9.310020\n",
            "4       4.757044             3.970781              9.277320\n",
            "...          ...                  ...                   ...\n",
            "37027  13.823231             3.985891              9.368755\n",
            "37028  14.493823             3.986264              9.366867\n",
            "37029  13.687343             3.985647              9.375310\n",
            "37030  13.353988             3.984164              9.334303\n",
            "37031  12.344266             3.983859              9.371199\n",
            "\n",
            "[37032 rows x 3 columns]\n",
            "\n",
            "Lambda values for Box-Cox transformation of train df:\n",
            "{'Prices': 0.5516917770598967, 'Generation forecast': -0.2319745795214032, 'System load forecast': -0.029767198208658238}\n",
            "\n",
            "Transformed val_df:\n",
            "        Prices  Generation forecast  System load forecast\n",
            "0     4.891591             8.660867              4.143427\n",
            "1     4.506207             8.630753              4.137183\n",
            "2     4.214144             8.618554              4.137345\n",
            "3     4.039117             8.606353              4.132465\n",
            "4     4.001421             8.614756              4.128954\n",
            "...        ...                  ...                   ...\n",
            "7675  4.545278             8.706751              4.158128\n",
            "7676  4.341994             8.681201              4.157077\n",
            "7677  3.863028             8.663420              4.153701\n",
            "7678  3.872621             8.657136              4.150729\n",
            "7679  3.673656             8.654545              4.156355\n",
            "\n",
            "[7680 rows x 3 columns]\n",
            "\n",
            "Lambda values for Box-Cox transformation of val df:\n",
            "{'Prices': 0.16041071221123054, 'Generation forecast': -0.046464280039536766, 'System load forecast': -0.2195918745831414}\n",
            "\n",
            "Transformed test_df:\n",
            "        Prices  Generation forecast  System load forecast\n",
            "0     3.690763             4.166615             12.626652\n",
            "1     3.631830             4.165639             12.553576\n",
            "2     3.486250             4.166460             12.571491\n",
            "3     3.307377             4.163705             12.496020\n",
            "4     3.249929             4.162716             12.452870\n",
            "...        ...                  ...                   ...\n",
            "7699  5.350218             4.178961             12.796436\n",
            "7700  5.313730             4.177444             12.771450\n",
            "7701  5.101021             4.174233             12.715055\n",
            "7702  5.046166             4.173217             12.684378\n",
            "7703  5.042835             4.174497             12.777363\n",
            "\n",
            "[7704 rows x 3 columns]\n",
            "\n",
            "Lambda values for Box-Cox transformation of test df:\n",
            "{'Prices': 0.18669612644367314, 'Generation forecast': -0.21838135799102354, 'System load forecast': 0.023094367352319695}\n"
          ]
        }
      ],
      "source": [
        "constant = 5.5\n",
        "train_df_positive = np.maximum(train_df, 0.01)\n",
        "val_df_positive = np.maximum(val_df, 0.01)#val_df + constant\n",
        "test_df_positive = np.maximum(test_df, 0.01)\n",
        "\n",
        "# Function to apply Box-Cox transformation\n",
        "def apply_boxcox(column):\n",
        "    transformed, lambda_best_fit = boxcox(column)\n",
        "    return pd.Series(transformed, name=column.name), lambda_best_fit\n",
        "\n",
        "# Apply Box-Cox to each column\n",
        "transformed_results_train = train_df_positive.apply(lambda col: apply_boxcox(col) if pd.api.types.is_numeric_dtype(col) else (col, None))\n",
        "transformed_results_val = val_df_positive.apply(lambda col: apply_boxcox(col) if pd.api.types.is_numeric_dtype(col) else (col, None))\n",
        "transformed_results_test = test_df_positive.apply(lambda col: apply_boxcox(col) if pd.api.types.is_numeric_dtype(col) else (col, None))\n",
        "\n",
        "# Extract transformed data and lambda values\n",
        "train_df_boxcox = pd.DataFrame({col: result[0] for col, result in transformed_results_train.items() if result[1] is not None})\n",
        "lambdas_train = {col: result[1] for col, result in transformed_results_train.items() if result[1] is not None}\n",
        "val_df_boxcox = pd.DataFrame({col: result[0] for col, result in transformed_results_val.items() if result[1] is not None})\n",
        "lambdas_val = {col: result[1] for col, result in transformed_results_val.items() if result[1] is not None}\n",
        "test_df_boxcox = pd.DataFrame({col: result[0] for col, result in transformed_results_test.items() if result[1] is not None})\n",
        "lambdas_test = {col: result[1] for col, result in transformed_results_test.items() if result[1] is not None}\n",
        "\n",
        "# Display the transformed DataFrame and lambda values\n",
        "print(\"Transformed train_df:\")\n",
        "print(train_df_boxcox)\n",
        "print(\"\\nLambda values for Box-Cox transformation of train df:\")\n",
        "print(lambdas_train)\n",
        "print(\"\\nTransformed val_df:\")\n",
        "print(val_df_boxcox)\n",
        "print(\"\\nLambda values for Box-Cox transformation of val df:\")\n",
        "print(lambdas_val)\n",
        "print(\"\\nTransformed test_df:\")\n",
        "print(test_df_boxcox)\n",
        "print(\"\\nLambda values for Box-Cox transformation of test df:\")\n",
        "print(lambdas_test)"
      ]
    },
    {
      "cell_type": "code",
      "execution_count": 123,
      "metadata": {
        "id": "xvmA2cgmflcE"
      },
      "outputs": [],
      "source": [
        "def smape_stat(y_true, y_pred):\n",
        "    numerator = np.abs(y_pred - y_true)\n",
        "    denominator = (np.abs(y_true) + np.abs(y_pred)) / 2.0\n",
        "    return np.mean(numerator / denominator) * 100"
      ]
    },
    {
      "cell_type": "markdown",
      "metadata": {
        "id": "F4r7AeNlou5z"
      },
      "source": [
        "### fARX\n",
        "It's a statistical method with exogenous inputs.\n",
        "\n",
        "Consider: the past prices in Belgium (on days 𝑑−1, 𝑑−2, 𝑑−3 and 𝑑−7), the\n",
        "day-ahead load forecast in Belgium."
      ]
    },
    {
      "cell_type": "code",
      "execution_count": 124,
      "metadata": {
        "id": "Cf1O9A80hl4i"
      },
      "outputs": [],
      "source": [
        "n_features = 24 * len([1, 2, 3, 7]) + 1*24"
      ]
    },
    {
      "cell_type": "code",
      "execution_count": 125,
      "metadata": {
        "id": "lvh9Q4r-gnB4"
      },
      "outputs": [],
      "source": [
        "train_df.index = pd.to_datetime(train_df.index)\n",
        "val_df.index = pd.to_datetime(val_df.index)\n",
        "test_df.index = pd.to_datetime(test_df.index)\n",
        "\n",
        "train_df.index = train_df.index.round('S')\n",
        "test_df.index = test_df.index.round('S')\n",
        "val_df.index = val_df.index.round('S')\n",
        "\n",
        "indexTrain = train_df.iloc[24:,:].loc[train_df.index[0] + pd.Timedelta(weeks=1):].index\n",
        "indexTest = test_df.iloc[24:,:].loc[test_df.index[0] + pd.Timedelta(weeks=1) :].index\n",
        "indexVal = val_df.iloc[24:,:].loc[val_df.index[0] + pd.Timedelta(weeks=1):].index\n",
        "\n",
        "predDatesTrain = indexTrain[::24]\n",
        "predDatesVal = indexVal[::24]\n",
        "predDatesTest = indexTest[::24]\n",
        "\n",
        "# We create dataframe\n",
        "indexTrain = pd.DataFrame(index=predDatesTrain, columns=['h' + str(hour) for hour in range(24)])\n",
        "indexVal = pd.DataFrame(index=predDatesVal, columns=['h' + str(hour) for hour in range(24)])\n",
        "indexTest = pd.DataFrame(index=predDatesTest, columns=['h' + str(hour) for hour in range(24)])\n",
        "\n",
        "for hour in range(24):\n",
        "  indexTrain.loc[:, 'h' + str(hour)] = indexTrain.index + pd.Timedelta(hours=hour)\n",
        "  indexVal.loc[:, 'h' + str(hour)] = indexVal.index + pd.Timedelta(hours=hour)\n",
        "  indexTest.loc[:, 'h' + str(hour)] = indexTest.index + pd.Timedelta(hours=hour)\n",
        "\n",
        "# Preallocating in memory the X and Y arrays\n",
        "Xtrain = np.zeros([indexTrain.shape[0], n_features])\n",
        "Ytrain = np.zeros([indexTrain.shape[0], n_hours])\n",
        "Xval = np.zeros([indexVal.shape[0], n_features])\n",
        "Yval = np.zeros([indexVal.shape[0], n_hours])\n",
        "Xtest = np.zeros([indexTest.shape[0], n_features])\n",
        "Ytest = np.zeros([indexTest.shape[0], n_hours])\n",
        "\n",
        "indexFeatures = 0\n",
        "\n",
        "# price D-1, D-2, D-3, D-7\n",
        "for past_day in [1, 2, 3, 7]:\n",
        "  for hour in range(24): # For each possible horizon\n",
        "        # We define the corresponding past time indexs\n",
        "        pastIndexTrain = pd.to_datetime(indexTrain.loc[:, 'h' + str(hour)].values) - pd.Timedelta(hours=24*past_day)\n",
        "        pastIndexTest = pd.to_datetime(indexTest.loc[:, 'h' + str(hour)].values)  - pd.Timedelta(hours=24*past_day)\n",
        "        pastIndexVal = pd.to_datetime(indexVal.loc[:, 'h' + str(hour)].values) - pd.Timedelta(hours=24*past_day)\n",
        "\n",
        "        # price D-1\n",
        "        Xtrain[:, indexFeatures] = train_df.loc[pastIndexTrain, 'Prices']\n",
        "        Xtest[:, indexFeatures] = test_df.loc[pastIndexTest, 'Prices']\n",
        "        Xval[:, indexFeatures] = val_df.loc[pastIndexVal, 'Prices']\n",
        "        indexFeatures += 1\n",
        "\n",
        "\n",
        "#adding load inputs at day D\n",
        "for hour in range(24):\n",
        "    past_day = 1\n",
        "    #define the corresponding future index at time D\n",
        "    futureIndexTrain = pd.to_datetime(indexTrain.loc[:, 'h' + str(hour)].values)\n",
        "    futureIndexVal = pd.to_datetime(indexVal.loc[:, 'h' + str(hour)].values)\n",
        "    futureIndexTest = pd.to_datetime(indexTest.loc[:, 'h' + str(hour)].values)\n",
        "\n",
        "    # Adding Load inputs at day D\n",
        "    Xtrain[:, indexFeatures] = train_df.loc[futureIndexTrain, 'System load forecast']\n",
        "    Xval[:, indexFeatures] = val_df.loc[futureIndexVal, 'System load forecast']\n",
        "    Xtest[:, indexFeatures] = test_df.loc[futureIndexTest, 'System load forecast']\n",
        "    indexFeatures += 1\n",
        "\n",
        "\n",
        "# Extracting the predicted values Y\n",
        "for hour in range(24):\n",
        "  futureIndexTrain = pd.to_datetime(indexTrain.loc[:, 'h' + str(hour)].values)\n",
        "  futureIndexVal = pd.to_datetime(indexVal.loc[:, 'h' + str(hour)].values)\n",
        "  futureIndexTest = pd.to_datetime(indexTest.loc[:, 'h' + str(hour)].values)\n",
        "\n",
        "  Ytrain[:, hour] = train_df.loc[futureIndexTrain, 'Prices']\n",
        "  Yval[:,hour] = val_df.loc[futureIndexVal, 'Prices']\n",
        "  Ytest[:, hour] = test_df.loc[futureIndexTest, 'Prices']\n",
        "\n",
        "# Redefining indexTest to return only the dates at which a prediction is made\n",
        "indexTest = indexTest.index"
      ]
    },
    {
      "cell_type": "code",
      "execution_count": 130,
      "metadata": {
        "id": "4PL-3uSEtl0-"
      },
      "outputs": [],
      "source": [
        "#fit the model (train)\n",
        "tol = 1e-6\n",
        "max_iter = 1000\n",
        "nmod = 24  # Number of models (one for each hour)\n",
        "\n",
        "# Convert numpy arrays to DataFrames or Series\n",
        "Xtrain_df = pd.DataFrame(Xtrain)\n",
        "Ytrain_df = pd.DataFrame(Ytrain)\n",
        "Xtest_df = pd.DataFrame(Xtest)\n",
        "Ytest_df = pd.DataFrame(Ytest)\n",
        "\n",
        "# Initialize 24 LinearRegression models (one for each hour)\n",
        "models = [LinearRegression() for _ in range(nmod)]\n",
        "\n",
        "# Train models for each hour\n",
        "for hour in range(nmod):\n",
        "    X_hour = Xtrain_df.iloc[hour::24, :]  # Select features for this specific hour\n",
        "    y_hour = Ytrain_df.iloc[hour::24, hour]     # Select target for this specific hour\n",
        "\n",
        "    models[hour].fit(X_hour, y_hour)  # Fit the model for this hour\n",
        "\n",
        "# Predict on the test set for each hour\n",
        "predictions = []\n",
        "for hour in range(nmod):\n",
        "    X_hour = Xtest_df.iloc[hour::24, :]\n",
        "    pred_hour = models[hour].predict(X_hour)\n",
        "    predictions.append(pred_hour)\n",
        "\n",
        "\n",
        "# Concatenate predictions into a single array\n",
        "y_pred = np.concatenate(predictions)\n",
        "\n",
        "# Ensure y_test is correctly aligned for the 24-hour predictions\n",
        "y_test_aligned = Ytest_df.values.flatten()[:len(y_pred)]  # Match the length of y_test with predictions"
      ]
    },
    {
      "cell_type": "code",
      "source": [
        "# Convert to DataFrames for easier display\n",
        "df_test = pd.DataFrame({'True Values': y_test_aligned, 'Predicted Values': y_pred})\n",
        "\n",
        "# Print example rows\n",
        "print(\"Examples of true vs predicted values:\")\n",
        "print(df_test.head(20))\n",
        "\n",
        "# Calculate sMAPE\n",
        "smape_value = smape_stat(y_test_aligned, y_pred)\n",
        "print(f'sMAPE: {smape_value:.2f}%')"
      ],
      "metadata": {
        "colab": {
          "base_uri": "https://localhost:8080/"
        },
        "id": "fjMm13UW8EAA",
        "outputId": "a2567636-a7a1-4aa3-c665-cbb515147440"
      },
      "execution_count": 131,
      "outputs": [
        {
          "output_type": "stream",
          "name": "stdout",
          "text": [
            "Examples of true vs predicted values:\n",
            "    True Values  Predicted Values\n",
            "0          7.72         13.657873\n",
            "1          8.35         13.157124\n",
            "2          7.15         19.008146\n",
            "3          4.97         22.563189\n",
            "4          5.39         28.925412\n",
            "5          8.38         33.540998\n",
            "6         18.05         43.428658\n",
            "7         26.38         33.123770\n",
            "8         27.92         28.964292\n",
            "9         31.97         27.599567\n",
            "10        32.96         43.989733\n",
            "11        29.76         61.369143\n",
            "12        27.53         74.211712\n",
            "13        24.52         31.240705\n",
            "14        23.98         27.898125\n",
            "15        23.91         25.557716\n",
            "16        23.92         19.016983\n",
            "17        27.93         13.246970\n",
            "18        40.13         19.833341\n",
            "19        39.45         21.819920\n",
            "sMAPE: 57.01%\n"
          ]
        }
      ]
    },
    {
      "cell_type": "markdown",
      "metadata": {
        "id": "lghV6MRAxeqj"
      },
      "source": [
        "##MACHINE Learning methods\n"
      ]
    },
    {
      "cell_type": "markdown",
      "metadata": {
        "id": "XNp1AFaZ8V_U"
      },
      "source": [
        "### Multilayer perceptron (MLP)\n",
        "It's a standard neural netword with a single hidden layer with 117 neurons.\n",
        "\n"
      ]
    },
    {
      "cell_type": "markdown",
      "metadata": {
        "id": "J0cwHNnL9crM"
      },
      "source": [
        "#### Pre-processing data\n",
        "Its the same of DNN model"
      ]
    },
    {
      "cell_type": "code",
      "execution_count": null,
      "metadata": {
        "colab": {
          "base_uri": "https://localhost:8080/"
        },
        "id": "BWHPpSzY9iG0",
        "outputId": "c34f541d-12a2-4e3a-e340-73f4fa9417fd"
      },
      "outputs": [
        {
          "name": "stdout",
          "output_type": "stream",
          "text": [
            "121\n"
          ]
        }
      ],
      "source": [
        "n_features = 1+ 24 + 24 + 24 + 48\n",
        "print(n_features)"
      ]
    },
    {
      "cell_type": "code",
      "execution_count": null,
      "metadata": {
        "id": "gUAkeosj9mMt"
      },
      "outputs": [],
      "source": [
        "# Define columns #date is the index!\n",
        "columns = ['Day'] + [f'Price_D-1_h{hour}' for hour in hours] + \\\n",
        "          [f'Price_D-2_h{hour}' for hour in hours] + \\\n",
        "          [f'Price_D-7_h{hour}' for hour in hours] + \\\n",
        "          [f'Generation_D_h{hour}' for hour in hours] + \\\n",
        "          [f'Load_D_h{hour}' for hour in hours]"
      ]
    },
    {
      "cell_type": "code",
      "execution_count": null,
      "metadata": {
        "id": "I65B9ux89p5h"
      },
      "outputs": [],
      "source": [
        "train_df.index = pd.to_datetime(train_df.index)\n",
        "val_df.index = pd.to_datetime(val_df.index)\n",
        "test_df.index = pd.to_datetime(test_df.index)\n",
        "\n",
        "train_df.index = train_df.index.round('S')\n",
        "test_df.index = test_df.index.round('S')\n",
        "val_df.index = val_df.index.round('S')"
      ]
    },
    {
      "cell_type": "code",
      "execution_count": null,
      "metadata": {
        "colab": {
          "base_uri": "https://localhost:8080/"
        },
        "id": "HQuRhDpX9xVy",
        "outputId": "05453702-3bce-4b5e-dd8e-b6d09b5439ad"
      },
      "outputs": [
        {
          "name": "stdout",
          "output_type": "stream",
          "text": [
            "DatetimeIndex(['2011-01-16 00:00:00', '2011-01-16 01:00:00',\n",
            "               '2011-01-16 02:00:00', '2011-01-16 03:00:00',\n",
            "               '2011-01-16 04:00:00', '2011-01-16 05:00:00',\n",
            "               '2011-01-16 06:00:00', '2011-01-16 07:00:00',\n",
            "               '2011-01-16 08:00:00', '2011-01-16 09:00:00',\n",
            "               ...\n",
            "               '2015-03-31 14:00:00', '2015-03-31 15:00:00',\n",
            "               '2015-03-31 16:00:00', '2015-03-31 17:00:00',\n",
            "               '2015-03-31 18:00:00', '2015-03-31 19:00:00',\n",
            "               '2015-03-31 20:00:00', '2015-03-31 21:00:00',\n",
            "               '2015-03-31 22:00:00', '2015-03-31 23:00:00'],\n",
            "              dtype='datetime64[ns]', name='Date', length=36864, freq=None)\n"
          ]
        }
      ],
      "source": [
        "indexTrain = train_df.iloc[24:,:].loc[train_df.index[0] + pd.Timedelta(weeks=1):].index\n",
        "indexTest = test_df.iloc[24:,:].loc[test_df.index[0] + pd.Timedelta(weeks=1) :].index\n",
        "indexVal = val_df.iloc[24:,:].loc[val_df.index[0] + pd.Timedelta(weeks=1):].index\n",
        "\n",
        "print(indexTrain)\n",
        "predDatesTrain = indexTrain[::24]\n",
        "predDatesVal = indexVal[::24]\n",
        "predDatesTest = indexTest[::24]\n",
        "\n",
        "indexTrain = pd.DataFrame(index=predDatesTrain, columns=['h' + str(hour) for hour in range(24)])\n",
        "indexVal = pd.DataFrame(index=predDatesVal, columns=['h' + str(hour) for hour in range(24)])\n",
        "indexTest = pd.DataFrame(index=predDatesTest, columns=['h' + str(hour) for hour in range(24)])\n",
        "\n",
        "for hour in range(24):\n",
        "  indexTrain.loc[:, 'h' + str(hour)] = indexTrain.index + pd.Timedelta(hours=hour)\n",
        "  indexVal.loc[:, 'h' + str(hour)] = indexVal.index + pd.Timedelta(hours=hour)\n",
        "  indexTest.loc[:, 'h' + str(hour)] = indexTest.index + pd.Timedelta(hours=hour)\n",
        "\n",
        "Xtrain = np.zeros([indexTrain.shape[0], n_features])\n",
        "Ytrain = np.zeros([indexTrain.shape[0], n_hours])\n",
        "Xval = np.zeros([indexVal.shape[0], n_features])\n",
        "Yval = np.zeros([indexVal.shape[0], n_hours])\n",
        "Xtest = np.zeros([indexTest.shape[0], n_features])\n",
        "Ytest = np.zeros([indexTest.shape[0], n_hours])\n",
        "\n",
        "indexFeatures = 0\n",
        "\n",
        "Xtrain[:, 0] = indexTrain.index.dayofweek + indexTrain.index.hour / 24\n",
        "Xval[:, 0] = indexVal.index.dayofweek + indexVal.index.hour / 24\n",
        "Xtest[:, 0] = indexTest.index.dayofweek\n",
        "indexFeatures += 1\n",
        "\n",
        "# price D-1, D-2, D-7\n",
        "for past_day in [1, 2, 7]:\n",
        "  for hour in range(24): # For each possible horizon\n",
        "        # We define the corresponding past time indexs\n",
        "        pastIndexTrain = pd.to_datetime(indexTrain.loc[:, 'h' + str(hour)].values) - pd.Timedelta(hours=24*past_day)\n",
        "        pastIndexTest = pd.to_datetime(indexTest.loc[:, 'h' + str(hour)].values)  - pd.Timedelta(hours=24*past_day)\n",
        "        pastIndexVal = pd.to_datetime(indexVal.loc[:, 'h' + str(hour)].values) - pd.Timedelta(hours=24*past_day)\n",
        "\n",
        "        # price D-1\n",
        "        Xtrain[:, indexFeatures] = train_df.loc[pastIndexTrain, 'Prices']\n",
        "        Xtest[:, indexFeatures] = test_df.loc[pastIndexTest, 'Prices']\n",
        "        Xval[:, indexFeatures] = val_df.loc[pastIndexVal, 'Prices']\n",
        "        indexFeatures += 1\n",
        "\n",
        "\n",
        "# Adding generation inputs at day D\n",
        "for hour in range(24):\n",
        "    past_day = 1\n",
        "    #define the corresponding future index at time D\n",
        "    futureIndexTrain = pd.to_datetime(indexTrain.loc[:, 'h' + str(hour)].values)\n",
        "    futureIndexVal = pd.to_datetime(indexVal.loc[:, 'h' + str(hour)].values)\n",
        "    futureIndexTest = pd.to_datetime(indexTest.loc[:, 'h' + str(hour)].values)\n",
        "\n",
        "    Xtrain[:, indexFeatures] = train_df.loc[futureIndexTrain, 'Generation forecast']\n",
        "    Xval[:, indexFeatures] = val_df.loc[futureIndexVal, 'Generation forecast']\n",
        "    Xtest[:, indexFeatures] = test_df.loc[futureIndexTest, 'Generation forecast']\n",
        "    indexFeatures += 1\n",
        "\n",
        "\n",
        "#adding load inputs at day D\n",
        "for hour in range(24):\n",
        "    past_day = 1\n",
        "    #define the corresponding future index at time D\n",
        "    futureIndexTrain = pd.to_datetime(indexTrain.loc[:, 'h' + str(hour)].values)\n",
        "    futureIndexVal = pd.to_datetime(indexVal.loc[:, 'h' + str(hour)].values)\n",
        "    futureIndexTest = pd.to_datetime(indexTest.loc[:, 'h' + str(hour)].values)\n",
        "\n",
        "    # Adding Load inputs at day D\n",
        "    Xtrain[:, indexFeatures] = train_df.loc[futureIndexTrain, 'System load forecast']\n",
        "    Xval[:, indexFeatures] = val_df.loc[futureIndexVal, 'System load forecast']\n",
        "    Xtest[:, indexFeatures] = test_df.loc[futureIndexTest, 'System load forecast']\n",
        "    indexFeatures += 1\n"
      ]
    },
    {
      "cell_type": "code",
      "execution_count": null,
      "metadata": {
        "id": "8s-azXtN93e2"
      },
      "outputs": [],
      "source": [
        "# Extracting the predicted values Y\n",
        "for hour in range(24):\n",
        "  futureIndexTrain = pd.to_datetime(indexTrain.loc[:, 'h' + str(hour)].values)\n",
        "  futureIndexVal = pd.to_datetime(indexVal.loc[:, 'h' + str(hour)].values)\n",
        "  futureIndexTest = pd.to_datetime(indexTest.loc[:, 'h' + str(hour)].values)\n",
        "\n",
        "  Ytrain[:, hour] = train_df.loc[futureIndexTrain, 'Prices']\n",
        "  Yval[:,hour] = val_df.loc[futureIndexVal, 'Prices']\n",
        "  Ytest[:, hour] = test_df.loc[futureIndexTest, 'Prices']\n",
        "\n",
        "# Redefining indexTest to return only the dates at which a prediction is made\n",
        "indexTest = indexTest.index"
      ]
    },
    {
      "cell_type": "code",
      "execution_count": null,
      "metadata": {
        "colab": {
          "base_uri": "https://localhost:8080/"
        },
        "id": "jN48FM9Dilg2",
        "outputId": "8c95fabc-8ffb-4097-81bd-80fd1b304437"
      },
      "outputs": [
        {
          "name": "stdout",
          "output_type": "stream",
          "text": [
            "[[21.32 18.54 14.99 ... 49.32 51.31 46.14]\n",
            " [22.73 16.75 17.1  ... 51.24 50.89 48.92]\n",
            " [37.65 37.28 34.94 ... 50.01 49.74 45.89]\n",
            " ...\n",
            " [28.06 24.2  23.07 ... 34.94 30.42 28.37]\n",
            " [19.15 23.   22.56 ... 49.33 47.04 43.  ]\n",
            " [38.74 26.27 22.68 ... 48.91 47.02 41.5 ]]\n"
          ]
        }
      ],
      "source": [
        "print(Ytrain)"
      ]
    },
    {
      "cell_type": "code",
      "execution_count": null,
      "metadata": {
        "id": "RRXRLZ4bz7be"
      },
      "outputs": [],
      "source": [
        "scaler = MinMaxScaler(feature_range=(0, 1))\n",
        "\n",
        "Xtrain = scaler.fit_transform(Xtrain)\n",
        "Xval = scaler.transform(Xval)\n",
        "Xtest = scaler.transform(Xtest)\n",
        "\n",
        "y_scaler = MinMaxScaler(feature_range=(0, 1))\n",
        "Ytrain = y_scaler.fit_transform(Ytrain)\n",
        "Yval = y_scaler.transform(Yval)"
      ]
    },
    {
      "cell_type": "code",
      "execution_count": null,
      "metadata": {
        "colab": {
          "base_uri": "https://localhost:8080/"
        },
        "id": "rJeVsGsYLrgr",
        "outputId": "dd582a5a-0b88-4040-c4c2-c40a76494070"
      },
      "outputs": [
        {
          "name": "stdout",
          "output_type": "stream",
          "text": [
            "[[1.         0.14302191 0.23694954 ... 0.46666667 0.43313373 0.42454728]\n",
            " [0.         0.06322743 0.13480413 ... 0.59122807 0.5508982  0.54124748]\n",
            " [0.16666667 0.07061969 0.11925649 ... 0.63333333 0.59481038 0.57746479]\n",
            " ...\n",
            " [1.         0.21143966 0.35082081 ... 0.34984211 0.29429142 0.29162978]\n",
            " [0.         0.09856349 0.18396595 ... 0.41196491 0.35598802 0.33979879]\n",
            " [0.16666667 0.05185069 0.17354295 ... 0.42       0.35840319 0.3461167 ]]\n"
          ]
        }
      ],
      "source": [
        "print(Xtrain)"
      ]
    },
    {
      "cell_type": "markdown",
      "metadata": {
        "id": "NvjZriBc-EbR"
      },
      "source": [
        "#### Model"
      ]
    },
    {
      "cell_type": "code",
      "execution_count": null,
      "metadata": {
        "id": "6XCip25H_9pX"
      },
      "outputs": [],
      "source": [
        "# Early stopping configuration and learning rate\n",
        "early_stopping = EarlyStopping(monitor='val_loss', patience=10, restore_best_weights=True)\n"
      ]
    },
    {
      "cell_type": "code",
      "execution_count": null,
      "metadata": {
        "colab": {
          "base_uri": "https://localhost:8080/",
          "height": 261
        },
        "id": "wETRUVvI-GCq",
        "outputId": "d64a0396-3f24-4116-de60-5e9076dbef72"
      },
      "outputs": [
        {
          "name": "stderr",
          "output_type": "stream",
          "text": [
            "/usr/local/lib/python3.10/dist-packages/keras/src/layers/core/dense.py:87: UserWarning: Do not pass an `input_shape`/`input_dim` argument to a layer. When using Sequential models, prefer using an `Input(shape)` object as the first layer in the model instead.\n",
            "  super().__init__(activity_regularizer=activity_regularizer, **kwargs)\n"
          ]
        },
        {
          "data": {
            "text/html": [
              "<pre style=\"white-space:pre;overflow-x:auto;line-height:normal;font-family:Menlo,'DejaVu Sans Mono',consolas,'Courier New',monospace\"><span style=\"font-weight: bold\">Model: \"sequential_1\"</span>\n",
              "</pre>\n"
            ],
            "text/plain": [
              "\u001b[1mModel: \"sequential_1\"\u001b[0m\n"
            ]
          },
          "metadata": {},
          "output_type": "display_data"
        },
        {
          "data": {
            "text/html": [
              "<pre style=\"white-space:pre;overflow-x:auto;line-height:normal;font-family:Menlo,'DejaVu Sans Mono',consolas,'Courier New',monospace\">┏━━━━━━━━━━━━━━━━━━━━━━━━━━━━━━━━━━━━━━┳━━━━━━━━━━━━━━━━━━━━━━━━━━━━━┳━━━━━━━━━━━━━━━━━┓\n",
              "┃<span style=\"font-weight: bold\"> Layer (type)                         </span>┃<span style=\"font-weight: bold\"> Output Shape                </span>┃<span style=\"font-weight: bold\">         Param # </span>┃\n",
              "┡━━━━━━━━━━━━━━━━━━━━━━━━━━━━━━━━━━━━━━╇━━━━━━━━━━━━━━━━━━━━━━━━━━━━━╇━━━━━━━━━━━━━━━━━┩\n",
              "│ dense_4 (<span style=\"color: #0087ff; text-decoration-color: #0087ff\">Dense</span>)                      │ (<span style=\"color: #00d7ff; text-decoration-color: #00d7ff\">None</span>, <span style=\"color: #00af00; text-decoration-color: #00af00\">117</span>)                 │          <span style=\"color: #00af00; text-decoration-color: #00af00\">14,274</span> │\n",
              "├──────────────────────────────────────┼─────────────────────────────┼─────────────────┤\n",
              "│ dense_5 (<span style=\"color: #0087ff; text-decoration-color: #0087ff\">Dense</span>)                      │ (<span style=\"color: #00d7ff; text-decoration-color: #00d7ff\">None</span>, <span style=\"color: #00af00; text-decoration-color: #00af00\">24</span>)                  │           <span style=\"color: #00af00; text-decoration-color: #00af00\">2,832</span> │\n",
              "└──────────────────────────────────────┴─────────────────────────────┴─────────────────┘\n",
              "</pre>\n"
            ],
            "text/plain": [
              "┏━━━━━━━━━━━━━━━━━━━━━━━━━━━━━━━━━━━━━━┳━━━━━━━━━━━━━━━━━━━━━━━━━━━━━┳━━━━━━━━━━━━━━━━━┓\n",
              "┃\u001b[1m \u001b[0m\u001b[1mLayer (type)                        \u001b[0m\u001b[1m \u001b[0m┃\u001b[1m \u001b[0m\u001b[1mOutput Shape               \u001b[0m\u001b[1m \u001b[0m┃\u001b[1m \u001b[0m\u001b[1m        Param #\u001b[0m\u001b[1m \u001b[0m┃\n",
              "┡━━━━━━━━━━━━━━━━━━━━━━━━━━━━━━━━━━━━━━╇━━━━━━━━━━━━━━━━━━━━━━━━━━━━━╇━━━━━━━━━━━━━━━━━┩\n",
              "│ dense_4 (\u001b[38;5;33mDense\u001b[0m)                      │ (\u001b[38;5;45mNone\u001b[0m, \u001b[38;5;34m117\u001b[0m)                 │          \u001b[38;5;34m14,274\u001b[0m │\n",
              "├──────────────────────────────────────┼─────────────────────────────┼─────────────────┤\n",
              "│ dense_5 (\u001b[38;5;33mDense\u001b[0m)                      │ (\u001b[38;5;45mNone\u001b[0m, \u001b[38;5;34m24\u001b[0m)                  │           \u001b[38;5;34m2,832\u001b[0m │\n",
              "└──────────────────────────────────────┴─────────────────────────────┴─────────────────┘\n"
            ]
          },
          "metadata": {},
          "output_type": "display_data"
        },
        {
          "data": {
            "text/html": [
              "<pre style=\"white-space:pre;overflow-x:auto;line-height:normal;font-family:Menlo,'DejaVu Sans Mono',consolas,'Courier New',monospace\"><span style=\"font-weight: bold\"> Total params: </span><span style=\"color: #00af00; text-decoration-color: #00af00\">17,106</span> (66.82 KB)\n",
              "</pre>\n"
            ],
            "text/plain": [
              "\u001b[1m Total params: \u001b[0m\u001b[38;5;34m17,106\u001b[0m (66.82 KB)\n"
            ]
          },
          "metadata": {},
          "output_type": "display_data"
        },
        {
          "data": {
            "text/html": [
              "<pre style=\"white-space:pre;overflow-x:auto;line-height:normal;font-family:Menlo,'DejaVu Sans Mono',consolas,'Courier New',monospace\"><span style=\"font-weight: bold\"> Trainable params: </span><span style=\"color: #00af00; text-decoration-color: #00af00\">17,106</span> (66.82 KB)\n",
              "</pre>\n"
            ],
            "text/plain": [
              "\u001b[1m Trainable params: \u001b[0m\u001b[38;5;34m17,106\u001b[0m (66.82 KB)\n"
            ]
          },
          "metadata": {},
          "output_type": "display_data"
        },
        {
          "data": {
            "text/html": [
              "<pre style=\"white-space:pre;overflow-x:auto;line-height:normal;font-family:Menlo,'DejaVu Sans Mono',consolas,'Courier New',monospace\"><span style=\"font-weight: bold\"> Non-trainable params: </span><span style=\"color: #00af00; text-decoration-color: #00af00\">0</span> (0.00 B)\n",
              "</pre>\n"
            ],
            "text/plain": [
              "\u001b[1m Non-trainable params: \u001b[0m\u001b[38;5;34m0\u001b[0m (0.00 B)\n"
            ]
          },
          "metadata": {},
          "output_type": "display_data"
        }
      ],
      "source": [
        "model = Sequential([\n",
        "    Dense(117, activation='relu', input_shape=(n_features,), kernel_regularizer=regularizers.l1(0.00032)),  # Hidden layer with 117 neurons\n",
        "    Dense(24)  # Output layer (regression problem; change for classification)\n",
        "])\n",
        "\n",
        "# Compile the model with Mean Absolute Error as the Loss function\n",
        "model.compile(optimizer='adam', loss='mean_absolute_error')  #, metrics=[smape])\n",
        "\n",
        "# Print the model summary\n",
        "model.summary()"
      ]
    },
    {
      "cell_type": "markdown",
      "source": [
        "####Training"
      ],
      "metadata": {
        "id": "I8nByjGSHZbv"
      }
    },
    {
      "cell_type": "code",
      "execution_count": null,
      "metadata": {
        "colab": {
          "base_uri": "https://localhost:8080/",
          "height": 1000
        },
        "id": "q55XXCfn-X3J",
        "outputId": "02660dfc-6c85-4bd1-c684-c9c49b4d99cf"
      },
      "outputs": [
        {
          "name": "stdout",
          "output_type": "stream",
          "text": [
            "Epoch 1/500\n",
            "\u001b[1m12/12\u001b[0m \u001b[32m━━━━━━━━━━━━━━━━━━━━\u001b[0m\u001b[37m\u001b[0m \u001b[1m1s\u001b[0m 20ms/step - loss: 0.6601 - val_loss: 0.4525\n",
            "Epoch 2/500\n",
            "\u001b[1m12/12\u001b[0m \u001b[32m━━━━━━━━━━━━━━━━━━━━\u001b[0m\u001b[37m\u001b[0m \u001b[1m0s\u001b[0m 6ms/step - loss: 0.4341 - val_loss: 0.4111\n",
            "Epoch 3/500\n",
            "\u001b[1m12/12\u001b[0m \u001b[32m━━━━━━━━━━━━━━━━━━━━\u001b[0m\u001b[37m\u001b[0m \u001b[1m0s\u001b[0m 5ms/step - loss: 0.3897 - val_loss: 0.3789\n",
            "Epoch 4/500\n",
            "\u001b[1m12/12\u001b[0m \u001b[32m━━━━━━━━━━━━━━━━━━━━\u001b[0m\u001b[37m\u001b[0m \u001b[1m0s\u001b[0m 7ms/step - loss: 0.3565 - val_loss: 0.3553\n",
            "Epoch 5/500\n",
            "\u001b[1m12/12\u001b[0m \u001b[32m━━━━━━━━━━━━━━━━━━━━\u001b[0m\u001b[37m\u001b[0m \u001b[1m0s\u001b[0m 6ms/step - loss: 0.3322 - val_loss: 0.3342\n",
            "Epoch 6/500\n",
            "\u001b[1m12/12\u001b[0m \u001b[32m━━━━━━━━━━━━━━━━━━━━\u001b[0m\u001b[37m\u001b[0m \u001b[1m0s\u001b[0m 6ms/step - loss: 0.3110 - val_loss: 0.3144\n",
            "Epoch 7/500\n",
            "\u001b[1m12/12\u001b[0m \u001b[32m━━━━━━━━━━━━━━━━━━━━\u001b[0m\u001b[37m\u001b[0m \u001b[1m0s\u001b[0m 6ms/step - loss: 0.2921 - val_loss: 0.2966\n",
            "Epoch 8/500\n",
            "\u001b[1m12/12\u001b[0m \u001b[32m━━━━━━━━━━━━━━━━━━━━\u001b[0m\u001b[37m\u001b[0m \u001b[1m0s\u001b[0m 7ms/step - loss: 0.2754 - val_loss: 0.2812\n",
            "Epoch 9/500\n",
            "\u001b[1m12/12\u001b[0m \u001b[32m━━━━━━━━━━━━━━━━━━━━\u001b[0m\u001b[37m\u001b[0m \u001b[1m0s\u001b[0m 7ms/step - loss: 0.2608 - val_loss: 0.2672\n",
            "Epoch 10/500\n",
            "\u001b[1m12/12\u001b[0m \u001b[32m━━━━━━━━━━━━━━━━━━━━\u001b[0m\u001b[37m\u001b[0m \u001b[1m0s\u001b[0m 5ms/step - loss: 0.2476 - val_loss: 0.2544\n",
            "Epoch 11/500\n",
            "\u001b[1m12/12\u001b[0m \u001b[32m━━━━━━━━━━━━━━━━━━━━\u001b[0m\u001b[37m\u001b[0m \u001b[1m0s\u001b[0m 6ms/step - loss: 0.2358 - val_loss: 0.2436\n",
            "Epoch 12/500\n",
            "\u001b[1m12/12\u001b[0m \u001b[32m━━━━━━━━━━━━━━━━━━━━\u001b[0m\u001b[37m\u001b[0m \u001b[1m0s\u001b[0m 7ms/step - loss: 0.2256 - val_loss: 0.2340\n",
            "Epoch 13/500\n",
            "\u001b[1m12/12\u001b[0m \u001b[32m━━━━━━━━━━━━━━━━━━━━\u001b[0m\u001b[37m\u001b[0m \u001b[1m0s\u001b[0m 7ms/step - loss: 0.2167 - val_loss: 0.2256\n",
            "Epoch 14/500\n",
            "\u001b[1m12/12\u001b[0m \u001b[32m━━━━━━━━━━━━━━━━━━━━\u001b[0m\u001b[37m\u001b[0m \u001b[1m0s\u001b[0m 6ms/step - loss: 0.2087 - val_loss: 0.2185\n",
            "Epoch 15/500\n",
            "\u001b[1m12/12\u001b[0m \u001b[32m━━━━━━━━━━━━━━━━━━━━\u001b[0m\u001b[37m\u001b[0m \u001b[1m0s\u001b[0m 7ms/step - loss: 0.2013 - val_loss: 0.2115\n",
            "Epoch 16/500\n",
            "\u001b[1m12/12\u001b[0m \u001b[32m━━━━━━━━━━━━━━━━━━━━\u001b[0m\u001b[37m\u001b[0m \u001b[1m0s\u001b[0m 6ms/step - loss: 0.1944 - val_loss: 0.2046\n",
            "Epoch 17/500\n",
            "\u001b[1m12/12\u001b[0m \u001b[32m━━━━━━━━━━━━━━━━━━━━\u001b[0m\u001b[37m\u001b[0m \u001b[1m0s\u001b[0m 5ms/step - loss: 0.1878 - val_loss: 0.1983\n",
            "Epoch 18/500\n",
            "\u001b[1m12/12\u001b[0m \u001b[32m━━━━━━━━━━━━━━━━━━━━\u001b[0m\u001b[37m\u001b[0m \u001b[1m0s\u001b[0m 5ms/step - loss: 0.1816 - val_loss: 0.1921\n",
            "Epoch 19/500\n",
            "\u001b[1m12/12\u001b[0m \u001b[32m━━━━━━━━━━━━━━━━━━━━\u001b[0m\u001b[37m\u001b[0m \u001b[1m0s\u001b[0m 6ms/step - loss: 0.1759 - val_loss: 0.1865\n",
            "Epoch 20/500\n",
            "\u001b[1m12/12\u001b[0m \u001b[32m━━━━━━━━━━━━━━━━━━━━\u001b[0m\u001b[37m\u001b[0m \u001b[1m0s\u001b[0m 6ms/step - loss: 0.1703 - val_loss: 0.1807\n",
            "Epoch 21/500\n",
            "\u001b[1m12/12\u001b[0m \u001b[32m━━━━━━━━━━━━━━━━━━━━\u001b[0m\u001b[37m\u001b[0m \u001b[1m0s\u001b[0m 7ms/step - loss: 0.1651 - val_loss: 0.1758\n",
            "Epoch 22/500\n",
            "\u001b[1m12/12\u001b[0m \u001b[32m━━━━━━━━━━━━━━━━━━━━\u001b[0m\u001b[37m\u001b[0m \u001b[1m0s\u001b[0m 6ms/step - loss: 0.1601 - val_loss: 0.1709\n",
            "Epoch 23/500\n",
            "\u001b[1m12/12\u001b[0m \u001b[32m━━━━━━━━━━━━━━━━━━━━\u001b[0m\u001b[37m\u001b[0m \u001b[1m0s\u001b[0m 8ms/step - loss: 0.1553 - val_loss: 0.1664\n",
            "Epoch 24/500\n",
            "\u001b[1m12/12\u001b[0m \u001b[32m━━━━━━━━━━━━━━━━━━━━\u001b[0m\u001b[37m\u001b[0m \u001b[1m0s\u001b[0m 5ms/step - loss: 0.1508 - val_loss: 0.1618\n",
            "Epoch 25/500\n",
            "\u001b[1m12/12\u001b[0m \u001b[32m━━━━━━━━━━━━━━━━━━━━\u001b[0m\u001b[37m\u001b[0m \u001b[1m0s\u001b[0m 7ms/step - loss: 0.1463 - val_loss: 0.1573\n",
            "Epoch 26/500\n",
            "\u001b[1m12/12\u001b[0m \u001b[32m━━━━━━━━━━━━━━━━━━━━\u001b[0m\u001b[37m\u001b[0m \u001b[1m0s\u001b[0m 5ms/step - loss: 0.1423 - val_loss: 0.1535\n",
            "Epoch 27/500\n",
            "\u001b[1m12/12\u001b[0m \u001b[32m━━━━━━━━━━━━━━━━━━━━\u001b[0m\u001b[37m\u001b[0m \u001b[1m0s\u001b[0m 5ms/step - loss: 0.1384 - val_loss: 0.1500\n",
            "Epoch 28/500\n",
            "\u001b[1m12/12\u001b[0m \u001b[32m━━━━━━━━━━━━━━━━━━━━\u001b[0m\u001b[37m\u001b[0m \u001b[1m0s\u001b[0m 7ms/step - loss: 0.1347 - val_loss: 0.1459\n",
            "Epoch 29/500\n",
            "\u001b[1m12/12\u001b[0m \u001b[32m━━━━━━━━━━━━━━━━━━━━\u001b[0m\u001b[37m\u001b[0m \u001b[1m0s\u001b[0m 7ms/step - loss: 0.1309 - val_loss: 0.1424\n",
            "Epoch 30/500\n",
            "\u001b[1m12/12\u001b[0m \u001b[32m━━━━━━━━━━━━━━━━━━━━\u001b[0m\u001b[37m\u001b[0m \u001b[1m0s\u001b[0m 6ms/step - loss: 0.1274 - val_loss: 0.1390\n",
            "Epoch 31/500\n",
            "\u001b[1m12/12\u001b[0m \u001b[32m━━━━━━━━━━━━━━━━━━━━\u001b[0m\u001b[37m\u001b[0m \u001b[1m0s\u001b[0m 8ms/step - loss: 0.1238 - val_loss: 0.1355\n",
            "Epoch 32/500\n",
            "\u001b[1m12/12\u001b[0m \u001b[32m━━━━━━━━━━━━━━━━━━━━\u001b[0m\u001b[37m\u001b[0m \u001b[1m0s\u001b[0m 5ms/step - loss: 0.1207 - val_loss: 0.1332\n",
            "Epoch 33/500\n",
            "\u001b[1m12/12\u001b[0m \u001b[32m━━━━━━━━━━━━━━━━━━━━\u001b[0m\u001b[37m\u001b[0m \u001b[1m0s\u001b[0m 7ms/step - loss: 0.1178 - val_loss: 0.1301\n",
            "Epoch 34/500\n",
            "\u001b[1m12/12\u001b[0m \u001b[32m━━━━━━━━━━━━━━━━━━━━\u001b[0m\u001b[37m\u001b[0m \u001b[1m0s\u001b[0m 5ms/step - loss: 0.1149 - val_loss: 0.1277\n",
            "Epoch 35/500\n",
            "\u001b[1m12/12\u001b[0m \u001b[32m━━━━━━━━━━━━━━━━━━━━\u001b[0m\u001b[37m\u001b[0m \u001b[1m0s\u001b[0m 6ms/step - loss: 0.1121 - val_loss: 0.1244\n",
            "Epoch 36/500\n",
            "\u001b[1m12/12\u001b[0m \u001b[32m━━━━━━━━━━━━━━━━━━━━\u001b[0m\u001b[37m\u001b[0m \u001b[1m0s\u001b[0m 6ms/step - loss: 0.1095 - val_loss: 0.1219\n",
            "Epoch 37/500\n",
            "\u001b[1m12/12\u001b[0m \u001b[32m━━━━━━━━━━━━━━━━━━━━\u001b[0m\u001b[37m\u001b[0m \u001b[1m0s\u001b[0m 5ms/step - loss: 0.1069 - val_loss: 0.1193\n",
            "Epoch 38/500\n",
            "\u001b[1m12/12\u001b[0m \u001b[32m━━━━━━━━━━━━━━━━━━━━\u001b[0m\u001b[37m\u001b[0m \u001b[1m0s\u001b[0m 5ms/step - loss: 0.1042 - val_loss: 0.1170\n",
            "Epoch 39/500\n",
            "\u001b[1m12/12\u001b[0m \u001b[32m━━━━━━━━━━━━━━━━━━━━\u001b[0m\u001b[37m\u001b[0m \u001b[1m0s\u001b[0m 8ms/step - loss: 0.1021 - val_loss: 0.1146\n",
            "Epoch 40/500\n",
            "\u001b[1m12/12\u001b[0m \u001b[32m━━━━━━━━━━━━━━━━━━━━\u001b[0m\u001b[37m\u001b[0m \u001b[1m0s\u001b[0m 7ms/step - loss: 0.1000 - val_loss: 0.1117\n",
            "Epoch 41/500\n",
            "\u001b[1m12/12\u001b[0m \u001b[32m━━━━━━━━━━━━━━━━━━━━\u001b[0m\u001b[37m\u001b[0m \u001b[1m0s\u001b[0m 5ms/step - loss: 0.0977 - val_loss: 0.1101\n",
            "Epoch 42/500\n",
            "\u001b[1m12/12\u001b[0m \u001b[32m━━━━━━━━━━━━━━━━━━━━\u001b[0m\u001b[37m\u001b[0m \u001b[1m0s\u001b[0m 5ms/step - loss: 0.0959 - val_loss: 0.1081\n",
            "Epoch 43/500\n",
            "\u001b[1m12/12\u001b[0m \u001b[32m━━━━━━━━━━━━━━━━━━━━\u001b[0m\u001b[37m\u001b[0m \u001b[1m0s\u001b[0m 6ms/step - loss: 0.0940 - val_loss: 0.1062\n",
            "Epoch 44/500\n",
            "\u001b[1m12/12\u001b[0m \u001b[32m━━━━━━━━━━━━━━━━━━━━\u001b[0m\u001b[37m\u001b[0m \u001b[1m0s\u001b[0m 5ms/step - loss: 0.0922 - val_loss: 0.1046\n",
            "Epoch 45/500\n",
            "\u001b[1m12/12\u001b[0m \u001b[32m━━━━━━━━━━━━━━━━━━━━\u001b[0m\u001b[37m\u001b[0m \u001b[1m0s\u001b[0m 7ms/step - loss: 0.0904 - val_loss: 0.1030\n",
            "Epoch 46/500\n",
            "\u001b[1m12/12\u001b[0m \u001b[32m━━━━━━━━━━━━━━━━━━━━\u001b[0m\u001b[37m\u001b[0m \u001b[1m0s\u001b[0m 5ms/step - loss: 0.0890 - val_loss: 0.1011\n",
            "Epoch 47/500\n",
            "\u001b[1m12/12\u001b[0m \u001b[32m━━━━━━━━━━━━━━━━━━━━\u001b[0m\u001b[37m\u001b[0m \u001b[1m0s\u001b[0m 7ms/step - loss: 0.0873 - val_loss: 0.0994\n",
            "Epoch 48/500\n",
            "\u001b[1m12/12\u001b[0m \u001b[32m━━━━━━━━━━━━━━━━━━━━\u001b[0m\u001b[37m\u001b[0m \u001b[1m0s\u001b[0m 8ms/step - loss: 0.0853 - val_loss: 0.0979\n",
            "Epoch 49/500\n",
            "\u001b[1m12/12\u001b[0m \u001b[32m━━━━━━━━━━━━━━━━━━━━\u001b[0m\u001b[37m\u001b[0m \u001b[1m0s\u001b[0m 5ms/step - loss: 0.0839 - val_loss: 0.0967\n",
            "Epoch 50/500\n",
            "\u001b[1m12/12\u001b[0m \u001b[32m━━━━━━━━━━━━━━━━━━━━\u001b[0m\u001b[37m\u001b[0m \u001b[1m0s\u001b[0m 5ms/step - loss: 0.0825 - val_loss: 0.0947\n",
            "Epoch 51/500\n",
            "\u001b[1m12/12\u001b[0m \u001b[32m━━━━━━━━━━━━━━━━━━━━\u001b[0m\u001b[37m\u001b[0m \u001b[1m0s\u001b[0m 6ms/step - loss: 0.0809 - val_loss: 0.0936\n",
            "Epoch 52/500\n",
            "\u001b[1m12/12\u001b[0m \u001b[32m━━━━━━━━━━━━━━━━━━━━\u001b[0m\u001b[37m\u001b[0m \u001b[1m0s\u001b[0m 9ms/step - loss: 0.0797 - val_loss: 0.0923\n",
            "Epoch 53/500\n",
            "\u001b[1m12/12\u001b[0m \u001b[32m━━━━━━━━━━━━━━━━━━━━\u001b[0m\u001b[37m\u001b[0m \u001b[1m0s\u001b[0m 9ms/step - loss: 0.0786 - val_loss: 0.0913\n",
            "Epoch 54/500\n",
            "\u001b[1m12/12\u001b[0m \u001b[32m━━━━━━━━━━━━━━━━━━━━\u001b[0m\u001b[37m\u001b[0m \u001b[1m0s\u001b[0m 9ms/step - loss: 0.0770 - val_loss: 0.0905\n",
            "Epoch 55/500\n",
            "\u001b[1m12/12\u001b[0m \u001b[32m━━━━━━━━━━━━━━━━━━━━\u001b[0m\u001b[37m\u001b[0m \u001b[1m0s\u001b[0m 12ms/step - loss: 0.0760 - val_loss: 0.0893\n",
            "Epoch 56/500\n",
            "\u001b[1m12/12\u001b[0m \u001b[32m━━━━━━━━━━━━━━━━━━━━\u001b[0m\u001b[37m\u001b[0m \u001b[1m0s\u001b[0m 7ms/step - loss: 0.0748 - val_loss: 0.0879\n",
            "Epoch 57/500\n",
            "\u001b[1m12/12\u001b[0m \u001b[32m━━━━━━━━━━━━━━━━━━━━\u001b[0m\u001b[37m\u001b[0m \u001b[1m0s\u001b[0m 7ms/step - loss: 0.0739 - val_loss: 0.0872\n",
            "Epoch 58/500\n",
            "\u001b[1m12/12\u001b[0m \u001b[32m━━━━━━━━━━━━━━━━━━━━\u001b[0m\u001b[37m\u001b[0m \u001b[1m0s\u001b[0m 8ms/step - loss: 0.0727 - val_loss: 0.0863\n",
            "Epoch 59/500\n",
            "\u001b[1m12/12\u001b[0m \u001b[32m━━━━━━━━━━━━━━━━━━━━\u001b[0m\u001b[37m\u001b[0m \u001b[1m0s\u001b[0m 8ms/step - loss: 0.0720 - val_loss: 0.0846\n",
            "Epoch 60/500\n",
            "\u001b[1m12/12\u001b[0m \u001b[32m━━━━━━━━━━━━━━━━━━━━\u001b[0m\u001b[37m\u001b[0m \u001b[1m0s\u001b[0m 11ms/step - loss: 0.0705 - val_loss: 0.0833\n",
            "Epoch 61/500\n",
            "\u001b[1m12/12\u001b[0m \u001b[32m━━━━━━━━━━━━━━━━━━━━\u001b[0m\u001b[37m\u001b[0m \u001b[1m0s\u001b[0m 11ms/step - loss: 0.0694 - val_loss: 0.0823\n",
            "Epoch 62/500\n",
            "\u001b[1m12/12\u001b[0m \u001b[32m━━━━━━━━━━━━━━━━━━━━\u001b[0m\u001b[37m\u001b[0m \u001b[1m0s\u001b[0m 9ms/step - loss: 0.0688 - val_loss: 0.0818\n",
            "Epoch 63/500\n",
            "\u001b[1m12/12\u001b[0m \u001b[32m━━━━━━━━━━━━━━━━━━━━\u001b[0m\u001b[37m\u001b[0m \u001b[1m0s\u001b[0m 8ms/step - loss: 0.0681 - val_loss: 0.0813\n",
            "Epoch 64/500\n",
            "\u001b[1m12/12\u001b[0m \u001b[32m━━━━━━━━━━━━━━━━━━━━\u001b[0m\u001b[37m\u001b[0m \u001b[1m0s\u001b[0m 10ms/step - loss: 0.0671 - val_loss: 0.0803\n",
            "Epoch 65/500\n",
            "\u001b[1m12/12\u001b[0m \u001b[32m━━━━━━━━━━━━━━━━━━━━\u001b[0m\u001b[37m\u001b[0m \u001b[1m0s\u001b[0m 9ms/step - loss: 0.0664 - val_loss: 0.0791\n",
            "Epoch 66/500\n",
            "\u001b[1m12/12\u001b[0m \u001b[32m━━━━━━━━━━━━━━━━━━━━\u001b[0m\u001b[37m\u001b[0m \u001b[1m0s\u001b[0m 10ms/step - loss: 0.0656 - val_loss: 0.0783\n",
            "Epoch 67/500\n",
            "\u001b[1m12/12\u001b[0m \u001b[32m━━━━━━━━━━━━━━━━━━━━\u001b[0m\u001b[37m\u001b[0m \u001b[1m0s\u001b[0m 13ms/step - loss: 0.0646 - val_loss: 0.0775\n",
            "Epoch 68/500\n",
            "\u001b[1m12/12\u001b[0m \u001b[32m━━━━━━━━━━━━━━━━━━━━\u001b[0m\u001b[37m\u001b[0m \u001b[1m0s\u001b[0m 9ms/step - loss: 0.0639 - val_loss: 0.0771\n",
            "Epoch 69/500\n",
            "\u001b[1m12/12\u001b[0m \u001b[32m━━━━━━━━━━━━━━━━━━━━\u001b[0m\u001b[37m\u001b[0m \u001b[1m0s\u001b[0m 9ms/step - loss: 0.0634 - val_loss: 0.0759\n",
            "Epoch 70/500\n",
            "\u001b[1m12/12\u001b[0m \u001b[32m━━━━━━━━━━━━━━━━━━━━\u001b[0m\u001b[37m\u001b[0m \u001b[1m0s\u001b[0m 7ms/step - loss: 0.0622 - val_loss: 0.0751\n",
            "Epoch 71/500\n",
            "\u001b[1m12/12\u001b[0m \u001b[32m━━━━━━━━━━━━━━━━━━━━\u001b[0m\u001b[37m\u001b[0m \u001b[1m0s\u001b[0m 6ms/step - loss: 0.0615 - val_loss: 0.0757\n",
            "Epoch 72/500\n",
            "\u001b[1m12/12\u001b[0m \u001b[32m━━━━━━━━━━━━━━━━━━━━\u001b[0m\u001b[37m\u001b[0m \u001b[1m0s\u001b[0m 5ms/step - loss: 0.0612 - val_loss: 0.0750\n",
            "Epoch 73/500\n",
            "\u001b[1m12/12\u001b[0m \u001b[32m━━━━━━━━━━━━━━━━━━━━\u001b[0m\u001b[37m\u001b[0m \u001b[1m0s\u001b[0m 8ms/step - loss: 0.0604 - val_loss: 0.0742\n",
            "Epoch 74/500\n",
            "\u001b[1m12/12\u001b[0m \u001b[32m━━━━━━━━━━━━━━━━━━━━\u001b[0m\u001b[37m\u001b[0m \u001b[1m0s\u001b[0m 6ms/step - loss: 0.0599 - val_loss: 0.0736\n",
            "Epoch 75/500\n",
            "\u001b[1m12/12\u001b[0m \u001b[32m━━━━━━━━━━━━━━━━━━━━\u001b[0m\u001b[37m\u001b[0m \u001b[1m0s\u001b[0m 5ms/step - loss: 0.0594 - val_loss: 0.0731\n",
            "Epoch 76/500\n",
            "\u001b[1m12/12\u001b[0m \u001b[32m━━━━━━━━━━━━━━━━━━━━\u001b[0m\u001b[37m\u001b[0m \u001b[1m0s\u001b[0m 5ms/step - loss: 0.0583 - val_loss: 0.0719\n",
            "Epoch 77/500\n",
            "\u001b[1m12/12\u001b[0m \u001b[32m━━━━━━━━━━━━━━━━━━━━\u001b[0m\u001b[37m\u001b[0m \u001b[1m0s\u001b[0m 7ms/step - loss: 0.0578 - val_loss: 0.0720\n",
            "Epoch 78/500\n",
            "\u001b[1m12/12\u001b[0m \u001b[32m━━━━━━━━━━━━━━━━━━━━\u001b[0m\u001b[37m\u001b[0m \u001b[1m0s\u001b[0m 7ms/step - loss: 0.0573 - val_loss: 0.0716\n",
            "Epoch 79/500\n",
            "\u001b[1m12/12\u001b[0m \u001b[32m━━━━━━━━━━━━━━━━━━━━\u001b[0m\u001b[37m\u001b[0m \u001b[1m0s\u001b[0m 5ms/step - loss: 0.0570 - val_loss: 0.0708\n",
            "Epoch 80/500\n",
            "\u001b[1m12/12\u001b[0m \u001b[32m━━━━━━━━━━━━━━━━━━━━\u001b[0m\u001b[37m\u001b[0m \u001b[1m0s\u001b[0m 7ms/step - loss: 0.0565 - val_loss: 0.0704\n",
            "Epoch 81/500\n",
            "\u001b[1m12/12\u001b[0m \u001b[32m━━━━━━━━━━━━━━━━━━━━\u001b[0m\u001b[37m\u001b[0m \u001b[1m0s\u001b[0m 6ms/step - loss: 0.0562 - val_loss: 0.0689\n",
            "Epoch 82/500\n",
            "\u001b[1m12/12\u001b[0m \u001b[32m━━━━━━━━━━━━━━━━━━━━\u001b[0m\u001b[37m\u001b[0m \u001b[1m0s\u001b[0m 5ms/step - loss: 0.0550 - val_loss: 0.0690\n",
            "Epoch 83/500\n",
            "\u001b[1m12/12\u001b[0m \u001b[32m━━━━━━━━━━━━━━━━━━━━\u001b[0m\u001b[37m\u001b[0m \u001b[1m0s\u001b[0m 5ms/step - loss: 0.0547 - val_loss: 0.0691\n",
            "Epoch 84/500\n",
            "\u001b[1m12/12\u001b[0m \u001b[32m━━━━━━━━━━━━━━━━━━━━\u001b[0m\u001b[37m\u001b[0m \u001b[1m0s\u001b[0m 5ms/step - loss: 0.0544 - val_loss: 0.0679\n",
            "Epoch 85/500\n",
            "\u001b[1m12/12\u001b[0m \u001b[32m━━━━━━━━━━━━━━━━━━━━\u001b[0m\u001b[37m\u001b[0m \u001b[1m0s\u001b[0m 7ms/step - loss: 0.0538 - val_loss: 0.0676\n",
            "Epoch 86/500\n",
            "\u001b[1m12/12\u001b[0m \u001b[32m━━━━━━━━━━━━━━━━━━━━\u001b[0m\u001b[37m\u001b[0m \u001b[1m0s\u001b[0m 7ms/step - loss: 0.0535 - val_loss: 0.0671\n",
            "Epoch 87/500\n",
            "\u001b[1m12/12\u001b[0m \u001b[32m━━━━━━━━━━━━━━━━━━━━\u001b[0m\u001b[37m\u001b[0m \u001b[1m0s\u001b[0m 5ms/step - loss: 0.0531 - val_loss: 0.0670\n",
            "Epoch 88/500\n",
            "\u001b[1m12/12\u001b[0m \u001b[32m━━━━━━━━━━━━━━━━━━━━\u001b[0m\u001b[37m\u001b[0m \u001b[1m0s\u001b[0m 8ms/step - loss: 0.0527 - val_loss: 0.0672\n",
            "Epoch 89/500\n",
            "\u001b[1m12/12\u001b[0m \u001b[32m━━━━━━━━━━━━━━━━━━━━\u001b[0m\u001b[37m\u001b[0m \u001b[1m0s\u001b[0m 6ms/step - loss: 0.0526 - val_loss: 0.0661\n",
            "Epoch 90/500\n",
            "\u001b[1m12/12\u001b[0m \u001b[32m━━━━━━━━━━━━━━━━━━━━\u001b[0m\u001b[37m\u001b[0m \u001b[1m0s\u001b[0m 5ms/step - loss: 0.0522 - val_loss: 0.0655\n",
            "Epoch 91/500\n",
            "\u001b[1m12/12\u001b[0m \u001b[32m━━━━━━━━━━━━━━━━━━━━\u001b[0m\u001b[37m\u001b[0m \u001b[1m0s\u001b[0m 7ms/step - loss: 0.0515 - val_loss: 0.0657\n",
            "Epoch 92/500\n",
            "\u001b[1m12/12\u001b[0m \u001b[32m━━━━━━━━━━━━━━━━━━━━\u001b[0m\u001b[37m\u001b[0m \u001b[1m0s\u001b[0m 6ms/step - loss: 0.0514 - val_loss: 0.0651\n",
            "Epoch 93/500\n",
            "\u001b[1m12/12\u001b[0m \u001b[32m━━━━━━━━━━━━━━━━━━━━\u001b[0m\u001b[37m\u001b[0m \u001b[1m0s\u001b[0m 5ms/step - loss: 0.0509 - val_loss: 0.0648\n",
            "Epoch 94/500\n",
            "\u001b[1m12/12\u001b[0m \u001b[32m━━━━━━━━━━━━━━━━━━━━\u001b[0m\u001b[37m\u001b[0m \u001b[1m0s\u001b[0m 5ms/step - loss: 0.0503 - val_loss: 0.0642\n",
            "Epoch 95/500\n",
            "\u001b[1m12/12\u001b[0m \u001b[32m━━━━━━━━━━━━━━━━━━━━\u001b[0m\u001b[37m\u001b[0m \u001b[1m0s\u001b[0m 5ms/step - loss: 0.0500 - val_loss: 0.0646\n",
            "Epoch 96/500\n",
            "\u001b[1m12/12\u001b[0m \u001b[32m━━━━━━━━━━━━━━━━━━━━\u001b[0m\u001b[37m\u001b[0m \u001b[1m0s\u001b[0m 5ms/step - loss: 0.0500 - val_loss: 0.0641\n",
            "Epoch 97/500\n",
            "\u001b[1m12/12\u001b[0m \u001b[32m━━━━━━━━━━━━━━━━━━━━\u001b[0m\u001b[37m\u001b[0m \u001b[1m0s\u001b[0m 10ms/step - loss: 0.0497 - val_loss: 0.0643\n",
            "Epoch 98/500\n",
            "\u001b[1m12/12\u001b[0m \u001b[32m━━━━━━━━━━━━━━━━━━━━\u001b[0m\u001b[37m\u001b[0m \u001b[1m0s\u001b[0m 7ms/step - loss: 0.0499 - val_loss: 0.0626\n",
            "Epoch 99/500\n",
            "\u001b[1m12/12\u001b[0m \u001b[32m━━━━━━━━━━━━━━━━━━━━\u001b[0m\u001b[37m\u001b[0m \u001b[1m0s\u001b[0m 6ms/step - loss: 0.0487 - val_loss: 0.0627\n",
            "Epoch 100/500\n",
            "\u001b[1m12/12\u001b[0m \u001b[32m━━━━━━━━━━━━━━━━━━━━\u001b[0m\u001b[37m\u001b[0m \u001b[1m0s\u001b[0m 5ms/step - loss: 0.0484 - val_loss: 0.0628\n",
            "Epoch 101/500\n",
            "\u001b[1m12/12\u001b[0m \u001b[32m━━━━━━━━━━━━━━━━━━━━\u001b[0m\u001b[37m\u001b[0m \u001b[1m0s\u001b[0m 5ms/step - loss: 0.0484 - val_loss: 0.0626\n",
            "Epoch 102/500\n",
            "\u001b[1m12/12\u001b[0m \u001b[32m━━━━━━━━━━━━━━━━━━━━\u001b[0m\u001b[37m\u001b[0m \u001b[1m0s\u001b[0m 5ms/step - loss: 0.0484 - val_loss: 0.0618\n",
            "Epoch 103/500\n",
            "\u001b[1m12/12\u001b[0m \u001b[32m━━━━━━━━━━━━━━━━━━━━\u001b[0m\u001b[37m\u001b[0m \u001b[1m0s\u001b[0m 5ms/step - loss: 0.0480 - val_loss: 0.0613\n",
            "Epoch 104/500\n",
            "\u001b[1m12/12\u001b[0m \u001b[32m━━━━━━━━━━━━━━━━━━━━\u001b[0m\u001b[37m\u001b[0m \u001b[1m0s\u001b[0m 7ms/step - loss: 0.0474 - val_loss: 0.0619\n",
            "Epoch 105/500\n",
            "\u001b[1m12/12\u001b[0m \u001b[32m━━━━━━━━━━━━━━━━━━━━\u001b[0m\u001b[37m\u001b[0m \u001b[1m0s\u001b[0m 8ms/step - loss: 0.0472 - val_loss: 0.0616\n",
            "Epoch 106/500\n",
            "\u001b[1m12/12\u001b[0m \u001b[32m━━━━━━━━━━━━━━━━━━━━\u001b[0m\u001b[37m\u001b[0m \u001b[1m0s\u001b[0m 6ms/step - loss: 0.0471 - val_loss: 0.0614\n",
            "Epoch 107/500\n",
            "\u001b[1m12/12\u001b[0m \u001b[32m━━━━━━━━━━━━━━━━━━━━\u001b[0m\u001b[37m\u001b[0m \u001b[1m0s\u001b[0m 5ms/step - loss: 0.0471 - val_loss: 0.0611\n",
            "Epoch 108/500\n",
            "\u001b[1m12/12\u001b[0m \u001b[32m━━━━━━━━━━━━━━━━━━━━\u001b[0m\u001b[37m\u001b[0m \u001b[1m0s\u001b[0m 5ms/step - loss: 0.0466 - val_loss: 0.0607\n",
            "Epoch 109/500\n",
            "\u001b[1m12/12\u001b[0m \u001b[32m━━━━━━━━━━━━━━━━━━━━\u001b[0m\u001b[37m\u001b[0m \u001b[1m0s\u001b[0m 7ms/step - loss: 0.0463 - val_loss: 0.0615\n",
            "Epoch 110/500\n",
            "\u001b[1m12/12\u001b[0m \u001b[32m━━━━━━━━━━━━━━━━━━━━\u001b[0m\u001b[37m\u001b[0m \u001b[1m0s\u001b[0m 5ms/step - loss: 0.0467 - val_loss: 0.0608\n",
            "Epoch 111/500\n",
            "\u001b[1m12/12\u001b[0m \u001b[32m━━━━━━━━━━━━━━━━━━━━\u001b[0m\u001b[37m\u001b[0m \u001b[1m0s\u001b[0m 5ms/step - loss: 0.0463 - val_loss: 0.0608\n",
            "Epoch 112/500\n",
            "\u001b[1m12/12\u001b[0m \u001b[32m━━━━━━━━━━━━━━━━━━━━\u001b[0m\u001b[37m\u001b[0m \u001b[1m0s\u001b[0m 6ms/step - loss: 0.0461 - val_loss: 0.0603\n",
            "Epoch 113/500\n",
            "\u001b[1m12/12\u001b[0m \u001b[32m━━━━━━━━━━━━━━━━━━━━\u001b[0m\u001b[37m\u001b[0m \u001b[1m0s\u001b[0m 7ms/step - loss: 0.0456 - val_loss: 0.0600\n",
            "Epoch 114/500\n",
            "\u001b[1m12/12\u001b[0m \u001b[32m━━━━━━━━━━━━━━━━━━━━\u001b[0m\u001b[37m\u001b[0m \u001b[1m0s\u001b[0m 7ms/step - loss: 0.0454 - val_loss: 0.0601\n",
            "Epoch 115/500\n",
            "\u001b[1m12/12\u001b[0m \u001b[32m━━━━━━━━━━━━━━━━━━━━\u001b[0m\u001b[37m\u001b[0m \u001b[1m0s\u001b[0m 5ms/step - loss: 0.0455 - val_loss: 0.0604\n",
            "Epoch 116/500\n",
            "\u001b[1m12/12\u001b[0m \u001b[32m━━━━━━━━━━━━━━━━━━━━\u001b[0m\u001b[37m\u001b[0m \u001b[1m0s\u001b[0m 5ms/step - loss: 0.0455 - val_loss: 0.0592\n",
            "Epoch 117/500\n",
            "\u001b[1m12/12\u001b[0m \u001b[32m━━━━━━━━━━━━━━━━━━━━\u001b[0m\u001b[37m\u001b[0m \u001b[1m0s\u001b[0m 7ms/step - loss: 0.0451 - val_loss: 0.0592\n",
            "Epoch 118/500\n",
            "\u001b[1m12/12\u001b[0m \u001b[32m━━━━━━━━━━━━━━━━━━━━\u001b[0m\u001b[37m\u001b[0m \u001b[1m0s\u001b[0m 6ms/step - loss: 0.0445 - val_loss: 0.0587\n",
            "Epoch 119/500\n",
            "\u001b[1m12/12\u001b[0m \u001b[32m━━━━━━━━━━━━━━━━━━━━\u001b[0m\u001b[37m\u001b[0m \u001b[1m0s\u001b[0m 6ms/step - loss: 0.0443 - val_loss: 0.0592\n",
            "Epoch 120/500\n",
            "\u001b[1m12/12\u001b[0m \u001b[32m━━━━━━━━━━━━━━━━━━━━\u001b[0m\u001b[37m\u001b[0m \u001b[1m0s\u001b[0m 7ms/step - loss: 0.0444 - val_loss: 0.0589\n",
            "Epoch 121/500\n",
            "\u001b[1m12/12\u001b[0m \u001b[32m━━━━━━━━━━━━━━━━━━━━\u001b[0m\u001b[37m\u001b[0m \u001b[1m0s\u001b[0m 8ms/step - loss: 0.0443 - val_loss: 0.0587\n",
            "Epoch 122/500\n",
            "\u001b[1m12/12\u001b[0m \u001b[32m━━━━━━━━━━━━━━━━━━━━\u001b[0m\u001b[37m\u001b[0m \u001b[1m0s\u001b[0m 7ms/step - loss: 0.0441 - val_loss: 0.0586\n",
            "Epoch 123/500\n",
            "\u001b[1m12/12\u001b[0m \u001b[32m━━━━━━━━━━━━━━━━━━━━\u001b[0m\u001b[37m\u001b[0m \u001b[1m0s\u001b[0m 7ms/step - loss: 0.0440 - val_loss: 0.0582\n",
            "Epoch 124/500\n",
            "\u001b[1m12/12\u001b[0m \u001b[32m━━━━━━━━━━━━━━━━━━━━\u001b[0m\u001b[37m\u001b[0m \u001b[1m0s\u001b[0m 5ms/step - loss: 0.0439 - val_loss: 0.0579\n",
            "Epoch 125/500\n",
            "\u001b[1m12/12\u001b[0m \u001b[32m━━━━━━━━━━━━━━━━━━━━\u001b[0m\u001b[37m\u001b[0m \u001b[1m0s\u001b[0m 5ms/step - loss: 0.0437 - val_loss: 0.0577\n",
            "Epoch 126/500\n",
            "\u001b[1m12/12\u001b[0m \u001b[32m━━━━━━━━━━━━━━━━━━━━\u001b[0m\u001b[37m\u001b[0m \u001b[1m0s\u001b[0m 7ms/step - loss: 0.0435 - val_loss: 0.0581\n",
            "Epoch 127/500\n",
            "\u001b[1m12/12\u001b[0m \u001b[32m━━━━━━━━━━━━━━━━━━━━\u001b[0m\u001b[37m\u001b[0m \u001b[1m0s\u001b[0m 6ms/step - loss: 0.0434 - val_loss: 0.0579\n",
            "Epoch 128/500\n",
            "\u001b[1m12/12\u001b[0m \u001b[32m━━━━━━━━━━━━━━━━━━━━\u001b[0m\u001b[37m\u001b[0m \u001b[1m0s\u001b[0m 6ms/step - loss: 0.0431 - val_loss: 0.0582\n",
            "Epoch 129/500\n",
            "\u001b[1m12/12\u001b[0m \u001b[32m━━━━━━━━━━━━━━━━━━━━\u001b[0m\u001b[37m\u001b[0m \u001b[1m0s\u001b[0m 7ms/step - loss: 0.0432 - val_loss: 0.0580\n",
            "Epoch 130/500\n",
            "\u001b[1m12/12\u001b[0m \u001b[32m━━━━━━━━━━━━━━━━━━━━\u001b[0m\u001b[37m\u001b[0m \u001b[1m0s\u001b[0m 9ms/step - loss: 0.0431 - val_loss: 0.0575\n",
            "Epoch 131/500\n",
            "\u001b[1m12/12\u001b[0m \u001b[32m━━━━━━━━━━━━━━━━━━━━\u001b[0m\u001b[37m\u001b[0m \u001b[1m0s\u001b[0m 6ms/step - loss: 0.0430 - val_loss: 0.0579\n",
            "Epoch 132/500\n",
            "\u001b[1m12/12\u001b[0m \u001b[32m━━━━━━━━━━━━━━━━━━━━\u001b[0m\u001b[37m\u001b[0m \u001b[1m0s\u001b[0m 6ms/step - loss: 0.0430 - val_loss: 0.0574\n",
            "Epoch 133/500\n",
            "\u001b[1m12/12\u001b[0m \u001b[32m━━━━━━━━━━━━━━━━━━━━\u001b[0m\u001b[37m\u001b[0m \u001b[1m0s\u001b[0m 7ms/step - loss: 0.0427 - val_loss: 0.0572\n",
            "Epoch 134/500\n",
            "\u001b[1m12/12\u001b[0m \u001b[32m━━━━━━━━━━━━━━━━━━━━\u001b[0m\u001b[37m\u001b[0m \u001b[1m0s\u001b[0m 6ms/step - loss: 0.0427 - val_loss: 0.0575\n",
            "Epoch 135/500\n",
            "\u001b[1m12/12\u001b[0m \u001b[32m━━━━━━━━━━━━━━━━━━━━\u001b[0m\u001b[37m\u001b[0m \u001b[1m0s\u001b[0m 7ms/step - loss: 0.0425 - val_loss: 0.0577\n",
            "Epoch 136/500\n",
            "\u001b[1m12/12\u001b[0m \u001b[32m━━━━━━━━━━━━━━━━━━━━\u001b[0m\u001b[37m\u001b[0m \u001b[1m0s\u001b[0m 7ms/step - loss: 0.0427 - val_loss: 0.0566\n",
            "Epoch 137/500\n",
            "\u001b[1m12/12\u001b[0m \u001b[32m━━━━━━━━━━━━━━━━━━━━\u001b[0m\u001b[37m\u001b[0m \u001b[1m0s\u001b[0m 8ms/step - loss: 0.0423 - val_loss: 0.0572\n",
            "Epoch 138/500\n",
            "\u001b[1m12/12\u001b[0m \u001b[32m━━━━━━━━━━━━━━━━━━━━\u001b[0m\u001b[37m\u001b[0m \u001b[1m0s\u001b[0m 8ms/step - loss: 0.0424 - val_loss: 0.0582\n",
            "Epoch 139/500\n",
            "\u001b[1m12/12\u001b[0m \u001b[32m━━━━━━━━━━━━━━━━━━━━\u001b[0m\u001b[37m\u001b[0m \u001b[1m0s\u001b[0m 7ms/step - loss: 0.0426 - val_loss: 0.0576\n",
            "Epoch 140/500\n",
            "\u001b[1m12/12\u001b[0m \u001b[32m━━━━━━━━━━━━━━━━━━━━\u001b[0m\u001b[37m\u001b[0m \u001b[1m0s\u001b[0m 5ms/step - loss: 0.0423 - val_loss: 0.0567\n",
            "Epoch 141/500\n",
            "\u001b[1m12/12\u001b[0m \u001b[32m━━━━━━━━━━━━━━━━━━━━\u001b[0m\u001b[37m\u001b[0m \u001b[1m0s\u001b[0m 5ms/step - loss: 0.0419 - val_loss: 0.0575\n",
            "Epoch 142/500\n",
            "\u001b[1m12/12\u001b[0m \u001b[32m━━━━━━━━━━━━━━━━━━━━\u001b[0m\u001b[37m\u001b[0m \u001b[1m0s\u001b[0m 7ms/step - loss: 0.0424 - val_loss: 0.0567\n",
            "Epoch 143/500\n",
            "\u001b[1m12/12\u001b[0m \u001b[32m━━━━━━━━━━━━━━━━━━━━\u001b[0m\u001b[37m\u001b[0m \u001b[1m0s\u001b[0m 6ms/step - loss: 0.0420 - val_loss: 0.0561\n",
            "Epoch 144/500\n",
            "\u001b[1m12/12\u001b[0m \u001b[32m━━━━━━━━━━━━━━━━━━━━\u001b[0m\u001b[37m\u001b[0m \u001b[1m0s\u001b[0m 5ms/step - loss: 0.0416 - val_loss: 0.0563\n",
            "Epoch 145/500\n",
            "\u001b[1m12/12\u001b[0m \u001b[32m━━━━━━━━━━━━━━━━━━━━\u001b[0m\u001b[37m\u001b[0m \u001b[1m0s\u001b[0m 6ms/step - loss: 0.0415 - val_loss: 0.0562\n",
            "Epoch 146/500\n",
            "\u001b[1m12/12\u001b[0m \u001b[32m━━━━━━━━━━━━━━━━━━━━\u001b[0m\u001b[37m\u001b[0m \u001b[1m0s\u001b[0m 7ms/step - loss: 0.0414 - val_loss: 0.0570\n",
            "Epoch 147/500\n",
            "\u001b[1m12/12\u001b[0m \u001b[32m━━━━━━━━━━━━━━━━━━━━\u001b[0m\u001b[37m\u001b[0m \u001b[1m0s\u001b[0m 7ms/step - loss: 0.0414 - val_loss: 0.0568\n",
            "Epoch 148/500\n",
            "\u001b[1m12/12\u001b[0m \u001b[32m━━━━━━━━━━━━━━━━━━━━\u001b[0m\u001b[37m\u001b[0m \u001b[1m0s\u001b[0m 6ms/step - loss: 0.0415 - val_loss: 0.0557\n",
            "Epoch 149/500\n",
            "\u001b[1m12/12\u001b[0m \u001b[32m━━━━━━━━━━━━━━━━━━━━\u001b[0m\u001b[37m\u001b[0m \u001b[1m0s\u001b[0m 6ms/step - loss: 0.0412 - val_loss: 0.0561\n",
            "Epoch 150/500\n",
            "\u001b[1m12/12\u001b[0m \u001b[32m━━━━━━━━━━━━━━━━━━━━\u001b[0m\u001b[37m\u001b[0m \u001b[1m0s\u001b[0m 5ms/step - loss: 0.0412 - val_loss: 0.0565\n",
            "Epoch 151/500\n",
            "\u001b[1m12/12\u001b[0m \u001b[32m━━━━━━━━━━━━━━━━━━━━\u001b[0m\u001b[37m\u001b[0m \u001b[1m0s\u001b[0m 9ms/step - loss: 0.0412 - val_loss: 0.0570\n",
            "Epoch 152/500\n",
            "\u001b[1m12/12\u001b[0m \u001b[32m━━━━━━━━━━━━━━━━━━━━\u001b[0m\u001b[37m\u001b[0m \u001b[1m0s\u001b[0m 10ms/step - loss: 0.0413 - val_loss: 0.0572\n",
            "Epoch 153/500\n",
            "\u001b[1m12/12\u001b[0m \u001b[32m━━━━━━━━━━━━━━━━━━━━\u001b[0m\u001b[37m\u001b[0m \u001b[1m0s\u001b[0m 9ms/step - loss: 0.0413 - val_loss: 0.0558\n",
            "Epoch 154/500\n",
            "\u001b[1m12/12\u001b[0m \u001b[32m━━━━━━━━━━━━━━━━━━━━\u001b[0m\u001b[37m\u001b[0m \u001b[1m0s\u001b[0m 9ms/step - loss: 0.0407 - val_loss: 0.0555\n",
            "Epoch 155/500\n",
            "\u001b[1m12/12\u001b[0m \u001b[32m━━━━━━━━━━━━━━━━━━━━\u001b[0m\u001b[37m\u001b[0m \u001b[1m0s\u001b[0m 9ms/step - loss: 0.0406 - val_loss: 0.0563\n",
            "Epoch 156/500\n",
            "\u001b[1m12/12\u001b[0m \u001b[32m━━━━━━━━━━━━━━━━━━━━\u001b[0m\u001b[37m\u001b[0m \u001b[1m0s\u001b[0m 9ms/step - loss: 0.0407 - val_loss: 0.0563\n",
            "Epoch 157/500\n",
            "\u001b[1m12/12\u001b[0m \u001b[32m━━━━━━━━━━━━━━━━━━━━\u001b[0m\u001b[37m\u001b[0m \u001b[1m0s\u001b[0m 10ms/step - loss: 0.0407 - val_loss: 0.0561\n",
            "Epoch 158/500\n",
            "\u001b[1m12/12\u001b[0m \u001b[32m━━━━━━━━━━━━━━━━━━━━\u001b[0m\u001b[37m\u001b[0m \u001b[1m0s\u001b[0m 9ms/step - loss: 0.0406 - val_loss: 0.0557\n",
            "Epoch 159/500\n",
            "\u001b[1m12/12\u001b[0m \u001b[32m━━━━━━━━━━━━━━━━━━━━\u001b[0m\u001b[37m\u001b[0m \u001b[1m0s\u001b[0m 10ms/step - loss: 0.0405 - val_loss: 0.0563\n",
            "Epoch 160/500\n",
            "\u001b[1m12/12\u001b[0m \u001b[32m━━━━━━━━━━━━━━━━━━━━\u001b[0m\u001b[37m\u001b[0m \u001b[1m0s\u001b[0m 15ms/step - loss: 0.0407 - val_loss: 0.0561\n",
            "Epoch 161/500\n",
            "\u001b[1m12/12\u001b[0m \u001b[32m━━━━━━━━━━━━━━━━━━━━\u001b[0m\u001b[37m\u001b[0m \u001b[1m0s\u001b[0m 11ms/step - loss: 0.0404 - val_loss: 0.0554\n",
            "Epoch 162/500\n",
            "\u001b[1m12/12\u001b[0m \u001b[32m━━━━━━━━━━━━━━━━━━━━\u001b[0m\u001b[37m\u001b[0m \u001b[1m0s\u001b[0m 11ms/step - loss: 0.0402 - val_loss: 0.0551\n",
            "Epoch 163/500\n",
            "\u001b[1m12/12\u001b[0m \u001b[32m━━━━━━━━━━━━━━━━━━━━\u001b[0m\u001b[37m\u001b[0m \u001b[1m0s\u001b[0m 8ms/step - loss: 0.0401 - val_loss: 0.0558\n",
            "Epoch 164/500\n",
            "\u001b[1m12/12\u001b[0m \u001b[32m━━━━━━━━━━━━━━━━━━━━\u001b[0m\u001b[37m\u001b[0m \u001b[1m0s\u001b[0m 6ms/step - loss: 0.0404 - val_loss: 0.0552\n",
            "Epoch 165/500\n",
            "\u001b[1m12/12\u001b[0m \u001b[32m━━━━━━━━━━━━━━━━━━━━\u001b[0m\u001b[37m\u001b[0m \u001b[1m0s\u001b[0m 7ms/step - loss: 0.0400 - val_loss: 0.0550\n",
            "Epoch 166/500\n",
            "\u001b[1m12/12\u001b[0m \u001b[32m━━━━━━━━━━━━━━━━━━━━\u001b[0m\u001b[37m\u001b[0m \u001b[1m0s\u001b[0m 7ms/step - loss: 0.0399 - val_loss: 0.0548\n",
            "Epoch 167/500\n",
            "\u001b[1m12/12\u001b[0m \u001b[32m━━━━━━━━━━━━━━━━━━━━\u001b[0m\u001b[37m\u001b[0m \u001b[1m0s\u001b[0m 8ms/step - loss: 0.0398 - val_loss: 0.0553\n",
            "Epoch 168/500\n",
            "\u001b[1m12/12\u001b[0m \u001b[32m━━━━━━━━━━━━━━━━━━━━\u001b[0m\u001b[37m\u001b[0m \u001b[1m0s\u001b[0m 6ms/step - loss: 0.0399 - val_loss: 0.0552\n",
            "Epoch 169/500\n",
            "\u001b[1m12/12\u001b[0m \u001b[32m━━━━━━━━━━━━━━━━━━━━\u001b[0m\u001b[37m\u001b[0m \u001b[1m0s\u001b[0m 6ms/step - loss: 0.0397 - val_loss: 0.0552\n",
            "Epoch 170/500\n",
            "\u001b[1m12/12\u001b[0m \u001b[32m━━━━━━━━━━━━━━━━━━━━\u001b[0m\u001b[37m\u001b[0m \u001b[1m0s\u001b[0m 7ms/step - loss: 0.0398 - val_loss: 0.0554\n",
            "Epoch 171/500\n",
            "\u001b[1m12/12\u001b[0m \u001b[32m━━━━━━━━━━━━━━━━━━━━\u001b[0m\u001b[37m\u001b[0m \u001b[1m0s\u001b[0m 7ms/step - loss: 0.0398 - val_loss: 0.0552\n",
            "Epoch 172/500\n",
            "\u001b[1m12/12\u001b[0m \u001b[32m━━━━━━━━━━━━━━━━━━━━\u001b[0m\u001b[37m\u001b[0m \u001b[1m0s\u001b[0m 6ms/step - loss: 0.0398 - val_loss: 0.0555\n",
            "Epoch 173/500\n",
            "\u001b[1m12/12\u001b[0m \u001b[32m━━━━━━━━━━━━━━━━━━━━\u001b[0m\u001b[37m\u001b[0m \u001b[1m0s\u001b[0m 6ms/step - loss: 0.0397 - val_loss: 0.0555\n",
            "Epoch 174/500\n",
            "\u001b[1m12/12\u001b[0m \u001b[32m━━━━━━━━━━━━━━━━━━━━\u001b[0m\u001b[37m\u001b[0m \u001b[1m0s\u001b[0m 6ms/step - loss: 0.0399 - val_loss: 0.0548\n",
            "Epoch 175/500\n",
            "\u001b[1m12/12\u001b[0m \u001b[32m━━━━━━━━━━━━━━━━━━━━\u001b[0m\u001b[37m\u001b[0m \u001b[1m0s\u001b[0m 7ms/step - loss: 0.0396 - val_loss: 0.0541\n",
            "Epoch 176/500\n",
            "\u001b[1m12/12\u001b[0m \u001b[32m━━━━━━━━━━━━━━━━━━━━\u001b[0m\u001b[37m\u001b[0m \u001b[1m0s\u001b[0m 6ms/step - loss: 0.0396 - val_loss: 0.0540\n",
            "Epoch 177/500\n",
            "\u001b[1m12/12\u001b[0m \u001b[32m━━━━━━━━━━━━━━━━━━━━\u001b[0m\u001b[37m\u001b[0m \u001b[1m0s\u001b[0m 6ms/step - loss: 0.0393 - val_loss: 0.0545\n",
            "Epoch 178/500\n",
            "\u001b[1m12/12\u001b[0m \u001b[32m━━━━━━━━━━━━━━━━━━━━\u001b[0m\u001b[37m\u001b[0m \u001b[1m0s\u001b[0m 7ms/step - loss: 0.0393 - val_loss: 0.0550\n",
            "Epoch 179/500\n",
            "\u001b[1m12/12\u001b[0m \u001b[32m━━━━━━━━━━━━━━━━━━━━\u001b[0m\u001b[37m\u001b[0m \u001b[1m0s\u001b[0m 7ms/step - loss: 0.0394 - val_loss: 0.0551\n",
            "Epoch 180/500\n",
            "\u001b[1m12/12\u001b[0m \u001b[32m━━━━━━━━━━━━━━━━━━━━\u001b[0m\u001b[37m\u001b[0m \u001b[1m0s\u001b[0m 7ms/step - loss: 0.0393 - val_loss: 0.0549\n",
            "Epoch 181/500\n",
            "\u001b[1m12/12\u001b[0m \u001b[32m━━━━━━━━━━━━━━━━━━━━\u001b[0m\u001b[37m\u001b[0m \u001b[1m0s\u001b[0m 6ms/step - loss: 0.0395 - val_loss: 0.0552\n",
            "Epoch 182/500\n",
            "\u001b[1m12/12\u001b[0m \u001b[32m━━━━━━━━━━━━━━━━━━━━\u001b[0m\u001b[37m\u001b[0m \u001b[1m0s\u001b[0m 5ms/step - loss: 0.0396 - val_loss: 0.0548\n",
            "Epoch 183/500\n",
            "\u001b[1m12/12\u001b[0m \u001b[32m━━━━━━━━━━━━━━━━━━━━\u001b[0m\u001b[37m\u001b[0m \u001b[1m0s\u001b[0m 8ms/step - loss: 0.0393 - val_loss: 0.0548\n",
            "Epoch 184/500\n",
            "\u001b[1m12/12\u001b[0m \u001b[32m━━━━━━━━━━━━━━━━━━━━\u001b[0m\u001b[37m\u001b[0m \u001b[1m0s\u001b[0m 6ms/step - loss: 0.0394 - val_loss: 0.0546\n",
            "Epoch 185/500\n",
            "\u001b[1m12/12\u001b[0m \u001b[32m━━━━━━━━━━━━━━━━━━━━\u001b[0m\u001b[37m\u001b[0m \u001b[1m0s\u001b[0m 6ms/step - loss: 0.0392 - val_loss: 0.0546\n",
            "Epoch 186/500\n",
            "\u001b[1m12/12\u001b[0m \u001b[32m━━━━━━━━━━━━━━━━━━━━\u001b[0m\u001b[37m\u001b[0m \u001b[1m0s\u001b[0m 6ms/step - loss: 0.0392 - val_loss: 0.0541\n"
          ]
        },
        {
          "data": {
            "image/png": "[encoded data removed]",
            "text/plain": [
              "<Figure size 640x480 with 1 Axes>"
            ]
          },
          "metadata": {},
          "output_type": "display_data"
        }
      ],
      "source": [
        "# Train the model\n",
        "history = model.fit(Xtrain, Ytrain,\n",
        "                    epochs=500,\n",
        "                    batch_size=128,\n",
        "                    validation_data=(Xval, Yval),\n",
        "                    shuffle = True,\n",
        "                    callbacks=[early_stopping])\n",
        "\n",
        "# Plot training & validation loss values\n",
        "plt.plot(history.history['loss'])\n",
        "plt.plot(history.history['val_loss'])\n",
        "plt.title('Model loss')\n",
        "plt.xlabel('Epoch')\n",
        "plt.ylabel('Loss')\n",
        "plt.legend(['Train', 'Validation'], loc='upper right')\n",
        "plt.show()"
      ]
    },
    {
      "cell_type": "markdown",
      "source": [
        "#### Prediction and sMAPE"
      ],
      "metadata": {
        "id": "-qB0fayDHdrZ"
      }
    },
    {
      "cell_type": "code",
      "execution_count": null,
      "metadata": {
        "colab": {
          "base_uri": "https://localhost:8080/"
        },
        "id": "qEhHEDJz-u3o",
        "outputId": "929e670c-4600-4bee-b065-7a729c2b054f"
      },
      "outputs": [
        {
          "name": "stdout",
          "output_type": "stream",
          "text": [
            "\u001b[1m10/10\u001b[0m \u001b[32m━━━━━━━━━━━━━━━━━━━━\u001b[0m\u001b[37m\u001b[0m \u001b[1m0s\u001b[0m 4ms/step \n",
            "    Valori Attesi  Predizioni\n",
            "0            7.72   17.545731\n",
            "1            8.35   13.170266\n",
            "2            7.15   11.756234\n",
            "3            4.97    8.149861\n",
            "4            5.39    6.290635\n",
            "5            8.38   10.180699\n",
            "6           18.05   16.961088\n",
            "7           26.38   24.572052\n",
            "8           27.92   40.341217\n",
            "9           31.97   39.208508\n",
            "10          32.96   40.108181\n",
            "11          29.76   41.124790\n",
            "12          27.53   38.150131\n",
            "13          24.52   38.694969\n",
            "14          23.98   36.150513\n",
            "15          23.91   34.399540\n",
            "16          23.92   37.290310\n",
            "17          27.93   43.491573\n",
            "18          40.13   45.949669\n",
            "19          39.45   43.867119\n",
            "sMAPE: 18.48%\n"
          ]
        }
      ],
      "source": [
        "Yp = model.predict(Xtest)\n",
        "Yp = y_scaler.inverse_transform(Yp)\n",
        "\n",
        "results = pd.DataFrame({\n",
        "    'Valori Attesi': Ytest.flatten(),\n",
        "    'Predizioni': Yp.flatten()\n",
        "})\n",
        "\n",
        "print(results.head(20))\n",
        "\n",
        "# Calculate and print the metrics\n",
        "smape_value = smape(tf.cast(Ytest, dtype=tf.float64), tf.cast(Yp, dtype=tf.float64))\n",
        "print(f'sMAPE: {smape_value:.2f}%')"
      ]
    },
    {
      "cell_type": "markdown",
      "metadata": {
        "id": "9UviWjawJjJZ"
      },
      "source": [
        "###Support Vector Regressor (SVR)\n",
        "Using the following features:\n",
        "*  24 lagged prices of the previous day in Belgium.\n",
        "*  24 lagged prices of one week before in Belgium.\n",
        "*  The day-ahead grid load forecast in Belgium at prediction hour"
      ]
    },
    {
      "cell_type": "code",
      "execution_count": 175,
      "metadata": {
        "colab": {
          "base_uri": "https://localhost:8080/"
        },
        "id": "03s5WLLiJiN5",
        "outputId": "e2117873-14e0-4b1a-c83d-646651373ff5"
      },
      "outputs": [
        {
          "output_type": "stream",
          "name": "stdout",
          "text": [
            "72\n"
          ]
        }
      ],
      "source": [
        "n_features = 24 + 24 + 24\n",
        "print(n_features)"
      ]
    },
    {
      "cell_type": "code",
      "execution_count": 176,
      "metadata": {
        "id": "EYwd-WWUOFUB"
      },
      "outputs": [],
      "source": [
        "# Define columns #date is the index!\n",
        "columns = [f'Price_D-1_h{hour}' for hour in hours] + \\\n",
        "          [f'Price_D-7_h{hour}' for hour in hours] + \\\n",
        "          [f'Load_D_h{hour}' for hour in hours]"
      ]
    },
    {
      "cell_type": "markdown",
      "metadata": {
        "id": "N4Q27cnPOThX"
      },
      "source": [
        "#### Pre-processing data"
      ]
    },
    {
      "cell_type": "code",
      "execution_count": 177,
      "metadata": {
        "id": "h6FTZQvdOSJ5"
      },
      "outputs": [],
      "source": [
        "train_df.index = pd.to_datetime(train_df.index)\n",
        "val_df.index = pd.to_datetime(val_df.index)\n",
        "test_df.index = pd.to_datetime(test_df.index)\n",
        "\n",
        "train_df.index = train_df.index.round('S')\n",
        "test_df.index = test_df.index.round('S')\n",
        "val_df.index = val_df.index.round('S')"
      ]
    },
    {
      "cell_type": "code",
      "execution_count": 178,
      "metadata": {
        "id": "dock3LQ_OaWo"
      },
      "outputs": [],
      "source": [
        "indexTrain = train_df.iloc[24:,:].loc[train_df.index[0] + pd.Timedelta(weeks=1):].index\n",
        "indexTest = test_df.iloc[24:,:].loc[test_df.index[0] + pd.Timedelta(weeks=1) :].index\n",
        "indexVal = val_df.iloc[24:,:].loc[val_df.index[0] + pd.Timedelta(weeks=1):].index\n",
        "\n",
        "predDatesTrain = indexTrain[::24]\n",
        "predDatesVal = indexVal[::24]\n",
        "predDatesTest = indexTest[::24]\n",
        "\n",
        "indexTrain = pd.DataFrame(index=predDatesTrain, columns=['h' + str(hour) for hour in range(24)])\n",
        "indexVal = pd.DataFrame(index=predDatesVal, columns=['h' + str(hour) for hour in range(24)])\n",
        "indexTest = pd.DataFrame(index=predDatesTest, columns=['h' + str(hour) for hour in range(24)])\n",
        "\n",
        "for hour in range(24):\n",
        "  indexTrain.loc[:, 'h' + str(hour)] = indexTrain.index + pd.Timedelta(hours=hour)\n",
        "  indexVal.loc[:, 'h' + str(hour)] = indexVal.index + pd.Timedelta(hours=hour)\n",
        "  indexTest.loc[:, 'h' + str(hour)] = indexTest.index + pd.Timedelta(hours=hour)\n",
        "\n",
        "# Preallocating in memory the X and Y arrays\n",
        "Xtrain = np.zeros([indexTrain.shape[0], n_features])\n",
        "Ytrain = np.zeros([indexTrain.shape[0], n_hours])\n",
        "Xval = np.zeros([indexVal.shape[0], n_features])\n",
        "Yval = np.zeros([indexVal.shape[0], n_hours])\n",
        "Xtest = np.zeros([indexTest.shape[0], n_features])\n",
        "Ytest = np.zeros([indexTest.shape[0], n_hours])\n",
        "\n",
        "indexFeatures = 0\n",
        "\n",
        "# price D-1, D-7\n",
        "for past_day in [1, 7]:\n",
        "  for hour in range(24): # For each possible horizon\n",
        "        # We define the corresponding past time indexs\n",
        "        pastIndexTrain = pd.to_datetime(indexTrain.loc[:, 'h' + str(hour)].values) - pd.Timedelta(hours=24*past_day)\n",
        "        pastIndexTest = pd.to_datetime(indexTest.loc[:, 'h' + str(hour)].values)  - pd.Timedelta(hours=24*past_day)\n",
        "        pastIndexVal = pd.to_datetime(indexVal.loc[:, 'h' + str(hour)].values) - pd.Timedelta(hours=24*past_day)\n",
        "\n",
        "        # price D-1/7\n",
        "        Xtrain[:, indexFeatures] = train_df.loc[pastIndexTrain, 'Prices']\n",
        "        Xtest[:, indexFeatures] = test_df.loc[pastIndexTest, 'Prices']\n",
        "        Xval[:, indexFeatures] = val_df.loc[pastIndexVal, 'Prices']\n",
        "        indexFeatures += 1\n",
        "\n",
        "\n",
        "#adding load inputs at day D\n",
        "for hour in range(24):\n",
        "    #define the corresponding future index at time D\n",
        "    futureIndexTrain = pd.to_datetime(indexTrain.loc[:, 'h' + str(hour)].values)\n",
        "    futureIndexVal = pd.to_datetime(indexVal.loc[:, 'h' + str(hour)].values)\n",
        "    futureIndexTest = pd.to_datetime(indexTest.loc[:, 'h' + str(hour)].values)\n",
        "\n",
        "    # Adding Load inputs at day D\n",
        "    Xtrain[:, indexFeatures] = train_df.loc[futureIndexTrain, 'System load forecast']\n",
        "    Xval[:, indexFeatures] = val_df.loc[futureIndexVal, 'System load forecast']\n",
        "    Xtest[:, indexFeatures] = test_df.loc[futureIndexTest, 'System load forecast']\n",
        "    indexFeatures += 1\n"
      ]
    },
    {
      "cell_type": "code",
      "execution_count": 179,
      "metadata": {
        "id": "WaffT75dS0cq"
      },
      "outputs": [],
      "source": [
        "# Extracting the predicted values Y\n",
        "for hour in range(24):\n",
        "  futureIndexTrain = pd.to_datetime(indexTrain.loc[:, 'h' + str(hour)].values)\n",
        "  futureIndexVal = pd.to_datetime(indexVal.loc[:, 'h' + str(hour)].values)\n",
        "  futureIndexTest = pd.to_datetime(indexTest.loc[:, 'h' + str(hour)].values)\n",
        "\n",
        "  Ytrain[:, hour] = train_df.loc[futureIndexTrain, 'Prices']\n",
        "  Yval[:,hour] = val_df.loc[futureIndexVal, 'Prices']\n",
        "  Ytest[:, hour] = test_df.loc[futureIndexTest, 'Prices']\n",
        "\n",
        "# Redefining indexTest to return only the dates at which a prediction is made\n",
        "indexTest = indexTest.index"
      ]
    },
    {
      "cell_type": "code",
      "execution_count": 180,
      "metadata": {
        "id": "RiN4su9IN0Tk"
      },
      "outputs": [],
      "source": [
        "#normalize data to [0,1]\n",
        "scaler = MinMaxScaler(feature_range=(0, 1))\n",
        "\n",
        "Xtrain = scaler.fit_transform(Xtrain)\n",
        "Xval = scaler.transform(Xval)\n",
        "Xtest = scaler.transform(Xtest)\n",
        "\n",
        "y_scaler = MinMaxScaler(feature_range=(0, 1))\n",
        "Ytrain = y_scaler.fit_transform(Ytrain)\n",
        "Yval = y_scaler.transform(Yval)"
      ]
    },
    {
      "cell_type": "markdown",
      "metadata": {
        "id": "8msWyFNJOpnR"
      },
      "source": [
        "#### Model, training and prediction"
      ]
    },
    {
      "cell_type": "code",
      "source": [
        "#To consider only the prices and the load on that specific hour!\n",
        "def select_and_concatenate_columns(matrix, range_end, specific_column_index):\n",
        "    # Select the first 'range_end' columns\n",
        "    selected_columns_range = matrix[:, :range_end]\n",
        "\n",
        "    # Select the specific column\n",
        "    specific_column = matrix[:, specific_column_index].reshape(-1, 1)\n",
        "\n",
        "    # Concatenate the selected columns\n",
        "    concatenated_matrix = np.hstack((selected_columns_range, specific_column))\n",
        "\n",
        "    return concatenated_matrix"
      ],
      "metadata": {
        "id": "h9bl7g0sH9kR"
      },
      "execution_count": 181,
      "outputs": []
    },
    {
      "cell_type": "code",
      "execution_count": 182,
      "metadata": {
        "colab": {
          "base_uri": "https://localhost:8080/"
        },
        "id": "hOP5lz-sM7xC",
        "outputId": "e68c9837-b8e4-4d67-ecdc-7eadeba8dfef"
      },
      "outputs": [
        {
          "output_type": "stream",
          "name": "stdout",
          "text": [
            "    Valori Attesi  Predizioni\n",
            "0            7.72   25.212949\n",
            "1            8.35   19.775712\n",
            "2            7.15   15.361842\n",
            "3            4.97    6.164310\n",
            "4            5.39    6.219910\n",
            "5            8.38   13.009758\n",
            "6           18.05   23.269352\n",
            "7           26.38    7.626910\n",
            "8           27.92   42.690111\n",
            "9           31.97   46.068627\n",
            "10          32.96   46.453095\n",
            "11          29.76   50.420986\n",
            "12          27.53   39.207184\n",
            "13          24.52   33.889988\n",
            "14          23.98   32.404092\n",
            "15          23.91   22.615516\n",
            "16          23.92   28.254784\n",
            "17          27.93   51.097158\n",
            "18          40.13   57.233654\n",
            "19          39.45   64.502649\n",
            "sMAPE: 22.02%\n"
          ]
        }
      ],
      "source": [
        "# for storing predictions\n",
        "Yp = np.zeros_like(Ytest)\n",
        "\n",
        "C = 9.97  # Penalty parameter\n",
        "epsilon = 0.0038  # Epsilon\n",
        "\n",
        "# Train an individual SVR model for each horizon (hour)\n",
        "for hour in range(n_hours):\n",
        "    svr_model = SVR(C=C, epsilon=epsilon)\n",
        "    X = select_and_concatenate_columns(Xtrain, 48, 48+hour)\n",
        "    svr_model.fit(X, Ytrain[:, hour])     # Train the SVR on the input data for the current hour\n",
        "    Xt = select_and_concatenate_columns(Xtest, 48, 48+hour)\n",
        "    Yp[:, hour] = svr_model.predict(Xt)\n",
        "\n",
        "\n",
        "# Inverse transform the predictions back to the original scale\n",
        "Yp = y_scaler.inverse_transform(Yp)\n",
        "\n",
        "results = pd.DataFrame({\n",
        "    'Valori Attesi': Ytest.flatten(),\n",
        "    'Predizioni': Yp.flatten()\n",
        "})\n",
        "\n",
        "print(results.head(20))\n",
        "\n",
        "# Calculate and print the metrics\n",
        "smape_value = smape(tf.cast(Ytest, dtype=tf.float64), tf.cast(Yp, dtype=tf.float64))\n",
        "print(f'sMAPE: {smape_value:.2f}%')"
      ]
    }
  ],
  "metadata": {
    "colab": {
      "gpuType": "T4",
      "toc_visible": true,
      "provenance": [],
      "collapsed_sections": [
        "900jp2ldSC6w",
        "KR5tPOVOiHV9",
        "MLQe3qyuiOJ8",
        "F4r7AeNlou5z"
      ]
    },
    "kernelspec": {
      "display_name": "Python 3",
      "name": "python3"
    },
    "language_info": {
      "name": "python"
    }
  },
  "nbformat": 4,
  "nbformat_minor": 0
}